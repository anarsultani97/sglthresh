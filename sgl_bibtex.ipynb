{
 "cells": [
  {
   "cell_type": "markdown",
   "metadata": {
    "toc": true
   },
   "source": [
    "<h1>Table of Contents<span class=\"tocSkip\"></span></h1>\n",
    "<div class=\"toc\" style=\"margin-top: 1em;\"><ul class=\"toc-item\"><li><span><a href=\"#imports\" data-toc-modified-id=\"imports-1\"><span class=\"toc-item-num\">1&nbsp;&nbsp;</span>imports</a></span></li><li><span><a href=\"#load-original-subsets:-train,-test-and-split-or...\" data-toc-modified-id=\"load-original-subsets:-train,-test-and-split-or...-2\"><span class=\"toc-item-num\">2&nbsp;&nbsp;</span>load original subsets: train, test and split or...</a></span></li><li><span><a href=\"#...load-my-subsets:-train,-dev,-test\" data-toc-modified-id=\"...load-my-subsets:-train,-dev,-test-3\"><span class=\"toc-item-num\">3&nbsp;&nbsp;</span>...load my subsets: train, dev, test</a></span></li><li><span><a href=\"#Neural-net-to-make-predictions...\" data-toc-modified-id=\"Neural-net-to-make-predictions...-4\"><span class=\"toc-item-num\">4&nbsp;&nbsp;</span>Neural net to make predictions...</a></span></li><li><span><a href=\"#Or-load-LabelPowerset-probas...\" data-toc-modified-id=\"Or-load-LabelPowerset-probas...-5\"><span class=\"toc-item-num\">5&nbsp;&nbsp;</span>Or load LabelPowerset probas...</a></span></li><li><span><a href=\"#Static-thresholds\" data-toc-modified-id=\"Static-thresholds-6\"><span class=\"toc-item-num\">6&nbsp;&nbsp;</span>Static thresholds</a></span></li><li><span><a href=\"#SGLThresh\" data-toc-modified-id=\"SGLThresh-7\"><span class=\"toc-item-num\">7&nbsp;&nbsp;</span>SGLThresh</a></span><ul class=\"toc-item\"><li><span><a href=\"#SurrogateHeaviside-definition\" data-toc-modified-id=\"SurrogateHeaviside-definition-7.1\"><span class=\"toc-item-num\">7.1&nbsp;&nbsp;</span>SurrogateHeaviside definition</a></span></li><li><span><a href=\"#numerical-application\" data-toc-modified-id=\"numerical-application-7.2\"><span class=\"toc-item-num\">7.2&nbsp;&nbsp;</span>numerical application</a></span></li><li><span><a href=\"#numerical-application,-for-loop\" data-toc-modified-id=\"numerical-application,-for-loop-7.3\"><span class=\"toc-item-num\">7.3&nbsp;&nbsp;</span>numerical application, for loop</a></span></li></ul></li><li><span><a href=\"#NumThresh\" data-toc-modified-id=\"NumThresh-8\"><span class=\"toc-item-num\">8&nbsp;&nbsp;</span>NumThresh</a></span><ul class=\"toc-item\"><li><span><a href=\"#utility-function-for-F1-with-multiprocessing:-TODO\" data-toc-modified-id=\"utility-function-for-F1-with-multiprocessing:-TODO-8.1\"><span class=\"toc-item-num\">8.1&nbsp;&nbsp;</span>utility function for F1 with multiprocessing: TODO</a></span></li><li><span><a href=\"#utility-function-for-F1-w/o-multiprocessing\" data-toc-modified-id=\"utility-function-for-F1-w/o-multiprocessing-8.2\"><span class=\"toc-item-num\">8.2&nbsp;&nbsp;</span>utility function for F1 w/o multiprocessing</a></span></li><li><span><a href=\"#numerical-application\" data-toc-modified-id=\"numerical-application-8.3\"><span class=\"toc-item-num\">8.3&nbsp;&nbsp;</span>numerical application</a></span></li><li><span><a href=\"#for-BCE\" data-toc-modified-id=\"for-BCE-8.4\"><span class=\"toc-item-num\">8.4&nbsp;&nbsp;</span>for BCE</a></span></li><li><span><a href=\"#numerical-application-with-BCE\" data-toc-modified-id=\"numerical-application-with-BCE-8.5\"><span class=\"toc-item-num\">8.5&nbsp;&nbsp;</span>numerical application with BCE</a></span></li></ul></li></ul></div>"
   ]
  },
  {
   "cell_type": "markdown",
   "metadata": {
    "collapsed": "true",
    "heading_collapsed": true
   },
   "source": [
    "# imports"
   ]
  },
  {
   "cell_type": "code",
   "execution_count": null,
   "metadata": {
    "ExecuteTime": {
     "end_time": "2020-03-05T13:37:53.011568Z",
     "start_time": "2020-03-05T13:37:47.999336Z"
    },
    "hidden": true
   },
   "outputs": [],
   "source": [
    "# paper http://lpis.csd.auth.gr/publications/tsoumakas-ismir08.pdf\n",
    "\n",
    "# !pip install scikit-multilearn\n",
    "# !pip install skorch\n",
    "# !pip install liac-arff"
   ]
  },
  {
   "cell_type": "code",
   "execution_count": 1,
   "metadata": {
    "ExecuteTime": {
     "end_time": "2020-03-22T15:10:50.598010Z",
     "start_time": "2020-03-22T15:10:50.007204Z"
    },
    "hidden": true
   },
   "outputs": [],
   "source": [
    "import torch\n",
    "from torch import nn\n",
    "import torch.nn.functional as F\n",
    "from torch.utils import data\n",
    "# from skorch import NeuralNetClassifier"
   ]
  },
  {
   "cell_type": "code",
   "execution_count": 2,
   "metadata": {
    "ExecuteTime": {
     "end_time": "2020-03-22T15:14:48.796533Z",
     "start_time": "2020-03-22T15:14:48.775934Z"
    },
    "hidden": true
   },
   "outputs": [],
   "source": [
    "import numpy as np\n",
    "import sklearn.metrics as metrics\n",
    "from skmultilearn.dataset import load_dataset\n",
    "import matplotlib.pyplot as plt\n",
    "import time\n",
    "\n",
    "from multiprocessing import Pool\n",
    "from functools import partial\n",
    "\n",
    "from sklearn.metrics import confusion_matrix, accuracy_score, f1_score, precision_recall_fscore_support, classification_report\n",
    "from sklearn.model_selection import train_test_split\n",
    "\n",
    "import pickle\n",
    "import joblib"
   ]
  },
  {
   "cell_type": "code",
   "execution_count": 3,
   "metadata": {
    "ExecuteTime": {
     "end_time": "2020-03-22T15:10:52.205411Z",
     "start_time": "2020-03-22T15:10:52.041277Z"
    },
    "hidden": true
   },
   "outputs": [
    {
     "data": {
      "text/plain": [
       "{'Corel5k',\n",
       " 'bibtex',\n",
       " 'birds',\n",
       " 'delicious',\n",
       " 'emotions',\n",
       " 'enron',\n",
       " 'genbase',\n",
       " 'mediamill',\n",
       " 'medical',\n",
       " 'rcv1subset1',\n",
       " 'rcv1subset2',\n",
       " 'rcv1subset3',\n",
       " 'rcv1subset4',\n",
       " 'rcv1subset5',\n",
       " 'scene',\n",
       " 'tmc2007_500',\n",
       " 'yeast'}"
      ]
     },
     "execution_count": 3,
     "metadata": {},
     "output_type": "execute_result"
    }
   ],
   "source": [
    "# http://scikit.ml/datasets.html\n",
    "from skmultilearn.dataset import available_data_sets\n",
    "set([x[0] for x in available_data_sets().keys()])"
   ]
  },
  {
   "cell_type": "code",
   "execution_count": 4,
   "metadata": {
    "ExecuteTime": {
     "end_time": "2020-03-22T15:12:01.400377Z",
     "start_time": "2020-03-22T15:12:01.393492Z"
    },
    "hidden": true
   },
   "outputs": [
    {
     "data": {
      "text/plain": [
       "device(type='cpu')"
      ]
     },
     "execution_count": 4,
     "metadata": {},
     "output_type": "execute_result"
    }
   ],
   "source": [
    "# Device configuration\n",
    "device = torch.device('cuda:0' if torch.cuda.is_available() else 'cpu')\n",
    "device"
   ]
  },
  {
   "cell_type": "code",
   "execution_count": 5,
   "metadata": {
    "ExecuteTime": {
     "end_time": "2020-03-22T15:12:18.464015Z",
     "start_time": "2020-03-22T15:12:18.442688Z"
    },
    "hidden": true
   },
   "outputs": [
    {
     "name": "stdout",
     "output_type": "stream",
     "text": [
      "0.50\n"
     ]
    }
   ],
   "source": [
    "def predict(mydataloader, y, model):\n",
    "    model.eval()\n",
    "\n",
    "    all_outputs = torch.zeros_like(y)\n",
    "\n",
    "    for i_batch, sample_batched in enumerate(mydataloader):\n",
    "\n",
    "        X_batch, y_batch = sample_batched\n",
    "        outputs = model(X_batch)\n",
    "        B = X_batch.size()[0]\n",
    "        all_outputs[i_batch*B:(i_batch+1)*B]=outputs\n",
    "    return all_outputs\n",
    "\n",
    "\n",
    "def print_thresholds(thresh, nb_classes):\n",
    "    s = ''\n",
    "    for c in range(nb_classes):\n",
    "        s+='%.4f '%thresh[c]\n",
    "    print(\"auto_thresholds\", s)\n",
    "\n",
    "    \n",
    "def compute_instance_F1(gt_y, preds):\n",
    "    num = gt_y*preds\n",
    "    num = 2*np.sum(num, axis=1)\n",
    "    den = np.sum(gt_y, axis=1) + np.sum(preds, axis=1)\n",
    "    return np.mean(num/den)\n",
    "\n",
    "\n",
    "def unit_test(gt_y, preds):\n",
    "    print(\"%.2f\"%compute_instance_F1(gt_y, preds))\n",
    "\n",
    "    \n",
    "def print_scores(gt_y, preds):\n",
    "    print(classification_report(gt_y, preds, digits=3))    \n",
    "    set_accuracy = accuracy_score(gt_y, preds)\n",
    "    print('set acc: %.3f'%(set_accuracy))\n",
    "\n",
    "    \n",
    "def micro_prec_rec_fscore(gt_y, preds):\n",
    "    prec, rec, fscore, support = precision_recall_fscore_support(gt_y, preds, pos_label=1, average='micro')\n",
    "    return prec, rec, fscore\n",
    "\n",
    "\n",
    "def micro_prec_rec_fscore_class(gt_y, preds):\n",
    "    prec, rec, fscore, support = precision_recall_fscore_support(gt_y, preds, pos_label=1, average=None)\n",
    "    return prec, rec, fscore\n",
    "    \n",
    "# def print_scores(gt_y, preds):\n",
    "#     p2, r2, fscore2, support = precision_recall_fscore_support(gt_y, preds, pos_label=1, average='micro')\n",
    "#     p3, r3, fscore3, support = precision_recall_fscore_support(gt_y, preds, pos_label=1, average='macro')\n",
    "#     set_accuracy = accuracy_score(gt_y, preds)\n",
    "#     print('micro: p:%.2f r:%.2f f1:%.2f'%(100.*p2, 100.*r2, 100.*fscore2))\n",
    "#     print('macro: p:%.2f r:%.2f f1:%.2f'%(100.*p3, 100.*r3, 100.*fscore3))\n",
    "#     print('set acc:%.2f instance-F1:%.2f'%(100.*set_accuracy, 100*compute_instance_F1(gt_y, preds)))\n",
    "    \n",
    "def compute_accuracy_from_numpy_tensors(gt_y_numpy, preds_numpy):\n",
    "    acc_per_class = sum(gt_y_numpy==preds_numpy)/len(gt_y_numpy)\n",
    "    \n",
    "    gt_y_numpy_vec = np.reshape(gt_y_numpy, -1)\n",
    "    preds_numpy_vec = np.reshape(preds_numpy, -1)\n",
    "    acc = sum(gt_y_numpy_vec==preds_numpy_vec)/len(gt_y_numpy_vec)\n",
    "    print(\"Acc per class:\", acc_per_class)\n",
    "    print(\"Acc: %.3f\"%acc)\n",
    "\n",
    "\n",
    "dummy_y = np.array([[1,0,0], [0,1,0]])\n",
    "dummy_preds = np.array([[1,0,0], [0,0,0]])\n",
    "unit_test(dummy_y, dummy_preds)"
   ]
  },
  {
   "cell_type": "markdown",
   "metadata": {
    "collapsed": "true"
   },
   "source": [
    "# load original subsets: train, test and split or..."
   ]
  },
  {
   "cell_type": "code",
   "execution_count": 6,
   "metadata": {
    "ExecuteTime": {
     "end_time": "2020-03-22T15:18:56.778684Z",
     "start_time": "2020-03-22T15:18:56.056965Z"
    }
   },
   "outputs": [
    {
     "name": "stdout",
     "output_type": "stream",
     "text": [
      "bibtex:train - exists, not redownloading\n",
      "bibtex:test - exists, not redownloading\n"
     ]
    },
    {
     "data": {
      "text/plain": [
       "((4880, 1836), (4880, 159), (2515, 1836), (2515, 159))"
      ]
     },
     "execution_count": 6,
     "metadata": {},
     "output_type": "execute_result"
    }
   ],
   "source": [
    "dataset='bibtex'\n",
    "\n",
    "X_train, y_train, feature_names, label_names = load_dataset('%s'%(dataset), 'train')\n",
    "X_test, y_test, _, _ = load_dataset('%s'%(dataset), 'test')\n",
    "\n",
    "X_train_numpy = X_train.toarray()\n",
    "X_test_numpy = X_test.toarray()\n",
    "y_train_numpy = y_train.toarray()\n",
    "y_test_numpy = y_test.toarray()\n",
    "X_train_numpy.shape, y_train_numpy.shape, X_test_numpy.shape, y_test_numpy.shape "
   ]
  },
  {
   "cell_type": "code",
   "execution_count": 7,
   "metadata": {
    "ExecuteTime": {
     "end_time": "2020-03-22T15:17:32.827587Z",
     "start_time": "2020-03-22T15:17:32.777828Z"
    }
   },
   "outputs": [],
   "source": [
    "X_train_numpy, X_dev_numpy, y_train_numpy, y_dev_numpy = train_test_split(\n",
    "    X_train_numpy, y_train_numpy, test_size=0.33, random_state=42)\n"
   ]
  },
  {
   "cell_type": "code",
   "execution_count": null,
   "metadata": {
    "ExecuteTime": {
     "end_time": "2020-03-22T15:17:33.765336Z",
     "start_time": "2020-03-22T15:17:33.758150Z"
    }
   },
   "outputs": [],
   "source": [
    "X_train_numpy.shape, y_train_numpy.shape, X_dev_numpy.shape, y_dev_numpy.shape, X_test_numpy.shape, y_test_numpy.shape "
   ]
  },
  {
   "cell_type": "code",
   "execution_count": null,
   "metadata": {
    "ExecuteTime": {
     "end_time": "2020-03-22T15:19:04.623272Z",
     "start_time": "2020-03-22T15:19:01.221448Z"
    }
   },
   "outputs": [],
   "source": [
    "# np.savez(\"datasets/%s/%s_train_dev_test.npz\"%(dataset, dataset), \n",
    "#          X_train_numpy=X_train_numpy, \n",
    "#          X_dev_numpy = X_dev_numpy,\n",
    "#          X_test_numpy = X_test_numpy,\n",
    "#          y_train_numpy=y_train_numpy, \n",
    "#          y_dev_numpy = y_dev_numpy,\n",
    "#          y_test_numpy = y_test_numpy)"
   ]
  },
  {
   "cell_type": "markdown",
   "metadata": {
    "collapsed": "true"
   },
   "source": [
    "# ...load my subsets: train, dev, test"
   ]
  },
  {
   "cell_type": "code",
   "execution_count": 9,
   "metadata": {},
   "outputs": [
    {
     "data": {
      "text/plain": [
       "((3269, 1836),\n",
       " (1611, 1836),\n",
       " (2515, 1836),\n",
       " (3269, 159),\n",
       " (1611, 159),\n",
       " (2515, 159))"
      ]
     },
     "execution_count": 9,
     "metadata": {},
     "output_type": "execute_result"
    }
   ],
   "source": [
    "nb_classes=159\n",
    "dataset = 'bibtex'\n",
    "\n",
    "arr = np.load(\"datasets/%s/%s_train_dev_test.npz\"%(dataset, dataset))\n",
    "# print(arr[\"train_proba\"])\n",
    "\n",
    "X_train_numpy = arr[\"X_train_numpy\"]\n",
    "X_dev_numpy = arr['X_dev_numpy']\n",
    "X_test_numpy = arr['X_test_numpy']\n",
    "y_train_numpy = arr['y_train_numpy']\n",
    "y_dev_numpy = arr['y_dev_numpy']\n",
    "y_test_numpy = arr['y_test_numpy']\n",
    "                \n",
    "X_train_numpy.shape, X_dev_numpy.shape, X_test_numpy.shape, y_train_numpy.shape, y_dev_numpy.shape, y_test_numpy.shape"
   ]
  },
  {
   "cell_type": "markdown",
   "metadata": {},
   "source": [
    "# ...load logReg-BR probs or..."
   ]
  },
  {
   "cell_type": "code",
   "execution_count": 32,
   "metadata": {},
   "outputs": [
    {
     "data": {
      "text/plain": [
       "((3269, 159), (1611, 159), (2515, 159))"
      ]
     },
     "execution_count": 32,
     "metadata": {},
     "output_type": "execute_result"
    }
   ],
   "source": [
    "arr = np.load(\"exp/%s/LOGREG_BR_standardization_probs.npz\"%dataset)\n",
    "# print(arr[\"train_proba\"])\n",
    "train_outputs_numpy = arr[\"logreg_train_prob\"]\n",
    "dev_outputs_numpy = arr[\"logreg_dev_prob\"]\n",
    "test_outputs_numpy = arr[\"logreg_test_prob\"]\n",
    "\n",
    "train_outputs_numpy.shape, dev_outputs_numpy.shape, test_outputs_numpy.shape"
   ]
  },
  {
   "cell_type": "code",
   "execution_count": 33,
   "metadata": {},
   "outputs": [
    {
     "data": {
      "text/plain": [
       "0.9973138447552603"
      ]
     },
     "execution_count": 33,
     "metadata": {},
     "output_type": "execute_result"
    }
   ],
   "source": [
    "np.max(train_outputs_numpy[:2])"
   ]
  },
  {
   "cell_type": "markdown",
   "metadata": {
    "collapsed": "true"
   },
   "source": [
    "# ...load SVM-BR probs"
   ]
  },
  {
   "cell_type": "code",
   "execution_count": null,
   "metadata": {},
   "outputs": [],
   "source": [
    "arr = np.load(\"exp/%s/SVM_BR_probs.npz\"%dataset)\n",
    "# print(arr[\"train_proba\"])\n",
    "\n",
    "train_outputs_numpy = arr[\"svm_train_prob\"]\n",
    "dev_outputs_numpy = arr[\"svm_dev_prob\"]\n",
    "test_outputs_numpy = arr[\"svm_test_prob\"]\n",
    "\n",
    "train_outputs_numpy.shape, dev_outputs_numpy.shape, test_outputs_numpy.shape"
   ]
  },
  {
   "cell_type": "markdown",
   "metadata": {
    "collapsed": "true"
   },
   "source": [
    "# Numpy to PyTorch tensors"
   ]
  },
  {
   "cell_type": "code",
   "execution_count": 12,
   "metadata": {
    "ExecuteTime": {
     "end_time": "2020-03-18T12:23:10.598946Z",
     "start_time": "2020-03-18T12:23:10.276964Z"
    }
   },
   "outputs": [],
   "source": [
    "X_train_pth = torch.tensor(X_train_numpy, dtype=torch.float).to(device)\n",
    "X_dev_pth = torch.tensor(X_dev_numpy, dtype=torch.float).to(device)\n",
    "X_test_pth = torch.tensor(X_test_numpy, dtype=torch.float).to(device)\n",
    "\n",
    "y_train_pth = torch.tensor(y_train_numpy, dtype=torch.float).to(device)\n",
    "y_dev_pth = torch.tensor(y_dev_numpy, dtype=torch.float).to(device)\n",
    "y_test_pth = torch.tensor(y_test_numpy, dtype=torch.float).to(device)"
   ]
  },
  {
   "cell_type": "code",
   "execution_count": 8,
   "metadata": {
    "ExecuteTime": {
     "end_time": "2020-03-18T12:23:11.182313Z",
     "start_time": "2020-03-18T12:23:11.178559Z"
    }
   },
   "outputs": [
    {
     "data": {
      "text/plain": [
       "(torch.Size([3269, 1836]),\n",
       " torch.Size([3269, 159]),\n",
       " torch.Size([2515, 1836]),\n",
       " torch.Size([2515, 159]))"
      ]
     },
     "execution_count": 8,
     "metadata": {},
     "output_type": "execute_result"
    }
   ],
   "source": [
    "X_train_pth.size(), y_train_pth.size(), X_test_pth.size(), y_test_pth.size()"
   ]
  },
  {
   "cell_type": "markdown",
   "metadata": {
    "collapsed": "true",
    "heading_collapsed": true
   },
   "source": [
    "# Neural net to make predictions..."
   ]
  },
  {
   "cell_type": "code",
   "execution_count": 10,
   "metadata": {
    "ExecuteTime": {
     "end_time": "2020-03-18T10:46:49.791482Z",
     "start_time": "2020-03-18T10:46:49.782585Z"
    },
    "hidden": true
   },
   "outputs": [
    {
     "data": {
      "text/plain": [
       "(1836, 200, 159)"
      ]
     },
     "execution_count": 10,
     "metadata": {},
     "output_type": "execute_result"
    }
   ],
   "source": [
    "input_dim = X_train_numpy.shape[1]\n",
    "hidden_dim = 200\n",
    "# output_dim = len(np.unique(y_train.rows))\n",
    "output_dim = y_train_numpy.shape[1]\n",
    "nb_classes = output_dim\n",
    "\n",
    "input_dim, hidden_dim, output_dim "
   ]
  },
  {
   "cell_type": "code",
   "execution_count": 11,
   "metadata": {
    "ExecuteTime": {
     "end_time": "2020-03-17T21:53:31.381940Z",
     "start_time": "2020-03-17T21:53:31.374889Z"
    },
    "hidden": true
   },
   "outputs": [],
   "source": [
    "train_dataset = data.TensorDataset(X_train_pth, y_train_pth) # create your datset\n",
    "train_dataloader = data.DataLoader(train_dataset, batch_size=8, shuffle=True)\n",
    "train_dataloader_noShuffle = data.DataLoader(train_dataset, batch_size=32, shuffle=False)\n",
    "\n",
    "dev_dataset = data.TensorDataset(X_dev_pth, y_dev_pth) # create your datset\n",
    "dev_dataloader = data.DataLoader(dev_dataset, batch_size=32, shuffle=False)\n",
    "\n",
    "test_dataset = data.TensorDataset(X_test_pth, y_test_pth) # create your datset\n",
    "test_dataloader = data.DataLoader(test_dataset, batch_size=32, shuffle=False)"
   ]
  },
  {
   "cell_type": "code",
   "execution_count": 12,
   "metadata": {
    "ExecuteTime": {
     "end_time": "2020-03-17T21:51:43.133364Z",
     "start_time": "2020-03-17T21:51:43.123355Z"
    },
    "hidden": true
   },
   "outputs": [],
   "source": [
    "class MultiClassClassifierModule(nn.Module):\n",
    "    def __init__(\n",
    "            self,\n",
    "            input_dim=input_dim,\n",
    "            hidden_dim=hidden_dim,\n",
    "            output_dim=output_dim,\n",
    "            dropout=0.5,\n",
    "    ):\n",
    "        super(MultiClassClassifierModule, self).__init__()\n",
    "        self.dropout = nn.Dropout(dropout)\n",
    "\n",
    "        self.hidden = nn.Linear(input_dim, hidden_dim)\n",
    "        self.output = nn.Linear(hidden_dim, output_dim)\n",
    "\n",
    "    def forward(self, X, **kwargs):\n",
    "        X = F.relu(self.hidden(X))\n",
    "        X = self.dropout(X)\n",
    "        X = self.output(X)\n",
    "#         X = F.softmax(X, dim=-1)\n",
    "        X = torch.sigmoid(X)\n",
    "\n",
    "        return X"
   ]
  },
  {
   "cell_type": "code",
   "execution_count": 26,
   "metadata": {
    "ExecuteTime": {
     "end_time": "2020-03-17T22:01:49.271616Z",
     "start_time": "2020-03-17T22:01:49.255351Z"
    },
    "hidden": true
   },
   "outputs": [
    {
     "name": "stdout",
     "output_type": "stream",
     "text": [
      "MultiClassClassifierModule(\n",
      "  (dropout): Dropout(p=0.5, inplace=False)\n",
      "  (hidden): Linear(in_features=1836, out_features=200, bias=True)\n",
      "  (output): Linear(in_features=200, out_features=159, bias=True)\n",
      ")\n"
     ]
    }
   ],
   "source": [
    "model = MultiClassClassifierModule(input_dim, hidden_dim, output_dim)\n",
    "model.to(device)\n",
    "\n",
    "criterion = torch.nn.BCELoss(reduction=\"mean\")\n",
    "# criterion = torch.nn.BCEWithLogitsLoss(reduction=\"mean\")\n",
    "\n",
    "learning_rate = 1e-3\n",
    "optimizer = torch.optim.Adam(model.parameters(), lr=learning_rate)\n",
    "print(model)"
   ]
  },
  {
   "cell_type": "code",
   "execution_count": 27,
   "metadata": {
    "ExecuteTime": {
     "end_time": "2020-03-17T22:02:00.249668Z",
     "start_time": "2020-03-17T22:01:49.945317Z"
    },
    "hidden": true
   },
   "outputs": [
    {
     "name": "stdout",
     "output_type": "stream",
     "text": [
      "Epoch [1/10], Loss: 0.0777, Duration: 1.9 s\n",
      "Epoch [2/10], Loss: 0.0440, Duration: 1.5 s\n",
      "Epoch [3/10], Loss: 0.0559, Duration: 1.9 s\n",
      "Epoch [4/10], Loss: 0.0552, Duration: 1.5 s\n",
      "Epoch [5/10], Loss: 0.0359, Duration: 1.8 s\n",
      "Epoch [6/10], Loss: 0.0388, Duration: 1.4 s\n",
      "Epoch [7/10], Loss: 0.0367, Duration: 1.4 s\n",
      "Epoch [8/10], Loss: 0.0252, Duration: 1.5 s\n",
      "Epoch [9/10], Loss: 0.0085, Duration: 1.8 s\n",
      "Epoch [10/10], Loss: 0.0142, Duration: 1.4 s\n"
     ]
    }
   ],
   "source": [
    "num_epochs = 10\n",
    "\n",
    "\n",
    "losses = []\n",
    "for epoch in range(num_epochs):\n",
    "    \n",
    "    debut = time.time()\n",
    "    model.train()\n",
    "    \n",
    "    for i_batch, sample_batched in enumerate(train_dataloader):\n",
    "        \n",
    "        X_batch, y_batch = sample_batched\n",
    "        \n",
    "#         print(i_batch, X_batch.size(), y_batch.size())\n",
    "    \n",
    "        # Forward pass\n",
    "        # inputs:  predictions_tensor\n",
    "        outputs = model(X_batch)\n",
    "#         print(outputs.size())\n",
    "    #     if epoch % 10 == 0:\n",
    "    #         print(outputs[-1])\n",
    "        loss = criterion(outputs, y_batch)\n",
    "\n",
    "        # Backward and optimize\n",
    "        optimizer.zero_grad()\n",
    "\n",
    "        loss.backward()\n",
    "\n",
    "        optimizer.step()\n",
    "\n",
    "        losses.append(loss)\n",
    "    \n",
    "    duree_epoch = time.time() - debut\n",
    "\n",
    "    print ('Epoch [{}/{}], Loss: {:.4f}, Duration: {:.1f} s' \n",
    "           .format(epoch+1, num_epochs, loss, duree_epoch))"
   ]
  },
  {
   "cell_type": "code",
   "execution_count": 28,
   "metadata": {
    "ExecuteTime": {
     "end_time": "2020-03-17T22:02:01.536289Z",
     "start_time": "2020-03-17T22:02:01.292051Z"
    },
    "hidden": true
   },
   "outputs": [
    {
     "data": {
      "text/plain": [
       "[<matplotlib.lines.Line2D at 0x7f4c3b223450>]"
      ]
     },
     "execution_count": 28,
     "metadata": {},
     "output_type": "execute_result"
    },
    {
     "data": {
      "image/png": "[encoded data removed]",
      "text/plain": [
       "<Figure size 432x288 with 1 Axes>"
      ]
     },
     "metadata": {
      "needs_background": "light"
     },
     "output_type": "display_data"
    }
   ],
   "source": [
    "plt.plot(losses)"
   ]
  },
  {
   "cell_type": "code",
   "execution_count": 29,
   "metadata": {
    "ExecuteTime": {
     "end_time": "2020-03-17T22:02:04.465633Z",
     "start_time": "2020-03-17T22:02:04.093508Z"
    },
    "hidden": true
   },
   "outputs": [],
   "source": [
    "train_outputs = predict(train_dataloader, y_train_pth, model)\n",
    "dev_outputs = predict(dev_dataloader, y_dev_pth, model)\n",
    "test_outputs = predict(test_dataloader, y_test_pth, model)\n",
    "\n",
    "train_outputs_numpy = train_outputs.clone().detach().cpu().numpy()\n",
    "dev_outputs_numpy = dev_outputs.clone().detach().cpu().numpy()\n",
    "test_outputs_numpy = test_outputs.clone().detach().cpu().numpy()\n",
    "# y_test[:5], test_outputs[:5]"
   ]
  },
  {
   "cell_type": "markdown",
   "metadata": {},
   "source": []
  },
  {
   "cell_type": "code",
   "execution_count": 40,
   "metadata": {},
   "outputs": [
    {
     "data": {
      "text/plain": [
       "((3269, 159), (1611, 159), (2515, 159))"
      ]
     },
     "execution_count": 40,
     "metadata": {},
     "output_type": "execute_result"
    }
   ],
   "source": []
  },
  {
   "cell_type": "markdown",
   "metadata": {
    "collapsed": "true"
   },
   "source": [
    "# Or load LabelPowerset probas..."
   ]
  },
  {
   "cell_type": "code",
   "execution_count": null,
   "metadata": {
    "ExecuteTime": {
     "end_time": "2020-03-18T12:23:21.164377Z",
     "start_time": "2020-03-18T12:23:21.118674Z"
    }
   },
   "outputs": [],
   "source": [
    "arr = np.load(\"datasets/bibtex/bibtex_LabelPowerset_train_test_proba.npz\")\n",
    "# print(arr[\"train_proba\"])\n",
    "\n",
    "train_outputs_numpy = arr[\"train_proba\"]\n",
    "test_outputs_numpy = arr[\"test_proba\"]\n",
    "train_outputs_numpy.shape, test_outputs_numpy.shape"
   ]
  },
  {
   "cell_type": "markdown",
   "metadata": {
    "collapsed": "true",
    "heading_collapsed": true
   },
   "source": [
    "# Static thresholds"
   ]
  },
  {
   "cell_type": "code",
   "execution_count": 34,
   "metadata": {
    "ExecuteTime": {
     "end_time": "2020-03-18T10:44:00.673092Z",
     "start_time": "2020-03-18T10:44:00.666703Z"
    },
    "hidden": true
   },
   "outputs": [],
   "source": [
    "static_thresh = 0.3\n",
    "train_pred = train_outputs_numpy>static_thresh\n",
    "dev_pred = dev_outputs_numpy>static_thresh\n",
    "test_pred = test_outputs_numpy>static_thresh"
   ]
  },
  {
   "cell_type": "code",
   "execution_count": 35,
   "metadata": {
    "ExecuteTime": {
     "end_time": "2020-03-18T10:44:01.527368Z",
     "start_time": "2020-03-18T10:44:01.383271Z"
    },
    "hidden": true
   },
   "outputs": [
    {
     "name": "stdout",
     "output_type": "stream",
     "text": [
      "train\n",
      "              precision    recall  f1-score   support\n",
      "\n",
      "           0      1.000     0.846     0.917        26\n",
      "           1      1.000     0.873     0.932        63\n",
      "           2      0.958     0.852     0.902        27\n",
      "           3      1.000     1.000     1.000        48\n",
      "           4      1.000     1.000     1.000        23\n",
      "           5      1.000     1.000     1.000        45\n",
      "           6      1.000     0.924     0.960        92\n",
      "           7      1.000     0.925     0.961        40\n",
      "           8      0.958     0.920     0.939        25\n",
      "           9      1.000     1.000     1.000        65\n",
      "          10      1.000     1.000     1.000       131\n",
      "          11      0.976     0.891     0.932        46\n",
      "          12      1.000     0.893     0.943        28\n",
      "          13      1.000     1.000     1.000        61\n",
      "          14      1.000     1.000     1.000       215\n",
      "          15      0.975     0.830     0.897        47\n",
      "          16      1.000     1.000     1.000        43\n",
      "          17      0.962     0.926     0.943        27\n",
      "          18      0.966     0.983     0.974        58\n",
      "          19      0.979     0.940     0.959        50\n",
      "          20      0.971     0.944     0.958        36\n",
      "          21      0.930     0.952     0.941        42\n",
      "          22      1.000     0.966     0.982        58\n",
      "          23      1.000     1.000     1.000        39\n",
      "          24      0.971     1.000     0.985        33\n",
      "          25      0.943     0.971     0.957        34\n",
      "          26      1.000     1.000     1.000        41\n",
      "          27      1.000     1.000     1.000        52\n",
      "          28      1.000     0.950     0.974        20\n",
      "          29      1.000     0.931     0.964        29\n",
      "          30      1.000     0.860     0.925        43\n",
      "          31      1.000     1.000     1.000        25\n",
      "          32      1.000     0.972     0.986        36\n",
      "          33      1.000     0.900     0.947        30\n",
      "          34      0.871     0.844     0.857        32\n",
      "          35      1.000     1.000     1.000        40\n",
      "          36      0.971     0.990     0.981       103\n",
      "          37      1.000     0.826     0.905        23\n",
      "          38      1.000     1.000     1.000        34\n",
      "          39      0.960     0.923     0.941        26\n",
      "          40      1.000     1.000     1.000        24\n",
      "          41      1.000     0.985     0.992        65\n",
      "          42      1.000     1.000     1.000        46\n",
      "          43      1.000     0.919     0.958        37\n",
      "          44      0.989     1.000     0.994        88\n",
      "          45      1.000     1.000     1.000        25\n",
      "          46      1.000     0.885     0.939        26\n",
      "          47      1.000     1.000     1.000        24\n",
      "          48      0.972     0.854     0.909        41\n",
      "          49      1.000     1.000     1.000        49\n",
      "          50      1.000     1.000     1.000        24\n",
      "          51      1.000     0.893     0.943        28\n",
      "          52      0.983     0.952     0.967       125\n",
      "          53      1.000     0.833     0.909        24\n",
      "          54      0.942     0.891     0.916        55\n",
      "          55      1.000     0.868     0.930        38\n",
      "          56      1.000     0.800     0.889        20\n",
      "          57      1.000     1.000     1.000        27\n",
      "          58      1.000     1.000     1.000        20\n",
      "          59      0.957     0.880     0.917        25\n",
      "          60      0.935     0.967     0.951        30\n",
      "          61      1.000     1.000     1.000        51\n",
      "          62      1.000     1.000     1.000        30\n",
      "          63      1.000     1.000     1.000       124\n",
      "          64      1.000     1.000     1.000        29\n",
      "          65      1.000     1.000     1.000        37\n",
      "          66      0.971     0.971     0.971        69\n",
      "          67      1.000     0.742     0.852        31\n",
      "          68      1.000     1.000     1.000        27\n",
      "          69      1.000     1.000     1.000        25\n",
      "          70      0.986     0.919     0.951        74\n",
      "          71      0.974     0.902     0.937        41\n",
      "          72      1.000     0.848     0.918        33\n",
      "          73      1.000     0.941     0.970        34\n",
      "          74      1.000     1.000     1.000        27\n",
      "          75      0.979     0.979     0.979       144\n",
      "          76      1.000     1.000     1.000        32\n",
      "          77      1.000     1.000     1.000        48\n",
      "          78      1.000     0.818     0.900        22\n",
      "          79      0.958     0.885     0.920        26\n",
      "          80      0.977     0.896     0.935        48\n",
      "          81      1.000     0.968     0.984        63\n",
      "          82      0.870     1.000     0.930        20\n",
      "          83      1.000     0.988     0.994        85\n",
      "          84      0.965     0.982     0.973        56\n",
      "          85      1.000     0.927     0.962        55\n",
      "          86      0.944     0.919     0.932        37\n",
      "          87      0.935     0.853     0.892        34\n",
      "          88      0.991     0.982     0.986       109\n",
      "          89      1.000     0.972     0.986        36\n",
      "          90      1.000     1.000     1.000        38\n",
      "          91      1.000     1.000     1.000        28\n",
      "          92      1.000     1.000     1.000        25\n",
      "          93      0.924     0.884     0.904        69\n",
      "          94      1.000     0.964     0.982        28\n",
      "          95      1.000     0.864     0.927        22\n",
      "          96      0.987     0.938     0.962        80\n",
      "          97      0.980     0.990     0.985        97\n",
      "          98      1.000     0.913     0.955        23\n",
      "          99      1.000     1.000     1.000        24\n",
      "         100      0.961     0.961     0.961        51\n",
      "         101      0.840     0.955     0.894        44\n",
      "         102      1.000     1.000     1.000        26\n",
      "         103      0.958     0.852     0.902        27\n",
      "         104      0.942     0.920     0.931        88\n",
      "         105      0.964     0.931     0.947        29\n",
      "         106      0.966     0.966     0.966        29\n",
      "         107      1.000     1.000     1.000        40\n",
      "         108      0.970     1.000     0.985        32\n",
      "         109      1.000     0.913     0.955        23\n",
      "         110      1.000     0.933     0.966        30\n",
      "         111      1.000     0.983     0.992        60\n",
      "         112      1.000     1.000     1.000        24\n",
      "         113      1.000     1.000     1.000        63\n",
      "         114      1.000     1.000     1.000        42\n",
      "         115      1.000     0.810     0.895        21\n",
      "         116      1.000     0.957     0.978        23\n",
      "         117      0.987     0.987     0.987        76\n",
      "         118      0.974     0.902     0.937        41\n",
      "         119      1.000     0.979     0.989        47\n",
      "         120      1.000     0.964     0.982        28\n",
      "         121      0.973     0.900     0.935        40\n",
      "         122      0.907     0.978     0.941        90\n",
      "         123      0.963     0.929     0.945        28\n",
      "         124      0.936     0.936     0.936        78\n",
      "         125      1.000     1.000     1.000        22\n",
      "         126      1.000     1.000     1.000        29\n",
      "         127      1.000     1.000     1.000        22\n",
      "         128      0.967     0.806     0.879        36\n",
      "         129      0.955     0.981     0.968       107\n",
      "         130      0.963     0.963     0.963        27\n",
      "         131      0.901     0.979     0.939       195\n",
      "         132      1.000     1.000     1.000        23\n",
      "         133      0.920     0.920     0.920        25\n",
      "         134      1.000     1.000     1.000       458\n",
      "         135      0.959     1.000     0.979        47\n",
      "         136      1.000     0.870     0.930        23\n",
      "         137      0.968     0.909     0.937        33\n",
      "         138      1.000     0.966     0.983        59\n",
      "         139      0.957     0.882     0.918        51\n",
      "         140      1.000     0.900     0.947        30\n",
      "         141      0.988     0.976     0.982        85\n",
      "         142      1.000     1.000     1.000        34\n",
      "         143      1.000     1.000     1.000        57\n",
      "         144      1.000     1.000     1.000        64\n",
      "         145      1.000     1.000     1.000        31\n",
      "         146      1.000     1.000     1.000        64\n",
      "         147      1.000     1.000     1.000        26\n",
      "         148      1.000     1.000     1.000        27\n",
      "         149      1.000     1.000     1.000        54\n",
      "         150      1.000     1.000     1.000        36\n",
      "         151      1.000     1.000     1.000        47\n",
      "         152      1.000     0.843     0.915        51\n",
      "         153      1.000     1.000     1.000        44\n",
      "         154      1.000     0.969     0.984        32\n",
      "         155      0.976     0.976     0.976        42\n",
      "         156      0.931     0.969     0.949        97\n",
      "         157      0.972     0.814     0.886        43\n",
      "         158      0.964     0.900     0.931        30\n",
      "\n",
      "   micro avg      0.981     0.960     0.970      7789\n",
      "   macro avg      0.983     0.950     0.965      7789\n",
      "weighted avg      0.982     0.960     0.970      7789\n",
      " samples avg      0.971     0.964     0.963      7789\n",
      "\n",
      "set acc: 0.928\n",
      "dev\n",
      "              precision    recall  f1-score   support\n",
      "\n",
      "           0      0.000     0.000     0.000        13\n",
      "           1      0.235     0.182     0.205        22\n",
      "           2      0.500     0.042     0.077        24\n",
      "           3      0.440     0.478     0.458        23\n",
      "           4      0.500     0.300     0.375        10\n",
      "           5      0.556     0.682     0.612        22\n",
      "           6      0.300     0.257     0.277        35\n",
      "           7      0.429     0.150     0.222        20\n",
      "           8      0.462     0.545     0.500        11\n",
      "           9      0.486     0.720     0.581        25\n",
      "          10      0.945     0.981     0.963        53\n",
      "          11      0.400     0.471     0.432        17\n",
      "          12      0.000     0.000     0.000        10\n",
      "          13      0.977     1.000     0.988        42\n",
      "          14      0.832     0.929     0.878       112\n",
      "          15      0.250     0.100     0.143        20\n",
      "          16      0.650     0.433     0.520        30\n",
      "          17      0.250     0.077     0.118        13\n",
      "          18      0.600     0.581     0.590        31\n",
      "          19      0.333     0.238     0.278        21\n",
      "          20      0.250     0.125     0.167        16\n",
      "          21      0.267     0.167     0.205        24\n",
      "          22      0.381     0.364     0.372        22\n",
      "          23      0.444     0.222     0.296        18\n",
      "          24      0.667     0.125     0.211        16\n",
      "          25      0.333     0.125     0.182         8\n",
      "          26      0.667     0.615     0.640        13\n",
      "          27      0.500     0.103     0.171        29\n",
      "          28      0.000     0.000     0.000         9\n",
      "          29      0.500     0.417     0.455        12\n",
      "          30      0.250     0.250     0.250         8\n",
      "          31      0.846     0.917     0.880        12\n",
      "          32      0.333     0.154     0.211        13\n",
      "          33      0.000     0.000     0.000        13\n",
      "          34      0.143     0.100     0.118        10\n",
      "          35      0.917     0.957     0.936        23\n",
      "          36      0.423     0.468     0.444        47\n",
      "          37      0.000     0.000     0.000         9\n",
      "          38      0.500     0.190     0.276        21\n",
      "          39      0.333     0.077     0.125        13\n",
      "          40      0.500     0.375     0.429         8\n",
      "          41      0.333     0.158     0.214        57\n",
      "          42      0.286     0.160     0.205        25\n",
      "          43      0.444     0.211     0.286        19\n",
      "          44      0.863     0.880     0.871        50\n",
      "          45      0.429     0.300     0.353        10\n",
      "          46      0.500     0.111     0.182         9\n",
      "          47      0.000     0.000     0.000        27\n",
      "          48      0.286     0.095     0.143        21\n",
      "          49      0.600     0.714     0.652        21\n",
      "          50      0.100     0.083     0.091        12\n",
      "          51      0.400     0.100     0.160        20\n",
      "          52      0.540     0.671     0.599        70\n",
      "          53      0.500     0.455     0.476        11\n",
      "          54      0.484     0.556     0.517        27\n",
      "          55      0.357     0.278     0.313        18\n",
      "          56      0.333     0.125     0.182         8\n",
      "          57      0.417     0.455     0.435        11\n",
      "          58      0.000     0.000     0.000        12\n",
      "          59      0.143     0.100     0.118        10\n",
      "          60      0.000     0.000     0.000        13\n",
      "          61      0.714     0.600     0.652        25\n",
      "          62      1.000     0.600     0.750        15\n",
      "          63      0.614     0.768     0.683        56\n",
      "          64      0.667     0.471     0.552        17\n",
      "          65      0.412     0.500     0.452        14\n",
      "          66      0.286     0.178     0.219        45\n",
      "          67      0.250     0.111     0.154        18\n",
      "          68      0.000     0.000     0.000        14\n",
      "          69      0.375     0.250     0.300        12\n",
      "          70      0.207     0.176     0.190        34\n",
      "          71      0.667     0.267     0.381        15\n",
      "          72      0.500     0.222     0.308         9\n",
      "          73      0.500     0.125     0.200        16\n",
      "          74      0.375     0.500     0.429         6\n",
      "          75      0.338     0.450     0.386        60\n",
      "          76      0.692     0.750     0.720        12\n",
      "          77      0.556     0.476     0.513        21\n",
      "          78      0.250     0.077     0.118        13\n",
      "          79      0.700     0.438     0.538        16\n",
      "          80      0.385     0.179     0.244        28\n",
      "          81      0.542     0.500     0.520        26\n",
      "          82      1.000     0.917     0.957        12\n",
      "          83      0.718     0.622     0.667        45\n",
      "          84      0.478     0.355     0.407        31\n",
      "          85      0.353     0.214     0.267        28\n",
      "          86      0.609     0.824     0.700        17\n",
      "          87      0.438     0.467     0.452        15\n",
      "          88      0.279     0.226     0.250        53\n",
      "          89      0.500     0.105     0.174        19\n",
      "          90      0.250     0.048     0.080        21\n",
      "          91      0.500     0.042     0.077        24\n",
      "          92      0.300     0.273     0.286        11\n",
      "          93      0.167     0.119     0.139        42\n",
      "          94      0.667     0.154     0.250        13\n",
      "          95      0.333     0.077     0.125        13\n",
      "          96      0.121     0.121     0.121        33\n",
      "          97      0.367     0.564     0.444        39\n",
      "          98      0.600     0.200     0.300        15\n",
      "          99      0.000     0.000     0.000        15\n",
      "         100      0.273     0.103     0.150        29\n",
      "         101      0.727     0.941     0.821        17\n",
      "         102      0.500     0.200     0.286        10\n",
      "         103      0.250     0.053     0.087        19\n",
      "         104      0.462     0.444     0.453        54\n",
      "         105      0.294     0.357     0.323        14\n",
      "         106      0.000     0.000     0.000        19\n",
      "         107      0.111     0.040     0.059        25\n",
      "         108      1.000     0.235     0.381        17\n",
      "         109      0.000     0.000     0.000        15\n",
      "         110      0.250     0.048     0.080        21\n",
      "         111      0.550     0.367     0.440        30\n",
      "         112      1.000     0.583     0.737        12\n",
      "         113      0.618     0.750     0.677        28\n",
      "         114      0.133     0.200     0.160        10\n",
      "         115      0.556     0.455     0.500        11\n",
      "         116      0.000     0.000     0.000        14\n",
      "         117      0.640     0.653     0.646        49\n",
      "         118      0.250     0.062     0.100        16\n",
      "         119      0.273     0.143     0.187        21\n",
      "         120      0.800     0.222     0.348        18\n",
      "         121      0.250     0.312     0.278        16\n",
      "         122      0.549     0.560     0.554        50\n",
      "         123      0.000     0.000     0.000        15\n",
      "         124      0.306     0.268     0.286        41\n",
      "         125      0.600     0.462     0.522        13\n",
      "         126      0.333     0.045     0.080        22\n",
      "         127      0.000     0.000     0.000        13\n",
      "         128      0.250     0.143     0.182         7\n",
      "         129      0.170     0.182     0.176        44\n",
      "         130      0.400     0.200     0.267        10\n",
      "         131      0.500     0.585     0.539        94\n",
      "         132      0.526     0.588     0.556        17\n",
      "         133      0.500     0.143     0.222         7\n",
      "         134      0.917     1.000     0.957       233\n",
      "         135      0.286     0.111     0.160        18\n",
      "         136      0.000     0.000     0.000         7\n",
      "         137      0.000     0.000     0.000        11\n",
      "         138      0.188     0.097     0.128        31\n",
      "         139      0.630     0.630     0.630        27\n",
      "         140      0.500     0.077     0.133        13\n",
      "         141      0.222     0.146     0.176        41\n",
      "         142      0.333     0.050     0.087        20\n",
      "         143      0.565     0.464     0.510        28\n",
      "         144      0.520     0.382     0.441        34\n",
      "         145      0.300     0.158     0.207        19\n",
      "         146      0.400     0.324     0.358        37\n",
      "         147      1.000     0.250     0.400         8\n",
      "         148      0.625     0.312     0.417        16\n",
      "         149      0.476     0.323     0.385        31\n",
      "         150      0.444     0.308     0.364        13\n",
      "         151      0.579     0.579     0.579        19\n",
      "         152      0.000     0.000     0.000        24\n",
      "         153      0.375     0.176     0.240        17\n",
      "         154      0.538     0.538     0.538        13\n",
      "         155      0.538     0.483     0.509        29\n",
      "         156      0.442     0.388     0.413        49\n",
      "         157      0.000     0.000     0.000        18\n",
      "         158      0.000     0.000     0.000         6\n",
      "\n",
      "   micro avg      0.528     0.405     0.459      3827\n",
      "   macro avg      0.409     0.305     0.328      3827\n",
      "weighted avg      0.469     0.405     0.415      3827\n",
      " samples avg      0.481     0.436     0.424      3827\n",
      "\n",
      "set acc: 0.161\n",
      "test\n",
      "              precision    recall  f1-score   support\n",
      "\n",
      "           0      0.333     0.033     0.061        30\n",
      "           1      0.250     0.170     0.203        47\n",
      "           2      0.333     0.050     0.087        20\n",
      "           3      0.520     0.394     0.448        33\n",
      "           4      0.545     0.250     0.343        24\n",
      "           5      0.694     0.806     0.746        31\n",
      "           6      0.246     0.192     0.216        78\n",
      "           7      0.000     0.000     0.000        22\n",
      "           8      0.517     0.600     0.556        25\n",
      "           9      0.582     0.711     0.640        45\n",
      "          10      0.922     0.972     0.946       109\n",
      "          11      0.640     0.533     0.582        30\n",
      "          12      0.000     0.000     0.000        23\n",
      "          13      0.917     1.000     0.957        44\n",
      "          14      0.887     0.969     0.926       195\n",
      "          15      0.182     0.069     0.100        29\n",
      "          16      0.600     0.600     0.600        30\n",
      "          17      0.429     0.143     0.214        21\n",
      "          18      0.523     0.548     0.535        42\n",
      "          19      0.100     0.038     0.056        26\n",
      "          20      0.417     0.227     0.294        22\n",
      "          21      0.556     0.300     0.390        50\n",
      "          22      0.486     0.354     0.410        48\n",
      "          23      0.562     0.474     0.514        19\n",
      "          24      0.000     0.000     0.000        19\n",
      "          25      0.000     0.000     0.000        17\n",
      "          26      0.759     0.611     0.677        36\n",
      "          27      0.462     0.167     0.245        36\n",
      "          28      0.000     0.000     0.000        22\n",
      "          29      0.444     0.400     0.421        20\n",
      "          30      0.440     0.423     0.431        26\n",
      "          31      0.667     0.714     0.690        14\n",
      "          32      0.263     0.217     0.238        23\n",
      "          33      0.250     0.048     0.080        21\n",
      "          34      0.333     0.211     0.258        19\n",
      "          35      0.828     0.706     0.762        34\n",
      "          36      0.341     0.337     0.339        83\n",
      "          37      0.200     0.043     0.071        23\n",
      "          38      0.765     0.419     0.542        31\n",
      "          39      0.250     0.042     0.071        24\n",
      "          40      0.667     0.500     0.571        20\n",
      "          41      0.143     0.128     0.135        47\n",
      "          42      0.261     0.136     0.179        44\n",
      "          43      0.545     0.200     0.293        30\n",
      "          44      0.860     0.860     0.860        57\n",
      "          45      0.556     0.263     0.357        19\n",
      "          46      0.000     0.000     0.000        17\n",
      "          47      0.000     0.000     0.000        21\n",
      "          48      0.412     0.167     0.237        42\n",
      "          49      0.646     0.861     0.738        36\n",
      "          50      0.222     0.118     0.154        17\n",
      "          51      0.200     0.043     0.071        23\n",
      "          52      0.557     0.646     0.598        99\n",
      "          53      0.667     0.316     0.429        19\n",
      "          54      0.625     0.588     0.606        51\n",
      "          55      0.471     0.296     0.364        27\n",
      "          56      0.375     0.115     0.176        26\n",
      "          57      0.529     0.500     0.514        18\n",
      "          58      1.000     0.080     0.148        25\n",
      "          59      0.500     0.211     0.296        19\n",
      "          60      0.000     0.000     0.000        21\n",
      "          61      0.483     0.560     0.519        25\n",
      "          62      0.800     0.842     0.821        19\n",
      "          63      0.596     0.800     0.683        70\n",
      "          64      0.421     0.471     0.444        17\n",
      "          65      0.300     0.273     0.286        22\n",
      "          66      0.278     0.175     0.215        57\n",
      "          67      0.400     0.074     0.125        27\n",
      "          68      0.500     0.100     0.167        20\n",
      "          69      0.778     0.412     0.538        17\n",
      "          70      0.265     0.120     0.165        75\n",
      "          71      0.250     0.154     0.190        26\n",
      "          72      0.583     0.189     0.286        37\n",
      "          73      0.400     0.062     0.108        32\n",
      "          74      0.500     0.381     0.432        21\n",
      "          75      0.425     0.495     0.457       103\n",
      "          76      0.538     0.438     0.483        16\n",
      "          77      0.625     0.323     0.426        31\n",
      "          78      0.714     0.227     0.345        22\n",
      "          79      0.444     0.364     0.400        11\n",
      "          80      0.000     0.000     0.000        46\n",
      "          81      0.638     0.682     0.659        44\n",
      "          82      1.000     0.783     0.878        23\n",
      "          83      0.707     0.683     0.695        60\n",
      "          84      0.542     0.277     0.366        47\n",
      "          85      0.360     0.191     0.250        47\n",
      "          86      0.485     0.889     0.627        18\n",
      "          87      0.524     0.458     0.489        24\n",
      "          88      0.122     0.122     0.122        74\n",
      "          89      0.167     0.030     0.051        33\n",
      "          90      0.000     0.000     0.000        38\n",
      "          91      0.000     0.000     0.000        16\n",
      "          92      0.444     0.211     0.286        19\n",
      "          93      0.310     0.197     0.241        66\n",
      "          94      0.500     0.050     0.091        20\n",
      "          95      0.500     0.174     0.258        23\n",
      "          96      0.207     0.197     0.202        61\n",
      "          97      0.333     0.382     0.356        68\n",
      "          98      0.222     0.100     0.138        20\n",
      "          99      0.600     0.100     0.171        30\n",
      "         100      0.261     0.118     0.162        51\n",
      "         101      0.612     0.789     0.690        38\n",
      "         102      0.778     0.269     0.400        26\n",
      "         103      0.375     0.103     0.162        29\n",
      "         104      0.560     0.462     0.506        91\n",
      "         105      0.263     0.208     0.233        24\n",
      "         106      0.500     0.083     0.143        24\n",
      "         107      0.429     0.140     0.211        43\n",
      "         108      0.000     0.000     0.000        23\n",
      "         109      1.000     0.100     0.182        20\n",
      "         110      0.818     0.290     0.429        31\n",
      "         111      0.462     0.324     0.381        37\n",
      "         112      0.846     0.611     0.710        18\n",
      "         113      0.629     0.611     0.620        36\n",
      "         114      0.333     0.278     0.303        18\n",
      "         115      0.846     0.458     0.595        24\n",
      "         116      0.000     0.000     0.000        16\n",
      "         117      0.571     0.643     0.605        56\n",
      "         118      0.500     0.083     0.143        36\n",
      "         119      0.278     0.116     0.164        43\n",
      "         120      0.000     0.000     0.000        31\n",
      "         121      0.296     0.320     0.308        25\n",
      "         122      0.463     0.473     0.468        93\n",
      "         123      0.000     0.000     0.000        25\n",
      "         124      0.309     0.362     0.333        58\n",
      "         125      0.765     0.684     0.722        19\n",
      "         126      0.400     0.047     0.083        43\n",
      "         127      0.000     0.000     0.000        19\n",
      "         128      0.273     0.200     0.231        15\n",
      "         129      0.173     0.228     0.197        57\n",
      "         130      0.167     0.042     0.067        24\n",
      "         131      0.521     0.649     0.578       154\n",
      "         132      0.583     0.368     0.452        19\n",
      "         133      0.333     0.043     0.077        23\n",
      "         134      0.905     1.000     0.950       351\n",
      "         135      0.000     0.000     0.000        29\n",
      "         136      0.357     0.238     0.286        21\n",
      "         137      0.000     0.000     0.000        19\n",
      "         138      0.059     0.019     0.029        52\n",
      "         139      0.769     0.556     0.645        54\n",
      "         140      0.429     0.286     0.343        21\n",
      "         141      0.216     0.100     0.137        80\n",
      "         142      0.273     0.094     0.140        32\n",
      "         143      0.400     0.222     0.286        45\n",
      "         144      0.606     0.444     0.513        45\n",
      "         145      0.375     0.240     0.293        25\n",
      "         146      0.354     0.340     0.347        50\n",
      "         147      0.429     0.107     0.171        28\n",
      "         148      0.500     0.200     0.286        20\n",
      "         149      0.400     0.227     0.290        44\n",
      "         150      0.667     0.250     0.364        24\n",
      "         151      0.500     0.438     0.467        16\n",
      "         152      0.111     0.018     0.031        56\n",
      "         153      0.143     0.081     0.103        37\n",
      "         154      0.714     0.417     0.526        24\n",
      "         155      0.606     0.500     0.548        40\n",
      "         156      0.278     0.314     0.295        86\n",
      "         157      0.294     0.125     0.175        40\n",
      "         158      0.769     0.417     0.541        24\n",
      "\n",
      "   micro avg      0.532     0.387     0.448      6146\n",
      "   macro avg      0.427     0.299     0.329      6146\n",
      "weighted avg      0.470     0.387     0.403      6146\n",
      " samples avg      0.482     0.431     0.420      6146\n",
      "\n",
      "set acc: 0.163\n"
     ]
    }
   ],
   "source": [
    "print(\"train\")\n",
    "print_scores(y_train_numpy, train_pred)\n",
    "print(\"dev\")\n",
    "print_scores(y_dev_numpy, dev_pred)\n",
    "print(\"test\")\n",
    "print_scores(y_test_numpy, test_pred)\n",
    "# compute_accuracy_from_numpy_tensors(y_test_numpy, test_pred)"
   ]
  },
  {
   "cell_type": "markdown",
   "metadata": {},
   "source": [
    "# SGLThresh"
   ]
  },
  {
   "cell_type": "markdown",
   "metadata": {},
   "source": [
    "## SurrogateHeaviside definition"
   ]
  },
  {
   "cell_type": "code",
   "execution_count": 36,
   "metadata": {
    "ExecuteTime": {
     "end_time": "2020-03-18T10:45:03.059829Z",
     "start_time": "2020-03-18T10:45:03.035177Z"
    }
   },
   "outputs": [],
   "source": [
    "# device = 'cpu'\n",
    "\n",
    "class SurrogateHeaviside(torch.autograd.Function):\n",
    "    \n",
    "    # Activation function with surrogate gradient\n",
    "#     sigma = 100.0\n",
    "\n",
    "    @staticmethod \n",
    "    def forward(ctx, input, sigma):\n",
    "        \n",
    "        output = torch.zeros_like(input)\n",
    "        output[input > 0] = 1.0\n",
    "        ctx.save_for_backward(input, sigma)\n",
    "        return output\n",
    "\n",
    "    @staticmethod\n",
    "    def backward(ctx, grad_output):\n",
    "        input, sigma = ctx.saved_tensors\n",
    "        grad_input = grad_output.clone()\n",
    "        # approximation of the gradient using sigmoid function\n",
    "        grad = grad_input*torch.sigmoid(sigma*input)*torch.sigmoid(-sigma*input)\n",
    "        \n",
    "        grad_sigma = grad_input*input*torch.sigmoid(sigma*input)*torch.sigmoid(-sigma*input)\n",
    "        \n",
    "        return grad, grad_sigma\n",
    "\n",
    "threshold_fn = SurrogateHeaviside.apply\n",
    "\n",
    "\n",
    "class ThresholdModel(nn.Module):\n",
    "    def __init__(self, threshold_fn, t=0.5, sigma=100., nb_classes=10):\n",
    "        super(ThresholdModel, self).__init__()\n",
    "        \n",
    "        # define nb_classes seuils differents, initialisés à 0.5\n",
    "\n",
    "#         self.dense = torch.nn.Linear(10, 10)\n",
    "\n",
    "        self.thresh = torch.nn.Parameter(t*torch.ones(nb_classes), requires_grad=True)\n",
    "        self.sigma = torch.nn.Parameter(sigma*torch.ones(nb_classes), requires_grad=True)\n",
    "        self.threshold_fn = threshold_fn\n",
    "        \n",
    "    \n",
    "    def forward(self, x):\n",
    "        out = self.threshold_fn(x.to(device, dtype=torch.float)-self.thresh.to(device, dtype=torch.float), \n",
    "                                self.sigma.to(device, dtype=torch.float))\n",
    "#         out = out.clamp_(min=0.01, max=0.99)\n",
    "        # out = self.dense(x.to(device, dtype=torch.float))\n",
    "        # out = F.sigmoid(out)\n",
    "        # out = self.threshold_fn(out-F.sigmoid(self.thresh.to(device, dtype=torch.float)))\n",
    "        return out\n",
    "\n",
    "    \n",
    "    def clamp(self):\n",
    "        \n",
    "        self.thresh.data.clamp_(min=0., max=1.)\n",
    "\n",
    "        \n",
    "def F1_loss_objective(binarized_output, y_true):\n",
    "    # let's first convert binary vector prob into logits\n",
    "#     prob = torch.clamp(prob, 1.e-12, 0.9999999)\n",
    "    \n",
    "#     average = 'macro'\n",
    "    average = 'micro'\n",
    "    epsilon = torch.tensor(1e-12)\n",
    "    \n",
    "    if average == 'micro':\n",
    "        y_true = torch.flatten(y_true)\n",
    "        binarized_output = torch.flatten(binarized_output)\n",
    "        \n",
    "    true_positives = torch.sum(y_true * binarized_output, dim=0)\n",
    "    predicted_positives = torch.sum(binarized_output, dim=0)\n",
    "    positives = torch.sum(y_true, dim=0)\n",
    "    precision = true_positives / (predicted_positives + epsilon)\n",
    "    recall = true_positives / (positives + epsilon)\n",
    "\n",
    "    f1 = 2 * ((precision * recall) / (precision + recall + epsilon))\n",
    "#     return precision, recall, f1\n",
    "    return - f1.mean()\n",
    "    "
   ]
  },
  {
   "cell_type": "markdown",
   "metadata": {},
   "source": [
    "## numerical application"
   ]
  },
  {
   "cell_type": "code",
   "execution_count": 37,
   "metadata": {
    "ExecuteTime": {
     "end_time": "2020-03-18T10:46:05.704734Z",
     "start_time": "2020-03-18T10:46:02.571789Z"
    }
   },
   "outputs": [],
   "source": [
    "pth_train_probs = torch.tensor(train_outputs_numpy, dtype=torch.float).to(device)\n",
    "pth_dev_probs = torch.tensor(dev_outputs_numpy, dtype=torch.float).to(device)\n",
    "pth_test_probs = torch.tensor(test_outputs_numpy, dtype=torch.float).to(device)\n",
    "\n",
    "\n",
    "pth_train_gt = y_train_pth.to(device, dtype=torch.float)\n",
    "pth_dev_gt = y_dev_pth.to(device, dtype=torch.float)\n",
    "pth_test_gt = y_test_pth.to(device, dtype=torch.float)"
   ]
  },
  {
   "cell_type": "code",
   "execution_count": 62,
   "metadata": {
    "ExecuteTime": {
     "end_time": "2020-03-18T10:47:43.655861Z",
     "start_time": "2020-03-18T10:47:43.635014Z"
    }
   },
   "outputs": [],
   "source": [
    "THRESHmodel = ThresholdModel(threshold_fn=threshold_fn, t=0.3, sigma=40., nb_classes=nb_classes)\n",
    "THRESHmodel = THRESHmodel.to(device, dtype=torch.float)\n",
    "# criterion = torch.nn.BCELoss(reduction=\"mean\")\n",
    "criterion = F1_loss_objective\n",
    "\n",
    "learning_rate = 1e-3\n",
    "# THRESHoptimizer = torch.optim.Adam(THRESHmodel.parameters(), lr=learning_rate)\n",
    "\n",
    "# # learn only the thresholds:\n",
    "THRESHoptimizer = torch.optim.Adam([\n",
    "                {'params': THRESHmodel.thresh}\n",
    "            ], lr=learning_rate)\n",
    "\n",
    "# # learn the thresholds and sigma:\n",
    "# THRESHoptimizer = torch.optim.Adam([\n",
    "#                 {'params': THRESHmodel.thresh},\n",
    "#                 {'params': THRESHmodel.sigma, 'lr': 1.}\n",
    "#             ], lr=learning_rate)\n",
    "\n",
    "# scheduler = MultiStepLR(THRESHoptimizer, milestones=[180], gamma=0.1)"
   ]
  },
  {
   "cell_type": "code",
   "execution_count": 63,
   "metadata": {
    "ExecuteTime": {
     "end_time": "2020-03-18T10:47:46.353912Z",
     "start_time": "2020-03-18T10:47:45.415707Z"
    }
   },
   "outputs": [
    {
     "name": "stdout",
     "output_type": "stream",
     "text": [
      "Epoch [1/200], Loss: -0.4587, Duration: 0.0 s\n",
      "threshs[:20] tensor([0.2991, 0.3010, 0.3010, 0.3010, 0.2990, 0.2990, 0.3010, 0.2990, 0.2990,\n",
      "        0.2990, 0.2990, 0.2990, 0.3010, 0.3010, 0.3010, 0.2990, 0.2990, 0.2990,\n",
      "        0.2990, 0.3010], grad_fn=<SliceBackward>)\n",
      "Epoch [2/200], Loss: -0.4593, Duration: 0.0 s\n",
      "Epoch [3/200], Loss: -0.4603, Duration: 0.0 s\n",
      "Epoch [4/200], Loss: -0.4610, Duration: 0.0 s\n",
      "Epoch [5/200], Loss: -0.4614, Duration: 0.0 s\n",
      "Epoch [6/200], Loss: -0.4616, Duration: 0.0 s\n",
      "Epoch [7/200], Loss: -0.4625, Duration: 0.0 s\n",
      "Epoch [8/200], Loss: -0.4629, Duration: 0.0 s\n",
      "Epoch [9/200], Loss: -0.4628, Duration: 0.0 s\n",
      "Epoch [10/200], Loss: -0.4635, Duration: 0.0 s\n",
      "Epoch [11/200], Loss: -0.4639, Duration: 0.0 s\n",
      "Epoch [12/200], Loss: -0.4645, Duration: 0.0 s\n",
      "Epoch [13/200], Loss: -0.4654, Duration: 0.0 s\n",
      "Epoch [14/200], Loss: -0.4664, Duration: 0.0 s\n",
      "Epoch [15/200], Loss: -0.4664, Duration: 0.0 s\n",
      "Epoch [16/200], Loss: -0.4664, Duration: 0.0 s\n",
      "Epoch [17/200], Loss: -0.4673, Duration: 0.0 s\n",
      "Epoch [18/200], Loss: -0.4680, Duration: 0.0 s\n",
      "Epoch [19/200], Loss: -0.4683, Duration: 0.0 s\n",
      "Epoch [20/200], Loss: -0.4690, Duration: 0.0 s\n",
      "Epoch [21/200], Loss: -0.4689, Duration: 0.0 s\n",
      "Epoch [22/200], Loss: -0.4696, Duration: 0.0 s\n",
      "Epoch [23/200], Loss: -0.4700, Duration: 0.0 s\n",
      "Epoch [24/200], Loss: -0.4704, Duration: 0.0 s\n",
      "Epoch [25/200], Loss: -0.4707, Duration: 0.0 s\n",
      "Epoch [26/200], Loss: -0.4711, Duration: 0.0 s\n",
      "Epoch [27/200], Loss: -0.4710, Duration: 0.0 s\n",
      "Epoch [28/200], Loss: -0.4714, Duration: 0.0 s\n",
      "Epoch [29/200], Loss: -0.4717, Duration: 0.0 s\n",
      "Epoch [30/200], Loss: -0.4721, Duration: 0.0 s\n",
      "Epoch [31/200], Loss: -0.4729, Duration: 0.0 s\n",
      "Epoch [32/200], Loss: -0.4736, Duration: 0.0 s\n",
      "Epoch [33/200], Loss: -0.4738, Duration: 0.0 s\n",
      "Epoch [34/200], Loss: -0.4742, Duration: 0.0 s\n",
      "Epoch [35/200], Loss: -0.4743, Duration: 0.0 s\n",
      "Epoch [36/200], Loss: -0.4747, Duration: 0.0 s\n",
      "Epoch [37/200], Loss: -0.4750, Duration: 0.0 s\n",
      "Epoch [38/200], Loss: -0.4750, Duration: 0.0 s\n",
      "Epoch [39/200], Loss: -0.4756, Duration: 0.0 s\n",
      "Epoch [40/200], Loss: -0.4756, Duration: 0.0 s\n",
      "Epoch [41/200], Loss: -0.4759, Duration: 0.0 s\n",
      "Epoch [42/200], Loss: -0.4767, Duration: 0.0 s\n",
      "Epoch [43/200], Loss: -0.4774, Duration: 0.0 s\n",
      "Epoch [44/200], Loss: -0.4784, Duration: 0.0 s\n",
      "Epoch [45/200], Loss: -0.4792, Duration: 0.0 s\n",
      "Epoch [46/200], Loss: -0.4795, Duration: 0.0 s\n",
      "Epoch [47/200], Loss: -0.4799, Duration: 0.0 s\n",
      "Epoch [48/200], Loss: -0.4800, Duration: 0.0 s\n",
      "Epoch [49/200], Loss: -0.4806, Duration: 0.0 s\n",
      "Epoch [50/200], Loss: -0.4806, Duration: 0.0 s\n",
      "Epoch [51/200], Loss: -0.4807, Duration: 0.0 s\n",
      "threshs[:20] tensor([0.2423, 0.3486, 0.3490, 0.3261, 0.2602, 0.2450, 0.3371, 0.2671, 0.2502,\n",
      "        0.2443, 0.2591, 0.3122, 0.3519, 0.3459, 0.3486, 0.2671, 0.2471, 0.2555,\n",
      "        0.2931, 0.3468], grad_fn=<SliceBackward>)\n",
      "Epoch [52/200], Loss: -0.4810, Duration: 0.0 s\n",
      "Epoch [53/200], Loss: -0.4813, Duration: 0.0 s\n",
      "Epoch [54/200], Loss: -0.4816, Duration: 0.0 s\n",
      "Epoch [55/200], Loss: -0.4815, Duration: 0.0 s\n",
      "Epoch [56/200], Loss: -0.4817, Duration: 0.0 s\n",
      "Epoch [57/200], Loss: -0.4817, Duration: 0.0 s\n",
      "Epoch [58/200], Loss: -0.4821, Duration: 0.0 s\n",
      "Epoch [59/200], Loss: -0.4824, Duration: 0.0 s\n",
      "Epoch [60/200], Loss: -0.4827, Duration: 0.0 s\n",
      "Epoch [61/200], Loss: -0.4831, Duration: 0.0 s\n",
      "Epoch [62/200], Loss: -0.4837, Duration: 0.0 s\n",
      "Epoch [63/200], Loss: -0.4842, Duration: 0.0 s\n",
      "Epoch [64/200], Loss: -0.4843, Duration: 0.0 s\n",
      "Epoch [65/200], Loss: -0.4849, Duration: 0.0 s\n",
      "Epoch [66/200], Loss: -0.4853, Duration: 0.0 s\n",
      "Epoch [67/200], Loss: -0.4853, Duration: 0.0 s\n",
      "Epoch [68/200], Loss: -0.4856, Duration: 0.0 s\n",
      "Epoch [69/200], Loss: -0.4856, Duration: 0.0 s\n",
      "Epoch [70/200], Loss: -0.4864, Duration: 0.0 s\n",
      "Epoch [71/200], Loss: -0.4869, Duration: 0.0 s\n",
      "Epoch [72/200], Loss: -0.4873, Duration: 0.0 s\n",
      "Epoch [73/200], Loss: -0.4874, Duration: 0.0 s\n",
      "Epoch [74/200], Loss: -0.4878, Duration: 0.0 s\n",
      "Epoch [75/200], Loss: -0.4878, Duration: 0.0 s\n",
      "Epoch [76/200], Loss: -0.4879, Duration: 0.0 s\n",
      "Epoch [77/200], Loss: -0.4885, Duration: 0.0 s\n",
      "Epoch [78/200], Loss: -0.4885, Duration: 0.0 s\n",
      "Epoch [79/200], Loss: -0.4886, Duration: 0.0 s\n",
      "Epoch [80/200], Loss: -0.4889, Duration: 0.0 s\n",
      "Epoch [81/200], Loss: -0.4888, Duration: 0.0 s\n",
      "Epoch [82/200], Loss: -0.4889, Duration: 0.0 s\n",
      "Epoch [83/200], Loss: -0.4892, Duration: 0.0 s\n",
      "Epoch [84/200], Loss: -0.4892, Duration: 0.0 s\n",
      "Epoch [85/200], Loss: -0.4892, Duration: 0.0 s\n",
      "Epoch [86/200], Loss: -0.4896, Duration: 0.0 s\n",
      "Epoch [87/200], Loss: -0.4897, Duration: 0.0 s\n",
      "Epoch [88/200], Loss: -0.4897, Duration: 0.0 s\n",
      "Epoch [89/200], Loss: -0.4895, Duration: 0.0 s\n",
      "Epoch [90/200], Loss: -0.4895, Duration: 0.0 s\n",
      "Epoch [91/200], Loss: -0.4895, Duration: 0.0 s\n",
      "Epoch [92/200], Loss: -0.4898, Duration: 0.0 s\n",
      "Epoch [93/200], Loss: -0.4899, Duration: 0.0 s\n",
      "Epoch [94/200], Loss: -0.4903, Duration: 0.0 s\n",
      "Epoch [95/200], Loss: -0.4905, Duration: 0.0 s\n",
      "Epoch [96/200], Loss: -0.4904, Duration: 0.0 s\n",
      "Epoch [97/200], Loss: -0.4904, Duration: 0.0 s\n",
      "Epoch [98/200], Loss: -0.4905, Duration: 0.0 s\n",
      "Epoch [99/200], Loss: -0.4908, Duration: 0.0 s\n",
      "Epoch [100/200], Loss: -0.4908, Duration: 0.0 s\n",
      "Epoch [101/200], Loss: -0.4908, Duration: 0.0 s\n",
      "threshs[:20] tensor([0.2447, 0.3861, 0.3952, 0.3281, 0.2587, 0.2307, 0.3424, 0.2729, 0.2251,\n",
      "        0.2139, 0.2519, 0.3748, 0.3954, 0.3721, 0.3915, 0.2734, 0.2092, 0.2538,\n",
      "        0.2946, 0.3772], grad_fn=<SliceBackward>)\n",
      "Epoch [102/200], Loss: -0.4907, Duration: 0.0 s\n",
      "Epoch [103/200], Loss: -0.4910, Duration: 0.0 s\n",
      "Epoch [104/200], Loss: -0.4913, Duration: 0.0 s\n",
      "Epoch [105/200], Loss: -0.4914, Duration: 0.0 s\n",
      "Epoch [106/200], Loss: -0.4914, Duration: 0.0 s\n",
      "Epoch [107/200], Loss: -0.4915, Duration: 0.0 s\n",
      "Epoch [108/200], Loss: -0.4916, Duration: 0.0 s\n",
      "Epoch [109/200], Loss: -0.4920, Duration: 0.0 s\n",
      "Epoch [110/200], Loss: -0.4922, Duration: 0.0 s\n",
      "Epoch [111/200], Loss: -0.4923, Duration: 0.0 s\n",
      "Epoch [112/200], Loss: -0.4929, Duration: 0.0 s\n",
      "Epoch [113/200], Loss: -0.4928, Duration: 0.0 s\n",
      "Epoch [114/200], Loss: -0.4929, Duration: 0.0 s\n",
      "Epoch [115/200], Loss: -0.4928, Duration: 0.0 s\n",
      "Epoch [116/200], Loss: -0.4930, Duration: 0.0 s\n",
      "Epoch [117/200], Loss: -0.4930, Duration: 0.0 s\n",
      "Epoch [118/200], Loss: -0.4931, Duration: 0.0 s\n",
      "Epoch [119/200], Loss: -0.4932, Duration: 0.0 s\n",
      "Epoch [120/200], Loss: -0.4930, Duration: 0.0 s\n",
      "Epoch [121/200], Loss: -0.4931, Duration: 0.0 s\n",
      "Epoch [122/200], Loss: -0.4932, Duration: 0.0 s\n",
      "Epoch [123/200], Loss: -0.4933, Duration: 0.0 s\n",
      "Epoch [124/200], Loss: -0.4933, Duration: 0.0 s\n",
      "Epoch [125/200], Loss: -0.4933, Duration: 0.0 s\n",
      "Epoch [126/200], Loss: -0.4936, Duration: 0.0 s\n",
      "Epoch [127/200], Loss: -0.4937, Duration: 0.0 s\n",
      "Epoch [128/200], Loss: -0.4938, Duration: 0.0 s\n",
      "Epoch [129/200], Loss: -0.4937, Duration: 0.0 s\n",
      "Epoch [130/200], Loss: -0.4935, Duration: 0.0 s\n",
      "Epoch [131/200], Loss: -0.4935, Duration: 0.0 s\n",
      "Epoch [132/200], Loss: -0.4935, Duration: 0.0 s\n",
      "Epoch [133/200], Loss: -0.4937, Duration: 0.0 s\n",
      "Epoch [134/200], Loss: -0.4937, Duration: 0.0 s\n",
      "Epoch [135/200], Loss: -0.4938, Duration: 0.0 s\n",
      "Epoch [136/200], Loss: -0.4938, Duration: 0.0 s\n",
      "Epoch [137/200], Loss: -0.4938, Duration: 0.0 s\n",
      "Epoch [138/200], Loss: -0.4938, Duration: 0.0 s\n",
      "Epoch [139/200], Loss: -0.4938, Duration: 0.0 s\n",
      "Epoch [140/200], Loss: -0.4937, Duration: 0.0 s\n",
      "Epoch [141/200], Loss: -0.4937, Duration: 0.0 s\n",
      "Epoch [142/200], Loss: -0.4938, Duration: 0.0 s\n",
      "Epoch [143/200], Loss: -0.4938, Duration: 0.0 s\n",
      "Epoch [144/200], Loss: -0.4938, Duration: 0.0 s\n",
      "Epoch [145/200], Loss: -0.4939, Duration: 0.0 s\n",
      "Epoch [146/200], Loss: -0.4939, Duration: 0.0 s\n",
      "Epoch [147/200], Loss: -0.4939, Duration: 0.0 s\n",
      "Epoch [148/200], Loss: -0.4940, Duration: 0.0 s\n",
      "Epoch [149/200], Loss: -0.4940, Duration: 0.0 s\n",
      "Epoch [150/200], Loss: -0.4941, Duration: 0.0 s\n",
      "Epoch [151/200], Loss: -0.4942, Duration: 0.0 s\n",
      "threshs[:20] tensor([0.2455, 0.4192, 0.4211, 0.3287, 0.2591, 0.2321, 0.3433, 0.2740, 0.2270,\n",
      "        0.2152, 0.2526, 0.3845, 0.4182, 0.3875, 0.4325, 0.2742, 0.1983, 0.2541,\n",
      "        0.2950, 0.3906], grad_fn=<SliceBackward>)\n",
      "Epoch [152/200], Loss: -0.4943, Duration: 0.0 s\n",
      "Epoch [153/200], Loss: -0.4943, Duration: 0.0 s\n",
      "Epoch [154/200], Loss: -0.4945, Duration: 0.0 s\n",
      "Epoch [155/200], Loss: -0.4945, Duration: 0.0 s\n",
      "Epoch [156/200], Loss: -0.4945, Duration: 0.0 s\n",
      "Epoch [157/200], Loss: -0.4945, Duration: 0.0 s\n",
      "Epoch [158/200], Loss: -0.4946, Duration: 0.0 s\n",
      "Epoch [159/200], Loss: -0.4947, Duration: 0.0 s\n",
      "Epoch [160/200], Loss: -0.4949, Duration: 0.0 s\n",
      "Epoch [161/200], Loss: -0.4949, Duration: 0.0 s\n",
      "Epoch [162/200], Loss: -0.4949, Duration: 0.0 s\n",
      "Epoch [163/200], Loss: -0.4949, Duration: 0.0 s\n",
      "Epoch [164/200], Loss: -0.4949, Duration: 0.0 s\n",
      "Epoch [165/200], Loss: -0.4951, Duration: 0.0 s\n",
      "Epoch [166/200], Loss: -0.4951, Duration: 0.0 s\n",
      "Epoch [167/200], Loss: -0.4950, Duration: 0.0 s\n",
      "Epoch [168/200], Loss: -0.4951, Duration: 0.0 s\n",
      "Epoch [169/200], Loss: -0.4951, Duration: 0.0 s\n",
      "Epoch [170/200], Loss: -0.4951, Duration: 0.0 s\n",
      "Epoch [171/200], Loss: -0.4951, Duration: 0.0 s\n",
      "Epoch [172/200], Loss: -0.4952, Duration: 0.0 s\n",
      "Epoch [173/200], Loss: -0.4953, Duration: 0.0 s\n",
      "Epoch [174/200], Loss: -0.4951, Duration: 0.0 s\n",
      "Epoch [175/200], Loss: -0.4951, Duration: 0.0 s\n",
      "Epoch [176/200], Loss: -0.4953, Duration: 0.0 s\n",
      "Epoch [177/200], Loss: -0.4953, Duration: 0.0 s\n",
      "Epoch [178/200], Loss: -0.4953, Duration: 0.0 s\n",
      "Epoch [179/200], Loss: -0.4953, Duration: 0.0 s\n",
      "Epoch [180/200], Loss: -0.4953, Duration: 0.0 s\n",
      "Epoch [181/200], Loss: -0.4954, Duration: 0.0 s\n",
      "Epoch [182/200], Loss: -0.4955, Duration: 0.0 s\n",
      "Epoch [183/200], Loss: -0.4956, Duration: 0.0 s\n",
      "Epoch [184/200], Loss: -0.4956, Duration: 0.0 s\n",
      "Epoch [185/200], Loss: -0.4956, Duration: 0.0 s\n",
      "Epoch [186/200], Loss: -0.4956, Duration: 0.0 s\n",
      "Epoch [187/200], Loss: -0.4957, Duration: 0.0 s\n",
      "Epoch [188/200], Loss: -0.4955, Duration: 0.0 s\n",
      "Epoch [189/200], Loss: -0.4955, Duration: 0.0 s\n",
      "Epoch [190/200], Loss: -0.4955, Duration: 0.0 s\n",
      "Epoch [191/200], Loss: -0.4955, Duration: 0.0 s\n",
      "Epoch [192/200], Loss: -0.4955, Duration: 0.0 s\n",
      "Epoch [193/200], Loss: -0.4955, Duration: 0.0 s\n",
      "Epoch [194/200], Loss: -0.4955, Duration: 0.0 s\n",
      "Epoch [195/200], Loss: -0.4955, Duration: 0.0 s\n",
      "Epoch [196/200], Loss: -0.4956, Duration: 0.0 s\n",
      "Epoch [197/200], Loss: -0.4956, Duration: 0.0 s\n",
      "Epoch [198/200], Loss: -0.4953, Duration: 0.0 s\n",
      "Epoch [199/200], Loss: -0.4953, Duration: 0.0 s\n",
      "Epoch [200/200], Loss: -0.4953, Duration: 0.0 s\n",
      "delta: tensor([0., 0., 0., 0., 0., 0., 0., 0., 0., 0., 0., 0., 0., 0., 0., 0., 0., 0., 0., 0., 0., 0., 0., 0.,\n",
      "        0., 0., 0., 0., 0., 0., 0., 0., 0., 0., 0., 0., 0., 0., 0., 0., 0., 0., 0., 0., 0., 0., 0., 0.,\n",
      "        0., 0., 0., 0., 0., 0., 0., 0., 0., 0., 0., 0., 0., 0., 0., 0., 0., 0., 0., 0., 0., 0., 0., 0.,\n",
      "        0., 0., 0., 0., 0., 0., 0., 0., 0., 0., 0., 0., 0., 0., 0., 0., 0., 0., 0., 0., 0., 0., 0., 0.,\n",
      "        0., 0., 0., 0., 0., 0., 0., 0., 0., 0., 0., 0., 0., 0., 0., 0., 0., 0., 0., 0., 0., 0., 0., 0.,\n",
      "        0., 0., 0., 0., 0., 0., 0., 0., 0., 0., 0., 0., 0., 0., 0., 0., 0., 0., 0., 0., 0., 0., 0., 0.,\n",
      "        0., 0., 0., 0., 0., 0., 0., 0., 0., 0., 0., 0., 0., 0., 0.],\n",
      "       grad_fn=<AddBackward0>)\n"
     ]
    },
    {
     "data": {
      "text/plain": [
       "[<matplotlib.lines.Line2D at 0x7f24888b9250>]"
      ]
     },
     "execution_count": 63,
     "metadata": {},
     "output_type": "execute_result"
    },
    {
     "data": {
      "image/png": "[encoded data removed]",
      "text/plain": [
       "<Figure size 432x288 with 1 Axes>"
      ]
     },
     "metadata": {
      "needs_background": "light"
     },
     "output_type": "display_data"
    }
   ],
   "source": [
    "# Train the model, in batch mode\n",
    "num_epochs = 200\n",
    "# num_epochs = 72\n",
    "\n",
    "# sigma = torch.nn.Parameter(torch.tensor(40.0), requires_grad=True)\n",
    "\n",
    "cumul_delta_thresh = torch.zeros(nb_classes,)\n",
    "delta_thresh = torch.zeros(nb_classes,)\n",
    "\n",
    "\n",
    "PREC_learned_AT_thresholds = THRESHmodel.thresh\n",
    "\n",
    "losses = []\n",
    "for epoch in range(num_epochs):\n",
    "    \n",
    "    debut = time.time()\n",
    "    \n",
    "    THRESHmodel.train()\n",
    "    \n",
    "    # Forward pass\n",
    "    # inputs:  predictions_tensor\n",
    "#     outputs = THRESHmodel(pth_train_probs)\n",
    "    outputs = THRESHmodel(pth_dev_probs)\n",
    "    \n",
    "#     if epoch % 10 == 0:\n",
    "#         print(outputs[-1])\n",
    "#     loss = criterion(outputs, pth_train_gt)\n",
    "    loss = criterion(outputs, pth_dev_gt)\n",
    "\n",
    "    # Backward and optimize\n",
    "    THRESHoptimizer.zero_grad()\n",
    "\n",
    "    loss.backward()\n",
    "#     loss.mean().backward()\n",
    "#         loss.backward(at_batch_y)\n",
    "    # loss.backward(torch.ones_like(loss))\n",
    "    \n",
    "#     scheduler.step()\n",
    "    \n",
    "    THRESHoptimizer.step()\n",
    "    # THRESHmodel.clamp()\n",
    "    losses.append(loss)\n",
    "    \n",
    "    duree_epoch = time.time() - debut\n",
    "\n",
    "#     print ('Epoch [{}/{}], Loss: {:.4f}, Duration: {:.1f} s' \n",
    "#            .format(epoch+1, num_epochs, loss.mean(), duree_epoch))\n",
    "    print ('Epoch [{}/{}], Loss: {:.4f}, Duration: {:.1f} s' \n",
    "           .format(epoch+1, num_epochs, loss, duree_epoch))\n",
    "\n",
    "    learned_AT_thresholds = THRESHmodel.thresh\n",
    "    \n",
    "    delta_thresh = learned_AT_thresholds - PREC_learned_AT_thresholds\n",
    "    cumul_delta_thresh += delta_thresh\n",
    "    PREC_learned_AT_thresholds = learned_AT_thresholds\n",
    "    if epoch % 50 == 0: print('threshs[:20]', learned_AT_thresholds[:20])\n",
    "    # if torch.sum(delta_thresh) < 0.01: break\n",
    "    \n",
    "print('delta:', cumul_delta_thresh)\n",
    "plt.figure()\n",
    "# plt.figure(figsize=(8,6))\n",
    "plt.plot(losses)"
   ]
  },
  {
   "cell_type": "code",
   "execution_count": 64,
   "metadata": {
    "ExecuteTime": {
     "end_time": "2020-03-18T10:47:54.305868Z",
     "start_time": "2020-03-18T10:47:54.299882Z"
    }
   },
   "outputs": [
    {
     "data": {
      "text/plain": [
       "(array([0.2457742 , 0.44784787, 0.42637593, 0.32908377, 0.25920108,\n",
       "        0.23241082, 0.34373528, 0.27451882, 0.22717504, 0.21520767,\n",
       "        0.2526798 , 0.3848151 , 0.43168294, 0.39827475, 0.46753094,\n",
       "        0.27467513, 0.19837995, 0.2543416 , 0.2950872 , 0.39311337],\n",
       "       dtype=float32),\n",
       " array([40., 40., 40., 40., 40., 40., 40., 40., 40., 40., 40., 40., 40.,\n",
       "        40., 40., 40., 40., 40., 40., 40.], dtype=float32))"
      ]
     },
     "execution_count": 64,
     "metadata": {},
     "output_type": "execute_result"
    }
   ],
   "source": [
    "learned_AT_thresholds=THRESHmodel.thresh.clone().detach().cpu().numpy()\n",
    "sigma = THRESHmodel.sigma.clone().detach().cpu().numpy()\n",
    "learned_AT_thresholds[:20], sigma[:20]"
   ]
  },
  {
   "cell_type": "code",
   "execution_count": 65,
   "metadata": {
    "ExecuteTime": {
     "end_time": "2020-03-18T10:48:04.846339Z",
     "start_time": "2020-03-18T10:48:04.712218Z"
    }
   },
   "outputs": [
    {
     "name": "stdout",
     "output_type": "stream",
     "text": [
      "auto_thresholds 0.2458 0.4478 0.4264 0.3291 0.2592 0.2324 0.3437 0.2745 0.2272 0.2152 0.2527 0.3848 0.4317 0.3983 0.4675 0.2747 0.1984 0.2543 0.2951 0.3931 0.4150 0.1891 0.3174 0.2252 0.3754 0.3751 0.3352 0.3457 0.3882 0.3826 0.4196 0.2784 0.2285 0.2991 0.4479 0.2626 0.2190 0.3983 0.4952 0.3634 0.4639 0.3774 0.2646 0.1786 0.2908 0.4724 0.2342 0.2008 0.3221 0.2878 0.5286 0.2572 0.4018 0.2103 0.2358 0.4656 0.4306 0.4801 0.2138 0.2611 0.3906 0.2933 0.2079 0.2336 0.2120 0.3049 0.4547 0.2160 0.3983 0.2196 0.3662 0.3164 0.3154 0.2945 0.4183 0.4738 0.2532 0.2673 0.1931 0.2334 0.4504 0.4206 0.3827 0.4125 0.3127 0.3968 0.3211 0.2329 0.4165 0.3224 0.3320 0.2618 0.3134 0.2199 0.2073 0.4593 0.4792 0.3847 0.2693 0.2290 0.3851 0.4379 0.2617 0.3031 0.1923 0.2526 0.4136 0.2180 0.2896 0.3834 0.2646 0.2268 0.2773 0.2259 0.4731 0.1937 0.3975 0.2344 0.2945 0.2419 0.2810 0.3594 0.2240 0.4298 0.1961 0.3033 0.3975 0.3813 0.2390 0.2468 0.4883 0.3475 0.3522 0.4677 0.5012 0.3035 0.4718 0.4677 0.2864 0.4500 0.2759 0.4061 0.3270 0.3410 0.3046 0.2931 0.2056 0.2129 0.2243 0.3342 0.3812 0.2364 0.4225 0.2863 0.4406 0.2035 0.2766 0.2329 0.4465 \n",
      "train\n",
      "              precision    recall  f1-score   support\n",
      "\n",
      "           0      1.000     0.846     0.917        26\n",
      "           1      1.000     0.841     0.914        63\n",
      "           2      1.000     0.741     0.851        27\n",
      "           3      1.000     1.000     1.000        48\n",
      "           4      1.000     1.000     1.000        23\n",
      "           5      0.957     1.000     0.978        45\n",
      "           6      1.000     0.924     0.960        92\n",
      "           7      1.000     0.925     0.961        40\n",
      "           8      0.958     0.920     0.939        25\n",
      "           9      1.000     1.000     1.000        65\n",
      "          10      1.000     1.000     1.000       131\n",
      "          11      0.975     0.848     0.907        46\n",
      "          12      1.000     0.857     0.923        28\n",
      "          13      1.000     1.000     1.000        61\n",
      "          14      1.000     0.995     0.998       215\n",
      "          15      0.975     0.830     0.897        47\n",
      "          16      1.000     1.000     1.000        43\n",
      "          17      0.962     0.926     0.943        27\n",
      "          18      0.966     0.983     0.974        58\n",
      "          19      0.979     0.920     0.948        50\n",
      "          20      1.000     0.917     0.957        36\n",
      "          21      0.909     0.952     0.930        42\n",
      "          22      1.000     0.966     0.982        58\n",
      "          23      1.000     1.000     1.000        39\n",
      "          24      0.971     1.000     0.985        33\n",
      "          25      0.943     0.971     0.957        34\n",
      "          26      1.000     1.000     1.000        41\n",
      "          27      1.000     0.981     0.990        52\n",
      "          28      1.000     0.950     0.974        20\n",
      "          29      1.000     0.897     0.945        29\n",
      "          30      1.000     0.837     0.911        43\n",
      "          31      1.000     1.000     1.000        25\n",
      "          32      1.000     0.972     0.986        36\n",
      "          33      1.000     0.900     0.947        30\n",
      "          34      1.000     0.656     0.792        32\n",
      "          35      1.000     1.000     1.000        40\n",
      "          36      0.945     1.000     0.972       103\n",
      "          37      1.000     0.826     0.905        23\n",
      "          38      1.000     1.000     1.000        34\n",
      "          39      0.958     0.885     0.920        26\n",
      "          40      1.000     1.000     1.000        24\n",
      "          41      1.000     0.985     0.992        65\n",
      "          42      1.000     1.000     1.000        46\n",
      "          43      1.000     0.919     0.958        37\n",
      "          44      0.989     1.000     0.994        88\n",
      "          45      1.000     1.000     1.000        25\n",
      "          46      1.000     0.962     0.980        26\n",
      "          47      1.000     1.000     1.000        24\n",
      "          48      0.971     0.805     0.880        41\n",
      "          49      1.000     1.000     1.000        49\n",
      "          50      1.000     1.000     1.000        24\n",
      "          51      1.000     0.929     0.963        28\n",
      "          52      0.983     0.936     0.959       125\n",
      "          53      1.000     0.917     0.957        24\n",
      "          54      0.891     0.891     0.891        55\n",
      "          55      1.000     0.763     0.866        38\n",
      "          56      1.000     0.750     0.857        20\n",
      "          57      1.000     1.000     1.000        27\n",
      "          58      1.000     1.000     1.000        20\n",
      "          59      0.957     0.880     0.917        25\n",
      "          60      0.935     0.967     0.951        30\n",
      "          61      1.000     1.000     1.000        51\n",
      "          62      1.000     1.000     1.000        30\n",
      "          63      0.976     1.000     0.988       124\n",
      "          64      1.000     1.000     1.000        29\n",
      "          65      1.000     1.000     1.000        37\n",
      "          66      1.000     0.884     0.938        69\n",
      "          67      1.000     0.806     0.893        31\n",
      "          68      1.000     1.000     1.000        27\n",
      "          69      1.000     1.000     1.000        25\n",
      "          70      1.000     0.878     0.935        74\n",
      "          71      0.974     0.902     0.937        41\n",
      "          72      1.000     0.848     0.918        33\n",
      "          73      1.000     0.941     0.970        34\n",
      "          74      1.000     1.000     1.000        27\n",
      "          75      1.000     0.944     0.971       144\n",
      "          76      1.000     1.000     1.000        32\n",
      "          77      1.000     1.000     1.000        48\n",
      "          78      1.000     0.909     0.952        22\n",
      "          79      0.920     0.885     0.902        26\n",
      "          80      0.977     0.875     0.923        48\n",
      "          81      1.000     0.937     0.967        63\n",
      "          82      0.870     1.000     0.930        20\n",
      "          83      1.000     0.988     0.994        85\n",
      "          84      0.965     0.982     0.973        56\n",
      "          85      1.000     0.927     0.962        55\n",
      "          86      0.943     0.892     0.917        37\n",
      "          87      0.857     0.882     0.870        34\n",
      "          88      0.990     0.954     0.972       109\n",
      "          89      1.000     0.972     0.986        36\n",
      "          90      1.000     1.000     1.000        38\n",
      "          91      1.000     1.000     1.000        28\n",
      "          92      1.000     1.000     1.000        25\n",
      "          93      0.886     0.899     0.892        69\n",
      "          94      1.000     0.964     0.982        28\n",
      "          95      1.000     0.773     0.872        22\n",
      "          96      1.000     0.850     0.919        80\n",
      "          97      0.979     0.979     0.979        97\n",
      "          98      1.000     0.957     0.978        23\n",
      "          99      1.000     1.000     1.000        24\n",
      "         100      0.959     0.922     0.940        51\n",
      "         101      0.894     0.955     0.923        44\n",
      "         102      1.000     1.000     1.000        26\n",
      "         103      0.958     0.852     0.902        27\n",
      "         104      0.857     0.955     0.903        88\n",
      "         105      0.964     0.931     0.947        29\n",
      "         106      0.964     0.931     0.947        29\n",
      "         107      1.000     1.000     1.000        40\n",
      "         108      0.970     1.000     0.985        32\n",
      "         109      1.000     0.870     0.930        23\n",
      "         110      1.000     0.933     0.966        30\n",
      "         111      1.000     1.000     1.000        60\n",
      "         112      1.000     1.000     1.000        24\n",
      "         113      1.000     1.000     1.000        63\n",
      "         114      1.000     1.000     1.000        42\n",
      "         115      1.000     0.905     0.950        21\n",
      "         116      1.000     0.913     0.955        23\n",
      "         117      0.987     0.987     0.987        76\n",
      "         118      0.974     0.902     0.937        41\n",
      "         119      1.000     1.000     1.000        47\n",
      "         120      1.000     0.964     0.982        28\n",
      "         121      0.972     0.875     0.921        40\n",
      "         122      0.854     0.978     0.912        90\n",
      "         123      0.960     0.857     0.906        28\n",
      "         124      0.770     0.987     0.865        78\n",
      "         125      1.000     1.000     1.000        22\n",
      "         126      1.000     1.000     1.000        29\n",
      "         127      1.000     1.000     1.000        22\n",
      "         128      0.939     0.861     0.899        36\n",
      "         129      0.938     0.981     0.959       107\n",
      "         130      1.000     0.889     0.941        27\n",
      "         131      0.922     0.969     0.945       195\n",
      "         132      1.000     1.000     1.000        23\n",
      "         133      1.000     0.880     0.936        25\n",
      "         134      1.000     1.000     1.000       458\n",
      "         135      0.959     1.000     0.979        47\n",
      "         136      1.000     0.783     0.878        23\n",
      "         137      1.000     0.848     0.918        33\n",
      "         138      1.000     0.983     0.991        59\n",
      "         139      0.978     0.863     0.917        51\n",
      "         140      1.000     0.900     0.947        30\n",
      "         141      0.988     0.976     0.982        85\n",
      "         142      1.000     1.000     1.000        34\n",
      "         143      1.000     1.000     1.000        57\n",
      "         144      1.000     1.000     1.000        64\n",
      "         145      1.000     1.000     1.000        31\n",
      "         146      1.000     1.000     1.000        64\n",
      "         147      1.000     1.000     1.000        26\n",
      "         148      1.000     1.000     1.000        27\n",
      "         149      1.000     1.000     1.000        54\n",
      "         150      1.000     1.000     1.000        36\n",
      "         151      1.000     1.000     1.000        47\n",
      "         152      1.000     0.784     0.879        51\n",
      "         153      1.000     1.000     1.000        44\n",
      "         154      1.000     0.969     0.984        32\n",
      "         155      0.953     0.976     0.965        42\n",
      "         156      0.922     0.979     0.950        97\n",
      "         157      0.949     0.860     0.902        43\n",
      "         158      1.000     0.900     0.947        30\n",
      "\n",
      "   micro avg      0.977     0.953     0.965      7789\n",
      "   macro avg      0.982     0.943     0.961      7789\n",
      "weighted avg      0.979     0.953     0.964      7789\n",
      " samples avg      0.966     0.960     0.958      7789\n",
      "\n",
      "set acc: 0.914\n",
      "dev\n",
      "              precision    recall  f1-score   support\n",
      "\n",
      "           0      0.000     0.000     0.000        13\n",
      "           1      0.500     0.182     0.267        22\n",
      "           2      1.000     0.042     0.080        24\n",
      "           3      0.440     0.478     0.458        23\n",
      "           4      0.500     0.400     0.444        10\n",
      "           5      0.548     0.773     0.642        22\n",
      "           6      0.320     0.229     0.267        35\n",
      "           7      0.429     0.150     0.222        20\n",
      "           8      0.467     0.636     0.538        11\n",
      "           9      0.489     0.920     0.639        25\n",
      "          10      0.945     0.981     0.963        53\n",
      "          11      0.438     0.412     0.424        17\n",
      "          12      0.000     0.000     0.000        10\n",
      "          13      1.000     1.000     1.000        42\n",
      "          14      0.881     0.929     0.904       112\n",
      "          15      0.231     0.150     0.182        20\n",
      "          16      0.541     0.667     0.597        30\n",
      "          17      0.250     0.154     0.190        13\n",
      "          18      0.613     0.613     0.613        31\n",
      "          19      0.500     0.238     0.323        21\n",
      "          20      0.333     0.125     0.182        16\n",
      "          21      0.357     0.417     0.385        24\n",
      "          22      0.350     0.318     0.333        22\n",
      "          23      0.467     0.389     0.424        18\n",
      "          24      1.000     0.125     0.222        16\n",
      "          25      0.333     0.125     0.182         8\n",
      "          26      0.727     0.615     0.667        13\n",
      "          27      0.600     0.103     0.176        29\n",
      "          28      0.000     0.000     0.000         9\n",
      "          29      0.625     0.417     0.500        12\n",
      "          30      0.400     0.250     0.308         8\n",
      "          31      0.846     0.917     0.880        12\n",
      "          32      0.300     0.231     0.261        13\n",
      "          33      0.000     0.000     0.000        13\n",
      "          34      0.250     0.100     0.143        10\n",
      "          35      0.917     0.957     0.936        23\n",
      "          36      0.394     0.596     0.475        47\n",
      "          37      0.000     0.000     0.000         9\n",
      "          38      0.667     0.190     0.296        21\n",
      "          39      0.333     0.077     0.125        13\n",
      "          40      0.750     0.375     0.500         8\n",
      "          41      0.444     0.140     0.213        57\n",
      "          42      0.375     0.240     0.293        25\n",
      "          43      0.462     0.316     0.375        19\n",
      "          44      0.846     0.880     0.863        50\n",
      "          45      0.750     0.300     0.429        10\n",
      "          46      0.500     0.111     0.182         9\n",
      "          47      0.400     0.074     0.125        27\n",
      "          48      0.333     0.095     0.148        21\n",
      "          49      0.600     0.714     0.652        21\n",
      "          50      0.333     0.083     0.133        12\n",
      "          51      0.333     0.150     0.207        20\n",
      "          52      0.606     0.614     0.610        70\n",
      "          53      0.643     0.818     0.720        11\n",
      "          54      0.500     0.593     0.542        27\n",
      "          55      0.625     0.278     0.385        18\n",
      "          56      1.000     0.125     0.222         8\n",
      "          57      0.714     0.455     0.556        11\n",
      "          58      1.000     0.083     0.154        12\n",
      "          59      0.300     0.300     0.300        10\n",
      "          60      0.000     0.000     0.000        13\n",
      "          61      0.714     0.600     0.652        25\n",
      "          62      0.923     0.800     0.857        15\n",
      "          63      0.610     0.839     0.707        56\n",
      "          64      0.611     0.647     0.629        17\n",
      "          65      0.412     0.500     0.452        14\n",
      "          66      0.417     0.111     0.175        45\n",
      "          67      0.333     0.222     0.267        18\n",
      "          68      0.000     0.000     0.000        14\n",
      "          69      0.500     0.417     0.455        12\n",
      "          70      0.238     0.147     0.182        34\n",
      "          71      0.667     0.267     0.381        15\n",
      "          72      0.500     0.222     0.308         9\n",
      "          73      0.500     0.125     0.200        16\n",
      "          74      0.500     0.500     0.500         6\n",
      "          75      0.417     0.333     0.370        60\n",
      "          76      0.714     0.833     0.769        12\n",
      "          77      0.526     0.476     0.500        21\n",
      "          78      0.400     0.154     0.222        13\n",
      "          79      0.692     0.562     0.621        16\n",
      "          80      0.625     0.179     0.278        28\n",
      "          81      0.650     0.500     0.565        26\n",
      "          82      1.000     0.917     0.957        12\n",
      "          83      0.757     0.622     0.683        45\n",
      "          84      0.524     0.355     0.423        31\n",
      "          85      0.545     0.214     0.308        28\n",
      "          86      0.609     0.824     0.700        17\n",
      "          87      0.500     0.600     0.545        15\n",
      "          88      0.346     0.170     0.228        53\n",
      "          89      0.500     0.105     0.174        19\n",
      "          90      0.333     0.048     0.083        21\n",
      "          91      0.500     0.083     0.143        24\n",
      "          92      0.300     0.273     0.286        11\n",
      "          93      0.279     0.286     0.282        42\n",
      "          94      0.667     0.308     0.421        13\n",
      "          95      1.000     0.077     0.143        13\n",
      "          96      0.235     0.121     0.160        33\n",
      "          97      0.447     0.538     0.488        39\n",
      "          98      0.571     0.267     0.364        15\n",
      "          99      0.200     0.067     0.100        15\n",
      "         100      0.333     0.103     0.158        29\n",
      "         101      0.842     0.941     0.889        17\n",
      "         102      0.500     0.200     0.286        10\n",
      "         103      0.250     0.053     0.087        19\n",
      "         104      0.452     0.611     0.520        54\n",
      "         105      0.316     0.429     0.364        14\n",
      "         106      0.000     0.000     0.000        19\n",
      "         107      0.294     0.200     0.238        25\n",
      "         108      1.000     0.235     0.381        17\n",
      "         109      0.000     0.000     0.000        15\n",
      "         110      0.500     0.143     0.222        21\n",
      "         111      0.467     0.467     0.467        30\n",
      "         112      1.000     0.583     0.737        12\n",
      "         113      0.615     0.857     0.716        28\n",
      "         114      0.250     0.200     0.222        10\n",
      "         115      0.571     0.727     0.640        11\n",
      "         116      0.000     0.000     0.000        14\n",
      "         117      0.627     0.755     0.685        49\n",
      "         118      0.250     0.062     0.100        16\n",
      "         119      0.333     0.238     0.278        21\n",
      "         120      0.800     0.222     0.348        18\n",
      "         121      0.263     0.312     0.286        16\n",
      "         122      0.532     0.660     0.589        50\n",
      "         123      0.000     0.000     0.000        15\n",
      "         124      0.339     0.463     0.392        41\n",
      "         125      0.600     0.462     0.522        13\n",
      "         126      0.500     0.045     0.083        22\n",
      "         127      0.000     0.000     0.000        13\n",
      "         128      0.400     0.286     0.333         7\n",
      "         129      0.224     0.295     0.255        44\n",
      "         130      0.667     0.200     0.308        10\n",
      "         131      0.535     0.574     0.554        94\n",
      "         132      0.588     0.588     0.588        17\n",
      "         133      1.000     0.143     0.250         7\n",
      "         134      0.967     1.000     0.983       233\n",
      "         135      0.286     0.111     0.160        18\n",
      "         136      0.000     0.000     0.000         7\n",
      "         137      0.000     0.000     0.000        11\n",
      "         138      0.176     0.097     0.125        31\n",
      "         139      0.708     0.630     0.667        27\n",
      "         140      0.500     0.077     0.133        13\n",
      "         141      0.200     0.073     0.107        41\n",
      "         142      0.333     0.050     0.087        20\n",
      "         143      0.571     0.429     0.490        28\n",
      "         144      0.520     0.382     0.441        34\n",
      "         145      0.300     0.158     0.207        19\n",
      "         146      0.444     0.541     0.488        37\n",
      "         147      0.625     0.625     0.625         8\n",
      "         148      0.583     0.438     0.500        16\n",
      "         149      0.529     0.290     0.375        31\n",
      "         150      0.800     0.308     0.444        13\n",
      "         151      0.522     0.632     0.571        19\n",
      "         152      0.000     0.000     0.000        24\n",
      "         153      0.364     0.235     0.286        17\n",
      "         154      0.700     0.538     0.609        13\n",
      "         155      0.548     0.586     0.567        29\n",
      "         156      0.426     0.408     0.417        49\n",
      "         157      0.167     0.111     0.133        18\n",
      "         158      0.000     0.000     0.000         6\n",
      "\n",
      "   micro avg      0.570     0.438     0.495      3827\n",
      "   macro avg      0.479     0.344     0.367      3827\n",
      "weighted avg      0.526     0.438     0.448      3827\n",
      " samples avg      0.514     0.470     0.457      3827\n",
      "\n",
      "set acc: 0.179\n",
      "test\n",
      "              precision    recall  f1-score   support\n",
      "\n",
      "           0      0.250     0.033     0.059        30\n",
      "           1      0.300     0.128     0.179        47\n",
      "           2      0.000     0.000     0.000        20\n",
      "           3      0.542     0.394     0.456        33\n",
      "           4      0.500     0.250     0.333        24\n",
      "           5      0.676     0.806     0.735        31\n",
      "           6      0.265     0.167     0.205        78\n",
      "           7      0.125     0.045     0.067        22\n",
      "           8      0.500     0.600     0.545        25\n",
      "           9      0.479     0.778     0.593        45\n",
      "          10      0.922     0.972     0.946       109\n",
      "          11      0.588     0.333     0.426        30\n",
      "          12      0.000     0.000     0.000        23\n",
      "          13      0.936     1.000     0.967        44\n",
      "          14      0.926     0.964     0.945       195\n",
      "          15      0.167     0.069     0.098        29\n",
      "          16      0.525     0.700     0.600        30\n",
      "          17      0.455     0.238     0.312        21\n",
      "          18      0.523     0.548     0.535        42\n",
      "          19      0.167     0.038     0.062        26\n",
      "          20      0.444     0.182     0.258        22\n",
      "          21      0.549     0.560     0.554        50\n",
      "          22      0.486     0.354     0.410        48\n",
      "          23      0.375     0.474     0.419        19\n",
      "          24      0.000     0.000     0.000        19\n",
      "          25      0.000     0.000     0.000        17\n",
      "          26      0.840     0.583     0.689        36\n",
      "          27      0.500     0.139     0.217        36\n",
      "          28      0.000     0.000     0.000        22\n",
      "          29      0.500     0.300     0.375        20\n",
      "          30      0.444     0.308     0.364        26\n",
      "          31      0.667     0.714     0.690        14\n",
      "          32      0.231     0.261     0.245        23\n",
      "          33      0.250     0.048     0.080        21\n",
      "          34      0.250     0.053     0.087        19\n",
      "          35      0.828     0.706     0.762        34\n",
      "          36      0.312     0.422     0.359        83\n",
      "          37      0.250     0.043     0.074        23\n",
      "          38      1.000     0.226     0.368        31\n",
      "          39      0.250     0.042     0.071        24\n",
      "          40      0.900     0.450     0.600        20\n",
      "          41      0.172     0.106     0.132        47\n",
      "          42      0.321     0.205     0.250        44\n",
      "          43      0.438     0.233     0.304        30\n",
      "          44      0.860     0.860     0.860        57\n",
      "          45      0.750     0.158     0.261        19\n",
      "          46      0.143     0.059     0.083        17\n",
      "          47      0.000     0.000     0.000        21\n",
      "          48      0.467     0.167     0.246        42\n",
      "          49      0.646     0.861     0.738        36\n",
      "          50      0.250     0.059     0.095        17\n",
      "          51      0.167     0.043     0.069        23\n",
      "          52      0.660     0.626     0.642        99\n",
      "          53      0.529     0.474     0.500        19\n",
      "          54      0.596     0.608     0.602        51\n",
      "          55      0.571     0.148     0.235        27\n",
      "          56      0.333     0.038     0.069        26\n",
      "          57      0.545     0.333     0.414        18\n",
      "          58      0.667     0.080     0.143        25\n",
      "          59      0.417     0.263     0.323        19\n",
      "          60      0.000     0.000     0.000        21\n",
      "          61      0.483     0.560     0.519        25\n",
      "          62      0.615     0.842     0.711        19\n",
      "          63      0.559     0.814     0.663        70\n",
      "          64      0.423     0.647     0.512        17\n",
      "          65      0.278     0.227     0.250        22\n",
      "          66      0.273     0.053     0.088        57\n",
      "          67      0.300     0.111     0.162        27\n",
      "          68      0.000     0.000     0.000        20\n",
      "          69      0.571     0.471     0.516        17\n",
      "          70      0.269     0.093     0.139        75\n",
      "          71      0.214     0.115     0.150        26\n",
      "          72      0.583     0.189     0.286        37\n",
      "          73      0.400     0.062     0.108        32\n",
      "          74      0.625     0.238     0.345        21\n",
      "          75      0.466     0.330     0.386       103\n",
      "          76      0.533     0.500     0.516        16\n",
      "          77      0.600     0.387     0.471        31\n",
      "          78      0.769     0.455     0.571        22\n",
      "          79      0.500     0.545     0.522        11\n",
      "          80      0.000     0.000     0.000        46\n",
      "          81      0.628     0.614     0.621        44\n",
      "          82      1.000     0.696     0.821        23\n",
      "          83      0.698     0.617     0.655        60\n",
      "          84      0.600     0.255     0.358        47\n",
      "          85      0.471     0.170     0.250        47\n",
      "          86      0.485     0.889     0.627        18\n",
      "          87      0.469     0.625     0.536        24\n",
      "          88      0.089     0.054     0.067        74\n",
      "          89      0.167     0.030     0.051        33\n",
      "          90      0.000     0.000     0.000        38\n",
      "          91      0.000     0.000     0.000        16\n",
      "          92      0.444     0.211     0.286        19\n",
      "          93      0.288     0.258     0.272        66\n",
      "          94      0.143     0.050     0.074        20\n",
      "          95      0.333     0.043     0.077        23\n",
      "          96      0.261     0.098     0.143        61\n",
      "          97      0.368     0.309     0.336        68\n",
      "          98      0.167     0.100     0.125        20\n",
      "          99      0.400     0.133     0.200        30\n",
      "         100      0.278     0.098     0.145        51\n",
      "         101      0.732     0.789     0.759        38\n",
      "         102      0.800     0.308     0.444        26\n",
      "         103      0.375     0.103     0.162        29\n",
      "         104      0.485     0.538     0.510        91\n",
      "         105      0.238     0.208     0.222        24\n",
      "         106      0.333     0.042     0.074        24\n",
      "         107      0.476     0.233     0.312        43\n",
      "         108      0.000     0.000     0.000        23\n",
      "         109      1.000     0.050     0.095        20\n",
      "         110      0.643     0.290     0.400        31\n",
      "         111      0.417     0.405     0.411        37\n",
      "         112      0.846     0.611     0.710        18\n",
      "         113      0.561     0.639     0.597        36\n",
      "         114      0.167     0.056     0.083        18\n",
      "         115      0.722     0.542     0.619        24\n",
      "         116      0.000     0.000     0.000        16\n",
      "         117      0.539     0.732     0.621        56\n",
      "         118      0.500     0.083     0.143        36\n",
      "         119      0.286     0.186     0.225        43\n",
      "         120      0.000     0.000     0.000        31\n",
      "         121      0.381     0.320     0.348        25\n",
      "         122      0.424     0.538     0.474        93\n",
      "         123      0.000     0.000     0.000        25\n",
      "         124      0.268     0.448     0.335        58\n",
      "         125      0.765     0.684     0.722        19\n",
      "         126      0.500     0.047     0.085        43\n",
      "         127      0.000     0.000     0.000        19\n",
      "         128      0.250     0.200     0.222        15\n",
      "         129      0.154     0.246     0.189        57\n",
      "         130      0.333     0.042     0.074        24\n",
      "         131      0.565     0.617     0.590       154\n",
      "         132      0.556     0.263     0.357        19\n",
      "         133      1.000     0.043     0.083        23\n",
      "         134      0.949     1.000     0.974       351\n",
      "         135      0.000     0.000     0.000        29\n",
      "         136      0.500     0.190     0.276        21\n",
      "         137      0.000     0.000     0.000        19\n",
      "         138      0.105     0.038     0.056        52\n",
      "         139      0.879     0.537     0.667        54\n",
      "         140      0.467     0.333     0.389        21\n",
      "         141      0.267     0.050     0.084        80\n",
      "         142      0.222     0.062     0.098        32\n",
      "         143      0.529     0.200     0.290        45\n",
      "         144      0.600     0.400     0.480        45\n",
      "         145      0.375     0.240     0.293        25\n",
      "         146      0.323     0.420     0.365        50\n",
      "         147      0.375     0.107     0.167        28\n",
      "         148      0.353     0.300     0.324        20\n",
      "         149      0.474     0.205     0.286        44\n",
      "         150      0.833     0.208     0.333        24\n",
      "         151      0.412     0.438     0.424        16\n",
      "         152      0.333     0.018     0.034        56\n",
      "         153      0.143     0.081     0.103        37\n",
      "         154      0.714     0.417     0.526        24\n",
      "         155      0.525     0.525     0.525        40\n",
      "         156      0.305     0.372     0.335        86\n",
      "         157      0.320     0.200     0.246        40\n",
      "         158      0.900     0.375     0.529        24\n",
      "\n",
      "   micro avg      0.541     0.385     0.450      6146\n",
      "   macro avg      0.424     0.296     0.320      6146\n",
      "weighted avg      0.477     0.385     0.399      6146\n",
      " samples avg      0.487     0.426     0.419      6146\n",
      "\n",
      "set acc: 0.157\n"
     ]
    },
    {
     "name": "stderr",
     "output_type": "stream",
     "text": [
      "/home/pellegri/tools/miniconda3/envs/envPytorch1/lib/python3.7/site-packages/sklearn/metrics/_classification.py:1272: UndefinedMetricWarning: Precision and F-score are ill-defined and being set to 0.0 in samples with no predicted labels. Use `zero_division` parameter to control this behavior.\n",
      "  _warn_prf(average, modifier, msg_start, len(result))\n",
      "/home/pellegri/tools/miniconda3/envs/envPytorch1/lib/python3.7/site-packages/sklearn/metrics/_classification.py:1272: UndefinedMetricWarning: Precision and F-score are ill-defined and being set to 0.0 in labels with no predicted samples. Use `zero_division` parameter to control this behavior.\n",
      "  _warn_prf(average, modifier, msg_start, len(result))\n"
     ]
    }
   ],
   "source": [
    "print_thresholds(learned_AT_thresholds, nb_classes)\n",
    "train_pred = train_outputs_numpy>learned_AT_thresholds\n",
    "dev_pred = dev_outputs_numpy>learned_AT_thresholds\n",
    "test_pred = test_outputs_numpy>learned_AT_thresholds\n",
    "print('train')\n",
    "print_scores(y_train_numpy, train_pred)\n",
    "# compute_accuracy_from_numpy_tensors(y_train_numpy, train_pred)\n",
    "print('dev')\n",
    "print_scores(y_dev_numpy, dev_pred)\n",
    "print('test')\n",
    "print_scores(y_test_numpy, test_pred)\n",
    "# compute_accuracy_from_numpy_tensors(y_test_numpy, test_pred)\n",
    "# 0.3366 0.2834 0.2761 0.3185 0.2849 0.2611 "
   ]
  },
  {
   "cell_type": "code",
   "execution_count": null,
   "metadata": {
    "ExecuteTime": {
     "end_time": "2020-03-10T14:34:26.862023Z",
     "start_time": "2020-03-10T14:34:26.852993Z"
    }
   },
   "outputs": [],
   "source": [
    "train\n",
    "micro: p:83.38 r:43.07 f1:56.80\n",
    "macro: p:70.37 r:31.97 f1:37.60\n",
    "test\n",
    "micro: p:70.68 r:26.67 f1:38.72\n",
    "macro: p:35.39 r:16.45 f1:19.58"
   ]
  },
  {
   "cell_type": "markdown",
   "metadata": {
    "collapsed": "true"
   },
   "source": [
    "## numerical application, for loop"
   ]
  },
  {
   "cell_type": "code",
   "execution_count": 56,
   "metadata": {
    "ExecuteTime": {
     "end_time": "2020-03-18T10:51:58.024898Z",
     "start_time": "2020-03-18T10:51:45.610474Z"
    }
   },
   "outputs": [
    {
     "name": "stdout",
     "output_type": "stream",
     "text": [
      "sigma: 1.0\n",
      "sigma: 10.0\n",
      "sigma: 20.0\n",
      "sigma: 30.0\n",
      "sigma: 40.0\n",
      "sigma: 50.0\n",
      "sigma: 60.0\n",
      "sigma: 70.0\n",
      "sigma: 80.0\n",
      "sigma: 90.0\n",
      "sigma: 100.0\n",
      "sigma: 110.0\n",
      "sigma: 120.0\n",
      "sigma: 130.0\n",
      "sigma: 140.0\n"
     ]
    },
    {
     "data": {
      "image/png": "[encoded data removed]",
      "text/plain": [
       "<Figure size 432x288 with 1 Axes>"
      ]
     },
     "metadata": {
      "needs_background": "light"
     },
     "output_type": "display_data"
    },
    {
     "data": {
      "image/png": "[encoded data removed]",
      "text/plain": [
       "<Figure size 432x288 with 1 Axes>"
      ]
     },
     "metadata": {
      "needs_background": "light"
     },
     "output_type": "display_data"
    },
    {
     "data": {
      "image/png": "[encoded data removed]",
      "text/plain": [
       "<Figure size 432x288 with 1 Axes>"
      ]
     },
     "metadata": {
      "needs_background": "light"
     },
     "output_type": "display_data"
    },
    {
     "data": {
      "image/png": "[encoded data removed]",
      "text/plain": [
       "<Figure size 432x288 with 1 Axes>"
      ]
     },
     "metadata": {
      "needs_background": "light"
     },
     "output_type": "display_data"
    },
    {
     "data": {
      "image/png": "[encoded data removed]",
      "text/plain": [
       "<Figure size 432x288 with 1 Axes>"
      ]
     },
     "metadata": {
      "needs_background": "light"
     },
     "output_type": "display_data"
    },
    {
     "data": {
      "image/png": "[encoded data removed]",
      "text/plain": [
       "<Figure size 432x288 with 1 Axes>"
      ]
     },
     "metadata": {
      "needs_background": "light"
     },
     "output_type": "display_data"
    },
    {
     "data": {
      "image/png": "[encoded data removed]",
      "text/plain": [
       "<Figure size 432x288 with 1 Axes>"
      ]
     },
     "metadata": {
      "needs_background": "light"
     },
     "output_type": "display_data"
    },
    {
     "data": {
      "image/png": "[encoded data removed]",
      "text/plain": [
       "<Figure size 432x288 with 1 Axes>"
      ]
     },
     "metadata": {
      "needs_background": "light"
     },
     "output_type": "display_data"
    },
    {
     "data": {
      "image/png": "[encoded data removed]",
      "text/plain": [
       "<Figure size 432x288 with 1 Axes>"
      ]
     },
     "metadata": {
      "needs_background": "light"
     },
     "output_type": "display_data"
    },
    {
     "data": {
      "image/png": "[encoded data removed]",
      "text/plain": [
       "<Figure size 432x288 with 1 Axes>"
      ]
     },
     "metadata": {
      "needs_background": "light"
     },
     "output_type": "display_data"
    },
    {
     "data": {
      "image/png": "[encoded data removed]",
      "text/plain": [
       "<Figure size 432x288 with 1 Axes>"
      ]
     },
     "metadata": {
      "needs_background": "light"
     },
     "output_type": "display_data"
    },
    {
     "data": {
      "image/png": "[encoded data removed]",
      "text/plain": [
       "<Figure size 432x288 with 1 Axes>"
      ]
     },
     "metadata": {
      "needs_background": "light"
     },
     "output_type": "display_data"
    },
    {
     "data": {
      "image/png": "[encoded data removed]",
      "text/plain": [
       "<Figure size 432x288 with 1 Axes>"
      ]
     },
     "metadata": {
      "needs_background": "light"
     },
     "output_type": "display_data"
    },
    {
     "data": {
      "image/png": "[encoded data removed]",
      "text/plain": [
       "<Figure size 432x288 with 1 Axes>"
      ]
     },
     "metadata": {
      "needs_background": "light"
     },
     "output_type": "display_data"
    },
    {
     "data": {
      "image/png": "[encoded data removed]",
      "text/plain": [
       "<Figure size 432x288 with 1 Axes>"
      ]
     },
     "metadata": {
      "needs_background": "light"
     },
     "output_type": "display_data"
    }
   ],
   "source": [
    "criterion = F1_loss_objective\n",
    "# # fh = open(\"datasets/emotions/sglthresh_emotions_F1obj_micro_sigma_LabelPowerset.txt\",\"wt\")\n",
    "# fh = open(\"datasets/emotions/sglthresh_emotions_F1obj_micro_sigma_myNetwork.txt\",\"wt\")\n",
    "\n",
    "# criterion = torch.nn.BCELoss(reduction=\"mean\")\n",
    "# fh = open(\"datasets/emotions/sglthresh_emotions_BCEobj_micro_sigma.txt\",\"wt\")\n",
    "\n",
    "learning_rate = 1e-3\n",
    "num_epochs = 300\n",
    "# fh.write(\"a,f1train,ptrain,rtrain,f1test,ptest,rtest\\n\")\n",
    "metrics_list = []\n",
    "scale_param_values_list = []\n",
    "\n",
    "scale_list = range(1, 150, 10) # F1\n",
    "# scale_list = range(1, 80, 5) # BCE\n",
    "\n",
    "for sigma_value in scale_list:\n",
    "    \n",
    "    sigma_value = float(sigma_value)\n",
    "    if sigma_value>1: sigma_value-=1.\n",
    "    scale_param_values_list.append(sigma_value)\n",
    "        \n",
    "    print(\"sigma:\", sigma_value)\n",
    "    \n",
    "    THRESHmodel = ThresholdModel(threshold_fn=threshold_fn, t=0.3, sigma=sigma_value, nb_classes=nb_classes)\n",
    "    THRESHmodel = THRESHmodel.to(device, dtype=torch.float)\n",
    "    # criterion = torch.nn.BCELoss(reduction=\"mean\")\n",
    "\n",
    "    THRESHoptimizer = torch.optim.Adam([\n",
    "                {'params': THRESHmodel.thresh}\n",
    "            ], lr=learning_rate)\n",
    "\n",
    "#     #     learn the thresholds and sigma:\n",
    "#     THRESHoptimizer = torch.optim.Adam([\n",
    "#                     {'params': THRESHmodel.thresh},\n",
    "#                     {'params': THRESHmodel.sigma, 'lr': 1}\n",
    "#                 ], lr=learning_rate)\n",
    "\n",
    "    cumul_delta_thresh = torch.zeros(nb_classes,)\n",
    "    delta_thresh = torch.zeros(nb_classes,)\n",
    "\n",
    "    for el in THRESHmodel.parameters():\n",
    "        PREC_learned_AT_thresholds = el.clone().detach().cpu()\n",
    "\n",
    "    losses = []\n",
    "    for epoch in range(num_epochs):\n",
    "\n",
    "        debut = time.time()\n",
    "\n",
    "        THRESHmodel.train()\n",
    "\n",
    "        # Forward pass\n",
    "        # inputs:  predictions_tensor\n",
    "        outputs = THRESHmodel(pth_dev_probs)\n",
    "\n",
    "    #     if epoch % 10 == 0:\n",
    "    #         print(outputs[-1])\n",
    "        loss = criterion(outputs, pth_dev_gt)\n",
    "\n",
    "        # Backward and optimize\n",
    "        THRESHoptimizer.zero_grad()\n",
    "\n",
    "        loss.backward()\n",
    "    #     loss.mean().backward()\n",
    "    #         loss.backward(at_batch_y)\n",
    "        # loss.backward(torch.ones_like(loss))\n",
    "\n",
    "        THRESHoptimizer.step()\n",
    "        # THRESHmodel.clamp()\n",
    "        losses.append(loss)\n",
    "\n",
    "        duree_epoch = time.time() - debut\n",
    "\n",
    "#         print ('Epoch [{}/{}], Loss: {:.4f}, Duration: {:.1f} s' \n",
    "#                .format(epoch+1, num_epochs, loss, duree_epoch))\n",
    "\n",
    "        for el in THRESHmodel.parameters():\n",
    "            learned_AT_thresholds = el.clone().detach().cpu()\n",
    "\n",
    "        delta_thresh = learned_AT_thresholds - PREC_learned_AT_thresholds\n",
    "        cumul_delta_thresh += delta_thresh\n",
    "        PREC_learned_AT_thresholds = learned_AT_thresholds\n",
    "#         if epoch % 10 == 0: print('threshs:', learned_AT_thresholds)\n",
    "        # if torch.sum(delta_thresh) < 0.01: break\n",
    "\n",
    "#     print('delta:', cumul_delta_thresh)\n",
    "    plt.figure()\n",
    "    plt.plot(losses)\n",
    "    \n",
    "    learned_AT_thresholds=THRESHmodel.thresh.clone().detach().cpu().numpy()\n",
    "    dev_pred = dev_outputs_numpy>learned_AT_thresholds\n",
    "    test_pred = test_outputs_numpy>learned_AT_thresholds\n",
    "#     print(\"dev\")\n",
    "#     print_scores(y_dev_numpy, dev_pred)\n",
    "#     # compute_accuracy_from_numpy_tensors(y_train_numpy, train_pred)\n",
    "#     print(\"test\")\n",
    "#     print_scores(y_test_numpy, test_pred)\n",
    "    \n",
    "    p2, r2, fscore2, support = precision_recall_fscore_support(y_dev_numpy, dev_pred, pos_label=1, average='micro')\n",
    "#     p3, r3, fscore3, support = precision_recall_fscore_support(gt_y, preds, pos_label=1, average='macro')\n",
    "    p2te, r2te, fscore2te, _ = precision_recall_fscore_support(y_test_numpy, test_pred, pos_label=1, average='micro')\n",
    "\n",
    "#     fh.write(\"%.2f,%.2f,%.2f,%.2f,%.2f,%.2f,%.2f\\n\"%(sigma_value, 100.*fscore2, 100.*p2, 100.*r2, \n",
    "#                                                    100.*fscore2te, 100.*p2te, 100.*r2te))\n",
    "    metrics_list.append([p2, r2, fscore2, p2te, r2te, fscore2te])\n",
    "    \n",
    "# fh.close()"
   ]
  },
  {
   "cell_type": "code",
   "execution_count": 57,
   "metadata": {
    "ExecuteTime": {
     "end_time": "2020-03-18T10:52:48.050008Z",
     "start_time": "2020-03-18T10:52:47.503273Z"
    }
   },
   "outputs": [
    {
     "name": "stderr",
     "output_type": "stream",
     "text": [
      "The PostScript backend does not support transparency; partially transparent artists will be rendered opaque.\n",
      "The PostScript backend does not support transparency; partially transparent artists will be rendered opaque.\n"
     ]
    },
    {
     "data": {
      "image/png": "[encoded data removed]",
      "text/plain": [
       "<Figure size 864x576 with 2 Axes>"
      ]
     },
     "metadata": {
      "needs_background": "light"
     },
     "output_type": "display_data"
    }
   ],
   "source": [
    "def plot_influence_de_a(scale_param_values, ptest, rtest, f1test, peval, reval, f1eval):\n",
    "    \n",
    "    fontsize=12\n",
    "    plotEval = True\n",
    "    learnThresholdsOnly=True\n",
    "    \n",
    "    if plotEval:\n",
    "        fig, (ax1, ax2) = plt.subplots(1, 2, sharey=True, figsize=(12,8))\n",
    "        if learnThresholdsOnly:\n",
    "            bname = \"exp/%s/BR_LogReg_influence_sigma_objective_F1_learnThresholdsOnly_DEV_EVAL\"%(dataset)\n",
    "        else:\n",
    "            bname = \"exp/%s/BR_LogReg_influence_sigma_objective_F1_learnThresholdsAndSigma_DEV_EVAL\"%(dataset)\n",
    "        output_fig_path_PNG= bname + \".png\"\n",
    "        output_fig_path_EPS=bname + \".eps\"\n",
    "    else:\n",
    "        fig, ax1 = plt.subplots(1, 1, sharey=True, figsize=(12,8))\n",
    "        if learnThresholdsOnly:\n",
    "            bname = \"exp/%s/BR_LogReg_influence_sigma_objective_F1_learnThresholdsOnly_DEV\"%(dataset)\n",
    "        else:\n",
    "            bname = \"exp/%s/BR_LogReg_influence_sigma_objective_F1_learnThresholdsAndSigma_DEV\"%(dataset)\n",
    "        output_fig_path_PNG= bname + \".png\"\n",
    "        output_fig_path_EPS=bname + \".eps\"\n",
    "        \n",
    "    xlimsup=140\n",
    "#     xlimsup=30\n",
    "    \n",
    "    ax1.plot([1, xlimsup], [0.459, 0.459], '-.', label='F1 - static')\n",
    "    ax1.plot(scale_param_values, ptest, '-+', label='precision - SGLThresh')\n",
    "    ax1.plot(scale_param_values, rtest, label='recall - SGLThresh')\n",
    "    ax1.plot(scale_param_values, f1test, '-o', label='F1 - SGLThresh')\n",
    "#     ax1.plot([1, xlimsup], [0.5659, 0.5659], '-.', label='F1 - static')\n",
    "#     ax1.plot([1, xlimsup], [0.6118, 0.6118], '--', label='F1 - numThresh')\n",
    "#     ax1.plot([1, xlimsup], [0.6128, 0.6128], '--', label='F1 - numThresh')\n",
    "    ax1.legend(fontsize=fontsize)\n",
    "    ax1.tick_params(axis='x', labelsize=fontsize)\n",
    "    ax1.tick_params(axis='y', labelsize=fontsize)\n",
    "    ax1.set_xlabel('Sigmoid scale parameter',fontsize=fontsize)\n",
    "#     ax1.set_ylim([0.52, 0.66])\n",
    "    ax1.set_title(\"Dev subset\",fontsize=14)\n",
    "    if plotEval:\n",
    "        ax2.plot([1, xlimsup], [0.448, 0.448], '-.', label='F1 - static')\n",
    "        ax2.plot(scale_param_values, peval, '-+', label='precision - SGLThresh')\n",
    "        ax2.plot(scale_param_values, reval, '-', label='recall - SGLThresh')\n",
    "        ax2.plot(scale_param_values, f1eval, '-o', label='F1 - SGLThresh')\n",
    "    #     ax2.plot([1, xlimsup], [0.5698, 0.5698], '-.', label='F1 - static')\n",
    "    #     ax2.plot([1, xlimsup], [0.6024, 0.6024], '--', label='F1 - numThresh')\n",
    "    #     ax2.plot([1, xlimsup], [0.5828, 0.5828], '--', label='F1 - numThresh')\n",
    "    #     ax2.legend(fontsize=fontsize)\n",
    "        ax2.tick_params(axis='x', labelsize=fontsize)\n",
    "        ax2.set_xlabel(\"Sigmoid scale parameter\",fontsize=fontsize)\n",
    "        ax2.set_title(\"Test subset\",fontsize=14)\n",
    "    #     plt.suptitle(\"BCE objective\",fontsize=16)\n",
    "    #     plt.suptitle(\"F1 objective\",fontsize=16)\n",
    "#     plt.savefig(output_fig_path_PNG)\n",
    "    plt.savefig(output_fig_path_EPS)\n",
    "\n",
    "metrics_array = np.array(metrics_list)\n",
    "scale_param_values = np.array(scale_param_values_list)\n",
    "# scale_param_values = np.array(range(1, 80, 5))\n",
    "plot_influence_de_a(scale_param_values, metrics_array[:,0], metrics_array[:,1], metrics_array[:,2], metrics_array[:,3], metrics_array[:,4], metrics_array[:,5])    "
   ]
  },
  {
   "cell_type": "markdown",
   "metadata": {},
   "source": [
    "# NumThresh"
   ]
  },
  {
   "cell_type": "code",
   "execution_count": 67,
   "metadata": {
    "ExecuteTime": {
     "end_time": "2020-03-18T12:23:28.556121Z",
     "start_time": "2020-03-18T12:23:28.550194Z"
    }
   },
   "outputs": [],
   "source": [
    "from sgl_utils.opt import Adam\n",
    "from sklearn import metrics"
   ]
  },
  {
   "cell_type": "markdown",
   "metadata": {
    "collapsed": "true",
    "heading_collapsed": true
   },
   "source": [
    "## utility function for F1 with multiprocessing: TODO"
   ]
  },
  {
   "cell_type": "code",
   "execution_count": null,
   "metadata": {
    "ExecuteTime": {
     "end_time": "2020-03-12T15:33:36.287046Z",
     "start_time": "2020-03-12T15:33:36.229611Z"
    },
    "hidden": true
   },
   "outputs": [],
   "source": [
    "# # multiprocessing\n",
    "\n",
    "# def calculate_f1(y_true, output, thresholds, average):\n",
    "#     \"\"\"Calculate F1 score.\n",
    "#     Args:\n",
    "#       y_true: (N, (optional)frames_num], classes_num)\n",
    "#       output: (N, (optional)[frames_num], classes_num)\n",
    "#       thresholds: (classes_num,), initial thresholds\n",
    "#       average: 'micro' | 'macro'\n",
    "#     \"\"\"\n",
    "#     if y_true.ndim == 3:\n",
    "#         (N, T, F) = y_true.shape\n",
    "#         y_true = y_true.reshape((N * T, F))\n",
    "#         output = output.reshape((N * T, F))\n",
    "\n",
    "#     classes_num = y_true.shape[-1]\n",
    "#     binarized_output = np.zeros_like(output)\n",
    "# #     print('class num:', classes_num)\n",
    "    \n",
    "#     for k in range(classes_num):\n",
    "#         binarized_output[:, k] = (np.sign(output[:, k] - thresholds[k]) + 1) // 2\n",
    "\n",
    "#     if average == 'micro':\n",
    "#         return metrics.f1_score(y_true.flatten(), binarized_output.flatten())\n",
    "    \n",
    "#     f1_array = []\n",
    "#     for k in range(classes_num):\n",
    "#         f1_array.append(metrics.f1_score(y_true[:, k], binarized_output[:, k]))\n",
    "\n",
    "#     if average == 'macro':\n",
    "#         return np.average(f1_array)\n",
    "#     elif average is None:\n",
    "#         return f1_array\n",
    "#     else:\n",
    "#         raise Exception('Incorrect argument!')\n",
    "\n",
    "\n",
    "        \n",
    "# def single_class_calculate_at_gradient(y_true, output, average, thresholds):\n",
    "# # def single_class_calculate_at_gradient(params):\n",
    "#     \"\"\"Used with multiprocessing\"\"\"\n",
    "    \n",
    "# #     print(\"params\", len(params))\n",
    "# #     print(params)\n",
    "# #     thresholds, y_true, output, average = params\n",
    "    \n",
    "#     classes_num = len(thresholds)\n",
    "#     delta = 0.01\n",
    "#     grads = []\n",
    "    \n",
    "#     f1 = calculate_f1(y_true, output, thresholds, average)\n",
    "    \n",
    "#     for k, threshold in enumerate(thresholds):\n",
    "#         new_thresholds = thresholds.copy()\n",
    "#         cnt = 0\n",
    "#         while cnt < classes_num:\n",
    "#             cnt += 1\n",
    "#             new_thresholds[k] += delta\n",
    "#             f1_new = calculate_f1(y_true, output, new_thresholds, average)\n",
    "#             if f1_new != f1:\n",
    "#                 break\n",
    "\n",
    "#         grad = (f1_new - f1) / (delta * cnt)\n",
    "#         grads.append(grad)\n",
    "#         return grads\n",
    "        \n",
    "        \n",
    "# def calculate_at_gradient(y_true, output, thresholds, average):\n",
    "#     \"\"\"Calculate gradient of thresholds numerically.\n",
    "#     Args:\n",
    "#       y_true: (N, (optional)frames_num], classes_num)\n",
    "#       output: (N, (optional)[frames_num], classes_num)\n",
    "#       thresholds: (classes_num,), initial thresholds\n",
    "#       average: 'micro' | 'macro'\n",
    "#     Returns:\n",
    "#       grads: vector\n",
    "#     \"\"\"\n",
    "#     f1 = calculate_f1(y_true, output, thresholds, average)\n",
    "#     classes_num = len(thresholds)\n",
    "# #     delta = 0.01\n",
    "# #     grads = []\n",
    "    \n",
    "# #     print(\"calculate_at_gradient, f1:\", f1)\n",
    "#     nb_lists_comprised_of_ten_thresh = len(thresholds)//10\n",
    "    \n",
    "#     ten_threshold_chunks = [thresholds[i*10:(i+1)*10] for i in range(nb_lists_comprised_of_ten_thresh)]\n",
    "#     print(\"ten_threshold_chunks\", len(ten_threshold_chunks))\n",
    "#     print(ten_threshold_chunks[0])\n",
    "#     print(ten_threshold_chunks[-1])\n",
    "    \n",
    "#     pool = Pool(processes=10)\n",
    "#     func = partial(single_class_calculate_at_gradient, y_true, output, average)\n",
    "    \n",
    "#     gradients = pool.map(func, ten_threshold_chunks)\n",
    "    \n",
    "#     return gradients\n",
    "\n",
    "\n",
    "# def optimize_at_with_gd(y_true, output, thresholds, average):\n",
    "#     \"\"\"Optimize thresholds for AT.\n",
    "#     Args:\n",
    "#       y_true: (N, (optional)frames_num], classes_num)\n",
    "#       output: (N, (optional)[frames_num], classes_num)\n",
    "#       thresholds: (classes_num,), initial thresholds\n",
    "#       average: 'micro' | 'macro'\n",
    "#     Returns:\n",
    "#       metric: float\n",
    "#       thresholds: vector\n",
    "#     \"\"\"\n",
    "#     opt = Adam()\n",
    "#     opt.alpha = 1e-2\n",
    "#     metric_asfo_epoch = []\n",
    "    \n",
    "# #     n_epochs = 100\n",
    "#     n_epochs = 1\n",
    "    \n",
    "#     for i in range(n_epochs):\n",
    "#         grads = calculate_at_gradient(y_true, output, thresholds, average)\n",
    "# #         if i==0: print(\"grads:\", grads)\n",
    "#         grads = [-e for e in grads]\n",
    "#         thresholds = opt.GetNewParams(thresholds, grads)\n",
    "#         metric = calculate_f1(y_true, output, thresholds, average)\n",
    "#         if i%50==0:\n",
    "#             print('Iteration: {}, Score: {:.3f}, thresholds: {}'.format(\n",
    "#                 i, metric, np.array(thresholds)))\n",
    "#         metric_asfo_epoch.append(metric)\n",
    "        \n",
    "#     return metric, thresholds, metric_asfo_epoch\n"
   ]
  },
  {
   "cell_type": "code",
   "execution_count": null,
   "metadata": {
    "ExecuteTime": {
     "end_time": "2020-03-12T15:33:37.051551Z",
     "start_time": "2020-03-12T15:33:37.032449Z"
    },
    "hidden": true
   },
   "outputs": [],
   "source": [
    "l = [[1], [2]]\n",
    "t = tuple(l)\n",
    "l, t"
   ]
  },
  {
   "cell_type": "markdown",
   "metadata": {
    "heading_collapsed": true
   },
   "source": [
    "## utility function for F1 w/o multiprocessing"
   ]
  },
  {
   "cell_type": "code",
   "execution_count": 70,
   "metadata": {
    "ExecuteTime": {
     "end_time": "2020-03-18T12:23:31.487496Z",
     "start_time": "2020-03-18T12:23:31.460457Z"
    },
    "hidden": true
   },
   "outputs": [],
   "source": [
    "def calculate_f1(y_true, output, thresholds, average):\n",
    "    \"\"\"Calculate F1 score.\n",
    "    Args:\n",
    "      y_true: (N, (optional)frames_num], classes_num)\n",
    "      output: (N, (optional)[frames_num], classes_num)\n",
    "      thresholds: (classes_num,), initial thresholds\n",
    "      average: 'micro' | 'macro'\n",
    "    \"\"\"\n",
    "    if y_true.ndim == 3:\n",
    "        (N, T, F) = y_true.shape\n",
    "        y_true = y_true.reshape((N * T, F))\n",
    "        output = output.reshape((N * T, F))\n",
    "\n",
    "    classes_num = y_true.shape[-1]\n",
    "    binarized_output = np.zeros_like(output)\n",
    "\n",
    "    for k in range(classes_num):\n",
    "        binarized_output[:, k] = (np.sign(output[:, k] - thresholds[k]) + 1) // 2\n",
    "\n",
    "    if average == 'micro':\n",
    "        return metrics.f1_score(y_true.flatten(), binarized_output.flatten())\n",
    "    \n",
    "    f1_array = []\n",
    "    for k in range(classes_num):\n",
    "        f1_array.append(metrics.f1_score(y_true[:, k], binarized_output[:, k]))\n",
    "\n",
    "    if average == 'macro':\n",
    "        return np.average(f1_array)\n",
    "    elif average is None:\n",
    "        return f1_array\n",
    "    else:\n",
    "        raise Exception('Incorrect argument!')\n",
    "\n",
    "\n",
    "def calculate_at_gradient(y_true, output, thresholds, average):\n",
    "    \"\"\"Calculate gradient of thresholds numerically.\n",
    "    Args:\n",
    "      y_true: (N, (optional)frames_num], classes_num)\n",
    "      output: (N, (optional)[frames_num], classes_num)\n",
    "      thresholds: (classes_num,), initial thresholds\n",
    "      average: 'micro' | 'macro'\n",
    "    Returns:\n",
    "      grads: vector\n",
    "    \"\"\"\n",
    "    f1 = calculate_f1(y_true, output, thresholds, average)\n",
    "    delta = 0.01\n",
    "    grads = []\n",
    "\n",
    "    for k, threshold in enumerate(thresholds):\n",
    "        new_thresholds = thresholds.copy()\n",
    "        delta = 0.01\n",
    "        cnt = 0\n",
    "        while cnt < 10:\n",
    "            cnt += 1\n",
    "            new_thresholds[k] += delta\n",
    "            f1_new = calculate_f1(y_true, output, new_thresholds, average)\n",
    "\n",
    "            if f1_new != f1:\n",
    "                break\n",
    "\n",
    "        grad = (f1_new - f1) / (delta * cnt)\n",
    "        grads.append(grad)\n",
    "\n",
    "    return grads\n",
    "\n",
    "\n",
    "def optimize_at_with_gd(y_true, output, thresholds, average):\n",
    "    \"\"\"Optimize thresholds for AT.\n",
    "    Args:\n",
    "      y_true: (N, (optional)frames_num], classes_num)\n",
    "      output: (N, (optional)[frames_num], classes_num)\n",
    "      thresholds: (classes_num,), initial thresholds\n",
    "      average: 'micro' | 'macro'\n",
    "    Returns:\n",
    "      metric: float\n",
    "      thresholds: vector\n",
    "    \"\"\"\n",
    "    opt = Adam()\n",
    "    opt.alpha = 1e-2\n",
    "    metric_asfo_epoch = []\n",
    "    for i in range(100):\n",
    "        debut = time.time()\n",
    "        grads = calculate_at_gradient(y_true, output, thresholds, average)\n",
    "        grads = [-e for e in grads]\n",
    "        thresholds = opt.GetNewParams(thresholds, grads)\n",
    "        metric = calculate_f1(y_true, output, thresholds, average)\n",
    "        if i%50==0:\n",
    "            print('Iteration: {}, Score: {:.3f}, thresholds: {}'.format(\n",
    "                i, metric, np.array(thresholds)))\n",
    "        metric_asfo_epoch.append(metric)\n",
    "        fin=time.time()-debut\n",
    "        print(\" epoch duration: %.0f sec\"%fin)\n",
    "    return metric, thresholds, metric_asfo_epoch\n"
   ]
  },
  {
   "cell_type": "markdown",
   "metadata": {},
   "source": [
    "## numerical application"
   ]
  },
  {
   "cell_type": "code",
   "execution_count": null,
   "metadata": {
    "ExecuteTime": {
     "end_time": "2020-03-18T19:27:10.218581Z",
     "start_time": "2020-03-18T12:25:12.418541Z"
    }
   },
   "outputs": [],
   "source": [
    "nb_classes=159\n",
    "debut = time.time()\n",
    "print(\"computation start time:\", debut)\n",
    "\n",
    "t=0.3\n",
    "thresh = [t]*nb_classes\n",
    "\n",
    "average = 'micro'\n",
    "\n",
    "manual_thres_f1 = calculate_f1(y_test_numpy, test_outputs_numpy, thresholds=thresh, average=average)\n",
    "print('test manual_thres f1: {:.3f}'.format(manual_thres_f1))\n",
    "\n",
    "p2, r2, fscore2, support = precision_recall_fscore_support(y_test_numpy, (test_outputs_numpy>thresh)*1, \n",
    "                                                           pos_label=1, average=average)\n",
    "\n",
    "# Optimize thresholds\n",
    "(auto_thres_f1, auto_thresholds, metric_asfo_epoch) = optimize_at_with_gd(y_train_numpy, train_outputs_numpy, \n",
    "                                                                          thresh, average=average)\n",
    "\n",
    "print_thresholds(auto_thresholds, nb_classes)\n",
    "# print(\"%.3f %.3f\"%(manual_thres_f1*100, fscore2*100))\n",
    "\n",
    "print('test manual_thres f1: {:.3f}'.format(manual_thres_f1))\n",
    "print('test auto_thres f1: {:.3f}'.format(auto_thres_f1))\n",
    "\n",
    "print(\"computation start time: %.0f sec\"%debut, \"end time: %.0f sec\"%(time.time()))\n",
    "fin=time.time()-debut\n",
    "print(\"computation duration: %.0f sec\"%fin)"
   ]
  },
  {
   "cell_type": "code",
   "execution_count": null,
   "metadata": {
    "ExecuteTime": {
     "end_time": "2020-03-18T20:01:50.445301Z",
     "start_time": "2020-03-18T20:01:50.128272Z"
    }
   },
   "outputs": [],
   "source": [
    "plt.plot(metric_asfo_epoch)\n",
    "plt.xlabel(\"epochs\", fontsize=12)\n",
    "plt.ylabel(\"F1 micro\", fontsize=12)\n",
    "plt.savefig(\"bibtex_F1_micro_asof_epochs_numThresh.png\")"
   ]
  },
  {
   "cell_type": "code",
   "execution_count": null,
   "metadata": {
    "ExecuteTime": {
     "end_time": "2020-03-18T20:01:58.319959Z",
     "start_time": "2020-03-18T20:01:58.198589Z"
    }
   },
   "outputs": [],
   "source": [
    "print_thresholds(auto_thresholds, nb_classes)\n",
    "train_pred = train_outputs_numpy>auto_thresholds\n",
    "test_pred = test_outputs_numpy>auto_thresholds\n",
    "print('train')\n",
    "print_scores(y_train, train_pred)\n",
    "# compute_accuracy_from_numpy_tensors(y_train_numpy, train_pred)\n",
    "print('test')\n",
    "print_scores(y_test, test_pred)\n",
    "# compute_accuracy_from_numpy_tensors(y_test_numpy, test_pred)"
   ]
  },
  {
   "cell_type": "code",
   "execution_count": null,
   "metadata": {},
   "outputs": [],
   "source": [
    "train\n",
    "micro: p:83.38 r:43.07 f1:56.80\n",
    "macro: p:70.37 r:31.97 f1:37.60\n",
    "test\n",
    "micro: p:70.68 r:26.67 f1:38.72\n",
    "macro: p:35.39 r:16.45 f1:19.58"
   ]
  },
  {
   "cell_type": "code",
   "execution_count": null,
   "metadata": {},
   "outputs": [],
   "source": []
  },
  {
   "cell_type": "markdown",
   "metadata": {
    "collapsed": "true"
   },
   "source": [
    "## for BCE"
   ]
  },
  {
   "cell_type": "code",
   "execution_count": null,
   "metadata": {
    "ExecuteTime": {
     "end_time": "2020-03-13T22:28:05.759716Z",
     "start_time": "2020-03-13T22:28:05.715902Z"
    }
   },
   "outputs": [],
   "source": [
    "def BCE_numpy(y_gt, y_pred):\n",
    "    epsilon=1e-12\n",
    "    return np.mean(-y_gt*np.log(y_pred+epsilon)-(1-y_gt)*np.log(1-y_pred+epsilon))\n",
    "    \n",
    "\n",
    "def calculate_BCE(y_true, output, thresholds, average):\n",
    "    \"\"\"Calculate BCE score.\n",
    "    Args:\n",
    "      y_true: (N, (optional)frames_num], classes_num)\n",
    "      output: (N, (optional)[frames_num], classes_num)\n",
    "      thresholds: (classes_num,), initial thresholds\n",
    "      average: 'micro' | 'macro'\n",
    "    \"\"\"\n",
    "    if y_true.ndim == 3:\n",
    "        (N, T, F) = y_true.shape\n",
    "        y_true = y_true.reshape((N * T, F))\n",
    "        output = output.reshape((N * T, F))\n",
    "\n",
    "    classes_num = y_true.shape[-1]\n",
    "    binarized_output = np.zeros_like(output)\n",
    "#     print('class num:', classes_num)\n",
    "    \n",
    "    for k in range(classes_num):\n",
    "        binarized_output[:, k] = (np.sign(output[:, k] - thresholds[k]) + 1) // 2\n",
    "\n",
    "    if average == 'micro':\n",
    "        return BCE_numpy(y_true.flatten(), binarized_output.flatten())\n",
    "    \n",
    "    bce_array = []\n",
    "    for k in range(classes_num):\n",
    "        bce_array.append(BCE_numpy(y_true[:, k], binarized_output[:, k]))\n",
    "\n",
    "    if average == 'macro':\n",
    "        return np.average(bce_array)\n",
    "    elif average is None:\n",
    "        return bce_array\n",
    "    else:\n",
    "        raise Exception('Incorrect argument!')\n",
    "\n",
    "\n",
    "def BCE_calculate_at_gradient(y_true, output, thresholds, average):\n",
    "    \"\"\"Calculate gradient of thresholds numerically.\n",
    "    Args:\n",
    "      y_true: (N, (optional)frames_num], classes_num)\n",
    "      output: (N, (optional)[frames_num], classes_num)\n",
    "      thresholds: (classes_num,), initial thresholds\n",
    "      average: 'micro' | 'macro'\n",
    "    Returns:\n",
    "      grads: vector\n",
    "    \"\"\"\n",
    "    bce = calculate_BCE(y_true, output, thresholds, average)\n",
    "    classes_num = len(thresholds)\n",
    "    \n",
    "    delta = 0.01\n",
    "    grads = []\n",
    "#     print(\"calculate_at_gradient, bce:\", bce)\n",
    "    \n",
    "    for k, threshold in enumerate(thresholds):\n",
    "        new_thresholds = thresholds.copy()\n",
    "        cnt = 0\n",
    "        while cnt < 10:\n",
    "            cnt += 1\n",
    "            new_thresholds[k] += delta\n",
    "            bce_new = calculate_BCE(y_true, output, new_thresholds, average)\n",
    "            if bce_new != bce:\n",
    "                break\n",
    "\n",
    "        grad = (bce_new - bce) / (delta * cnt)\n",
    "        grads.append(grad)\n",
    "\n",
    "    return grads\n",
    "\n",
    "\n",
    "def BCE_optimize_at_with_gd(y_true, output, thresholds, average):\n",
    "    \"\"\"Optimize thresholds for AT.\n",
    "    Args:\n",
    "      y_true: (N, (optional)frames_num], classes_num)\n",
    "      output: (N, (optional)[frames_num], classes_num)\n",
    "      thresholds: (classes_num,), initial thresholds\n",
    "      average: 'micro' | 'macro'\n",
    "    Returns:\n",
    "      metric: float\n",
    "      thresholds: vector\n",
    "    \"\"\"\n",
    "    opt = Adam()\n",
    "    opt.alpha = 1e-2\n",
    "    metric_asfo_epoch = []\n",
    "    print(\"start time:\", debut)\n",
    "    for i in range(100):\n",
    "        grads = BCE_calculate_at_gradient(y_true, output, thresholds, average)\n",
    "#         if i==0: print(\"grads:\", grads)\n",
    "        grads = [-e for e in grads]\n",
    "        thresholds = opt.GetNewParams(thresholds, grads)\n",
    "        metric = calculate_f1(y_true, output, thresholds, average)\n",
    "        if i%50==0:\n",
    "            print('Iteration: {}, F1 Score: {:.3f}, thresholds: {}'.format(\n",
    "                i, metric, np.array(thresholds)))\n",
    "        metric_asfo_epoch.append(metric)\n",
    "    \n",
    "    fin=time.time()-debut\n",
    "    print(\"duration:\", fin)\n",
    "        \n",
    "    return metric, thresholds, metric_asfo_epoch\n"
   ]
  },
  {
   "cell_type": "markdown",
   "metadata": {},
   "source": [
    "## numerical application with BCE"
   ]
  },
  {
   "cell_type": "code",
   "execution_count": null,
   "metadata": {
    "ExecuteTime": {
     "end_time": "2020-03-13T23:43:06.178671Z",
     "start_time": "2020-03-13T22:28:53.870749Z"
    }
   },
   "outputs": [],
   "source": [
    "t=0.3\n",
    "thresh = [t]*nb_classes\n",
    "\n",
    "average = 'micro'\n",
    "\n",
    "manual_thres_f1 = calculate_f1(y_test_numpy, test_pred_numpy, thresholds=thresh, average=average)\n",
    "p2, r2, fscore2, support = precision_recall_fscore_support(y_test, (test_pred_numpy>thresh)*1, \n",
    "                                                           pos_label=1, average=average)\n",
    "\n",
    "# Optimize thresholds\n",
    "(auto_thres_bce, auto_thresholds, metric_asfo_epoch) = BCE_optimize_at_with_gd(y_train_numpy, train_outputs_numpy, \n",
    "                                                                          thresh, average=average)\n",
    "\n",
    "print_thresholds(auto_thresholds, nb_classes)\n",
    "# print(\"%.3f %.3f\"%(manual_thres_f1*100, fscore2*100))\n",
    "\n",
    "auto_thres_f1 = calculate_f1(y_test_numpy, test_pred_numpy, thresholds=auto_thresholds, average=average)\n",
    "\n",
    "print('test manual_thres f1: {:.3f}'.format(manual_thres_f1))\n",
    "print('test auto_thres f1: {:.3f}'.format(auto_thres_f1))\n"
   ]
  },
  {
   "cell_type": "markdown",
   "metadata": {
    "collapsed": "true"
   },
   "source": [
    "# BR with SVM"
   ]
  },
  {
   "cell_type": "code",
   "execution_count": 32,
   "metadata": {},
   "outputs": [],
   "source": [
    "from skmultilearn.problem_transform import BinaryRelevance\n",
    "from sklearn.svm import SVC"
   ]
  },
  {
   "cell_type": "code",
   "execution_count": 33,
   "metadata": {},
   "outputs": [],
   "source": [
    "clf = BinaryRelevance(\n",
    "    classifier=SVC(kernel='linear', C=1., probability=True, random_state=123),\n",
    "    require_dense=[True, True]\n",
    ")"
   ]
  },
  {
   "cell_type": "code",
   "execution_count": 34,
   "metadata": {},
   "outputs": [
    {
     "data": {
      "text/plain": [
       "BinaryRelevance(classifier=SVC(C=1.0, break_ties=False, cache_size=200,\n",
       "                               class_weight=None, coef0=0.0,\n",
       "                               decision_function_shape='ovr', degree=3,\n",
       "                               gamma='scale', kernel='linear', max_iter=-1,\n",
       "                               probability=True, random_state=123,\n",
       "                               shrinking=True, tol=0.001, verbose=False),\n",
       "                require_dense=[True, True])"
      ]
     },
     "execution_count": 34,
     "metadata": {},
     "output_type": "execute_result"
    }
   ],
   "source": [
    "clf.fit(X_train_numpy, y_train_numpy)"
   ]
  },
  {
   "cell_type": "code",
   "execution_count": 35,
   "metadata": {},
   "outputs": [
    {
     "name": "stdout",
     "output_type": "stream",
     "text": [
      "train\n"
     ]
    },
    {
     "name": "stderr",
     "output_type": "stream",
     "text": [
      "/home/pellegri/tools/miniconda3/envs/envPytorch1/lib/python3.7/site-packages/sklearn/metrics/_classification.py:1272: UndefinedMetricWarning: Precision and F-score are ill-defined and being set to 0.0 in samples with no predicted labels. Use `zero_division` parameter to control this behavior.\n",
      "  _warn_prf(average, modifier, msg_start, len(result))\n"
     ]
    },
    {
     "name": "stdout",
     "output_type": "stream",
     "text": [
      "              precision    recall  f1-score   support\n",
      "\n",
      "           0      1.000     1.000     1.000        26\n",
      "           1      1.000     0.968     0.984        63\n",
      "           2      1.000     1.000     1.000        27\n",
      "           3      1.000     1.000     1.000        48\n",
      "           4      1.000     1.000     1.000        23\n",
      "           5      1.000     1.000     1.000        45\n",
      "           6      1.000     0.989     0.995        92\n",
      "           7      1.000     0.975     0.987        40\n",
      "           8      1.000     0.960     0.980        25\n",
      "           9      1.000     1.000     1.000        65\n",
      "          10      1.000     1.000     1.000       131\n",
      "          11      1.000     1.000     1.000        46\n",
      "          12      1.000     0.929     0.963        28\n",
      "          13      1.000     1.000     1.000        61\n",
      "          14      1.000     1.000     1.000       215\n",
      "          15      1.000     0.872     0.932        47\n",
      "          16      1.000     1.000     1.000        43\n",
      "          17      1.000     0.963     0.981        27\n",
      "          18      0.983     0.983     0.983        58\n",
      "          19      1.000     0.960     0.980        50\n",
      "          20      1.000     0.944     0.971        36\n",
      "          21      0.976     0.976     0.976        42\n",
      "          22      1.000     1.000     1.000        58\n",
      "          23      1.000     1.000     1.000        39\n",
      "          24      1.000     0.970     0.985        33\n",
      "          25      1.000     0.941     0.970        34\n",
      "          26      1.000     1.000     1.000        41\n",
      "          27      1.000     1.000     1.000        52\n",
      "          28      1.000     1.000     1.000        20\n",
      "          29      1.000     1.000     1.000        29\n",
      "          30      1.000     0.977     0.988        43\n",
      "          31      1.000     1.000     1.000        25\n",
      "          32      1.000     1.000     1.000        36\n",
      "          33      1.000     1.000     1.000        30\n",
      "          34      1.000     0.938     0.968        32\n",
      "          35      1.000     1.000     1.000        40\n",
      "          36      1.000     0.981     0.990       103\n",
      "          37      1.000     0.957     0.978        23\n",
      "          38      1.000     1.000     1.000        34\n",
      "          39      1.000     0.962     0.980        26\n",
      "          40      1.000     1.000     1.000        24\n",
      "          41      1.000     1.000     1.000        65\n",
      "          42      1.000     1.000     1.000        46\n",
      "          43      1.000     1.000     1.000        37\n",
      "          44      1.000     1.000     1.000        88\n",
      "          45      1.000     1.000     1.000        25\n",
      "          46      1.000     1.000     1.000        26\n",
      "          47      1.000     1.000     1.000        24\n",
      "          48      1.000     1.000     1.000        41\n",
      "          49      1.000     1.000     1.000        49\n",
      "          50      1.000     1.000     1.000        24\n",
      "          51      1.000     1.000     1.000        28\n",
      "          52      1.000     0.976     0.988       125\n",
      "          53      1.000     1.000     1.000        24\n",
      "          54      0.981     0.927     0.953        55\n",
      "          55      1.000     1.000     1.000        38\n",
      "          56      1.000     1.000     1.000        20\n",
      "          57      1.000     1.000     1.000        27\n",
      "          58      1.000     1.000     1.000        20\n",
      "          59      1.000     0.960     0.980        25\n",
      "          60      1.000     0.933     0.966        30\n",
      "          61      1.000     1.000     1.000        51\n",
      "          62      1.000     1.000     1.000        30\n",
      "          63      1.000     1.000     1.000       124\n",
      "          64      1.000     1.000     1.000        29\n",
      "          65      1.000     1.000     1.000        37\n",
      "          66      1.000     0.986     0.993        69\n",
      "          67      1.000     0.968     0.984        31\n",
      "          68      1.000     1.000     1.000        27\n",
      "          69      1.000     1.000     1.000        25\n",
      "          70      1.000     0.986     0.993        74\n",
      "          71      1.000     0.976     0.988        41\n",
      "          72      1.000     1.000     1.000        33\n",
      "          73      1.000     1.000     1.000        34\n",
      "          74      1.000     1.000     1.000        27\n",
      "          75      1.000     0.993     0.997       144\n",
      "          76      1.000     1.000     1.000        32\n",
      "          77      1.000     1.000     1.000        48\n",
      "          78      1.000     0.955     0.977        22\n",
      "          79      1.000     1.000     1.000        26\n",
      "          80      1.000     0.938     0.968        48\n",
      "          81      1.000     1.000     1.000        63\n",
      "          82      0.909     1.000     0.952        20\n",
      "          83      1.000     1.000     1.000        85\n",
      "          84      1.000     0.982     0.991        56\n",
      "          85      1.000     0.964     0.981        55\n",
      "          86      1.000     1.000     1.000        37\n",
      "          87      1.000     0.971     0.985        34\n",
      "          88      1.000     0.991     0.995       109\n",
      "          89      1.000     1.000     1.000        36\n",
      "          90      1.000     1.000     1.000        38\n",
      "          91      1.000     1.000     1.000        28\n",
      "          92      1.000     1.000     1.000        25\n",
      "          93      1.000     0.884     0.938        69\n",
      "          94      1.000     1.000     1.000        28\n",
      "          95      1.000     1.000     1.000        22\n",
      "          96      1.000     0.975     0.987        80\n",
      "          97      0.990     0.990     0.990        97\n",
      "          98      1.000     1.000     1.000        23\n",
      "          99      1.000     1.000     1.000        24\n",
      "         100      1.000     0.961     0.980        51\n",
      "         101      1.000     1.000     1.000        44\n",
      "         102      1.000     1.000     1.000        26\n",
      "         103      1.000     1.000     1.000        27\n",
      "         104      1.000     0.955     0.977        88\n",
      "         105      1.000     1.000     1.000        29\n",
      "         106      1.000     0.931     0.964        29\n",
      "         107      1.000     1.000     1.000        40\n",
      "         108      1.000     0.969     0.984        32\n",
      "         109      1.000     1.000     1.000        23\n",
      "         110      1.000     1.000     1.000        30\n",
      "         111      1.000     1.000     1.000        60\n",
      "         112      1.000     1.000     1.000        24\n",
      "         113      1.000     1.000     1.000        63\n",
      "         114      1.000     1.000     1.000        42\n",
      "         115      1.000     1.000     1.000        21\n",
      "         116      1.000     1.000     1.000        23\n",
      "         117      1.000     1.000     1.000        76\n",
      "         118      1.000     0.951     0.975        41\n",
      "         119      1.000     1.000     1.000        47\n",
      "         120      1.000     1.000     1.000        28\n",
      "         121      1.000     0.950     0.974        40\n",
      "         122      1.000     0.978     0.989        90\n",
      "         123      1.000     0.964     0.982        28\n",
      "         124      1.000     0.974     0.987        78\n",
      "         125      1.000     1.000     1.000        22\n",
      "         126      1.000     1.000     1.000        29\n",
      "         127      1.000     1.000     1.000        22\n",
      "         128      1.000     0.917     0.957        36\n",
      "         129      1.000     0.963     0.981       107\n",
      "         130      1.000     0.963     0.981        27\n",
      "         131      0.995     0.985     0.990       195\n",
      "         132      1.000     1.000     1.000        23\n",
      "         133      1.000     0.960     0.980        25\n",
      "         134      1.000     1.000     1.000       458\n",
      "         135      1.000     0.957     0.978        47\n",
      "         136      1.000     0.957     0.978        23\n",
      "         137      1.000     0.970     0.985        33\n",
      "         138      1.000     1.000     1.000        59\n",
      "         139      0.980     0.980     0.980        51\n",
      "         140      1.000     0.933     0.966        30\n",
      "         141      1.000     0.965     0.982        85\n",
      "         142      1.000     1.000     1.000        34\n",
      "         143      1.000     1.000     1.000        57\n",
      "         144      1.000     1.000     1.000        64\n",
      "         145      1.000     1.000     1.000        31\n",
      "         146      1.000     1.000     1.000        64\n",
      "         147      1.000     1.000     1.000        26\n",
      "         148      1.000     1.000     1.000        27\n",
      "         149      1.000     1.000     1.000        54\n",
      "         150      1.000     1.000     1.000        36\n",
      "         151      1.000     1.000     1.000        47\n",
      "         152      1.000     0.941     0.970        51\n",
      "         153      1.000     1.000     1.000        44\n",
      "         154      1.000     1.000     1.000        32\n",
      "         155      1.000     1.000     1.000        42\n",
      "         156      1.000     0.969     0.984        97\n",
      "         157      0.977     0.977     0.977        43\n",
      "         158      1.000     0.967     0.983        30\n",
      "\n",
      "   micro avg      0.999     0.985     0.992      7789\n",
      "   macro avg      0.999     0.985     0.992      7789\n",
      "weighted avg      0.999     0.985     0.992      7789\n",
      " samples avg      0.995     0.990     0.992      7789\n",
      "\n",
      "set acc: 0.983\n",
      "dev\n"
     ]
    },
    {
     "name": "stderr",
     "output_type": "stream",
     "text": [
      "/home/pellegri/tools/miniconda3/envs/envPytorch1/lib/python3.7/site-packages/sklearn/metrics/_classification.py:1272: UndefinedMetricWarning: Precision and F-score are ill-defined and being set to 0.0 in labels with no predicted samples. Use `zero_division` parameter to control this behavior.\n",
      "  _warn_prf(average, modifier, msg_start, len(result))\n",
      "/home/pellegri/tools/miniconda3/envs/envPytorch1/lib/python3.7/site-packages/sklearn/metrics/_classification.py:1272: UndefinedMetricWarning: Precision and F-score are ill-defined and being set to 0.0 in samples with no predicted labels. Use `zero_division` parameter to control this behavior.\n",
      "  _warn_prf(average, modifier, msg_start, len(result))\n"
     ]
    },
    {
     "name": "stdout",
     "output_type": "stream",
     "text": [
      "              precision    recall  f1-score   support\n",
      "\n",
      "           0      0.000     0.000     0.000        13\n",
      "           1      0.143     0.182     0.160        22\n",
      "           2      0.429     0.125     0.194        24\n",
      "           3      0.462     0.261     0.333        23\n",
      "           4      1.000     0.100     0.182        10\n",
      "           5      0.727     0.364     0.485        22\n",
      "           6      0.219     0.200     0.209        35\n",
      "           7      0.000     0.000     0.000        20\n",
      "           8      0.000     0.000     0.000        11\n",
      "           9      0.556     0.600     0.577        25\n",
      "          10      1.000     0.925     0.961        53\n",
      "          11      0.421     0.471     0.444        17\n",
      "          12      0.000     0.000     0.000        10\n",
      "          13      1.000     0.976     0.988        42\n",
      "          14      0.971     0.893     0.930       112\n",
      "          15      0.167     0.100     0.125        20\n",
      "          16      0.667     0.267     0.381        30\n",
      "          17      0.000     0.000     0.000        13\n",
      "          18      0.692     0.581     0.632        31\n",
      "          19      0.294     0.238     0.263        21\n",
      "          20      0.308     0.250     0.276        16\n",
      "          21      0.250     0.083     0.125        24\n",
      "          22      0.263     0.227     0.244        22\n",
      "          23      0.500     0.167     0.250        18\n",
      "          24      0.800     0.250     0.381        16\n",
      "          25      0.333     0.125     0.182         8\n",
      "          26      0.714     0.385     0.500        13\n",
      "          27      0.800     0.138     0.235        29\n",
      "          28      0.000     0.000     0.000         9\n",
      "          29      0.500     0.333     0.400        12\n",
      "          30      0.250     0.250     0.250         8\n",
      "          31      1.000     0.583     0.737        12\n",
      "          32      0.400     0.154     0.222        13\n",
      "          33      0.000     0.000     0.000        13\n",
      "          34      0.000     0.000     0.000        10\n",
      "          35      1.000     0.565     0.722        23\n",
      "          36      0.447     0.447     0.447        47\n",
      "          37      0.000     0.000     0.000         9\n",
      "          38      1.000     0.143     0.250        21\n",
      "          39      0.200     0.077     0.111        13\n",
      "          40      0.667     0.250     0.364         8\n",
      "          41      0.400     0.175     0.244        57\n",
      "          42      0.333     0.160     0.216        25\n",
      "          43      0.333     0.158     0.214        19\n",
      "          44      0.814     0.700     0.753        50\n",
      "          45      0.750     0.300     0.429        10\n",
      "          46      0.500     0.222     0.308         9\n",
      "          47      0.500     0.037     0.069        27\n",
      "          48      0.182     0.190     0.186        21\n",
      "          49      0.786     0.524     0.629        21\n",
      "          50      0.000     0.000     0.000        12\n",
      "          51      0.286     0.100     0.148        20\n",
      "          52      0.565     0.557     0.561        70\n",
      "          53      0.500     0.364     0.421        11\n",
      "          54      0.522     0.444     0.480        27\n",
      "          55      0.615     0.444     0.516        18\n",
      "          56      0.333     0.125     0.182         8\n",
      "          57      0.750     0.273     0.400        11\n",
      "          58      0.000     0.000     0.000        12\n",
      "          59      0.167     0.100     0.125        10\n",
      "          60      0.333     0.077     0.125        13\n",
      "          61      0.765     0.520     0.619        25\n",
      "          62      1.000     0.467     0.636        15\n",
      "          63      0.635     0.714     0.672        56\n",
      "          64      0.500     0.118     0.190        17\n",
      "          65      0.300     0.214     0.250        14\n",
      "          66      0.303     0.222     0.256        45\n",
      "          67      0.125     0.111     0.118        18\n",
      "          68      0.000     0.000     0.000        14\n",
      "          69      0.333     0.167     0.222        12\n",
      "          70      0.146     0.176     0.160        34\n",
      "          71      0.444     0.267     0.333        15\n",
      "          72      0.000     0.000     0.000         9\n",
      "          73      0.214     0.188     0.200        16\n",
      "          74      0.667     0.333     0.444         6\n",
      "          75      0.339     0.350     0.344        60\n",
      "          76      0.778     0.583     0.667        12\n",
      "          77      0.700     0.333     0.452        21\n",
      "          78      0.000     0.000     0.000        13\n",
      "          79      0.462     0.375     0.414        16\n",
      "          80      0.250     0.107     0.150        28\n",
      "          81      0.429     0.346     0.383        26\n",
      "          82      1.000     0.917     0.957        12\n",
      "          83      0.774     0.533     0.632        45\n",
      "          84      0.438     0.226     0.298        31\n",
      "          85      0.368     0.250     0.298        28\n",
      "          86      0.750     0.706     0.727        17\n",
      "          87      0.231     0.200     0.214        15\n",
      "          88      0.265     0.245     0.255        53\n",
      "          89      0.286     0.105     0.154        19\n",
      "          90      0.250     0.048     0.080        21\n",
      "          91      0.000     0.000     0.000        24\n",
      "          92      0.000     0.000     0.000        11\n",
      "          93      0.192     0.119     0.147        42\n",
      "          94      0.600     0.231     0.333        13\n",
      "          95      0.111     0.077     0.091        13\n",
      "          96      0.129     0.121     0.125        33\n",
      "          97      0.360     0.462     0.404        39\n",
      "          98      0.444     0.267     0.333        15\n",
      "          99      0.333     0.067     0.111        15\n",
      "         100      0.214     0.103     0.140        29\n",
      "         101      0.812     0.765     0.788        17\n",
      "         102      0.000     0.000     0.000        10\n",
      "         103      0.250     0.105     0.148        19\n",
      "         104      0.419     0.333     0.371        54\n",
      "         105      0.438     0.500     0.467        14\n",
      "         106      0.000     0.000     0.000        19\n",
      "         107      0.250     0.080     0.121        25\n",
      "         108      1.000     0.235     0.381        17\n",
      "         109      0.250     0.067     0.105        15\n",
      "         110      0.200     0.048     0.077        21\n",
      "         111      0.789     0.500     0.612        30\n",
      "         112      1.000     0.250     0.400        12\n",
      "         113      0.750     0.536     0.625        28\n",
      "         114      0.250     0.200     0.222        10\n",
      "         115      0.167     0.091     0.118        11\n",
      "         116      0.250     0.071     0.111        14\n",
      "         117      0.703     0.531     0.605        49\n",
      "         118      0.188     0.188     0.188        16\n",
      "         119      0.750     0.143     0.240        21\n",
      "         120      0.571     0.222     0.320        18\n",
      "         121      0.105     0.125     0.114        16\n",
      "         122      0.452     0.380     0.413        50\n",
      "         123      0.000     0.000     0.000        15\n",
      "         124      0.297     0.268     0.282        41\n",
      "         125      1.000     0.231     0.375        13\n",
      "         126      0.667     0.091     0.160        22\n",
      "         127      0.000     0.000     0.000        13\n",
      "         128      0.000     0.000     0.000         7\n",
      "         129      0.224     0.250     0.237        44\n",
      "         130      0.750     0.300     0.429        10\n",
      "         131      0.521     0.532     0.526        94\n",
      "         132      0.583     0.412     0.483        17\n",
      "         133      0.125     0.143     0.133         7\n",
      "         134      1.000     1.000     1.000       233\n",
      "         135      0.200     0.056     0.087        18\n",
      "         136      0.000     0.000     0.000         7\n",
      "         137      0.000     0.000     0.000        11\n",
      "         138      0.154     0.065     0.091        31\n",
      "         139      0.552     0.593     0.571        27\n",
      "         140      0.333     0.077     0.125        13\n",
      "         141      0.250     0.171     0.203        41\n",
      "         142      0.400     0.100     0.160        20\n",
      "         143      0.643     0.321     0.429        28\n",
      "         144      0.562     0.265     0.360        34\n",
      "         145      0.200     0.053     0.083        19\n",
      "         146      0.368     0.189     0.250        37\n",
      "         147      0.667     0.250     0.364         8\n",
      "         148      1.000     0.188     0.316        16\n",
      "         149      0.667     0.258     0.372        31\n",
      "         150      0.333     0.077     0.125        13\n",
      "         151      0.533     0.421     0.471        19\n",
      "         152      0.000     0.000     0.000        24\n",
      "         153      0.600     0.176     0.273        17\n",
      "         154      0.778     0.538     0.636        13\n",
      "         155      0.533     0.276     0.364        29\n",
      "         156      0.410     0.327     0.364        49\n",
      "         157      0.300     0.333     0.316        18\n",
      "         158      0.000     0.000     0.000         6\n",
      "\n",
      "   micro avg      0.519     0.352     0.420      3827\n",
      "   macro avg      0.417     0.247     0.292      3827\n",
      "weighted avg      0.491     0.352     0.391      3827\n",
      " samples avg      0.462     0.395     0.394      3827\n",
      "\n",
      "set acc: 0.154\n",
      "test\n",
      "              precision    recall  f1-score   support\n",
      "\n",
      "           0      0.083     0.033     0.048        30\n",
      "           1      0.095     0.085     0.090        47\n",
      "           2      0.222     0.100     0.138        20\n",
      "           3      0.538     0.212     0.304        33\n",
      "           4      0.000     0.000     0.000        24\n",
      "           5      0.765     0.419     0.542        31\n",
      "           6      0.194     0.154     0.171        78\n",
      "           7      0.067     0.045     0.054        22\n",
      "           8      0.556     0.200     0.294        25\n",
      "           9      0.579     0.489     0.530        45\n",
      "          10      0.944     0.936     0.940       109\n",
      "          11      0.667     0.467     0.549        30\n",
      "          12      0.000     0.000     0.000        23\n",
      "          13      1.000     0.909     0.952        44\n",
      "          14      0.994     0.923     0.957       195\n",
      "          15      0.111     0.069     0.085        29\n",
      "          16      0.692     0.300     0.419        30\n",
      "          17      0.133     0.095     0.111        21\n",
      "          18      0.559     0.452     0.500        42\n",
      "          19      0.077     0.038     0.051        26\n",
      "          20      0.222     0.182     0.200        22\n",
      "          21      0.526     0.200     0.290        50\n",
      "          22      0.457     0.333     0.386        48\n",
      "          23      0.556     0.263     0.357        19\n",
      "          24      0.400     0.105     0.167        19\n",
      "          25      0.000     0.000     0.000        17\n",
      "          26      0.929     0.361     0.520        36\n",
      "          27      0.294     0.139     0.189        36\n",
      "          28      0.333     0.045     0.080        22\n",
      "          29      0.500     0.350     0.412        20\n",
      "          30      0.158     0.115     0.133        26\n",
      "          31      0.667     0.429     0.522        14\n",
      "          32      0.364     0.174     0.235        23\n",
      "          33      0.125     0.095     0.108        21\n",
      "          34      0.000     0.000     0.000        19\n",
      "          35      1.000     0.647     0.786        34\n",
      "          36      0.393     0.398     0.395        83\n",
      "          37      0.200     0.087     0.121        23\n",
      "          38      1.000     0.194     0.324        31\n",
      "          39      0.056     0.042     0.048        24\n",
      "          40      0.800     0.400     0.533        20\n",
      "          41      0.160     0.085     0.111        47\n",
      "          42      0.231     0.068     0.105        44\n",
      "          43      0.526     0.333     0.408        30\n",
      "          44      0.809     0.667     0.731        57\n",
      "          45      0.667     0.211     0.320        19\n",
      "          46      0.286     0.118     0.167        17\n",
      "          47      0.000     0.000     0.000        21\n",
      "          48      0.348     0.381     0.364        42\n",
      "          49      0.806     0.694     0.746        36\n",
      "          50      1.000     0.059     0.111        17\n",
      "          51      0.000     0.000     0.000        23\n",
      "          52      0.558     0.586     0.571        99\n",
      "          53      0.467     0.368     0.412        19\n",
      "          54      0.585     0.471     0.522        51\n",
      "          55      0.308     0.296     0.302        27\n",
      "          56      0.333     0.115     0.171        26\n",
      "          57      0.750     0.167     0.273        18\n",
      "          58      0.000     0.000     0.000        25\n",
      "          59      0.364     0.211     0.267        19\n",
      "          60      0.000     0.000     0.000        21\n",
      "          61      0.647     0.440     0.524        25\n",
      "          62      0.857     0.632     0.727        19\n",
      "          63      0.636     0.600     0.618        70\n",
      "          64      0.200     0.118     0.148        17\n",
      "          65      0.333     0.136     0.194        22\n",
      "          66      0.200     0.158     0.176        57\n",
      "          67      0.000     0.000     0.000        27\n",
      "          68      0.500     0.050     0.091        20\n",
      "          69      0.857     0.353     0.500        17\n",
      "          70      0.217     0.133     0.165        75\n",
      "          71      0.120     0.115     0.118        26\n",
      "          72      0.364     0.216     0.271        37\n",
      "          73      0.333     0.188     0.240        32\n",
      "          74      0.500     0.143     0.222        21\n",
      "          75      0.444     0.388     0.415       103\n",
      "          76      0.571     0.250     0.348        16\n",
      "          77      0.833     0.323     0.465        31\n",
      "          78      0.400     0.273     0.324        22\n",
      "          79      0.455     0.455     0.455        11\n",
      "          80      0.111     0.043     0.062        46\n",
      "          81      0.538     0.477     0.506        44\n",
      "          82      0.952     0.870     0.909        23\n",
      "          83      0.674     0.483     0.563        60\n",
      "          84      0.636     0.298     0.406        47\n",
      "          85      0.292     0.149     0.197        47\n",
      "          86      0.750     0.833     0.789        18\n",
      "          87      0.304     0.292     0.298        24\n",
      "          88      0.190     0.162     0.175        74\n",
      "          89      0.154     0.061     0.087        33\n",
      "          90      0.000     0.000     0.000        38\n",
      "          91      0.000     0.000     0.000        16\n",
      "          92      0.750     0.158     0.261        19\n",
      "          93      0.323     0.152     0.206        66\n",
      "          94      0.000     0.000     0.000        20\n",
      "          95      0.545     0.261     0.353        23\n",
      "          96      0.197     0.197     0.197        61\n",
      "          97      0.364     0.294     0.325        68\n",
      "          98      0.357     0.250     0.294        20\n",
      "          99      0.500     0.033     0.062        30\n",
      "         100      0.188     0.059     0.090        51\n",
      "         101      0.929     0.684     0.788        38\n",
      "         102      0.750     0.115     0.200        26\n",
      "         103      0.250     0.069     0.108        29\n",
      "         104      0.458     0.297     0.360        91\n",
      "         105      0.375     0.250     0.300        24\n",
      "         106      0.500     0.125     0.200        24\n",
      "         107      0.400     0.140     0.207        43\n",
      "         108      0.000     0.000     0.000        23\n",
      "         109      0.400     0.200     0.267        20\n",
      "         110      0.500     0.226     0.311        31\n",
      "         111      0.571     0.324     0.414        37\n",
      "         112      0.857     0.333     0.480        18\n",
      "         113      0.667     0.500     0.571        36\n",
      "         114      0.308     0.222     0.258        18\n",
      "         115      0.444     0.167     0.242        24\n",
      "         116      0.000     0.000     0.000        16\n",
      "         117      0.560     0.500     0.528        56\n",
      "         118      0.333     0.111     0.167        36\n",
      "         119      0.167     0.047     0.073        43\n",
      "         120      0.000     0.000     0.000        31\n",
      "         121      0.227     0.200     0.213        25\n",
      "         122      0.367     0.312     0.337        93\n",
      "         123      0.000     0.000     0.000        25\n",
      "         124      0.158     0.155     0.157        58\n",
      "         125      0.750     0.158     0.261        19\n",
      "         126      0.500     0.023     0.044        43\n",
      "         127      0.000     0.000     0.000        19\n",
      "         128      0.273     0.200     0.231        15\n",
      "         129      0.232     0.281     0.254        57\n",
      "         130      0.214     0.125     0.158        24\n",
      "         131      0.541     0.597     0.568       154\n",
      "         132      0.400     0.105     0.167        19\n",
      "         133      0.125     0.043     0.065        23\n",
      "         134      1.000     1.000     1.000       351\n",
      "         135      0.100     0.034     0.051        29\n",
      "         136      0.429     0.286     0.343        21\n",
      "         137      0.000     0.000     0.000        19\n",
      "         138      0.105     0.038     0.056        52\n",
      "         139      0.718     0.519     0.602        54\n",
      "         140      0.294     0.238     0.263        21\n",
      "         141      0.216     0.100     0.137        80\n",
      "         142      0.000     0.000     0.000        32\n",
      "         143      0.526     0.222     0.312        45\n",
      "         144      0.714     0.444     0.548        45\n",
      "         145      0.444     0.160     0.235        25\n",
      "         146      0.372     0.320     0.344        50\n",
      "         147      0.000     0.000     0.000        28\n",
      "         148      0.429     0.150     0.222        20\n",
      "         149      0.400     0.182     0.250        44\n",
      "         150      0.400     0.083     0.138        24\n",
      "         151      0.375     0.188     0.250        16\n",
      "         152      0.067     0.036     0.047        56\n",
      "         153      0.273     0.081     0.125        37\n",
      "         154      0.667     0.333     0.444        24\n",
      "         155      0.706     0.300     0.421        40\n",
      "         156      0.284     0.267     0.275        86\n",
      "         157      0.256     0.250     0.253        40\n",
      "         158      0.611     0.458     0.524        24\n",
      "\n",
      "   micro avg      0.510     0.330     0.401      6146\n",
      "   macro avg      0.399     0.236     0.281      6146\n",
      "weighted avg      0.457     0.330     0.367      6146\n",
      " samples avg      0.451     0.367     0.375      6146\n",
      "\n",
      "set acc: 0.150\n"
     ]
    },
    {
     "name": "stderr",
     "output_type": "stream",
     "text": [
      "/home/pellegri/tools/miniconda3/envs/envPytorch1/lib/python3.7/site-packages/sklearn/metrics/_classification.py:1272: UndefinedMetricWarning: Precision and F-score are ill-defined and being set to 0.0 in labels with no predicted samples. Use `zero_division` parameter to control this behavior.\n",
      "  _warn_prf(average, modifier, msg_start, len(result))\n",
      "/home/pellegri/tools/miniconda3/envs/envPytorch1/lib/python3.7/site-packages/sklearn/metrics/_classification.py:1272: UndefinedMetricWarning: Precision and F-score are ill-defined and being set to 0.0 in samples with no predicted labels. Use `zero_division` parameter to control this behavior.\n",
      "  _warn_prf(average, modifier, msg_start, len(result))\n"
     ]
    }
   ],
   "source": [
    "print('train')\n",
    "train_pred = clf.predict(X_train_numpy)\n",
    "print_scores(y_train_numpy, train_pred)\n",
    "# compute_accuracy_from_numpy_tensors(y_train_numpy, train_pred)\n",
    "print('dev')\n",
    "dev_pred = clf.predict(X_dev_numpy)\n",
    "print_scores(y_dev_numpy, dev_pred)\n",
    "print('test')\n",
    "test_pred = clf.predict(X_test_numpy)\n",
    "print_scores(y_test_numpy, test_pred)"
   ]
  },
  {
   "cell_type": "code",
   "execution_count": 36,
   "metadata": {},
   "outputs": [],
   "source": [
    "# save the model to disk\n",
    "filename = 'exp/%s/SVM.pkl'%dataset\n",
    "pickle.dump(clf, open(filename, 'wb'))"
   ]
  },
  {
   "cell_type": "code",
   "execution_count": 37,
   "metadata": {},
   "outputs": [],
   "source": [
    "# joblib.dump(clf, 'exp/%s/SVM.joblib'%dataset) "
   ]
  },
  {
   "cell_type": "code",
   "execution_count": 38,
   "metadata": {},
   "outputs": [
    {
     "data": {
      "text/plain": [
       "((3269, 159), (1611, 159), (2515, 159))"
      ]
     },
     "execution_count": 38,
     "metadata": {},
     "output_type": "execute_result"
    }
   ],
   "source": [
    "svm_train_prob = clf.predict_proba(X_train_numpy)\n",
    "svm_dev_prob = clf.predict_proba(X_dev_numpy)\n",
    "svm_test_prob = clf.predict_proba(X_test_numpy)\n",
    "\n",
    "svm_train_prob = svm_train_prob.toarray()\n",
    "svm_dev_prob = svm_dev_prob.toarray()\n",
    "svm_test_prob = svm_test_prob.toarray()\n",
    "svm_train_prob.shape, svm_dev_prob.shape, svm_test_prob.shape"
   ]
  },
  {
   "cell_type": "code",
   "execution_count": 39,
   "metadata": {},
   "outputs": [],
   "source": [
    "np.savez(\"exp/%s/SVM_BR_probs.npz\"%dataset,\n",
    "         svm_train_prob=svm_train_prob,\n",
    "         svm_dev_prob=svm_dev_prob,\n",
    "        svm_test_prob=svm_test_prob\n",
    "        )"
   ]
  },
  {
   "cell_type": "code",
   "execution_count": 61,
   "metadata": {},
   "outputs": [
    {
     "data": {
      "text/plain": [
       "(array([-0.2,  0. ,  0.2,  0.4,  0.6,  0.8,  1. ,  1.2]),\n",
       " <a list of 8 Text yticklabel objects>)"
      ]
     },
     "execution_count": 61,
     "metadata": {},
     "output_type": "execute_result"
    },
    {
     "data": {
      "image/png": "[encoded data removed]",
      "text/plain": [
       "<Figure size 576x432 with 1 Axes>"
      ]
     },
     "metadata": {
      "needs_background": "light"
     },
     "output_type": "display_data"
    }
   ],
   "source": [
    "ps, rs, f1s = [], [], []\n",
    "\n",
    "for static_thresh in range(0, 100):\n",
    "    static_thresh /= 100.\n",
    "    train_pred = svm_train_prob>static_thresh\n",
    "    dev_pred = svm_dev_prob>static_thresh\n",
    "    test_pred = svm_test_prob>static_thresh\n",
    "\n",
    "    # p, r, f1 = micro_prec_rec_fscore(y_dev_numpy, dev_pred)\n",
    "    p, r, f1 = micro_prec_rec_fscore_class(y_dev_numpy, dev_pred)\n",
    "    ps.append(p)\n",
    "    rs.append(r)\n",
    "    f1s.append(f1)\n",
    "\n",
    "f1s = np.array(f1s)\n",
    "\n",
    "fontsize=14\n",
    "linewidth=2\n",
    "plt.figure(figsize=(8,6))\n",
    "for ind in range(f1s[0].shape[0]):\n",
    "    plt.plot(f1s[:,ind], label='%d'%ind)\n",
    "\n",
    "# plt.plot([23, 23], [0, 0.6], '-k')\n",
    "plt.xlabel(\"threshold\", fontsize=fontsize)\n",
    "plt.ylabel(\"F1\", fontsize=fontsize)\n",
    "plt.xlim([0,100])\n",
    "plt.xticks([0, 10, 20, 30, 40, 50, 60, 70, 80, 90, 100], [0, 0.1, 0.2, 0.3, 0.4, 0.5, 0.6, 0.7, 0.8, 0.9, 1], fontsize=fontsize)\n",
    "plt.yticks(fontsize=fontsize)\n",
    "# plt.legend(fontsize=fontsize, loc='upper right')\n",
    "# plt.savefig(\"exp/emotions/emotions_F1_DEV_asof_threshold.png\")\n",
    "# plt.savefig(\"exp/emotions/emotions_F1_DEV_asof_threshold.eps\")"
   ]
  },
  {
   "cell_type": "code",
   "execution_count": null,
   "metadata": {},
   "outputs": [],
   "source": []
  }
 ],
 "metadata": {
  "kernelspec": {
   "display_name": "Python 3",
   "language": "python",
   "name": "python3"
  },
  "language_info": {
   "codemirror_mode": {
    "name": "ipython",
    "version": 3
   },
   "file_extension": ".py",
   "mimetype": "text/x-python",
   "name": "python",
   "nbconvert_exporter": "python",
   "pygments_lexer": "ipython3",
   "version": "3.7.6"
  },
  "toc": {
   "nav_menu": {},
   "number_sections": true,
   "sideBar": true,
   "skip_h1_title": false,
   "toc_cell": true,
   "toc_position": {},
   "toc_section_display": "block",
   "toc_window_display": false
  }
 },
 "nbformat": 4,
 "nbformat_minor": 4
}

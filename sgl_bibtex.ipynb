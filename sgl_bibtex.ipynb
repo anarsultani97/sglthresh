{
 "cells": [
  {
   "cell_type": "markdown",
   "metadata": {
    "toc": true
   },
   "source": [
    "<h1>Table of Contents<span class=\"tocSkip\"></span></h1>\n",
    "<div class=\"toc\" style=\"margin-top: 1em;\"><ul class=\"toc-item\"><li><span><a href=\"#imports\" data-toc-modified-id=\"imports-1\"><span class=\"toc-item-num\">1&nbsp;&nbsp;</span>imports</a></span></li><li><span><a href=\"#load-original-subsets:-train,-test-and-split-or...\" data-toc-modified-id=\"load-original-subsets:-train,-test-and-split-or...-2\"><span class=\"toc-item-num\">2&nbsp;&nbsp;</span>load original subsets: train, test and split or...</a></span></li><li><span><a href=\"#...load-my-subsets:-train,-dev,-test\" data-toc-modified-id=\"...load-my-subsets:-train,-dev,-test-3\"><span class=\"toc-item-num\">3&nbsp;&nbsp;</span>...load my subsets: train, dev, test</a></span></li><li><span><a href=\"#Neural-net-to-make-predictions...\" data-toc-modified-id=\"Neural-net-to-make-predictions...-4\"><span class=\"toc-item-num\">4&nbsp;&nbsp;</span>Neural net to make predictions...</a></span></li><li><span><a href=\"#Or-load-LabelPowerset-probas...\" data-toc-modified-id=\"Or-load-LabelPowerset-probas...-5\"><span class=\"toc-item-num\">5&nbsp;&nbsp;</span>Or load LabelPowerset probas...</a></span></li><li><span><a href=\"#Static-thresholds\" data-toc-modified-id=\"Static-thresholds-6\"><span class=\"toc-item-num\">6&nbsp;&nbsp;</span>Static thresholds</a></span></li><li><span><a href=\"#SGLThresh\" data-toc-modified-id=\"SGLThresh-7\"><span class=\"toc-item-num\">7&nbsp;&nbsp;</span>SGLThresh</a></span><ul class=\"toc-item\"><li><span><a href=\"#SurrogateHeaviside-definition\" data-toc-modified-id=\"SurrogateHeaviside-definition-7.1\"><span class=\"toc-item-num\">7.1&nbsp;&nbsp;</span>SurrogateHeaviside definition</a></span></li><li><span><a href=\"#numerical-application\" data-toc-modified-id=\"numerical-application-7.2\"><span class=\"toc-item-num\">7.2&nbsp;&nbsp;</span>numerical application</a></span></li><li><span><a href=\"#numerical-application,-for-loop\" data-toc-modified-id=\"numerical-application,-for-loop-7.3\"><span class=\"toc-item-num\">7.3&nbsp;&nbsp;</span>numerical application, for loop</a></span></li></ul></li><li><span><a href=\"#NumThresh\" data-toc-modified-id=\"NumThresh-8\"><span class=\"toc-item-num\">8&nbsp;&nbsp;</span>NumThresh</a></span><ul class=\"toc-item\"><li><span><a href=\"#utility-function-for-F1-with-multiprocessing:-TODO\" data-toc-modified-id=\"utility-function-for-F1-with-multiprocessing:-TODO-8.1\"><span class=\"toc-item-num\">8.1&nbsp;&nbsp;</span>utility function for F1 with multiprocessing: TODO</a></span></li><li><span><a href=\"#utility-function-for-F1-w/o-multiprocessing\" data-toc-modified-id=\"utility-function-for-F1-w/o-multiprocessing-8.2\"><span class=\"toc-item-num\">8.2&nbsp;&nbsp;</span>utility function for F1 w/o multiprocessing</a></span></li><li><span><a href=\"#numerical-application\" data-toc-modified-id=\"numerical-application-8.3\"><span class=\"toc-item-num\">8.3&nbsp;&nbsp;</span>numerical application</a></span></li><li><span><a href=\"#for-BCE\" data-toc-modified-id=\"for-BCE-8.4\"><span class=\"toc-item-num\">8.4&nbsp;&nbsp;</span>for BCE</a></span></li><li><span><a href=\"#numerical-application-with-BCE\" data-toc-modified-id=\"numerical-application-with-BCE-8.5\"><span class=\"toc-item-num\">8.5&nbsp;&nbsp;</span>numerical application with BCE</a></span></li></ul></li></ul></div>"
   ]
  },
  {
   "cell_type": "markdown",
   "metadata": {
    "heading_collapsed": true
   },
   "source": [
    "# imports"
   ]
  },
  {
   "cell_type": "code",
   "execution_count": null,
   "metadata": {
    "ExecuteTime": {
     "end_time": "2020-03-05T13:37:53.011568Z",
     "start_time": "2020-03-05T13:37:47.999336Z"
    },
    "hidden": true
   },
   "outputs": [],
   "source": [
    "# paper http://lpis.csd.auth.gr/publications/tsoumakas-ismir08.pdf\n",
    "\n",
    "# !pip install scikit-multilearn\n",
    "# !pip install skorch\n",
    "# !pip install liac-arff"
   ]
  },
  {
   "cell_type": "code",
   "execution_count": 1,
   "metadata": {
    "ExecuteTime": {
     "end_time": "2020-03-22T15:10:50.598010Z",
     "start_time": "2020-03-22T15:10:50.007204Z"
    },
    "hidden": true
   },
   "outputs": [],
   "source": [
    "import torch\n",
    "from torch import nn\n",
    "import torch.nn.functional as F\n",
    "from torch.utils import data\n",
    "# from skorch import NeuralNetClassifier"
   ]
  },
  {
   "cell_type": "code",
   "execution_count": 11,
   "metadata": {
    "ExecuteTime": {
     "end_time": "2020-03-22T15:14:48.796533Z",
     "start_time": "2020-03-22T15:14:48.775934Z"
    },
    "hidden": true
   },
   "outputs": [],
   "source": [
    "import numpy as np\n",
    "import sklearn.metrics as metrics\n",
    "from skmultilearn.dataset import load_dataset\n",
    "import matplotlib.pyplot as plt\n",
    "import time\n",
    "\n",
    "from multiprocessing import Pool\n",
    "from functools import partial\n",
    "\n",
    "from sklearn.metrics import confusion_matrix, accuracy_score, f1_score, precision_recall_fscore_support, classification_report\n",
    "from sklearn.model_selection import train_test_split"
   ]
  },
  {
   "cell_type": "code",
   "execution_count": 3,
   "metadata": {
    "ExecuteTime": {
     "end_time": "2020-03-22T15:10:52.205411Z",
     "start_time": "2020-03-22T15:10:52.041277Z"
    },
    "hidden": true
   },
   "outputs": [
    {
     "data": {
      "text/plain": [
       "{'Corel5k',\n",
       " 'bibtex',\n",
       " 'birds',\n",
       " 'delicious',\n",
       " 'emotions',\n",
       " 'enron',\n",
       " 'genbase',\n",
       " 'mediamill',\n",
       " 'medical',\n",
       " 'rcv1subset1',\n",
       " 'rcv1subset2',\n",
       " 'rcv1subset3',\n",
       " 'rcv1subset4',\n",
       " 'rcv1subset5',\n",
       " 'scene',\n",
       " 'tmc2007_500',\n",
       " 'yeast'}"
      ]
     },
     "execution_count": 3,
     "metadata": {},
     "output_type": "execute_result"
    }
   ],
   "source": [
    "# http://scikit.ml/datasets.html\n",
    "from skmultilearn.dataset import available_data_sets\n",
    "set([x[0] for x in available_data_sets().keys()])"
   ]
  },
  {
   "cell_type": "code",
   "execution_count": 7,
   "metadata": {
    "ExecuteTime": {
     "end_time": "2020-03-22T15:12:01.400377Z",
     "start_time": "2020-03-22T15:12:01.393492Z"
    },
    "hidden": true
   },
   "outputs": [
    {
     "data": {
      "text/plain": [
       "device(type='cuda', index=0)"
      ]
     },
     "execution_count": 7,
     "metadata": {},
     "output_type": "execute_result"
    }
   ],
   "source": [
    "# Device configuration\n",
    "device = torch.device('cuda:0' if torch.cuda.is_available() else 'cpu')\n",
    "device"
   ]
  },
  {
   "cell_type": "code",
   "execution_count": 8,
   "metadata": {
    "ExecuteTime": {
     "end_time": "2020-03-22T15:12:18.464015Z",
     "start_time": "2020-03-22T15:12:18.442688Z"
    },
    "hidden": true
   },
   "outputs": [
    {
     "name": "stdout",
     "output_type": "stream",
     "text": [
      "0.50\n"
     ]
    }
   ],
   "source": [
    "def predict(mydataloader, y, model):\n",
    "    model.eval()\n",
    "\n",
    "    all_outputs = torch.zeros_like(y)\n",
    "\n",
    "    for i_batch, sample_batched in enumerate(mydataloader):\n",
    "\n",
    "        X_batch, y_batch = sample_batched\n",
    "        outputs = model(X_batch)\n",
    "        B = X_batch.size()[0]\n",
    "        all_outputs[i_batch*B:(i_batch+1)*B]=outputs\n",
    "    return all_outputs\n",
    "\n",
    "\n",
    "def print_thresholds(thresh, nb_classes):\n",
    "    s = ''\n",
    "    for c in range(nb_classes):\n",
    "        s+='%.4f '%thresh[c]\n",
    "    print(\"auto_thresholds\", s)\n",
    "\n",
    "    \n",
    "def compute_instance_F1(gt_y, preds):\n",
    "    num = gt_y*preds\n",
    "    num = 2*np.sum(num, axis=1)\n",
    "    den = np.sum(gt_y, axis=1) + np.sum(preds, axis=1)\n",
    "    return np.mean(num/den)\n",
    "\n",
    "\n",
    "def unit_test(gt_y, preds):\n",
    "    print(\"%.2f\"%compute_instance_F1(gt_y, preds))\n",
    "\n",
    "    \n",
    "def print_scores(gt_y, preds):\n",
    "    print(classification_report(gt_y, preds, digits=3))    \n",
    "    set_accuracy = accuracy_score(gt_y, preds)\n",
    "    print('set acc: %.3f'%(set_accuracy))\n",
    "    \n",
    "    \n",
    "# def print_scores(gt_y, preds):\n",
    "#     p2, r2, fscore2, support = precision_recall_fscore_support(gt_y, preds, pos_label=1, average='micro')\n",
    "#     p3, r3, fscore3, support = precision_recall_fscore_support(gt_y, preds, pos_label=1, average='macro')\n",
    "#     set_accuracy = accuracy_score(gt_y, preds)\n",
    "#     print('micro: p:%.2f r:%.2f f1:%.2f'%(100.*p2, 100.*r2, 100.*fscore2))\n",
    "#     print('macro: p:%.2f r:%.2f f1:%.2f'%(100.*p3, 100.*r3, 100.*fscore3))\n",
    "#     print('set acc:%.2f instance-F1:%.2f'%(100.*set_accuracy, 100*compute_instance_F1(gt_y, preds)))\n",
    "    \n",
    "def compute_accuracy_from_numpy_tensors(gt_y_numpy, preds_numpy):\n",
    "    acc_per_class = sum(gt_y_numpy==preds_numpy)/len(gt_y_numpy)\n",
    "    \n",
    "    gt_y_numpy_vec = np.reshape(gt_y_numpy, -1)\n",
    "    preds_numpy_vec = np.reshape(preds_numpy, -1)\n",
    "    acc = sum(gt_y_numpy_vec==preds_numpy_vec)/len(gt_y_numpy_vec)\n",
    "    print(\"Acc per class:\", acc_per_class)\n",
    "    print(\"Acc: %.3f\"%acc)\n",
    "\n",
    "\n",
    "dummy_y = np.array([[1,0,0], [0,1,0]])\n",
    "dummy_preds = np.array([[1,0,0], [0,0,0]])\n",
    "unit_test(dummy_y, dummy_preds)"
   ]
  },
  {
   "cell_type": "markdown",
   "metadata": {},
   "source": [
    "# load original subsets: train, test and split or..."
   ]
  },
  {
   "cell_type": "code",
   "execution_count": 19,
   "metadata": {
    "ExecuteTime": {
     "end_time": "2020-03-22T15:18:56.778684Z",
     "start_time": "2020-03-22T15:18:56.056965Z"
    }
   },
   "outputs": [
    {
     "name": "stdout",
     "output_type": "stream",
     "text": [
      "bibtex:train - exists, not redownloading\n",
      "bibtex:test - exists, not redownloading\n"
     ]
    }
   ],
   "source": [
    "dataset='bibtex'\n",
    "\n",
    "X_train, y_train, feature_names, label_names = load_dataset('%s'%(dataset), 'train')\n",
    "X_test, y_test, _, _ = load_dataset('%s'%(dataset), 'test')\n",
    "\n",
    "X_train_numpy = X_train.toarray()\n",
    "X_test_numpy = X_test.toarray()\n",
    "y_train_numpy = y_train.toarray()\n",
    "y_test_numpy = y_test.toarray()"
   ]
  },
  {
   "cell_type": "code",
   "execution_count": 16,
   "metadata": {
    "ExecuteTime": {
     "end_time": "2020-03-22T15:17:32.827587Z",
     "start_time": "2020-03-22T15:17:32.777828Z"
    }
   },
   "outputs": [],
   "source": [
    "X_train_numpy, X_dev_numpy, y_train_numpy, y_dev_numpy = train_test_split(\n",
    "    X_train_numpy, y_train_numpy, test_size=0.33, random_state=42)\n"
   ]
  },
  {
   "cell_type": "code",
   "execution_count": 17,
   "metadata": {
    "ExecuteTime": {
     "end_time": "2020-03-22T15:17:33.765336Z",
     "start_time": "2020-03-22T15:17:33.758150Z"
    }
   },
   "outputs": [
    {
     "data": {
      "text/plain": [
       "((1752, 1836), (1752, 159), (863, 1836), (863, 159), (2515, 1836), (2515, 159))"
      ]
     },
     "execution_count": 17,
     "metadata": {},
     "output_type": "execute_result"
    }
   ],
   "source": [
    "X_train_numpy.shape, y_train_numpy.shape, X_dev_numpy.shape, y_dev_numpy.shape, X_test_numpy.shape, y_test_numpy.shape "
   ]
  },
  {
   "cell_type": "code",
   "execution_count": 20,
   "metadata": {
    "ExecuteTime": {
     "end_time": "2020-03-22T15:19:04.623272Z",
     "start_time": "2020-03-22T15:19:01.221448Z"
    }
   },
   "outputs": [],
   "source": [
    "# np.savez(\"datasets/%s/%s_train_dev_test.npz\"%(dataset, dataset), \n",
    "#          X_train_numpy=X_train_numpy, \n",
    "#          X_dev_numpy = X_dev_numpy,\n",
    "#          X_test_numpy = X_test_numpy,\n",
    "#          y_train_numpy=y_train_numpy, \n",
    "#          y_dev_numpy = y_dev_numpy,\n",
    "#          y_test_numpy = y_test_numpy)"
   ]
  },
  {
   "cell_type": "markdown",
   "metadata": {},
   "source": [
    "# ...load my subsets: train, dev, test"
   ]
  },
  {
   "cell_type": "code",
   "execution_count": null,
   "metadata": {},
   "outputs": [],
   "source": []
  },
  {
   "cell_type": "code",
   "execution_count": 8,
   "metadata": {
    "ExecuteTime": {
     "end_time": "2020-03-18T12:23:10.598946Z",
     "start_time": "2020-03-18T12:23:10.276964Z"
    }
   },
   "outputs": [],
   "source": [
    "X_train_pth = torch.tensor(X_train.toarray(), dtype=torch.float)\n",
    "X_test_pth = torch.tensor(X_test.toarray(), dtype=torch.float)\n",
    "y_train_pth = torch.tensor(y_train.toarray(), dtype=torch.float)\n",
    "y_test_pth = torch.tensor(y_test.toarray(), dtype=torch.float)\n",
    "\n",
    "# y_train = torch.tensor(y_train.toarray(), dtype=torch.float)\n",
    "# y_test = torch.tensor(y_test.toarray(), dtype=torch.float)"
   ]
  },
  {
   "cell_type": "code",
   "execution_count": 9,
   "metadata": {
    "ExecuteTime": {
     "end_time": "2020-03-18T12:23:11.182313Z",
     "start_time": "2020-03-18T12:23:11.178559Z"
    }
   },
   "outputs": [
    {
     "data": {
      "text/plain": [
       "(torch.Size([4880, 1836]),\n",
       " torch.Size([4880, 159]),\n",
       " torch.Size([2515, 1836]),\n",
       " torch.Size([2515, 159]))"
      ]
     },
     "execution_count": 9,
     "metadata": {},
     "output_type": "execute_result"
    }
   ],
   "source": [
    "X_train_pth.size(), y_train_pth.size(), X_test_pth.size(), y_test_pth.size()"
   ]
  },
  {
   "cell_type": "code",
   "execution_count": 10,
   "metadata": {
    "ExecuteTime": {
     "end_time": "2020-03-18T12:23:12.112516Z",
     "start_time": "2020-03-18T12:23:12.100663Z"
    }
   },
   "outputs": [],
   "source": [
    "y_train_numpy = y_train_pth.clone().detach().cpu().numpy()\n",
    "y_test_numpy = y_test_pth.clone().detach().cpu().numpy()"
   ]
  },
  {
   "cell_type": "markdown",
   "metadata": {
    "heading_collapsed": true
   },
   "source": [
    "# Neural net to make predictions..."
   ]
  },
  {
   "cell_type": "code",
   "execution_count": 18,
   "metadata": {
    "ExecuteTime": {
     "end_time": "2020-03-18T10:46:49.791482Z",
     "start_time": "2020-03-18T10:46:49.782585Z"
    },
    "hidden": true
   },
   "outputs": [
    {
     "data": {
      "text/plain": [
       "(1836, 200, 159)"
      ]
     },
     "execution_count": 18,
     "metadata": {},
     "output_type": "execute_result"
    }
   ],
   "source": [
    "input_dim = X_train.shape[1]\n",
    "hidden_dim = 200\n",
    "# output_dim = len(np.unique(y_train.rows))\n",
    "output_dim = y_train.shape[1]\n",
    "nb_classes = output_dim\n",
    "\n",
    "input_dim, hidden_dim, output_dim "
   ]
  },
  {
   "cell_type": "code",
   "execution_count": 65,
   "metadata": {
    "ExecuteTime": {
     "end_time": "2020-03-17T21:53:31.381940Z",
     "start_time": "2020-03-17T21:53:31.374889Z"
    },
    "hidden": true
   },
   "outputs": [],
   "source": [
    "train_dataset = data.TensorDataset(X_train_pth, y_train_pth) # create your datset\n",
    "train_dataloader = data.DataLoader(train_dataset, batch_size=8, shuffle=True)\n",
    "train_dataloader_noShuffle = data.DataLoader(train_dataset, batch_size=8, shuffle=False)\n",
    "\n",
    "test_dataset = data.TensorDataset(X_test_pth, y_test_pth) # create your datset\n",
    "test_dataloader = data.DataLoader(test_dataset, batch_size=32, shuffle=False)"
   ]
  },
  {
   "cell_type": "code",
   "execution_count": 58,
   "metadata": {
    "ExecuteTime": {
     "end_time": "2020-03-17T21:51:43.133364Z",
     "start_time": "2020-03-17T21:51:43.123355Z"
    },
    "hidden": true
   },
   "outputs": [],
   "source": [
    "class MultiClassClassifierModule(nn.Module):\n",
    "    def __init__(\n",
    "            self,\n",
    "            input_dim=input_dim,\n",
    "            hidden_dim=hidden_dim,\n",
    "            output_dim=output_dim,\n",
    "            dropout=0.5,\n",
    "    ):\n",
    "        super(MultiClassClassifierModule, self).__init__()\n",
    "        self.dropout = nn.Dropout(dropout)\n",
    "\n",
    "        self.hidden = nn.Linear(input_dim, hidden_dim)\n",
    "        self.output = nn.Linear(hidden_dim, output_dim)\n",
    "\n",
    "    def forward(self, X, **kwargs):\n",
    "        X = F.relu(self.hidden(X))\n",
    "        X = self.dropout(X)\n",
    "        X = self.output(X)\n",
    "#         X = F.softmax(X, dim=-1)\n",
    "        X = torch.sigmoid(X)\n",
    "\n",
    "        return X"
   ]
  },
  {
   "cell_type": "code",
   "execution_count": 83,
   "metadata": {
    "ExecuteTime": {
     "end_time": "2020-03-17T22:01:49.271616Z",
     "start_time": "2020-03-17T22:01:49.255351Z"
    },
    "hidden": true
   },
   "outputs": [
    {
     "name": "stdout",
     "output_type": "stream",
     "text": [
      "MultiClassClassifierModule(\n",
      "  (dropout): Dropout(p=0.5)\n",
      "  (hidden): Linear(in_features=1836, out_features=200, bias=True)\n",
      "  (output): Linear(in_features=200, out_features=159, bias=True)\n",
      ")\n"
     ]
    }
   ],
   "source": [
    "model = MultiClassClassifierModule(input_dim, hidden_dim, output_dim)\n",
    "\n",
    "criterion = torch.nn.BCELoss(reduction=\"mean\")\n",
    "# criterion = torch.nn.BCEWithLogitsLoss(reduction=\"mean\")\n",
    "\n",
    "learning_rate = 1e-3\n",
    "optimizer = torch.optim.Adam(model.parameters(), lr=learning_rate)\n",
    "print(model)"
   ]
  },
  {
   "cell_type": "code",
   "execution_count": 84,
   "metadata": {
    "ExecuteTime": {
     "end_time": "2020-03-17T22:02:00.249668Z",
     "start_time": "2020-03-17T22:01:49.945317Z"
    },
    "hidden": true
   },
   "outputs": [
    {
     "name": "stdout",
     "output_type": "stream",
     "text": [
      "Epoch [1/5], Loss: 0.0639, Duration: 2.2 s\n",
      "Epoch [2/5], Loss: 0.0488, Duration: 2.1 s\n",
      "Epoch [3/5], Loss: 0.0401, Duration: 1.8 s\n",
      "Epoch [4/5], Loss: 0.0412, Duration: 2.1 s\n",
      "Epoch [5/5], Loss: 0.0212, Duration: 2.1 s\n"
     ]
    }
   ],
   "source": [
    "num_epochs = 5\n",
    "\n",
    "\n",
    "losses = []\n",
    "for epoch in range(num_epochs):\n",
    "    \n",
    "    debut = time.time()\n",
    "    model.train()\n",
    "    \n",
    "    for i_batch, sample_batched in enumerate(train_dataloader):\n",
    "        \n",
    "        X_batch, y_batch = sample_batched\n",
    "        \n",
    "#         print(i_batch, X_batch.size(), y_batch.size())\n",
    "    \n",
    "        # Forward pass\n",
    "        # inputs:  predictions_tensor\n",
    "        outputs = model(X_batch)\n",
    "#         print(outputs.size())\n",
    "    #     if epoch % 10 == 0:\n",
    "    #         print(outputs[-1])\n",
    "        loss = criterion(outputs, y_batch)\n",
    "\n",
    "        # Backward and optimize\n",
    "        optimizer.zero_grad()\n",
    "\n",
    "        loss.backward()\n",
    "\n",
    "        optimizer.step()\n",
    "\n",
    "        losses.append(loss)\n",
    "    \n",
    "    duree_epoch = time.time() - debut\n",
    "\n",
    "    print ('Epoch [{}/{}], Loss: {:.4f}, Duration: {:.1f} s' \n",
    "           .format(epoch+1, num_epochs, loss, duree_epoch))"
   ]
  },
  {
   "cell_type": "code",
   "execution_count": 85,
   "metadata": {
    "ExecuteTime": {
     "end_time": "2020-03-17T22:02:01.536289Z",
     "start_time": "2020-03-17T22:02:01.292051Z"
    },
    "hidden": true
   },
   "outputs": [
    {
     "data": {
      "text/plain": [
       "[<matplotlib.lines.Line2D at 0x7f4e73e66278>]"
      ]
     },
     "execution_count": 85,
     "metadata": {},
     "output_type": "execute_result"
    },
    {
     "data": {
      "image/png": "[encoded data removed]",
      "text/plain": [
       "<Figure size 432x288 with 1 Axes>"
      ]
     },
     "metadata": {
      "needs_background": "light"
     },
     "output_type": "display_data"
    }
   ],
   "source": [
    "plt.plot(losses)"
   ]
  },
  {
   "cell_type": "code",
   "execution_count": 86,
   "metadata": {
    "ExecuteTime": {
     "end_time": "2020-03-17T22:02:04.465633Z",
     "start_time": "2020-03-17T22:02:04.093508Z"
    },
    "hidden": true
   },
   "outputs": [],
   "source": [
    "train_outputs = predict(train_dataloader_noShuffle, y_train_pth, model)\n",
    "test_outputs = predict(test_dataloader, y_test_pth, model)\n",
    "\n",
    "train_outputs_numpy = train_outputs.clone().detach().cpu().numpy()\n",
    "test_outputs_numpy = test_outputs.clone().detach().cpu().numpy()\n",
    "# y_test[:5], test_outputs[:5]"
   ]
  },
  {
   "cell_type": "markdown",
   "metadata": {},
   "source": [
    "# Or load LabelPowerset probas..."
   ]
  },
  {
   "cell_type": "code",
   "execution_count": 11,
   "metadata": {
    "ExecuteTime": {
     "end_time": "2020-03-18T12:23:21.164377Z",
     "start_time": "2020-03-18T12:23:21.118674Z"
    }
   },
   "outputs": [
    {
     "data": {
      "text/plain": [
       "((4880, 159), (2515, 159))"
      ]
     },
     "execution_count": 11,
     "metadata": {},
     "output_type": "execute_result"
    }
   ],
   "source": [
    "arr = np.load(\"datasets/bibtex/bibtex_LabelPowerset_train_test_proba.npz\")\n",
    "# print(arr[\"train_proba\"])\n",
    "\n",
    "train_outputs_numpy = arr[\"train_proba\"]\n",
    "test_outputs_numpy = arr[\"test_proba\"]\n",
    "train_outputs_numpy.shape, test_outputs_numpy.shape"
   ]
  },
  {
   "cell_type": "markdown",
   "metadata": {
    "heading_collapsed": true
   },
   "source": [
    "# Static thresholds"
   ]
  },
  {
   "cell_type": "code",
   "execution_count": 12,
   "metadata": {
    "ExecuteTime": {
     "end_time": "2020-03-18T10:44:00.673092Z",
     "start_time": "2020-03-18T10:44:00.666703Z"
    },
    "hidden": true
   },
   "outputs": [],
   "source": [
    "static_thresh = 0.3\n",
    "test_pred_numpy = test_outputs_numpy>static_thresh\n",
    "train_pred_numpy = train_outputs_numpy>static_thresh"
   ]
  },
  {
   "cell_type": "code",
   "execution_count": 13,
   "metadata": {
    "ExecuteTime": {
     "end_time": "2020-03-18T10:44:01.527368Z",
     "start_time": "2020-03-18T10:44:01.383271Z"
    },
    "hidden": true
   },
   "outputs": [
    {
     "name": "stdout",
     "output_type": "stream",
     "text": [
      "train\n",
      "micro: p:94.95 r:85.97 f1:90.24\n",
      "macro: p:95.37 r:83.78 f1:88.98\n",
      "test\n",
      "micro: p:62.07 r:32.17 f1:42.37\n",
      "macro: p:43.58 r:22.99 f1:26.53\n"
     ]
    },
    {
     "name": "stderr",
     "output_type": "stream",
     "text": [
      "/home/thomas/tools/miniconda2/envs/keras-sincnet-env/lib/python3.6/site-packages/sklearn/metrics/classification.py:1143: UndefinedMetricWarning: Precision and F-score are ill-defined and being set to 0.0 in labels with no predicted samples.\n",
      "  'precision', 'predicted', average, warn_for)\n"
     ]
    }
   ],
   "source": [
    "print(\"train\")\n",
    "print_scores(y_train, train_pred_numpy)\n",
    "print(\"test\")\n",
    "print_scores(y_test, test_pred_numpy)\n",
    "# compute_accuracy_from_numpy_tensors(y_test_numpy, test_pred_numpy)\n",
    "\n",
    "# train\n",
    "# micro: p:87.52 r:58.04 f1:69.80\n",
    "# macro: p:87.38 r:48.18 f1:55.83\n",
    "# test\n",
    "# micro: p:68.03 r:31.09 f1:42.68\n",
    "# macro: p:43.28 r:20.66 f1:24.56"
   ]
  },
  {
   "cell_type": "markdown",
   "metadata": {},
   "source": [
    "# SGLThresh"
   ]
  },
  {
   "cell_type": "markdown",
   "metadata": {},
   "source": [
    "## SurrogateHeaviside definition"
   ]
  },
  {
   "cell_type": "code",
   "execution_count": 14,
   "metadata": {
    "ExecuteTime": {
     "end_time": "2020-03-18T10:45:03.059829Z",
     "start_time": "2020-03-18T10:45:03.035177Z"
    }
   },
   "outputs": [],
   "source": [
    "# device = 'cpu'\n",
    "\n",
    "class SurrogateHeaviside(torch.autograd.Function):\n",
    "    \n",
    "    # Activation function with surrogate gradient\n",
    "#     sigma = 100.0\n",
    "\n",
    "    @staticmethod \n",
    "    def forward(ctx, input, sigma):\n",
    "        \n",
    "        output = torch.zeros_like(input)\n",
    "        output[input > 0] = 1.0\n",
    "        ctx.save_for_backward(input, sigma)\n",
    "        return output\n",
    "\n",
    "    @staticmethod\n",
    "    def backward(ctx, grad_output):\n",
    "        \n",
    "        input, sigma = ctx.saved_tensors\n",
    "        grad_input = grad_output.clone()\n",
    "        # approximation of the gradient using sigmoid function\n",
    "        grad = grad_input*torch.sigmoid(sigma*input)*torch.sigmoid(-sigma*input)\n",
    "        \n",
    "        grad_sigma = None\n",
    "        \n",
    "        return grad, grad_sigma\n",
    "\n",
    "threshold_fn = SurrogateHeaviside.apply\n",
    "\n",
    "\n",
    "class ThresholdModel(nn.Module):\n",
    "    def __init__(self, threshold_fn, t=0.5, nb_classes=10):\n",
    "        super(ThresholdModel, self).__init__()\n",
    "        \n",
    "        # define nb_classes seuils differents, initialisés à 0.5\n",
    "\n",
    "#         self.dense = torch.nn.Linear(10, 10)\n",
    "\n",
    "        self.thresh = torch.nn.Parameter(t*torch.ones(nb_classes), requires_grad=True)\n",
    "        self.threshold_fn = threshold_fn\n",
    "        \n",
    "    \n",
    "    def forward(self, x, sigma):\n",
    "        out = self.threshold_fn(x.to(device, dtype=torch.float)-self.thresh.to(device, dtype=torch.float), sigma)\n",
    "#         out = out.clamp_(min=0.01, max=0.99)\n",
    "        # out = self.dense(x.to(device, dtype=torch.float))\n",
    "        # out = F.sigmoid(out)\n",
    "        # out = self.threshold_fn(out-F.sigmoid(self.thresh.to(device, dtype=torch.float)))\n",
    "        return out\n",
    "\n",
    "    \n",
    "    def clamp(self):\n",
    "        \n",
    "        self.thresh.data.clamp_(min=0., max=1.)\n",
    "\n",
    "        \n",
    "def F1_loss_objective(binarized_output, y_true):\n",
    "    # let's first convert binary vector prob into logits\n",
    "#     prob = torch.clamp(prob, 1.e-12, 0.9999999)\n",
    "    \n",
    "#     average = 'macro'\n",
    "    average = 'micro'\n",
    "    epsilon = torch.tensor(1e-12)\n",
    "    \n",
    "    if average == 'micro':\n",
    "        y_true = torch.flatten(y_true)\n",
    "        binarized_output = torch.flatten(binarized_output)\n",
    "        \n",
    "    true_positives = torch.sum(y_true * binarized_output, dim=0)\n",
    "    predicted_positives = torch.sum(binarized_output, dim=0)\n",
    "    positives = torch.sum(y_true, dim=0)\n",
    "    precision = true_positives / (predicted_positives + epsilon)\n",
    "    recall = true_positives / (positives + epsilon)\n",
    "\n",
    "    f1 = 2 * ((precision * recall) / (precision + recall + epsilon))\n",
    "#     return precision, recall, f1\n",
    "    return - f1.mean()\n",
    "    "
   ]
  },
  {
   "cell_type": "markdown",
   "metadata": {},
   "source": [
    "## numerical application"
   ]
  },
  {
   "cell_type": "code",
   "execution_count": 16,
   "metadata": {
    "ExecuteTime": {
     "end_time": "2020-03-18T10:46:05.704734Z",
     "start_time": "2020-03-18T10:46:02.571789Z"
    }
   },
   "outputs": [],
   "source": [
    "pth_test_probs = torch.tensor(test_outputs_numpy, dtype=torch.float).clone().detach().to(device, dtype=torch.float)\n",
    "pth_train_probs = torch.tensor(train_outputs_numpy, dtype=torch.float).clone().detach().to(device, dtype=torch.float)\n",
    "pth_test_gt = y_test_pth.to(device, dtype=torch.float)\n",
    "pth_train_gt = y_train_pth.to(device, dtype=torch.float)"
   ]
  },
  {
   "cell_type": "code",
   "execution_count": 21,
   "metadata": {
    "ExecuteTime": {
     "end_time": "2020-03-18T10:47:43.655861Z",
     "start_time": "2020-03-18T10:47:43.635014Z"
    }
   },
   "outputs": [],
   "source": [
    "THRESHmodel = ThresholdModel(threshold_fn=threshold_fn, t=0.3, nb_classes=nb_classes)\n",
    "THRESHmodel = THRESHmodel.to(device, dtype=torch.float)\n",
    "# criterion = torch.nn.BCELoss(reduction=\"mean\")\n",
    "criterion = F1_loss_objective\n",
    "\n",
    "learning_rate = 1e-3\n",
    "THRESHoptimizer = torch.optim.Adam(THRESHmodel.parameters(), lr=learning_rate)"
   ]
  },
  {
   "cell_type": "code",
   "execution_count": 22,
   "metadata": {
    "ExecuteTime": {
     "end_time": "2020-03-18T10:47:46.353912Z",
     "start_time": "2020-03-18T10:47:45.415707Z"
    }
   },
   "outputs": [
    {
     "name": "stdout",
     "output_type": "stream",
     "text": [
      "Epoch [1/200], Loss: -0.9024, Duration: 0.0 s\n",
      "Epoch [2/200], Loss: -0.9024, Duration: 0.0 s\n",
      "Epoch [3/200], Loss: -0.9025, Duration: 0.0 s\n",
      "Epoch [4/200], Loss: -0.9026, Duration: 0.0 s\n",
      "Epoch [5/200], Loss: -0.9027, Duration: 0.0 s\n",
      "Epoch [6/200], Loss: -0.9027, Duration: 0.0 s\n",
      "Epoch [7/200], Loss: -0.9028, Duration: 0.0 s\n",
      "Epoch [8/200], Loss: -0.9028, Duration: 0.0 s\n",
      "Epoch [9/200], Loss: -0.9029, Duration: 0.0 s\n",
      "Epoch [10/200], Loss: -0.9030, Duration: 0.0 s\n",
      "Epoch [11/200], Loss: -0.9031, Duration: 0.0 s\n",
      "Epoch [12/200], Loss: -0.9032, Duration: 0.0 s\n",
      "Epoch [13/200], Loss: -0.9035, Duration: 0.0 s\n",
      "Epoch [14/200], Loss: -0.9035, Duration: 0.0 s\n",
      "Epoch [15/200], Loss: -0.9036, Duration: 0.0 s\n",
      "Epoch [16/200], Loss: -0.9038, Duration: 0.0 s\n",
      "Epoch [17/200], Loss: -0.9039, Duration: 0.0 s\n",
      "Epoch [18/200], Loss: -0.9040, Duration: 0.0 s\n",
      "Epoch [19/200], Loss: -0.9041, Duration: 0.0 s\n",
      "Epoch [20/200], Loss: -0.9043, Duration: 0.0 s\n",
      "Epoch [21/200], Loss: -0.9043, Duration: 0.0 s\n",
      "Epoch [22/200], Loss: -0.9044, Duration: 0.0 s\n",
      "Epoch [23/200], Loss: -0.9046, Duration: 0.0 s\n",
      "Epoch [24/200], Loss: -0.9047, Duration: 0.0 s\n",
      "Epoch [25/200], Loss: -0.9047, Duration: 0.0 s\n",
      "Epoch [26/200], Loss: -0.9048, Duration: 0.0 s\n",
      "Epoch [27/200], Loss: -0.9050, Duration: 0.0 s\n",
      "Epoch [28/200], Loss: -0.9050, Duration: 0.0 s\n",
      "Epoch [29/200], Loss: -0.9053, Duration: 0.0 s\n",
      "Epoch [30/200], Loss: -0.9053, Duration: 0.0 s\n",
      "Epoch [31/200], Loss: -0.9054, Duration: 0.0 s\n",
      "Epoch [32/200], Loss: -0.9055, Duration: 0.0 s\n",
      "Epoch [33/200], Loss: -0.9056, Duration: 0.0 s\n",
      "Epoch [34/200], Loss: -0.9056, Duration: 0.0 s\n",
      "Epoch [35/200], Loss: -0.9057, Duration: 0.0 s\n",
      "Epoch [36/200], Loss: -0.9057, Duration: 0.0 s\n",
      "Epoch [37/200], Loss: -0.9058, Duration: 0.0 s\n",
      "Epoch [38/200], Loss: -0.9059, Duration: 0.0 s\n",
      "Epoch [39/200], Loss: -0.9059, Duration: 0.0 s\n",
      "Epoch [40/200], Loss: -0.9059, Duration: 0.0 s\n",
      "Epoch [41/200], Loss: -0.9060, Duration: 0.0 s\n",
      "Epoch [42/200], Loss: -0.9061, Duration: 0.0 s\n",
      "Epoch [43/200], Loss: -0.9062, Duration: 0.0 s\n",
      "Epoch [44/200], Loss: -0.9062, Duration: 0.0 s\n",
      "Epoch [45/200], Loss: -0.9062, Duration: 0.0 s\n",
      "Epoch [46/200], Loss: -0.9063, Duration: 0.0 s\n",
      "Epoch [47/200], Loss: -0.9064, Duration: 0.0 s\n",
      "Epoch [48/200], Loss: -0.9065, Duration: 0.0 s\n",
      "Epoch [49/200], Loss: -0.9065, Duration: 0.0 s\n",
      "Epoch [50/200], Loss: -0.9066, Duration: 0.0 s\n",
      "Epoch [51/200], Loss: -0.9067, Duration: 0.0 s\n",
      "Epoch [52/200], Loss: -0.9068, Duration: 0.0 s\n",
      "Epoch [53/200], Loss: -0.9068, Duration: 0.0 s\n",
      "Epoch [54/200], Loss: -0.9068, Duration: 0.0 s\n",
      "Epoch [55/200], Loss: -0.9069, Duration: 0.0 s\n",
      "Epoch [56/200], Loss: -0.9069, Duration: 0.0 s\n",
      "Epoch [57/200], Loss: -0.9071, Duration: 0.0 s\n",
      "Epoch [58/200], Loss: -0.9071, Duration: 0.0 s\n",
      "Epoch [59/200], Loss: -0.9071, Duration: 0.0 s\n",
      "Epoch [60/200], Loss: -0.9072, Duration: 0.0 s\n",
      "Epoch [61/200], Loss: -0.9072, Duration: 0.0 s\n",
      "Epoch [62/200], Loss: -0.9072, Duration: 0.0 s\n",
      "Epoch [63/200], Loss: -0.9073, Duration: 0.0 s\n",
      "Epoch [64/200], Loss: -0.9073, Duration: 0.0 s\n",
      "Epoch [65/200], Loss: -0.9073, Duration: 0.0 s\n",
      "Epoch [66/200], Loss: -0.9073, Duration: 0.0 s\n",
      "Epoch [67/200], Loss: -0.9073, Duration: 0.0 s\n",
      "Epoch [68/200], Loss: -0.9073, Duration: 0.0 s\n",
      "Epoch [69/200], Loss: -0.9074, Duration: 0.0 s\n",
      "Epoch [70/200], Loss: -0.9074, Duration: 0.0 s\n",
      "Epoch [71/200], Loss: -0.9075, Duration: 0.0 s\n",
      "Epoch [72/200], Loss: -0.9075, Duration: 0.0 s\n",
      "Epoch [73/200], Loss: -0.9075, Duration: 0.0 s\n",
      "Epoch [74/200], Loss: -0.9076, Duration: 0.0 s\n",
      "Epoch [75/200], Loss: -0.9077, Duration: 0.0 s\n",
      "Epoch [76/200], Loss: -0.9077, Duration: 0.0 s\n",
      "Epoch [77/200], Loss: -0.9077, Duration: 0.0 s\n",
      "Epoch [78/200], Loss: -0.9078, Duration: 0.0 s\n",
      "Epoch [79/200], Loss: -0.9078, Duration: 0.0 s\n",
      "Epoch [80/200], Loss: -0.9078, Duration: 0.0 s\n",
      "Epoch [81/200], Loss: -0.9077, Duration: 0.0 s\n",
      "Epoch [82/200], Loss: -0.9077, Duration: 0.0 s\n",
      "Epoch [83/200], Loss: -0.9077, Duration: 0.0 s\n",
      "Epoch [84/200], Loss: -0.9077, Duration: 0.0 s\n",
      "Epoch [85/200], Loss: -0.9078, Duration: 0.0 s\n",
      "Epoch [86/200], Loss: -0.9078, Duration: 0.0 s\n",
      "Epoch [87/200], Loss: -0.9078, Duration: 0.0 s\n",
      "Epoch [88/200], Loss: -0.9079, Duration: 0.0 s\n",
      "Epoch [89/200], Loss: -0.9079, Duration: 0.0 s\n",
      "Epoch [90/200], Loss: -0.9079, Duration: 0.0 s\n",
      "Epoch [91/200], Loss: -0.9078, Duration: 0.0 s\n",
      "Epoch [92/200], Loss: -0.9078, Duration: 0.0 s\n",
      "Epoch [93/200], Loss: -0.9078, Duration: 0.0 s\n",
      "Epoch [94/200], Loss: -0.9079, Duration: 0.0 s\n",
      "Epoch [95/200], Loss: -0.9079, Duration: 0.0 s\n",
      "Epoch [96/200], Loss: -0.9079, Duration: 0.0 s\n",
      "Epoch [97/200], Loss: -0.9079, Duration: 0.0 s\n",
      "Epoch [98/200], Loss: -0.9080, Duration: 0.0 s\n",
      "Epoch [99/200], Loss: -0.9080, Duration: 0.0 s\n",
      "Epoch [100/200], Loss: -0.9080, Duration: 0.0 s\n",
      "Epoch [101/200], Loss: -0.9080, Duration: 0.0 s\n",
      "Epoch [102/200], Loss: -0.9080, Duration: 0.0 s\n",
      "Epoch [103/200], Loss: -0.9080, Duration: 0.0 s\n",
      "Epoch [104/200], Loss: -0.9080, Duration: 0.0 s\n",
      "Epoch [105/200], Loss: -0.9081, Duration: 0.0 s\n",
      "Epoch [106/200], Loss: -0.9081, Duration: 0.0 s\n",
      "Epoch [107/200], Loss: -0.9081, Duration: 0.0 s\n",
      "Epoch [108/200], Loss: -0.9081, Duration: 0.0 s\n",
      "Epoch [109/200], Loss: -0.9081, Duration: 0.0 s\n",
      "Epoch [110/200], Loss: -0.9081, Duration: 0.0 s\n",
      "Epoch [111/200], Loss: -0.9081, Duration: 0.0 s\n",
      "Epoch [112/200], Loss: -0.9081, Duration: 0.0 s\n",
      "Epoch [113/200], Loss: -0.9081, Duration: 0.0 s\n",
      "Epoch [114/200], Loss: -0.9081, Duration: 0.0 s\n",
      "Epoch [115/200], Loss: -0.9081, Duration: 0.0 s\n",
      "Epoch [116/200], Loss: -0.9081, Duration: 0.0 s\n",
      "Epoch [117/200], Loss: -0.9081, Duration: 0.0 s\n",
      "Epoch [118/200], Loss: -0.9083, Duration: 0.0 s\n",
      "Epoch [119/200], Loss: -0.9083, Duration: 0.0 s\n",
      "Epoch [120/200], Loss: -0.9083, Duration: 0.0 s\n",
      "Epoch [121/200], Loss: -0.9083, Duration: 0.0 s\n",
      "Epoch [122/200], Loss: -0.9083, Duration: 0.0 s\n",
      "Epoch [123/200], Loss: -0.9083, Duration: 0.0 s\n",
      "Epoch [124/200], Loss: -0.9083, Duration: 0.0 s\n",
      "Epoch [125/200], Loss: -0.9082, Duration: 0.0 s\n",
      "Epoch [126/200], Loss: -0.9083, Duration: 0.0 s\n",
      "Epoch [127/200], Loss: -0.9083, Duration: 0.0 s\n",
      "Epoch [128/200], Loss: -0.9083, Duration: 0.0 s\n",
      "Epoch [129/200], Loss: -0.9083, Duration: 0.0 s\n",
      "Epoch [130/200], Loss: -0.9082, Duration: 0.0 s\n",
      "Epoch [131/200], Loss: -0.9082, Duration: 0.0 s\n",
      "Epoch [132/200], Loss: -0.9083, Duration: 0.0 s\n",
      "Epoch [133/200], Loss: -0.9083, Duration: 0.0 s\n",
      "Epoch [134/200], Loss: -0.9084, Duration: 0.0 s\n",
      "Epoch [135/200], Loss: -0.9084, Duration: 0.0 s\n",
      "Epoch [136/200], Loss: -0.9084, Duration: 0.0 s\n",
      "Epoch [137/200], Loss: -0.9084, Duration: 0.0 s\n",
      "Epoch [138/200], Loss: -0.9084, Duration: 0.0 s\n",
      "Epoch [139/200], Loss: -0.9084, Duration: 0.0 s\n",
      "Epoch [140/200], Loss: -0.9084, Duration: 0.0 s\n",
      "Epoch [141/200], Loss: -0.9084, Duration: 0.0 s\n",
      "Epoch [142/200], Loss: -0.9084, Duration: 0.0 s\n",
      "Epoch [143/200], Loss: -0.9084, Duration: 0.0 s\n",
      "Epoch [144/200], Loss: -0.9085, Duration: 0.0 s\n",
      "Epoch [145/200], Loss: -0.9085, Duration: 0.0 s\n",
      "Epoch [146/200], Loss: -0.9085, Duration: 0.0 s\n",
      "Epoch [147/200], Loss: -0.9085, Duration: 0.0 s\n",
      "Epoch [148/200], Loss: -0.9085, Duration: 0.0 s\n",
      "Epoch [149/200], Loss: -0.9085, Duration: 0.0 s\n",
      "Epoch [150/200], Loss: -0.9085, Duration: 0.0 s\n",
      "Epoch [151/200], Loss: -0.9085, Duration: 0.0 s\n",
      "Epoch [152/200], Loss: -0.9086, Duration: 0.0 s\n",
      "Epoch [153/200], Loss: -0.9086, Duration: 0.0 s\n",
      "Epoch [154/200], Loss: -0.9086, Duration: 0.0 s\n",
      "Epoch [155/200], Loss: -0.9087, Duration: 0.0 s\n",
      "Epoch [156/200], Loss: -0.9087, Duration: 0.0 s\n",
      "Epoch [157/200], Loss: -0.9087, Duration: 0.0 s\n",
      "Epoch [158/200], Loss: -0.9087, Duration: 0.0 s\n",
      "Epoch [159/200], Loss: -0.9088, Duration: 0.0 s\n",
      "Epoch [160/200], Loss: -0.9088, Duration: 0.0 s\n",
      "Epoch [161/200], Loss: -0.9088, Duration: 0.0 s\n",
      "Epoch [162/200], Loss: -0.9089, Duration: 0.0 s\n",
      "Epoch [163/200], Loss: -0.9090, Duration: 0.0 s\n",
      "Epoch [164/200], Loss: -0.9090, Duration: 0.0 s\n",
      "Epoch [165/200], Loss: -0.9091, Duration: 0.0 s\n",
      "Epoch [166/200], Loss: -0.9091, Duration: 0.0 s\n",
      "Epoch [167/200], Loss: -0.9091, Duration: 0.0 s\n",
      "Epoch [168/200], Loss: -0.9092, Duration: 0.0 s\n",
      "Epoch [169/200], Loss: -0.9093, Duration: 0.0 s\n",
      "Epoch [170/200], Loss: -0.9093, Duration: 0.0 s\n",
      "Epoch [171/200], Loss: -0.9093, Duration: 0.0 s\n",
      "Epoch [172/200], Loss: -0.9093, Duration: 0.0 s\n",
      "Epoch [173/200], Loss: -0.9093, Duration: 0.0 s\n",
      "Epoch [174/200], Loss: -0.9093, Duration: 0.0 s\n",
      "Epoch [175/200], Loss: -0.9093, Duration: 0.0 s\n",
      "Epoch [176/200], Loss: -0.9093, Duration: 0.0 s\n",
      "Epoch [177/200], Loss: -0.9093, Duration: 0.0 s\n",
      "Epoch [178/200], Loss: -0.9093, Duration: 0.0 s\n"
     ]
    },
    {
     "name": "stdout",
     "output_type": "stream",
     "text": [
      "Epoch [179/200], Loss: -0.9092, Duration: 0.0 s\n",
      "Epoch [180/200], Loss: -0.9092, Duration: 0.0 s\n",
      "Epoch [181/200], Loss: -0.9092, Duration: 0.0 s\n",
      "Epoch [182/200], Loss: -0.9092, Duration: 0.0 s\n",
      "Epoch [183/200], Loss: -0.9092, Duration: 0.0 s\n",
      "Epoch [184/200], Loss: -0.9093, Duration: 0.0 s\n",
      "Epoch [185/200], Loss: -0.9093, Duration: 0.0 s\n",
      "Epoch [186/200], Loss: -0.9093, Duration: 0.0 s\n",
      "Epoch [187/200], Loss: -0.9093, Duration: 0.0 s\n",
      "Epoch [188/200], Loss: -0.9093, Duration: 0.0 s\n",
      "Epoch [189/200], Loss: -0.9094, Duration: 0.0 s\n",
      "Epoch [190/200], Loss: -0.9094, Duration: 0.0 s\n",
      "Epoch [191/200], Loss: -0.9094, Duration: 0.0 s\n",
      "Epoch [192/200], Loss: -0.9094, Duration: 0.0 s\n",
      "Epoch [193/200], Loss: -0.9095, Duration: 0.0 s\n",
      "Epoch [194/200], Loss: -0.9095, Duration: 0.0 s\n",
      "Epoch [195/200], Loss: -0.9095, Duration: 0.0 s\n",
      "Epoch [196/200], Loss: -0.9095, Duration: 0.0 s\n",
      "Epoch [197/200], Loss: -0.9095, Duration: 0.0 s\n",
      "Epoch [198/200], Loss: -0.9095, Duration: 0.0 s\n",
      "Epoch [199/200], Loss: -0.9095, Duration: 0.0 s\n",
      "Epoch [200/200], Loss: -0.9095, Duration: 0.0 s\n",
      "delta: tensor([ 6.6191e-02,  2.5965e-02,  1.3558e-02, -2.2422e-02,  4.9174e-06,\n",
      "         9.2519e-03, -1.8754e-03,  1.1248e-01,  4.2174e-02,  5.5253e-02,\n",
      "         2.7849e-02,  4.6940e-02, -3.0369e-02,  0.0000e+00,  1.6090e-01,\n",
      "         6.4669e-02, -9.4088e-03,  3.0666e-03, -5.3701e-02,  5.0363e-02,\n",
      "         7.1909e-03, -2.7807e-02,  1.0553e-01, -4.0446e-02, -7.5631e-02,\n",
      "         2.1806e-04, -7.3229e-02,  5.1903e-03,  1.3954e-01,  1.0520e-01,\n",
      "        -9.4223e-02,  3.9008e-02,  2.4319e-05,  1.7831e-02,  1.0753e-03,\n",
      "         1.1264e-01, -4.6044e-02, -5.9605e-07, -1.3247e-01,  0.0000e+00,\n",
      "        -1.8234e-02,  4.1252e-02,  1.3425e-01,  4.5732e-02,  9.2606e-02,\n",
      "        -7.5777e-02,  7.8648e-02,  7.6345e-02,  5.0114e-02,  9.7644e-02,\n",
      "         3.2470e-04,  7.1081e-02,  1.2084e-01, -5.0031e-02, -2.0161e-02,\n",
      "         1.1441e-01,  2.1270e-02,  4.0090e-02,  1.1693e-01,  3.9250e-05,\n",
      "         9.1797e-03,  6.3708e-03, -1.2579e-01,  1.1925e-03, -1.5720e-01,\n",
      "         2.0931e-01,  8.0151e-03,  8.9182e-02,  6.2282e-02, -1.1746e-02,\n",
      "        -7.7284e-02,  4.2879e-02,  6.8972e-02, -5.7665e-02,  1.3935e-02,\n",
      "         4.5420e-02,  1.5265e-02, -1.4938e-02,  4.6096e-02,  2.0922e-03,\n",
      "        -2.9680e-02,  7.0232e-02,  5.0225e-02,  8.2236e-02,  6.1698e-02,\n",
      "         9.3493e-02, -5.1062e-02,  4.4433e-02,  1.2000e-01, -3.3336e-02,\n",
      "         4.3213e-06,  1.1995e-04,  1.2174e-02,  1.8899e-01,  6.2117e-02,\n",
      "         1.2395e-01,  4.8821e-02, -5.9187e-02, -1.4773e-01,  4.0205e-02,\n",
      "         1.9286e-01,  5.3651e-03,  4.5898e-02,  6.3144e-02,  7.2051e-02,\n",
      "        -6.4732e-02,  2.0169e-02, -5.3049e-02, -1.4258e-01,  4.9174e-06,\n",
      "         3.5913e-02,  2.1328e-01, -9.8469e-02, -3.9275e-02,  9.2149e-05,\n",
      "         1.9955e-02,  0.0000e+00,  1.9029e-02, -8.5686e-03,  2.3550e-02,\n",
      "         0.0000e+00,  1.2526e-01,  1.6941e-02, -4.6673e-04,  1.6779e-01,\n",
      "        -1.4059e-01,  0.0000e+00,  0.0000e+00,  5.9168e-02, -4.3154e-02,\n",
      "        -3.9621e-02,  7.8867e-03,  1.7967e-02, -8.2562e-02,  7.0745e-02,\n",
      "        -4.1426e-02,  0.0000e+00,  4.0040e-02,  3.0199e-02,  3.3427e-02,\n",
      "         1.5059e-01, -2.0504e-02,  4.5451e-02,  9.9396e-03, -6.8742e-02,\n",
      "         9.3870e-02,  8.8700e-02,  1.4250e-02,  1.8503e-01,  3.7616e-02,\n",
      "         1.9123e-02,  2.2395e-02,  4.8713e-02,  1.2924e-01,  3.5996e-02,\n",
      "        -9.8198e-02,  2.7939e-02,  9.4475e-02, -4.5154e-02])\n"
     ]
    },
    {
     "data": {
      "text/plain": [
       "[<matplotlib.lines.Line2D at 0x7f686031d668>]"
      ]
     },
     "execution_count": 22,
     "metadata": {},
     "output_type": "execute_result"
    },
    {
     "data": {
      "image/png": "[encoded data removed]",
      "text/plain": [
       "<Figure size 576x432 with 1 Axes>"
      ]
     },
     "metadata": {
      "needs_background": "light"
     },
     "output_type": "display_data"
    }
   ],
   "source": [
    "# Train the model, in batch mode\n",
    "num_epochs = 200\n",
    "# num_epochs = 12\n",
    "\n",
    "sigma = torch.nn.Parameter(torch.tensor(100.0), requires_grad=True)\n",
    "\n",
    "cumul_delta_thresh = torch.zeros(nb_classes,)\n",
    "delta_thresh = torch.zeros(nb_classes,)\n",
    "\n",
    "for el in THRESHmodel.parameters():\n",
    "    PREC_learned_AT_thresholds = el.clone().detach().cpu()\n",
    "\n",
    "losses = []\n",
    "for epoch in range(num_epochs):\n",
    "    \n",
    "    debut = time.time()\n",
    "    \n",
    "    THRESHmodel.train()\n",
    "    \n",
    "    # Forward pass\n",
    "    # inputs:  predictions_tensor\n",
    "    outputs = THRESHmodel(pth_train_probs, sigma)\n",
    "    \n",
    "#     if epoch % 10 == 0:\n",
    "#         print(outputs[-1])\n",
    "    loss = criterion(outputs, pth_train_gt)\n",
    "\n",
    "    # Backward and optimize\n",
    "    THRESHoptimizer.zero_grad()\n",
    "\n",
    "    loss.backward()\n",
    "#     loss.mean().backward()\n",
    "#         loss.backward(at_batch_y)\n",
    "    # loss.backward(torch.ones_like(loss))\n",
    "\n",
    "    THRESHoptimizer.step()\n",
    "    # THRESHmodel.clamp()\n",
    "    losses.append(loss)\n",
    "    \n",
    "    duree_epoch = time.time() - debut\n",
    "\n",
    "#     print ('Epoch [{}/{}], Loss: {:.4f}, Duration: {:.1f} s' \n",
    "#            .format(epoch+1, num_epochs, loss.mean(), duree_epoch))\n",
    "    print ('Epoch [{}/{}], Loss: {:.4f}, Duration: {:.1f} s' \n",
    "           .format(epoch+1, num_epochs, loss, duree_epoch))\n",
    "\n",
    "    for el in THRESHmodel.parameters():\n",
    "        learned_AT_thresholds = el.clone().detach().cpu()\n",
    "\n",
    "    delta_thresh = learned_AT_thresholds - PREC_learned_AT_thresholds\n",
    "    cumul_delta_thresh += delta_thresh\n",
    "    PREC_learned_AT_thresholds = learned_AT_thresholds\n",
    "#     if epoch % 10 == 0: print('threshs:', learned_AT_thresholds)\n",
    "    # if torch.sum(delta_thresh) < 0.01: break\n",
    "    \n",
    "print('delta:', cumul_delta_thresh)\n",
    "plt.figure(figsize=(8,6))\n",
    "plt.plot(losses)"
   ]
  },
  {
   "cell_type": "code",
   "execution_count": 23,
   "metadata": {
    "ExecuteTime": {
     "end_time": "2020-03-18T10:47:54.305868Z",
     "start_time": "2020-03-18T10:47:54.299882Z"
    }
   },
   "outputs": [],
   "source": [
    "for el in THRESHmodel.parameters():\n",
    "    learned_AT_thresholds = el.detach().cpu().numpy()\n",
    "# learned_AT_thresholds"
   ]
  },
  {
   "cell_type": "code",
   "execution_count": 24,
   "metadata": {
    "ExecuteTime": {
     "end_time": "2020-03-18T10:48:04.846339Z",
     "start_time": "2020-03-18T10:48:04.712218Z"
    }
   },
   "outputs": [
    {
     "name": "stdout",
     "output_type": "stream",
     "text": [
      "train\n",
      "micro: p:96.20 r:86.25 f1:90.95\n",
      "macro: p:96.54 r:84.18 f1:89.73\n",
      "test\n",
      "micro: p:64.48 r:31.26 f1:42.10\n",
      "macro: p:42.82 r:22.41 f1:25.84\n"
     ]
    }
   ],
   "source": [
    "train_pred = train_outputs_numpy>learned_AT_thresholds\n",
    "test_pred = test_outputs_numpy>learned_AT_thresholds\n",
    "print(\"train\")\n",
    "print_scores(y_train, train_pred)\n",
    "# compute_accuracy_from_numpy_tensors(y_train_numpy, train_pred)\n",
    "print(\"test\")\n",
    "print_scores(y_test, test_pred)\n",
    "# compute_accuracy_from_numpy_tensors(y_test_numpy, test_pred)\n",
    "\n",
    "# train\n",
    "# micro: p:87.23 r:59.87 f1:71.01\n",
    "# macro: p:87.00 r:50.22 f1:57.78\n",
    "# test\n",
    "# micro: p:67.37 r:31.65 f1:43.06\n",
    "# macro: p:43.73 r:21.28 f1:25.40"
   ]
  },
  {
   "cell_type": "code",
   "execution_count": null,
   "metadata": {
    "ExecuteTime": {
     "end_time": "2020-03-12T13:46:14.872499Z",
     "start_time": "2020-03-12T13:46:14.867676Z"
    }
   },
   "outputs": [],
   "source": [
    "# print_thresholds(learned_AT_thresholds, nb_classes)"
   ]
  },
  {
   "cell_type": "code",
   "execution_count": null,
   "metadata": {
    "ExecuteTime": {
     "end_time": "2020-03-10T14:34:26.862023Z",
     "start_time": "2020-03-10T14:34:26.852993Z"
    }
   },
   "outputs": [],
   "source": [
    "train\n",
    "micro: p:83.38 r:43.07 f1:56.80\n",
    "macro: p:70.37 r:31.97 f1:37.60\n",
    "test\n",
    "micro: p:70.68 r:26.67 f1:38.72\n",
    "macro: p:35.39 r:16.45 f1:19.58"
   ]
  },
  {
   "cell_type": "markdown",
   "metadata": {},
   "source": [
    "## numerical application, for loop"
   ]
  },
  {
   "cell_type": "code",
   "execution_count": 25,
   "metadata": {
    "ExecuteTime": {
     "end_time": "2020-03-18T10:51:58.024898Z",
     "start_time": "2020-03-18T10:51:45.610474Z"
    }
   },
   "outputs": [
    {
     "name": "stdout",
     "output_type": "stream",
     "text": [
      "sigma: 1.0\n",
      "train\n",
      "micro: p:97.49 r:84.43 f1:90.49\n",
      "macro: p:97.66 r:82.31 f1:89.16\n",
      "test\n",
      "micro: p:73.87 r:26.21 f1:38.69\n",
      "macro: p:47.28 r:17.22 f1:21.74\n",
      "sigma: 10.0\n",
      "train\n",
      "micro: p:97.00 r:84.79 f1:90.48\n",
      "macro: p:97.22 r:82.65 f1:89.17\n",
      "test\n",
      "micro: p:71.25 r:27.55 f1:39.73\n",
      "macro: p:47.09 r:18.46 f1:22.76\n",
      "sigma: 20.0\n",
      "train\n",
      "micro: p:96.74 r:85.00 f1:90.49\n",
      "macro: p:97.00 r:82.87 f1:89.20\n",
      "test\n",
      "micro: p:69.47 r:28.39 f1:40.31\n",
      "macro: p:45.85 r:19.22 f1:23.36\n",
      "sigma: 30.0\n",
      "train\n",
      "micro: p:96.88 r:85.52 f1:90.85\n",
      "macro: p:97.12 r:83.42 f1:89.56\n",
      "test\n",
      "micro: p:68.81 r:29.19 f1:40.99\n",
      "macro: p:44.19 r:19.91 f1:23.88\n",
      "sigma: 40.0\n",
      "train\n",
      "micro: p:96.67 r:85.95 f1:91.00\n",
      "macro: p:96.92 r:83.86 f1:89.72\n",
      "test\n",
      "micro: p:67.00 r:30.17 f1:41.60\n",
      "macro: p:43.28 r:20.98 f1:24.83\n",
      "sigma: 50.0\n",
      "train\n",
      "micro: p:96.61 r:86.11 f1:91.06\n",
      "macro: p:96.84 r:84.08 f1:89.81\n",
      "test\n",
      "micro: p:66.55 r:30.65 f1:41.97\n",
      "macro: p:44.12 r:21.60 f1:25.38\n",
      "sigma: 60.0\n",
      "train\n",
      "micro: p:96.53 r:86.19 f1:91.07\n",
      "macro: p:96.75 r:84.16 f1:89.81\n",
      "test\n",
      "micro: p:66.04 r:31.11 f1:42.30\n",
      "macro: p:44.33 r:22.22 f1:25.85\n",
      "sigma: 70.0\n",
      "train\n",
      "micro: p:96.48 r:86.21 f1:91.06\n",
      "macro: p:96.69 r:84.17 f1:89.79\n",
      "test\n",
      "micro: p:65.46 r:31.17 f1:42.24\n",
      "macro: p:43.68 r:22.36 f1:25.94\n",
      "sigma: 80.0\n",
      "train\n",
      "micro: p:96.51 r:86.18 f1:91.05\n",
      "macro: p:96.71 r:84.15 f1:89.78\n",
      "test\n",
      "micro: p:65.36 r:31.04 f1:42.10\n",
      "macro: p:43.29 r:22.22 f1:25.79\n",
      "sigma: 90.0\n",
      "train\n",
      "micro: p:96.34 r:86.25 f1:91.02\n",
      "macro: p:96.63 r:84.18 f1:89.76\n",
      "test\n",
      "micro: p:64.78 r:31.45 f1:42.34\n",
      "macro: p:43.12 r:22.58 f1:26.01\n",
      "sigma: 100.0\n",
      "train\n",
      "micro: p:96.20 r:86.25 f1:90.95\n",
      "macro: p:96.54 r:84.18 f1:89.73\n",
      "test\n",
      "micro: p:64.48 r:31.26 f1:42.10\n",
      "macro: p:42.82 r:22.41 f1:25.84\n",
      "sigma: 110.0\n",
      "train\n",
      "micro: p:96.13 r:86.24 f1:90.92\n",
      "macro: p:96.51 r:84.16 f1:89.70\n",
      "test\n",
      "micro: p:64.52 r:31.30 f1:42.16\n",
      "macro: p:42.75 r:22.40 f1:25.79\n",
      "sigma: 120.0\n",
      "train\n",
      "micro: p:96.08 r:86.25 f1:90.90\n",
      "macro: p:96.43 r:84.15 f1:89.66\n",
      "test\n",
      "micro: p:64.41 r:31.24 f1:42.07\n",
      "macro: p:43.12 r:22.26 f1:25.68\n",
      "sigma: 130.0\n",
      "train\n",
      "micro: p:96.09 r:86.24 f1:90.90\n",
      "macro: p:96.43 r:84.14 f1:89.65\n",
      "test\n",
      "micro: p:64.41 r:31.27 f1:42.10\n",
      "macro: p:43.71 r:22.33 f1:25.84\n",
      "sigma: 140.0\n",
      "train\n",
      "micro: p:96.05 r:86.23 f1:90.88\n",
      "macro: p:96.40 r:84.14 f1:89.64\n",
      "test\n",
      "micro: p:64.22 r:31.30 f1:42.09\n",
      "macro: p:43.37 r:22.37 f1:25.86\n"
     ]
    },
    {
     "data": {
      "image/png": "[encoded data removed]",
      "text/plain": [
       "<Figure size 576x432 with 1 Axes>"
      ]
     },
     "metadata": {
      "needs_background": "light"
     },
     "output_type": "display_data"
    },
    {
     "data": {
      "image/png": "[encoded data removed]",
      "text/plain": [
       "<Figure size 576x432 with 1 Axes>"
      ]
     },
     "metadata": {
      "needs_background": "light"
     },
     "output_type": "display_data"
    },
    {
     "data": {
      "image/png": "[encoded data removed]",
      "text/plain": [
       "<Figure size 576x432 with 1 Axes>"
      ]
     },
     "metadata": {
      "needs_background": "light"
     },
     "output_type": "display_data"
    },
    {
     "data": {
      "image/png": "[encoded data removed]",
      "text/plain": [
       "<Figure size 576x432 with 1 Axes>"
      ]
     },
     "metadata": {
      "needs_background": "light"
     },
     "output_type": "display_data"
    },
    {
     "data": {
      "image/png": "[encoded data removed]",
      "text/plain": [
       "<Figure size 576x432 with 1 Axes>"
      ]
     },
     "metadata": {
      "needs_background": "light"
     },
     "output_type": "display_data"
    },
    {
     "data": {
      "image/png": "[encoded data removed]",
      "text/plain": [
       "<Figure size 576x432 with 1 Axes>"
      ]
     },
     "metadata": {
      "needs_background": "light"
     },
     "output_type": "display_data"
    },
    {
     "data": {
      "image/png": "[encoded data removed]",
      "text/plain": [
       "<Figure size 576x432 with 1 Axes>"
      ]
     },
     "metadata": {
      "needs_background": "light"
     },
     "output_type": "display_data"
    },
    {
     "data": {
      "image/png": "[encoded data removed]",
      "text/plain": [
       "<Figure size 576x432 with 1 Axes>"
      ]
     },
     "metadata": {
      "needs_background": "light"
     },
     "output_type": "display_data"
    },
    {
     "data": {
      "image/png": "[encoded data removed]",
      "text/plain": [
       "<Figure size 576x432 with 1 Axes>"
      ]
     },
     "metadata": {
      "needs_background": "light"
     },
     "output_type": "display_data"
    },
    {
     "data": {
      "image/png": "[encoded data removed]",
      "text/plain": [
       "<Figure size 576x432 with 1 Axes>"
      ]
     },
     "metadata": {
      "needs_background": "light"
     },
     "output_type": "display_data"
    },
    {
     "data": {
      "image/png": "[encoded data removed]",
      "text/plain": [
       "<Figure size 576x432 with 1 Axes>"
      ]
     },
     "metadata": {
      "needs_background": "light"
     },
     "output_type": "display_data"
    },
    {
     "data": {
      "image/png": "[encoded data removed]",
      "text/plain": [
       "<Figure size 576x432 with 1 Axes>"
      ]
     },
     "metadata": {
      "needs_background": "light"
     },
     "output_type": "display_data"
    },
    {
     "data": {
      "image/png": "[encoded data removed]",
      "text/plain": [
       "<Figure size 576x432 with 1 Axes>"
      ]
     },
     "metadata": {
      "needs_background": "light"
     },
     "output_type": "display_data"
    },
    {
     "data": {
      "image/png": "[encoded data removed]",
      "text/plain": [
       "<Figure size 576x432 with 1 Axes>"
      ]
     },
     "metadata": {
      "needs_background": "light"
     },
     "output_type": "display_data"
    },
    {
     "data": {
      "image/png": "[encoded data removed]",
      "text/plain": [
       "<Figure size 576x432 with 1 Axes>"
      ]
     },
     "metadata": {
      "needs_background": "light"
     },
     "output_type": "display_data"
    }
   ],
   "source": [
    "criterion = F1_loss_objective\n",
    "fh = open(\"datasets/bibtex/sglthresh_bibtex_F1obj_micro_sigma_LabelPowerset.txt\",\"wt\")\n",
    "# fh = open(\"datasets/bibtex/sglthresh_bibtex_F1obj_micro_sigma_myNetwork.txt\",\"wt\")\n",
    "\n",
    "# criterion = torch.nn.BCELoss(reduction=\"mean\")\n",
    "# fh = open(\"datasets/emotions/sglthresh_emotions_BCEobj_micro_sigma.txt\",\"wt\")\n",
    "\n",
    "learning_rate = 1e-3\n",
    "num_epochs = 200\n",
    "fh.write(\"a,f1train,ptrain,rtrain,f1test,ptest,rtest\\n\")\n",
    "metrics_list = []\n",
    "scale_param_values_list = []\n",
    "\n",
    "scale_list = range(1, 150, 10) # F1\n",
    "# scale_list = range(1, 80, 5) # BCE\n",
    "\n",
    "for sigma_value in scale_list:\n",
    "    \n",
    "    sigma_value = float(sigma_value)\n",
    "    if sigma_value>1: sigma_value-=1.\n",
    "    scale_param_values_list.append(sigma_value)\n",
    "        \n",
    "    print(\"sigma:\", sigma_value)\n",
    "    \n",
    "    THRESHmodel = ThresholdModel(threshold_fn=threshold_fn, t=0.3, nb_classes=nb_classes)\n",
    "    THRESHmodel = THRESHmodel.to(device, dtype=torch.float)\n",
    "    # criterion = torch.nn.BCELoss(reduction=\"mean\")\n",
    "    THRESHoptimizer = torch.optim.Adam(THRESHmodel.parameters(), lr=learning_rate)\n",
    "\n",
    "\n",
    "    sigma = torch.nn.Parameter(torch.tensor(sigma_value), requires_grad=True)\n",
    "\n",
    "    cumul_delta_thresh = torch.zeros(nb_classes,)\n",
    "    delta_thresh = torch.zeros(nb_classes,)\n",
    "\n",
    "    for el in THRESHmodel.parameters():\n",
    "        PREC_learned_AT_thresholds = el.clone().detach().cpu()\n",
    "\n",
    "    losses = []\n",
    "    for epoch in range(num_epochs):\n",
    "\n",
    "        debut = time.time()\n",
    "\n",
    "        THRESHmodel.train()\n",
    "\n",
    "        # Forward pass\n",
    "        # inputs:  predictions_tensor\n",
    "        outputs = THRESHmodel(pth_train_probs, sigma)\n",
    "\n",
    "    #     if epoch % 10 == 0:\n",
    "    #         print(outputs[-1])\n",
    "        loss = criterion(outputs, pth_train_gt)\n",
    "\n",
    "        # Backward and optimize\n",
    "        THRESHoptimizer.zero_grad()\n",
    "\n",
    "        loss.backward()\n",
    "    #     loss.mean().backward()\n",
    "    #         loss.backward(at_batch_y)\n",
    "        # loss.backward(torch.ones_like(loss))\n",
    "\n",
    "        THRESHoptimizer.step()\n",
    "        # THRESHmodel.clamp()\n",
    "        losses.append(loss)\n",
    "\n",
    "        duree_epoch = time.time() - debut\n",
    "\n",
    "#         print ('Epoch [{}/{}], Loss: {:.4f}, Duration: {:.1f} s' \n",
    "#                .format(epoch+1, num_epochs, loss, duree_epoch))\n",
    "\n",
    "        for el in THRESHmodel.parameters():\n",
    "            learned_AT_thresholds = el.clone().detach().cpu()\n",
    "\n",
    "        delta_thresh = learned_AT_thresholds - PREC_learned_AT_thresholds\n",
    "        cumul_delta_thresh += delta_thresh\n",
    "        PREC_learned_AT_thresholds = learned_AT_thresholds\n",
    "#         if epoch % 10 == 0: print('threshs:', learned_AT_thresholds)\n",
    "        # if torch.sum(delta_thresh) < 0.01: break\n",
    "\n",
    "#     print('delta:', cumul_delta_thresh)\n",
    "    plt.figure(figsize=(8,6))\n",
    "    plt.plot(losses)\n",
    "    \n",
    "    for el in THRESHmodel.parameters():\n",
    "        learned_AT_thresholds = el.detach().cpu().numpy()\n",
    "    \n",
    "    train_pred = train_outputs_numpy>learned_AT_thresholds\n",
    "    test_pred = test_outputs_numpy>learned_AT_thresholds\n",
    "    print(\"train\")\n",
    "    print_scores(y_train, train_pred)\n",
    "    # compute_accuracy_from_numpy_tensors(y_train_numpy, train_pred)\n",
    "    print(\"test\")\n",
    "    print_scores(y_test, test_pred)\n",
    "    \n",
    "    p2, r2, fscore2, support = precision_recall_fscore_support(y_train, train_pred, pos_label=1, average='micro')\n",
    "#     p3, r3, fscore3, support = precision_recall_fscore_support(gt_y, preds, pos_label=1, average='macro')\n",
    "    p2te, r2te, fscore2te, _ = precision_recall_fscore_support(y_test, test_pred, pos_label=1, average='micro')\n",
    "\n",
    "    fh.write(\"%.2f,%.2f,%.2f,%.2f,%.2f,%.2f,%.2f\\n\"%(sigma_value, 100.*fscore2, 100.*p2, 100.*r2, \n",
    "                                                   100.*fscore2te, 100.*p2te, 100.*r2te))\n",
    "    metrics_list.append([p2, r2, fscore2, p2te, r2te, fscore2te])\n",
    "    \n",
    "fh.close()"
   ]
  },
  {
   "cell_type": "code",
   "execution_count": 27,
   "metadata": {
    "ExecuteTime": {
     "end_time": "2020-03-18T10:52:48.050008Z",
     "start_time": "2020-03-18T10:52:47.503273Z"
    }
   },
   "outputs": [
    {
     "data": {
      "image/png": "[encoded data removed]",
      "text/plain": [
       "<Figure size 864x576 with 2 Axes>"
      ]
     },
     "metadata": {
      "needs_background": "light"
     },
     "output_type": "display_data"
    }
   ],
   "source": [
    "def plot_influence_de_a(scale_param_values, ptest, rtest, f1test, peval, reval, f1eval):\n",
    "    \n",
    "    fontsize=12\n",
    "    fig, (ax1, ax2) = plt.subplots(1, 2, sharey=True, figsize=(12,8))\n",
    "\n",
    "    xlimsup=140\n",
    "#     xlimsup=30\n",
    "    \n",
    "    ax1.plot(scale_param_values, ptest, '-+', label='precision - SGLThresh')\n",
    "    ax1.plot(scale_param_values, rtest, label='recall - SGLThresh')\n",
    "    ax1.plot(scale_param_values, f1test, '-o', label='F1 - SGLThresh')\n",
    "#     ax1.plot([1, xlimsup], [0.5678, 0.5678], '-.', label='F1 - static')\n",
    "#     ax1.plot([1, xlimsup], [0.6128, 0.6128], '--', label='F1 - numThresh')\n",
    "    ax1.legend(fontsize=fontsize)\n",
    "    ax1.tick_params(axis='x', labelsize=fontsize)\n",
    "    ax1.tick_params(axis='y', labelsize=fontsize)\n",
    "    ax1.set_xlabel('Sigmoid scale parameter',fontsize=fontsize)\n",
    "#     ax1.set_ylim([0.52, 0.66])\n",
    "    ax1.set_title(\"Train subset\",fontsize=14)\n",
    "    \n",
    "    ax2.plot(scale_param_values, peval, '-+', label='precision - SGLThresh')\n",
    "    ax2.plot(scale_param_values, reval, '-', label='recall - SGLThresh')\n",
    "    ax2.plot(scale_param_values, f1eval, '-o', label='F1 - SGLThresh')\n",
    "#     ax2.plot([1, xlimsup], [0.5509, 0.5509], '-.', label='F1 - static')\n",
    "#     ax2.plot([1, xlimsup], [0.5828, 0.5828], '--', label='F1 - numThresh')\n",
    "#     ax2.legend(fontsize=fontsize)\n",
    "    ax2.tick_params(axis='x', labelsize=fontsize)\n",
    "    ax2.set_xlabel(\"Sigmoid scale parameter\",fontsize=fontsize)\n",
    "    ax2.set_title(\"Test subset\",fontsize=14)\n",
    "#     plt.suptitle(\"BCE objective\",fontsize=16)\n",
    "#     plt.savefig(\"influence_du_sigmoid_scale_param_objective_BCE.png\")\n",
    "#     plt.suptitle(\"F1 objective\",fontsize=16)\n",
    "#     plt.savefig(\"datasets/emotions/influence_du_sigmoid_scale_param_objective_F1_LabelPowerset.png\")\n",
    "#     plt.savefig(\"datasets/emotions/influence_du_sigmoid_scale_param_objective_F1_myNetwork.png\")\n",
    "\n",
    "metrics_array = np.array(metrics_list)\n",
    "scale_param_values = np.array(scale_param_values_list)\n",
    "# scale_param_values = np.array(range(1, 80, 5))\n",
    "plot_influence_de_a(scale_param_values, metrics_array[:,0], metrics_array[:,1], metrics_array[:,2], metrics_array[:,3], metrics_array[:,4], metrics_array[:,5])    "
   ]
  },
  {
   "cell_type": "markdown",
   "metadata": {},
   "source": [
    "# NumThresh"
   ]
  },
  {
   "cell_type": "code",
   "execution_count": 12,
   "metadata": {
    "ExecuteTime": {
     "end_time": "2020-03-18T12:23:28.556121Z",
     "start_time": "2020-03-18T12:23:28.550194Z"
    }
   },
   "outputs": [],
   "source": [
    "from opt import Adam\n",
    "from sklearn import metrics"
   ]
  },
  {
   "cell_type": "markdown",
   "metadata": {
    "heading_collapsed": true
   },
   "source": [
    "## utility function for F1 with multiprocessing: TODO"
   ]
  },
  {
   "cell_type": "code",
   "execution_count": null,
   "metadata": {
    "ExecuteTime": {
     "end_time": "2020-03-12T15:33:36.287046Z",
     "start_time": "2020-03-12T15:33:36.229611Z"
    },
    "hidden": true
   },
   "outputs": [],
   "source": [
    "# # multiprocessing\n",
    "\n",
    "# def calculate_f1(y_true, output, thresholds, average):\n",
    "#     \"\"\"Calculate F1 score.\n",
    "#     Args:\n",
    "#       y_true: (N, (optional)frames_num], classes_num)\n",
    "#       output: (N, (optional)[frames_num], classes_num)\n",
    "#       thresholds: (classes_num,), initial thresholds\n",
    "#       average: 'micro' | 'macro'\n",
    "#     \"\"\"\n",
    "#     if y_true.ndim == 3:\n",
    "#         (N, T, F) = y_true.shape\n",
    "#         y_true = y_true.reshape((N * T, F))\n",
    "#         output = output.reshape((N * T, F))\n",
    "\n",
    "#     classes_num = y_true.shape[-1]\n",
    "#     binarized_output = np.zeros_like(output)\n",
    "# #     print('class num:', classes_num)\n",
    "    \n",
    "#     for k in range(classes_num):\n",
    "#         binarized_output[:, k] = (np.sign(output[:, k] - thresholds[k]) + 1) // 2\n",
    "\n",
    "#     if average == 'micro':\n",
    "#         return metrics.f1_score(y_true.flatten(), binarized_output.flatten())\n",
    "    \n",
    "#     f1_array = []\n",
    "#     for k in range(classes_num):\n",
    "#         f1_array.append(metrics.f1_score(y_true[:, k], binarized_output[:, k]))\n",
    "\n",
    "#     if average == 'macro':\n",
    "#         return np.average(f1_array)\n",
    "#     elif average is None:\n",
    "#         return f1_array\n",
    "#     else:\n",
    "#         raise Exception('Incorrect argument!')\n",
    "\n",
    "\n",
    "        \n",
    "# def single_class_calculate_at_gradient(y_true, output, average, thresholds):\n",
    "# # def single_class_calculate_at_gradient(params):\n",
    "#     \"\"\"Used with multiprocessing\"\"\"\n",
    "    \n",
    "# #     print(\"params\", len(params))\n",
    "# #     print(params)\n",
    "# #     thresholds, y_true, output, average = params\n",
    "    \n",
    "#     classes_num = len(thresholds)\n",
    "#     delta = 0.01\n",
    "#     grads = []\n",
    "    \n",
    "#     f1 = calculate_f1(y_true, output, thresholds, average)\n",
    "    \n",
    "#     for k, threshold in enumerate(thresholds):\n",
    "#         new_thresholds = thresholds.copy()\n",
    "#         cnt = 0\n",
    "#         while cnt < classes_num:\n",
    "#             cnt += 1\n",
    "#             new_thresholds[k] += delta\n",
    "#             f1_new = calculate_f1(y_true, output, new_thresholds, average)\n",
    "#             if f1_new != f1:\n",
    "#                 break\n",
    "\n",
    "#         grad = (f1_new - f1) / (delta * cnt)\n",
    "#         grads.append(grad)\n",
    "#         return grads\n",
    "        \n",
    "        \n",
    "# def calculate_at_gradient(y_true, output, thresholds, average):\n",
    "#     \"\"\"Calculate gradient of thresholds numerically.\n",
    "#     Args:\n",
    "#       y_true: (N, (optional)frames_num], classes_num)\n",
    "#       output: (N, (optional)[frames_num], classes_num)\n",
    "#       thresholds: (classes_num,), initial thresholds\n",
    "#       average: 'micro' | 'macro'\n",
    "#     Returns:\n",
    "#       grads: vector\n",
    "#     \"\"\"\n",
    "#     f1 = calculate_f1(y_true, output, thresholds, average)\n",
    "#     classes_num = len(thresholds)\n",
    "# #     delta = 0.01\n",
    "# #     grads = []\n",
    "    \n",
    "# #     print(\"calculate_at_gradient, f1:\", f1)\n",
    "#     nb_lists_comprised_of_ten_thresh = len(thresholds)//10\n",
    "    \n",
    "#     ten_threshold_chunks = [thresholds[i*10:(i+1)*10] for i in range(nb_lists_comprised_of_ten_thresh)]\n",
    "#     print(\"ten_threshold_chunks\", len(ten_threshold_chunks))\n",
    "#     print(ten_threshold_chunks[0])\n",
    "#     print(ten_threshold_chunks[-1])\n",
    "    \n",
    "#     pool = Pool(processes=10)\n",
    "#     func = partial(single_class_calculate_at_gradient, y_true, output, average)\n",
    "    \n",
    "#     gradients = pool.map(func, ten_threshold_chunks)\n",
    "    \n",
    "#     return gradients\n",
    "\n",
    "\n",
    "# def optimize_at_with_gd(y_true, output, thresholds, average):\n",
    "#     \"\"\"Optimize thresholds for AT.\n",
    "#     Args:\n",
    "#       y_true: (N, (optional)frames_num], classes_num)\n",
    "#       output: (N, (optional)[frames_num], classes_num)\n",
    "#       thresholds: (classes_num,), initial thresholds\n",
    "#       average: 'micro' | 'macro'\n",
    "#     Returns:\n",
    "#       metric: float\n",
    "#       thresholds: vector\n",
    "#     \"\"\"\n",
    "#     opt = Adam()\n",
    "#     opt.alpha = 1e-2\n",
    "#     metric_asfo_epoch = []\n",
    "    \n",
    "# #     n_epochs = 100\n",
    "#     n_epochs = 1\n",
    "    \n",
    "#     for i in range(n_epochs):\n",
    "#         grads = calculate_at_gradient(y_true, output, thresholds, average)\n",
    "# #         if i==0: print(\"grads:\", grads)\n",
    "#         grads = [-e for e in grads]\n",
    "#         thresholds = opt.GetNewParams(thresholds, grads)\n",
    "#         metric = calculate_f1(y_true, output, thresholds, average)\n",
    "#         if i%50==0:\n",
    "#             print('Iteration: {}, Score: {:.3f}, thresholds: {}'.format(\n",
    "#                 i, metric, np.array(thresholds)))\n",
    "#         metric_asfo_epoch.append(metric)\n",
    "        \n",
    "#     return metric, thresholds, metric_asfo_epoch\n"
   ]
  },
  {
   "cell_type": "code",
   "execution_count": null,
   "metadata": {
    "ExecuteTime": {
     "end_time": "2020-03-12T15:33:37.051551Z",
     "start_time": "2020-03-12T15:33:37.032449Z"
    },
    "hidden": true
   },
   "outputs": [],
   "source": [
    "l = [[1], [2]]\n",
    "t = tuple(l)\n",
    "l, t"
   ]
  },
  {
   "cell_type": "markdown",
   "metadata": {
    "heading_collapsed": true
   },
   "source": [
    "## utility function for F1 w/o multiprocessing"
   ]
  },
  {
   "cell_type": "code",
   "execution_count": 13,
   "metadata": {
    "ExecuteTime": {
     "end_time": "2020-03-18T12:23:31.487496Z",
     "start_time": "2020-03-18T12:23:31.460457Z"
    },
    "hidden": true
   },
   "outputs": [],
   "source": [
    "def calculate_f1(y_true, output, thresholds, average):\n",
    "    \"\"\"Calculate F1 score.\n",
    "    Args:\n",
    "      y_true: (N, (optional)frames_num], classes_num)\n",
    "      output: (N, (optional)[frames_num], classes_num)\n",
    "      thresholds: (classes_num,), initial thresholds\n",
    "      average: 'micro' | 'macro'\n",
    "    \"\"\"\n",
    "    if y_true.ndim == 3:\n",
    "        (N, T, F) = y_true.shape\n",
    "        y_true = y_true.reshape((N * T, F))\n",
    "        output = output.reshape((N * T, F))\n",
    "\n",
    "    classes_num = y_true.shape[-1]\n",
    "    binarized_output = np.zeros_like(output)\n",
    "\n",
    "    for k in range(classes_num):\n",
    "        binarized_output[:, k] = (np.sign(output[:, k] - thresholds[k]) + 1) // 2\n",
    "\n",
    "    if average == 'micro':\n",
    "        return metrics.f1_score(y_true.flatten(), binarized_output.flatten())\n",
    "    \n",
    "    f1_array = []\n",
    "    for k in range(classes_num):\n",
    "        f1_array.append(metrics.f1_score(y_true[:, k], binarized_output[:, k]))\n",
    "\n",
    "    if average == 'macro':\n",
    "        return np.average(f1_array)\n",
    "    elif average is None:\n",
    "        return f1_array\n",
    "    else:\n",
    "        raise Exception('Incorrect argument!')\n",
    "\n",
    "\n",
    "def calculate_at_gradient(y_true, output, thresholds, average):\n",
    "    \"\"\"Calculate gradient of thresholds numerically.\n",
    "    Args:\n",
    "      y_true: (N, (optional)frames_num], classes_num)\n",
    "      output: (N, (optional)[frames_num], classes_num)\n",
    "      thresholds: (classes_num,), initial thresholds\n",
    "      average: 'micro' | 'macro'\n",
    "    Returns:\n",
    "      grads: vector\n",
    "    \"\"\"\n",
    "    f1 = calculate_f1(y_true, output, thresholds, average)\n",
    "    delta = 0.01\n",
    "    grads = []\n",
    "\n",
    "    for k, threshold in enumerate(thresholds):\n",
    "        new_thresholds = thresholds.copy()\n",
    "        delta = 0.01\n",
    "        cnt = 0\n",
    "        while cnt < 10:\n",
    "            cnt += 1\n",
    "            new_thresholds[k] += delta\n",
    "            f1_new = calculate_f1(y_true, output, new_thresholds, average)\n",
    "\n",
    "            if f1_new != f1:\n",
    "                break\n",
    "\n",
    "        grad = (f1_new - f1) / (delta * cnt)\n",
    "        grads.append(grad)\n",
    "\n",
    "    return grads\n",
    "\n",
    "\n",
    "def optimize_at_with_gd(y_true, output, thresholds, average):\n",
    "    \"\"\"Optimize thresholds for AT.\n",
    "    Args:\n",
    "      y_true: (N, (optional)frames_num], classes_num)\n",
    "      output: (N, (optional)[frames_num], classes_num)\n",
    "      thresholds: (classes_num,), initial thresholds\n",
    "      average: 'micro' | 'macro'\n",
    "    Returns:\n",
    "      metric: float\n",
    "      thresholds: vector\n",
    "    \"\"\"\n",
    "    opt = Adam()\n",
    "    opt.alpha = 1e-2\n",
    "    metric_asfo_epoch = []\n",
    "    for i in range(100):\n",
    "        grads = calculate_at_gradient(y_true, output, thresholds, average)\n",
    "        grads = [-e for e in grads]\n",
    "        thresholds = opt.GetNewParams(thresholds, grads)\n",
    "        metric = calculate_f1(y_true, output, thresholds, average)\n",
    "        if i%50==0:\n",
    "            print('Iteration: {}, Score: {:.3f}, thresholds: {}'.format(\n",
    "                i, metric, np.array(thresholds)))\n",
    "        metric_asfo_epoch.append(metric)\n",
    "        fin=time.time()-debut\n",
    "        print(\" epoch duration: %.0f sec\"%fin)\n",
    "    return metric, thresholds, metric_asfo_epoch\n"
   ]
  },
  {
   "cell_type": "markdown",
   "metadata": {},
   "source": [
    "## numerical application"
   ]
  },
  {
   "cell_type": "code",
   "execution_count": 16,
   "metadata": {
    "ExecuteTime": {
     "end_time": "2020-03-18T19:27:10.218581Z",
     "start_time": "2020-03-18T12:25:12.418541Z"
    }
   },
   "outputs": [
    {
     "name": "stdout",
     "output_type": "stream",
     "text": [
      "computation start time: 1584534312.4281003\n",
      "test manual_thres f1: 0.424\n",
      "Iteration: 0, Score: 0.903, thresholds: [0.30541829 0.29781373 0.29861826 0.29468563 0.3        0.29634972\n",
      " 0.29156819 0.30790184 0.3        0.30394852 0.3        0.3\n",
      " 0.29781373 0.3        0.30790184 0.30790184 0.29382932 0.3\n",
      " 0.30210091 0.30394852 0.3        0.2980762  0.30932352 0.29156819\n",
      " 0.3        0.3        0.3        0.29536711 0.30541829 0.30306787\n",
      " 0.3        0.3        0.3        0.3        0.3        0.30210091\n",
      " 0.29634972 0.3        0.3        0.3        0.3        0.3\n",
      " 0.30306787 0.3        0.30249696 0.3        0.30394852 0.30651858\n",
      " 0.3        0.30249696 0.3        0.30541829 0.30790184 0.29156819\n",
      " 0.29828328 0.30181142 0.3        0.3        0.30181142 0.3\n",
      " 0.3        0.29382932 0.3        0.29382932 0.3        0.30127873\n",
      " 0.30790184 0.30249696 0.30306787 0.30394852 0.3        0.3\n",
      " 0.30541829 0.3        0.3        0.30790198 0.29634972 0.30249696\n",
      " 0.3        0.2980762  0.30306787 0.30541829 0.30306787 0.30541829\n",
      " 0.30790184 0.30790184 0.29277309 0.3        0.30394852 0.29382932\n",
      " 0.3        0.3        0.3        0.3014181  0.30790184 0.30159112\n",
      " 0.3        0.30306787 0.3        0.3        0.30790184 0.3\n",
      " 0.3        0.30541829 0.30394852 0.30790184 0.3        0.29156819\n",
      " 0.3        0.3        0.29845061 0.30210091 0.29382932 0.29382932\n",
      " 0.3        0.3        0.3        0.30541829 0.29781373 0.3\n",
      " 0.3        0.30159112 0.29591066 0.3        0.30790184 0.3\n",
      " 0.3        0.3        0.30790184 0.29047243 0.29156819 0.30790184\n",
      " 0.3        0.3        0.30541829 0.29861826 0.3        0.3\n",
      " 0.3        0.2980762  0.3014181  0.29156808 0.30306787 0.29634972\n",
      " 0.29382932 0.30306787 0.30888297 0.29930413 0.30541829 0.30790184\n",
      " 0.29781373 0.30394852 0.30394852 0.30306787 0.3        0.3\n",
      " 0.30790184 0.30249696 0.29634972]\n",
      " epoch duration: 211 sec\n",
      " epoch duration: 424 sec\n",
      " epoch duration: 640 sec\n",
      " epoch duration: 871 sec\n",
      " epoch duration: 1098 sec\n",
      " epoch duration: 1327 sec\n",
      " epoch duration: 1557 sec\n",
      " epoch duration: 1792 sec\n",
      " epoch duration: 2029 sec\n",
      " epoch duration: 2264 sec\n",
      " epoch duration: 2505 sec\n",
      " epoch duration: 2745 sec\n",
      " epoch duration: 2986 sec\n",
      " epoch duration: 3230 sec\n",
      " epoch duration: 3472 sec\n",
      " epoch duration: 3714 sec\n",
      " epoch duration: 3958 sec\n",
      " epoch duration: 4198 sec\n",
      " epoch duration: 4445 sec\n",
      " epoch duration: 4693 sec\n",
      " epoch duration: 4946 sec\n",
      " epoch duration: 5202 sec\n",
      " epoch duration: 5456 sec\n",
      " epoch duration: 5708 sec\n",
      " epoch duration: 5957 sec\n",
      " epoch duration: 6203 sec\n",
      " epoch duration: 6449 sec\n",
      " epoch duration: 6703 sec\n",
      " epoch duration: 6960 sec\n",
      " epoch duration: 7216 sec\n",
      " epoch duration: 7473 sec\n",
      " epoch duration: 7728 sec\n",
      " epoch duration: 7981 sec\n",
      " epoch duration: 8240 sec\n",
      " epoch duration: 8498 sec\n",
      " epoch duration: 8749 sec\n",
      " epoch duration: 9003 sec\n",
      " epoch duration: 9259 sec\n",
      " epoch duration: 9515 sec\n",
      " epoch duration: 9771 sec\n",
      " epoch duration: 10026 sec\n",
      " epoch duration: 10285 sec\n",
      " epoch duration: 10540 sec\n",
      " epoch duration: 10799 sec\n",
      " epoch duration: 11057 sec\n",
      " epoch duration: 11316 sec\n",
      " epoch duration: 11576 sec\n",
      " epoch duration: 11834 sec\n",
      " epoch duration: 12090 sec\n",
      " epoch duration: 12350 sec\n",
      "Iteration: 50, Score: 0.909, thresholds: [0.38568441 0.29786189 0.30943488 0.26168505 0.3        0.28702728\n",
      " 0.29060756 0.47684532 0.3        0.34968877 0.3        0.3\n",
      " 0.21219221 0.3        0.55677094 0.32520419 0.26989804 0.3\n",
      " 0.4310185  0.33879936 0.3        0.23192615 0.42633301 0.26124892\n",
      " 0.3        0.3        0.3        0.28250162 0.49422463 0.45835719\n",
      " 0.3        0.3        0.3        0.3        0.3        0.36708244\n",
      " 0.23288675 0.3        0.3        0.3        0.3        0.3\n",
      " 0.62573253 0.3        0.35685335 0.3        0.40070886 0.50271089\n",
      " 0.3        0.40018279 0.3        0.38575242 0.39471735 0.15913386\n",
      " 0.24277032 0.57255977 0.3        0.3        0.45292184 0.3\n",
      " 0.3        0.29965357 0.3        0.28676154 0.3        0.55421633\n",
      " 0.30245762 0.34346195 0.33499109 0.32213225 0.3        0.3\n",
      " 0.37993776 0.3        0.3        0.31627874 0.29329033 0.35966339\n",
      " 0.3        0.27190284 0.33851604 0.3513354  0.34188042 0.36129886\n",
      " 0.34709433 0.41350581 0.23592102 0.3        0.45190278 0.21942189\n",
      " 0.3        0.3        0.3        0.47935477 0.37285736 0.46686272\n",
      " 0.3        0.36077504 0.3        0.3        0.51643738 0.3\n",
      " 0.3        0.36414758 0.37357372 0.31559739 0.3        0.09507124\n",
      " 0.3        0.3        0.28172755 0.65921376 0.18938912 0.2971979\n",
      " 0.3        0.3        0.3        0.31678764 0.22091354 0.3\n",
      " 0.3        0.38622541 0.27356665 0.3        0.35096317 0.3\n",
      " 0.3        0.3        0.34709433 0.25518176 0.21731582 0.29330615\n",
      " 0.3        0.3        0.37993776 0.21590784 0.3        0.3\n",
      " 0.3        0.30196978 0.49673883 0.29333428 0.33293151 0.28628763\n",
      " 0.22234296 0.34701015 0.41352284 0.28452963 0.58511856 0.32507549\n",
      " 0.26610443 0.32266552 0.32588453 0.47939406 0.3        0.3\n",
      " 0.30537978 0.37285864 0.17118996]\n",
      " epoch duration: 12608 sec\n",
      " epoch duration: 12865 sec\n",
      " epoch duration: 13128 sec\n",
      " epoch duration: 13383 sec\n",
      " epoch duration: 13637 sec\n",
      " epoch duration: 13895 sec\n",
      " epoch duration: 14154 sec\n",
      " epoch duration: 14412 sec\n",
      " epoch duration: 14671 sec\n",
      " epoch duration: 14926 sec\n",
      " epoch duration: 15183 sec\n",
      " epoch duration: 15442 sec\n",
      " epoch duration: 15703 sec\n",
      " epoch duration: 15962 sec\n",
      " epoch duration: 16224 sec\n",
      " epoch duration: 16483 sec\n",
      " epoch duration: 16740 sec\n",
      " epoch duration: 17000 sec\n",
      " epoch duration: 17261 sec\n",
      " epoch duration: 17516 sec\n",
      " epoch duration: 17778 sec\n",
      " epoch duration: 18039 sec\n",
      " epoch duration: 18293 sec\n",
      " epoch duration: 18555 sec\n",
      " epoch duration: 18818 sec\n",
      " epoch duration: 19082 sec\n",
      " epoch duration: 19344 sec\n",
      " epoch duration: 19602 sec\n",
      " epoch duration: 19856 sec\n",
      " epoch duration: 20114 sec\n",
      " epoch duration: 20372 sec\n",
      " epoch duration: 20633 sec\n",
      " epoch duration: 20895 sec\n",
      " epoch duration: 21158 sec\n",
      " epoch duration: 21418 sec\n",
      " epoch duration: 21676 sec\n",
      " epoch duration: 21937 sec\n",
      " epoch duration: 22198 sec\n",
      " epoch duration: 22458 sec\n",
      " epoch duration: 22713 sec\n",
      " epoch duration: 22972 sec\n",
      " epoch duration: 23233 sec\n",
      " epoch duration: 23492 sec\n",
      " epoch duration: 23753 sec\n",
      " epoch duration: 24015 sec\n",
      " epoch duration: 24277 sec\n",
      " epoch duration: 24542 sec\n",
      " epoch duration: 24802 sec\n",
      " epoch duration: 25061 sec\n",
      " epoch duration: 25318 sec\n",
      "auto_thresholds 0.3863 0.2936 0.3092 0.2620 0.3000 0.2869 0.2926 0.4791 0.3000 0.3479 0.3000 0.3000 0.2112 0.3000 0.5405 0.3231 0.2648 0.3000 0.4326 0.3386 0.3000 0.2313 0.4193 0.2619 0.3000 0.3000 0.3000 0.2779 0.4977 0.4602 0.3000 0.3000 0.3000 0.3000 0.3000 0.3795 0.2329 0.3000 0.3000 0.3000 0.3000 0.3000 0.6504 0.3000 0.3482 0.3000 0.4015 0.4950 0.3000 0.3974 0.3000 0.3864 0.3941 0.1576 0.2422 0.5971 0.3000 0.3000 0.4552 0.3000 0.3000 0.3020 0.3000 0.2858 0.3000 0.5651 0.3031 0.3406 0.3336 0.3274 0.3000 0.3000 0.3805 0.3000 0.3000 0.3168 0.2934 0.3524 0.3000 0.2611 0.3365 0.3474 0.3396 0.3606 0.3474 0.4147 0.2375 0.3000 0.4420 0.2149 0.3000 0.3000 0.3000 0.4747 0.3733 0.4698 0.3000 0.3599 0.3000 0.3000 0.5221 0.3000 0.3000 0.3646 0.3685 0.3085 0.3000 0.0834 0.3000 0.3000 0.2945 0.6329 0.1853 0.2960 0.3000 0.3000 0.3000 0.3170 0.2201 0.3000 0.3000 0.3768 0.2747 0.3000 0.3517 0.3000 0.3000 0.3000 0.3474 0.2556 0.2158 0.2925 0.3000 0.3000 0.3805 0.2010 0.3000 0.3000 0.3000 0.2982 0.5019 0.2936 0.3326 0.2850 0.2219 0.3653 0.4143 0.2813 0.6075 0.3272 0.2640 0.3218 0.3199 0.4818 0.3000 0.3000 0.3056 0.3675 0.1697 \n",
      "test manual_thres f1: 0.424\n",
      "test auto_thres f1: 0.908\n",
      "computation start time: 1584534312 sec end time: 1584559630 sec\n",
      "computation duration: 25318 sec\n"
     ]
    }
   ],
   "source": [
    "nb_classes=159\n",
    "debut = time.time()\n",
    "print(\"computation start time:\", debut)\n",
    "\n",
    "t=0.3\n",
    "thresh = [t]*nb_classes\n",
    "\n",
    "average = 'micro'\n",
    "\n",
    "manual_thres_f1 = calculate_f1(y_test_numpy, test_outputs_numpy, thresholds=thresh, average=average)\n",
    "print('test manual_thres f1: {:.3f}'.format(manual_thres_f1))\n",
    "\n",
    "p2, r2, fscore2, support = precision_recall_fscore_support(y_test_numpy, (test_outputs_numpy>thresh)*1, \n",
    "                                                           pos_label=1, average=average)\n",
    "\n",
    "# Optimize thresholds\n",
    "(auto_thres_f1, auto_thresholds, metric_asfo_epoch) = optimize_at_with_gd(y_train_numpy, train_outputs_numpy, \n",
    "                                                                          thresh, average=average)\n",
    "\n",
    "print_thresholds(auto_thresholds, nb_classes)\n",
    "# print(\"%.3f %.3f\"%(manual_thres_f1*100, fscore2*100))\n",
    "\n",
    "print('test manual_thres f1: {:.3f}'.format(manual_thres_f1))\n",
    "print('test auto_thres f1: {:.3f}'.format(auto_thres_f1))\n",
    "\n",
    "print(\"computation start time: %.0f sec\"%debut, \"end time: %.0f sec\"%(time.time()))\n",
    "fin=time.time()-debut\n",
    "print(\"computation duration: %.0f sec\"%fin)"
   ]
  },
  {
   "cell_type": "code",
   "execution_count": 17,
   "metadata": {
    "ExecuteTime": {
     "end_time": "2020-03-18T20:01:50.445301Z",
     "start_time": "2020-03-18T20:01:50.128272Z"
    }
   },
   "outputs": [
    {
     "data": {
      "image/png": "[encoded data removed]",
      "text/plain": [
       "<Figure size 432x288 with 1 Axes>"
      ]
     },
     "metadata": {
      "needs_background": "light"
     },
     "output_type": "display_data"
    }
   ],
   "source": [
    "plt.plot(metric_asfo_epoch)\n",
    "plt.xlabel(\"epochs\", fontsize=12)\n",
    "plt.ylabel(\"F1 micro\", fontsize=12)\n",
    "plt.savefig(\"bibtex_F1_micro_asof_epochs_numThresh.png\")"
   ]
  },
  {
   "cell_type": "code",
   "execution_count": 18,
   "metadata": {
    "ExecuteTime": {
     "end_time": "2020-03-18T20:01:58.319959Z",
     "start_time": "2020-03-18T20:01:58.198589Z"
    }
   },
   "outputs": [
    {
     "name": "stdout",
     "output_type": "stream",
     "text": [
      "auto_thresholds 0.3863 0.2936 0.3092 0.2620 0.3000 0.2869 0.2926 0.4791 0.3000 0.3479 0.3000 0.3000 0.2112 0.3000 0.5405 0.3231 0.2648 0.3000 0.4326 0.3386 0.3000 0.2313 0.4193 0.2619 0.3000 0.3000 0.3000 0.2779 0.4977 0.4602 0.3000 0.3000 0.3000 0.3000 0.3000 0.3795 0.2329 0.3000 0.3000 0.3000 0.3000 0.3000 0.6504 0.3000 0.3482 0.3000 0.4015 0.4950 0.3000 0.3974 0.3000 0.3864 0.3941 0.1576 0.2422 0.5971 0.3000 0.3000 0.4552 0.3000 0.3000 0.3020 0.3000 0.2858 0.3000 0.5651 0.3031 0.3406 0.3336 0.3274 0.3000 0.3000 0.3805 0.3000 0.3000 0.3168 0.2934 0.3524 0.3000 0.2611 0.3365 0.3474 0.3396 0.3606 0.3474 0.4147 0.2375 0.3000 0.4420 0.2149 0.3000 0.3000 0.3000 0.4747 0.3733 0.4698 0.3000 0.3599 0.3000 0.3000 0.5221 0.3000 0.3000 0.3646 0.3685 0.3085 0.3000 0.0834 0.3000 0.3000 0.2945 0.6329 0.1853 0.2960 0.3000 0.3000 0.3000 0.3170 0.2201 0.3000 0.3000 0.3768 0.2747 0.3000 0.3517 0.3000 0.3000 0.3000 0.3474 0.2556 0.2158 0.2925 0.3000 0.3000 0.3805 0.2010 0.3000 0.3000 0.3000 0.2982 0.5019 0.2936 0.3326 0.2850 0.2219 0.3653 0.4143 0.2813 0.6075 0.3272 0.2640 0.3218 0.3199 0.4818 0.3000 0.3000 0.3056 0.3675 0.1697 \n",
      "train\n",
      "micro: p:96.22 r:86.02 f1:90.84\n",
      "macro: p:96.59 r:83.84 f1:89.55\n",
      "test\n",
      "micro: p:64.49 r:31.39 f1:42.22\n",
      "macro: p:42.68 r:22.31 f1:25.86\n"
     ]
    },
    {
     "name": "stderr",
     "output_type": "stream",
     "text": [
      "/home/thomas/tools/miniconda2/envs/keras-sincnet-env/lib/python3.6/site-packages/sklearn/metrics/classification.py:1143: UndefinedMetricWarning: Precision and F-score are ill-defined and being set to 0.0 in labels with no predicted samples.\n",
      "  'precision', 'predicted', average, warn_for)\n"
     ]
    }
   ],
   "source": [
    "print_thresholds(auto_thresholds, nb_classes)\n",
    "train_pred = train_outputs_numpy>auto_thresholds\n",
    "test_pred = test_outputs_numpy>auto_thresholds\n",
    "print('train')\n",
    "print_scores(y_train, train_pred)\n",
    "# compute_accuracy_from_numpy_tensors(y_train_numpy, train_pred)\n",
    "print('test')\n",
    "print_scores(y_test, test_pred)\n",
    "# compute_accuracy_from_numpy_tensors(y_test_numpy, test_pred)"
   ]
  },
  {
   "cell_type": "code",
   "execution_count": null,
   "metadata": {},
   "outputs": [],
   "source": [
    "train\n",
    "micro: p:83.38 r:43.07 f1:56.80\n",
    "macro: p:70.37 r:31.97 f1:37.60\n",
    "test\n",
    "micro: p:70.68 r:26.67 f1:38.72\n",
    "macro: p:35.39 r:16.45 f1:19.58"
   ]
  },
  {
   "cell_type": "code",
   "execution_count": null,
   "metadata": {},
   "outputs": [],
   "source": []
  },
  {
   "cell_type": "markdown",
   "metadata": {},
   "source": [
    "## for BCE"
   ]
  },
  {
   "cell_type": "code",
   "execution_count": null,
   "metadata": {
    "ExecuteTime": {
     "end_time": "2020-03-13T22:28:05.759716Z",
     "start_time": "2020-03-13T22:28:05.715902Z"
    }
   },
   "outputs": [],
   "source": [
    "def BCE_numpy(y_gt, y_pred):\n",
    "    epsilon=1e-12\n",
    "    return np.mean(-y_gt*np.log(y_pred+epsilon)-(1-y_gt)*np.log(1-y_pred+epsilon))\n",
    "    \n",
    "\n",
    "def calculate_BCE(y_true, output, thresholds, average):\n",
    "    \"\"\"Calculate BCE score.\n",
    "    Args:\n",
    "      y_true: (N, (optional)frames_num], classes_num)\n",
    "      output: (N, (optional)[frames_num], classes_num)\n",
    "      thresholds: (classes_num,), initial thresholds\n",
    "      average: 'micro' | 'macro'\n",
    "    \"\"\"\n",
    "    if y_true.ndim == 3:\n",
    "        (N, T, F) = y_true.shape\n",
    "        y_true = y_true.reshape((N * T, F))\n",
    "        output = output.reshape((N * T, F))\n",
    "\n",
    "    classes_num = y_true.shape[-1]\n",
    "    binarized_output = np.zeros_like(output)\n",
    "#     print('class num:', classes_num)\n",
    "    \n",
    "    for k in range(classes_num):\n",
    "        binarized_output[:, k] = (np.sign(output[:, k] - thresholds[k]) + 1) // 2\n",
    "\n",
    "    if average == 'micro':\n",
    "        return BCE_numpy(y_true.flatten(), binarized_output.flatten())\n",
    "    \n",
    "    bce_array = []\n",
    "    for k in range(classes_num):\n",
    "        bce_array.append(BCE_numpy(y_true[:, k], binarized_output[:, k]))\n",
    "\n",
    "    if average == 'macro':\n",
    "        return np.average(bce_array)\n",
    "    elif average is None:\n",
    "        return bce_array\n",
    "    else:\n",
    "        raise Exception('Incorrect argument!')\n",
    "\n",
    "\n",
    "def BCE_calculate_at_gradient(y_true, output, thresholds, average):\n",
    "    \"\"\"Calculate gradient of thresholds numerically.\n",
    "    Args:\n",
    "      y_true: (N, (optional)frames_num], classes_num)\n",
    "      output: (N, (optional)[frames_num], classes_num)\n",
    "      thresholds: (classes_num,), initial thresholds\n",
    "      average: 'micro' | 'macro'\n",
    "    Returns:\n",
    "      grads: vector\n",
    "    \"\"\"\n",
    "    bce = calculate_BCE(y_true, output, thresholds, average)\n",
    "    classes_num = len(thresholds)\n",
    "    \n",
    "    delta = 0.01\n",
    "    grads = []\n",
    "#     print(\"calculate_at_gradient, bce:\", bce)\n",
    "    \n",
    "    for k, threshold in enumerate(thresholds):\n",
    "        new_thresholds = thresholds.copy()\n",
    "        cnt = 0\n",
    "        while cnt < 10:\n",
    "            cnt += 1\n",
    "            new_thresholds[k] += delta\n",
    "            bce_new = calculate_BCE(y_true, output, new_thresholds, average)\n",
    "            if bce_new != bce:\n",
    "                break\n",
    "\n",
    "        grad = (bce_new - bce) / (delta * cnt)\n",
    "        grads.append(grad)\n",
    "\n",
    "    return grads\n",
    "\n",
    "\n",
    "def BCE_optimize_at_with_gd(y_true, output, thresholds, average):\n",
    "    \"\"\"Optimize thresholds for AT.\n",
    "    Args:\n",
    "      y_true: (N, (optional)frames_num], classes_num)\n",
    "      output: (N, (optional)[frames_num], classes_num)\n",
    "      thresholds: (classes_num,), initial thresholds\n",
    "      average: 'micro' | 'macro'\n",
    "    Returns:\n",
    "      metric: float\n",
    "      thresholds: vector\n",
    "    \"\"\"\n",
    "    opt = Adam()\n",
    "    opt.alpha = 1e-2\n",
    "    metric_asfo_epoch = []\n",
    "    print(\"start time:\", debut)\n",
    "    for i in range(100):\n",
    "        grads = BCE_calculate_at_gradient(y_true, output, thresholds, average)\n",
    "#         if i==0: print(\"grads:\", grads)\n",
    "        grads = [-e for e in grads]\n",
    "        thresholds = opt.GetNewParams(thresholds, grads)\n",
    "        metric = calculate_f1(y_true, output, thresholds, average)\n",
    "        if i%50==0:\n",
    "            print('Iteration: {}, F1 Score: {:.3f}, thresholds: {}'.format(\n",
    "                i, metric, np.array(thresholds)))\n",
    "        metric_asfo_epoch.append(metric)\n",
    "    \n",
    "    fin=time.time()-debut\n",
    "    print(\"duration:\", fin)\n",
    "        \n",
    "    return metric, thresholds, metric_asfo_epoch\n"
   ]
  },
  {
   "cell_type": "markdown",
   "metadata": {},
   "source": [
    "## numerical application with BCE"
   ]
  },
  {
   "cell_type": "code",
   "execution_count": null,
   "metadata": {
    "ExecuteTime": {
     "end_time": "2020-03-13T23:43:06.178671Z",
     "start_time": "2020-03-13T22:28:53.870749Z"
    }
   },
   "outputs": [],
   "source": [
    "t=0.3\n",
    "thresh = [t]*nb_classes\n",
    "\n",
    "average = 'micro'\n",
    "\n",
    "manual_thres_f1 = calculate_f1(y_test_numpy, test_pred_numpy, thresholds=thresh, average=average)\n",
    "p2, r2, fscore2, support = precision_recall_fscore_support(y_test, (test_pred_numpy>thresh)*1, \n",
    "                                                           pos_label=1, average=average)\n",
    "\n",
    "# Optimize thresholds\n",
    "(auto_thres_bce, auto_thresholds, metric_asfo_epoch) = BCE_optimize_at_with_gd(y_train_numpy, train_outputs_numpy, \n",
    "                                                                          thresh, average=average)\n",
    "\n",
    "print_thresholds(auto_thresholds, nb_classes)\n",
    "# print(\"%.3f %.3f\"%(manual_thres_f1*100, fscore2*100))\n",
    "\n",
    "auto_thres_f1 = calculate_f1(y_test_numpy, test_pred_numpy, thresholds=auto_thresholds, average=average)\n",
    "\n",
    "print('test manual_thres f1: {:.3f}'.format(manual_thres_f1))\n",
    "print('test auto_thres f1: {:.3f}'.format(auto_thres_f1))\n"
   ]
  },
  {
   "cell_type": "code",
   "execution_count": null,
   "metadata": {},
   "outputs": [],
   "source": []
  }
 ],
 "metadata": {
  "kernelspec": {
   "display_name": "Python 3",
   "language": "python",
   "name": "python3"
  },
  "language_info": {
   "codemirror_mode": {
    "name": "ipython",
    "version": 3
   },
   "file_extension": ".py",
   "mimetype": "text/x-python",
   "name": "python",
   "nbconvert_exporter": "python",
   "pygments_lexer": "ipython3",
   "version": "3.6.3"
  },
  "toc": {
   "nav_menu": {},
   "number_sections": true,
   "sideBar": true,
   "skip_h1_title": false,
   "toc_cell": true,
   "toc_position": {},
   "toc_section_display": "block",
   "toc_window_display": false
  }
 },
 "nbformat": 4,
 "nbformat_minor": 2
}

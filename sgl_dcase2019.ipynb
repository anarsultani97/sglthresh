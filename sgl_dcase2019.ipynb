{
 "cells": [
  {
   "cell_type": "markdown",
   "metadata": {
    "toc": true
   },
   "source": [
    "<h1>Table of Contents<span class=\"tocSkip\"></span></h1>\n",
    "<div class=\"toc\" style=\"margin-top: 1em;\"><ul class=\"toc-item\"><li><span><a href=\"#Load-predictions-and-GT\" data-toc-modified-id=\"Load-predictions-and-GT-1\"><span class=\"toc-item-num\">1&nbsp;&nbsp;</span>Load predictions and GT</a></span></li><li><span><a href=\"#Static-thresholds\" data-toc-modified-id=\"Static-thresholds-2\"><span class=\"toc-item-num\">2&nbsp;&nbsp;</span>Static thresholds</a></span></li><li><span><a href=\"#NumThresh\" data-toc-modified-id=\"NumThresh-3\"><span class=\"toc-item-num\">3&nbsp;&nbsp;</span>NumThresh</a></span></li><li><span><a href=\"#SGLthresh\" data-toc-modified-id=\"SGLthresh-4\"><span class=\"toc-item-num\">4&nbsp;&nbsp;</span>SGLthresh</a></span></li><li><span><a href=\"#heuThresh\" data-toc-modified-id=\"heuThresh-5\"><span class=\"toc-item-num\">5&nbsp;&nbsp;</span>heuThresh</a></span></li></ul></div>"
   ]
  },
  {
   "cell_type": "code",
   "execution_count": 1,
   "metadata": {
    "ExecuteTime": {
     "end_time": "2020-10-20T09:56:45.036575Z",
     "start_time": "2020-10-20T09:56:43.340877Z"
    }
   },
   "outputs": [
    {
     "name": "stdout",
     "output_type": "stream",
     "text": [
      "cuda:0 GeForce GTX 1080\n",
      "pytorch version: 1.4.0\n"
     ]
    }
   ],
   "source": [
    "import os\n",
    "os.environ[\"MKL_NUM_THREADS\"] = \"2\"\n",
    "os.environ[\"NUMEXPR_NU M_THREADS\"] = \"2\"\n",
    "os.environ[\"OMP_NUM_THREADS\"] = \"2\"\n",
    "\n",
    "import numpy as np\n",
    "\n",
    "import matplotlib.pyplot as plt\n",
    "import matplotlib.cm as cm\n",
    "from mpl_toolkits.axes_grid1 import make_axes_locatable\n",
    "\n",
    "from sklearn.metrics import confusion_matrix, accuracy_score, f1_score, precision_recall_fscore_support, classification_report\n",
    "\n",
    "import pickle\n",
    "import time\n",
    "import tqdm\n",
    "\n",
    "import torch \n",
    "import torch.nn as nn\n",
    "import torch.nn.functional as F\n",
    "import torch.utils.data\n",
    "\n",
    "# Device configuration\n",
    "device = torch.device('cuda:0' if torch.cuda.is_available() else 'cpu')\n",
    "# device = torch.device('cuda:1' if torch.cuda.is_available() else 'cpu')\n",
    "print(device, torch.cuda.get_device_name(0))\n",
    "\n",
    "print(\"pytorch version:\", torch.__version__)\n"
   ]
  },
  {
   "cell_type": "code",
   "execution_count": 2,
   "metadata": {
    "ExecuteTime": {
     "end_time": "2020-10-20T09:56:45.911088Z",
     "start_time": "2020-10-20T09:56:45.905498Z"
    }
   },
   "outputs": [],
   "source": [
    "torch.manual_seed(0)\n",
    "torch.cuda.manual_seed(0)\n",
    "np.random.seed(0)\n",
    "\n",
    "torch.backends.cudnn.deterministic = True"
   ]
  },
  {
   "cell_type": "code",
   "execution_count": 3,
   "metadata": {
    "ExecuteTime": {
     "end_time": "2020-10-20T09:56:46.793475Z",
     "start_time": "2020-10-20T09:56:46.777511Z"
    }
   },
   "outputs": [],
   "source": [
    "def print_scores(gt_y, preds):\n",
    "    print(classification_report(gt_y, preds, digits=3))    \n",
    "    set_accuracy = accuracy_score(gt_y, preds)\n",
    "    print('set acc: %.3f'%(set_accuracy))\n",
    "\n",
    "\n",
    "def print_thresholds(thresh, nb_classes):\n",
    "    s=''\n",
    "    for k in range(nb_classes):\n",
    "        s += '%.3f '%(thresh[k])\n",
    "    print(s)\n",
    "\n",
    "    \n",
    "def save_thresholds_to_text(thresh, fpath):\n",
    "    nb_classes = len(thresh)\n",
    "    print(nb_classes)\n",
    "    with open(fpath, 'wt') as fh:\n",
    "        for k in range(nb_classes):\n",
    "            fh.write(\"%.6f\\n\"%(thresh[k]))\n",
    "            \n",
    "            \n",
    "def save_thresholds(thresh, fpath):\n",
    "    np.save(fpath, np.array(thresh))\n",
    "            \n",
    "\n",
    "def load_thresholds(fpath):\n",
    "    return np.load(fpath)\n",
    "\n",
    "\n",
    "def binarize_probs(probs, thresholds):\n",
    "    \n",
    "    nb_classes = probs.shape[-1]\n",
    "    binarized_output = np.zeros_like(probs)\n",
    "    \n",
    "    for k in range(nb_classes):\n",
    "        binarized_output[:, k] = (np.sign(probs[:, k] - thresholds[k]) + 1) // 2\n",
    "    \n",
    "    return binarized_output\n"
   ]
  },
  {
   "cell_type": "markdown",
   "metadata": {
    "heading_collapsed": true
   },
   "source": [
    "# Load predictions and GT"
   ]
  },
  {
   "cell_type": "code",
   "execution_count": 4,
   "metadata": {
    "ExecuteTime": {
     "end_time": "2020-10-20T09:56:54.690868Z",
     "start_time": "2020-10-20T09:56:49.345544Z"
    },
    "hidden": true
   },
   "outputs": [
    {
     "name": "stdout",
     "output_type": "stream",
     "text": [
      "10\n"
     ]
    },
    {
     "data": {
      "text/plain": [
       "(torch.Size([1122, 10]),\n",
       " torch.Size([1122, 10]),\n",
       " (1122, 10),\n",
       " (1122, 10),\n",
       " torch.Size([692, 10]),\n",
       " torch.Size([692, 10]),\n",
       " (692, 10),\n",
       " (692, 10))"
      ]
     },
     "execution_count": 4,
     "metadata": {},
     "output_type": "execute_result"
    }
   ],
   "source": [
    "val_pred_tensor = torch.load('datasets/dcase2019/predictions_tensor_validation.pt')\n",
    "val_gt_tensor = torch.load('datasets/dcase2019/gt_tensor_validation.pt')\n",
    "val_pred_np = val_pred_tensor.clone().cpu().numpy()\n",
    "val_gt_np = val_gt_tensor.clone().cpu().numpy()\n",
    "\n",
    "desed_pred_tensor = torch.load('datasets/dcase2019/predictions_tensor_desed.pt')\n",
    "desed_gt_tensor = torch.load('datasets/dcase2019/gt_tensor_desed.pt')\n",
    "desed_pred_np = desed_pred_tensor.clone().cpu().numpy()\n",
    "desed_gt_np = desed_gt_tensor.clone().cpu().numpy()\n",
    "\n",
    "nb_classes=val_gt_tensor.size(1)\n",
    "print(nb_classes)\n",
    "\n",
    "val_pred_tensor.size(), val_gt_tensor.size(), val_pred_np.shape, val_gt_np.shape, desed_pred_tensor.size(), desed_gt_tensor.size(), desed_pred_np.shape, desed_gt_np.shape"
   ]
  },
  {
   "cell_type": "code",
   "execution_count": 4,
   "metadata": {
    "hidden": true
   },
   "outputs": [
    {
     "data": {
      "text/plain": [
       "(array([866.,  92.,  33.,  16.,  22.,  11.,  13.,  13.,  23.,  33.]),\n",
       " array([1.1649572e-05, 9.8498344e-02, 1.9698504e-01, 2.9547173e-01,\n",
       "        3.9395842e-01, 4.9244511e-01, 5.9093183e-01, 6.8941849e-01,\n",
       "        7.8790522e-01, 8.8639188e-01, 9.8487860e-01], dtype=float32),\n",
       " <a list of 10 Patch objects>)"
      ]
     },
     "execution_count": 4,
     "metadata": {},
     "output_type": "execute_result"
    },
    {
     "data": {
      "image/png": "[encoded data removed]",
      "text/plain": [
       "<Figure size 432x288 with 1 Axes>"
      ]
     },
     "metadata": {
      "needs_background": "light"
     },
     "output_type": "display_data"
    }
   ],
   "source": [
    "plt.hist(val_pred_np[:,9])"
   ]
  },
  {
   "cell_type": "code",
   "execution_count": 78,
   "metadata": {
    "hidden": true
   },
   "outputs": [],
   "source": [
    "noise = torch.normal(mean=0.1*torch.ones(val_pred_np.shape), std=0.1)\n",
    "noise = torch.clamp(noise, 0, 1)"
   ]
  },
  {
   "cell_type": "code",
   "execution_count": 79,
   "metadata": {
    "hidden": true
   },
   "outputs": [
    {
     "data": {
      "text/plain": [
       "(array([315., 201., 178., 178., 117.,  80.,  36.,  11.,   5.,   1.]),\n",
       " array([0.        , 0.04407002, 0.08814005, 0.13221008, 0.1762801 ,\n",
       "        0.22035012, 0.26442015, 0.30849016, 0.3525602 , 0.3966302 ,\n",
       "        0.44070023], dtype=float32),\n",
       " <a list of 10 Patch objects>)"
      ]
     },
     "execution_count": 79,
     "metadata": {},
     "output_type": "execute_result"
    },
    {
     "data": {
      "image/png": "[encoded data removed]",
      "text/plain": [
       "<Figure size 432x288 with 1 Axes>"
      ]
     },
     "metadata": {
      "needs_background": "light"
     },
     "output_type": "display_data"
    }
   ],
   "source": [
    "plt.hist(noise[:,0].cpu().numpy())"
   ]
  },
  {
   "cell_type": "markdown",
   "metadata": {},
   "source": [
    "# Static thresholds"
   ]
  },
  {
   "cell_type": "code",
   "execution_count": 5,
   "metadata": {
    "ExecuteTime": {
     "end_time": "2020-10-20T09:57:06.593154Z",
     "start_time": "2020-10-20T09:57:06.587112Z"
    }
   },
   "outputs": [],
   "source": [
    "static_thresh = 0.5\n",
    "\n",
    "val_bin_pred = binarize_probs(val_pred_np, [static_thresh]*nb_classes)\n",
    "test_bin_pred = binarize_probs(desed_pred_np, [static_thresh]*nb_classes)"
   ]
  },
  {
   "cell_type": "code",
   "execution_count": 6,
   "metadata": {
    "ExecuteTime": {
     "end_time": "2020-10-20T09:57:06.772671Z",
     "start_time": "2020-10-20T09:57:06.713554Z"
    }
   },
   "outputs": [
    {
     "name": "stdout",
     "output_type": "stream",
     "text": [
      "val\n",
      "              precision    recall  f1-score   support\n",
      "\n",
      "           0      0.882     0.806     0.843       186\n",
      "           1      0.902     0.905     0.903       599\n",
      "           2      0.727     0.550     0.626       160\n",
      "           3      0.810     0.533     0.643       120\n",
      "           4      0.470     0.780     0.587        91\n",
      "           5      0.659     0.403     0.500       144\n",
      "           6      0.351     0.698     0.467        86\n",
      "           7      0.322     0.758     0.452        62\n",
      "           8      0.479     0.425     0.450        80\n",
      "           9      0.892     0.428     0.578       194\n",
      "\n",
      "   micro avg      0.708     0.695     0.701      1722\n",
      "   macro avg      0.650     0.629     0.605      1722\n",
      "weighted avg      0.765     0.695     0.707      1722\n",
      " samples avg      0.698     0.708     0.683      1722\n",
      "\n",
      "set acc: 0.452\n",
      "test\n",
      "              precision    recall  f1-score   support\n",
      "\n",
      "           0      0.905     0.722     0.803        79\n",
      "           1      0.846     0.911     0.877       314\n",
      "           2      0.753     0.707     0.730        82\n",
      "           3      0.865     0.643     0.738        70\n",
      "           4      0.583     0.745     0.654        94\n",
      "           5      0.932     0.404     0.564       136\n",
      "           6      0.495     0.580     0.534        88\n",
      "           7      0.658     0.869     0.749        84\n",
      "           8      0.629     0.534     0.578        73\n",
      "           9      0.633     0.337     0.440        92\n",
      "\n",
      "   micro avg      0.740     0.688     0.713      1112\n",
      "   macro avg      0.730     0.645     0.667      1112\n",
      "weighted avg      0.759     0.688     0.702      1112\n",
      " samples avg      0.710     0.691     0.685      1112\n",
      "\n",
      "set acc: 0.483\n"
     ]
    },
    {
     "name": "stderr",
     "output_type": "stream",
     "text": [
      "/home/thomas/tools/miniconda2/envs/envPytorch1/lib/python3.7/site-packages/sklearn/metrics/_classification.py:1272: UndefinedMetricWarning: Precision and F-score are ill-defined and being set to 0.0 in samples with no predicted labels. Use `zero_division` parameter to control this behavior.\n",
      "  _warn_prf(average, modifier, msg_start, len(result))\n"
     ]
    }
   ],
   "source": [
    "print(\"val\")\n",
    "print_scores(val_gt_np, val_bin_pred)\n",
    "print(\"test\")\n",
    "print_scores(desed_gt_np, test_bin_pred)\n",
    "\n",
    "# f1 = f1_score(val_gt_np, val_bin_pred, average='micro')\n",
    "# print(\"%.3f\"%f1)\n",
    "\n",
    "# myf1 = my_calculate_f1(val_gt_np, val_pred_np, thresholds=[static_thresh]*nb_classes, average='micro')\n",
    "# print(\"%.3f\"%myf1)\n",
    "\n",
    "# binarized_output = np.zeros_like(val_gt_np)\n",
    "#     #     print('class num:', classes_num)\n",
    "# thresholds=[static_thresh]*nb_classes\n",
    "# for k in range(nb_classes):\n",
    "#     binarized_output[:, k] = (np.sign(val_pred_np[:, k] - thresholds[k]) + 1) // 2\n",
    "\n",
    "# np.allclose(val_bin_pred, binarized_output)\n",
    "# # val_bin_pred[:10], binarized_output[:10]"
   ]
  },
  {
   "cell_type": "markdown",
   "metadata": {
    "heading_collapsed": true
   },
   "source": [
    "# NumThresh"
   ]
  },
  {
   "cell_type": "code",
   "execution_count": 8,
   "metadata": {
    "hidden": true
   },
   "outputs": [],
   "source": [
    "from sgl_utils.opt import Adam\n",
    "from sgl_utils.numThresh import calculate_f1, calculate_at_gradient, optimize_at_with_gd, optimize_prec_and_rec_with_gd, calculate_prec_and_rec_gradient, calculate_prec_and_rec\n",
    "from sklearn import metrics"
   ]
  },
  {
   "cell_type": "code",
   "execution_count": 9,
   "metadata": {
    "hidden": true
   },
   "outputs": [
    {
     "name": "stdout",
     "output_type": "stream",
     "text": [
      "Iteration: 0, Score: 0.702, thresholds: [0.49039758 0.49000861 0.49000383 0.50955791 0.50994789 0.50988375\n",
      " 0.50695256 0.50988375 0.50988375 0.49015927]\n",
      "Iteration: 50, Score: 0.714, thresholds: [0.48184331 0.4949478  0.4892257  0.51646184 0.66173731 0.51961189\n",
      " 0.83845614 0.54690435 0.50881263 0.46643814]\n",
      "val manual_thres f1: 0.701\n",
      "val auto_thres f1: 0.714\n",
      "0.7142857142857143\n",
      "0.487 0.493 0.491 0.515 0.662 0.520 0.826 0.545 0.509 0.446 \n"
     ]
    }
   ],
   "source": [
    "t=0.5\n",
    "thresh = [t]*nb_classes\n",
    "\n",
    "average = 'micro'\n",
    "\n",
    "manual_thres_f1 = calculate_f1(val_gt_np, val_pred_np, thresholds=thresh, average=average)\n",
    "# print_scores(y_test_numpy, test_pred)\n",
    "\n",
    "# Optimize thresholds\n",
    "(auto_thres_f1, auto_thresholds, metric_asfo_epoch) = optimize_at_with_gd(val_gt_np, val_pred_np, \n",
    "                                                                          thresh, average=average)\n",
    "# (auto_thres_f1, auto_thresholds, metric_asfo_epoch) = optimize_prec_and_rec_with_gd(val_gt_np, val_pred_np, \n",
    "#                                                                           thresh, average=average)\n",
    "\n",
    "# print_thresholds(auto_thresholds, nb_classes)\n",
    "# print(\"%.3f %.3f\"%(manual_thres_f1*100, fscore2*100))\n",
    "\n",
    "print('val manual_thres f1: {:.3f}'.format(manual_thres_f1))\n",
    "print('val auto_thres f1: {:.3f}'.format(auto_thres_f1))\n",
    "\n",
    "print(auto_thres_f1)\n",
    "print_thresholds(auto_thresholds, nb_classes)\n"
   ]
  },
  {
   "cell_type": "code",
   "execution_count": 10,
   "metadata": {
    "hidden": true
   },
   "outputs": [
    {
     "data": {
      "text/plain": [
       "(array([0.7  , 0.702, 0.704, 0.706, 0.708, 0.71 , 0.712, 0.714, 0.716]),\n",
       " <a list of 9 Text yticklabel objects>)"
      ]
     },
     "execution_count": 10,
     "metadata": {},
     "output_type": "execute_result"
    },
    {
     "data": {
      "image/png": "[encoded data removed]",
      "text/plain": [
       "<Figure size 432x288 with 1 Axes>"
      ]
     },
     "metadata": {
      "needs_background": "light"
     },
     "output_type": "display_data"
    }
   ],
   "source": [
    "fontsize=14\n",
    "plt.plot(metric_asfo_epoch)\n",
    "plt.xlabel(\"epochs\", fontsize=fontsize)\n",
    "plt.ylabel(\"F1\", fontsize=fontsize)\n",
    "plt.xticks(fontsize=fontsize)\n",
    "plt.yticks(fontsize=fontsize)\n",
    "# plt.savefig(\"datasets/emotions/emotions_F1_asof_epochs_myNetwork.png\")"
   ]
  },
  {
   "cell_type": "code",
   "execution_count": 56,
   "metadata": {
    "hidden": true
   },
   "outputs": [
    {
     "name": "stdout",
     "output_type": "stream",
     "text": [
      "val\n",
      "              precision    recall  f1-score   support\n",
      "\n",
      "           0      0.882     0.806     0.843       186\n",
      "           1      0.899     0.907     0.903       599\n",
      "           2      0.714     0.562     0.629       160\n",
      "           3      0.821     0.533     0.646       120\n",
      "           4      0.559     0.725     0.632        91\n",
      "           5      0.704     0.396     0.507       144\n",
      "           6      0.477     0.488     0.483        86\n",
      "           7      0.326     0.758     0.456        62\n",
      "           8      0.479     0.425     0.450        80\n",
      "           9      0.853     0.448     0.588       194\n",
      "\n",
      "   micro avg      0.746     0.685     0.714      1722\n",
      "   macro avg      0.671     0.605     0.614      1722\n",
      "weighted avg      0.774     0.685     0.712      1722\n",
      " samples avg      0.719     0.701     0.689      1722\n",
      "\n",
      "set acc: 0.461\n",
      "desed\n",
      "              precision    recall  f1-score   support\n",
      "\n",
      "           0      0.906     0.734     0.811        79\n",
      "           1      0.846     0.911     0.877       314\n",
      "           2      0.753     0.707     0.730        82\n",
      "           3      0.865     0.643     0.738        70\n",
      "           4      0.660     0.681     0.670        94\n",
      "           5      0.931     0.397     0.557       136\n",
      "           6      0.698     0.420     0.525        88\n",
      "           7      0.676     0.869     0.760        84\n",
      "           8      0.629     0.534     0.578        73\n",
      "           9      0.654     0.370     0.472        92\n",
      "\n",
      "   micro avg      0.778     0.673     0.722      1112\n",
      "   macro avg      0.762     0.627     0.672      1112\n",
      "weighted avg      0.785     0.673     0.706      1112\n",
      " samples avg      0.722     0.677     0.680      1112\n",
      "\n",
      "set acc: 0.486\n"
     ]
    },
    {
     "name": "stderr",
     "output_type": "stream",
     "text": [
      "/home/thomas/tools/miniconda2/envs/envPytorch1/lib/python3.7/site-packages/sklearn/metrics/_classification.py:1272: UndefinedMetricWarning: Precision and F-score are ill-defined and being set to 0.0 in samples with no predicted labels. Use `zero_division` parameter to control this behavior.\n",
      "  _warn_prf(average, modifier, msg_start, len(result))\n"
     ]
    }
   ],
   "source": [
    "# print_thresholds(learned_AT_thresholds, nb_classes)\n",
    "\n",
    "val_bin_pred = binarize_probs(val_pred_np, auto_thresholds)\n",
    "test_bin_pred = binarize_probs(desed_pred_np, auto_thresholds)\n",
    "\n",
    "print('val')\n",
    "print_scores(val_gt_np, val_bin_pred)\n",
    "print('desed')\n",
    "print_scores(desed_gt_np, test_bin_pred)\n",
    "\n",
    "# val\n",
    "#               precision    recall  f1-score   support\n",
    "\n",
    "#            0      0.840     0.817     0.828       186\n",
    "#            1      0.849     0.937     0.890       599\n",
    "#            2      0.590     0.613     0.601       160\n",
    "#            3      0.753     0.583     0.657       120\n",
    "#            4      0.560     0.714     0.628        91\n",
    "#            5      0.503     0.590     0.543       144\n",
    "#            6      0.477     0.488     0.483        86\n",
    "#            7      0.287     0.790     0.421        62\n",
    "#            8      0.417     0.500     0.455        80\n",
    "#            9      0.763     0.515     0.615       194\n",
    "\n",
    "#    micro avg      0.674     0.733     0.702      1722\n",
    "#    macro avg      0.604     0.655     0.612      1722\n",
    "# weighted avg      0.704     0.733     0.709      1722\n",
    "#  samples avg      0.691     0.746     0.694      1722\n",
    "\n",
    "# set acc: 0.436\n",
    "# desed\n",
    "#               precision    recall  f1-score   support\n",
    "\n",
    "#            0      0.873     0.785     0.827        79\n",
    "#            1      0.760     0.927     0.835       314\n",
    "#            2      0.691     0.793     0.739        82\n",
    "#            3      0.845     0.700     0.766        70\n",
    "#            4      0.660     0.681     0.670        94\n",
    "#            5      0.785     0.618     0.691       136\n",
    "#            6      0.698     0.420     0.525        88\n",
    "#            7      0.574     0.881     0.695        84\n",
    "#            8      0.566     0.589     0.577        73\n",
    "#            9      0.597     0.500     0.544        92\n",
    "\n",
    "#    micro avg      0.712     0.733     0.722      1112\n",
    "#    macro avg      0.705     0.689     0.687      1112\n",
    "# weighted avg      0.718     0.733     0.715      1112\n",
    "#  samples avg      0.713     0.738     0.706      1112\n",
    "\n",
    "# set acc: 0.471\n",
    "\n",
    "# micro avg      0.681     0.729     0.704      1722"
   ]
  },
  {
   "cell_type": "code",
   "execution_count": 32,
   "metadata": {
    "hidden": true
   },
   "outputs": [],
   "source": [
    "def calf1(y_true, output, thresholds, average):\n",
    "    \"\"\"Calculate F1 score.\n",
    "    Args:\n",
    "      y_true: (N, (optional)frames_num], classes_num)\n",
    "      output: (N, (optional)[frames_num], classes_num)\n",
    "      thresholds: (classes_num,), initial thresholds\n",
    "      average: 'micro' | 'macro'\n",
    "    \"\"\"\n",
    "    if y_true.ndim == 3:\n",
    "        (N, T, F) = y_true.shape\n",
    "        y_true = y_true.reshape((N * T, F))\n",
    "        output = output.reshape((N * T, F))\n",
    "\n",
    "    classes_num = y_true.shape[-1]\n",
    "    #     print('class num:', classes_num)\n",
    "    binarized_output = 1*(output>thresholds)\n",
    "    return metrics.f1_score(y_true.flatten(), binarized_output.flatten())\n",
    "\n",
    "\n",
    "def calf1_for_loop(y_true, output, thresholds, average):\n",
    "    if y_true.ndim == 3:\n",
    "        (N, T, F) = y_true.shape\n",
    "        y_true = y_true.reshape((N * T, F))\n",
    "        output = output.reshape((N * T, F))\n",
    "\n",
    "    classes_num = y_true.shape[-1]\n",
    "    binarized_output = np.zeros_like(output)\n",
    "    #     print('class num:', classes_num)\n",
    "\n",
    "    for k in range(classes_num):\n",
    "        binarized_output[:, k] = (np.sign(output[:, k] - thresholds[k]) + 1) // 2\n",
    "\n",
    "    return metrics.f1_score(y_true.flatten(), binarized_output.flatten())\n"
   ]
  },
  {
   "cell_type": "code",
   "execution_count": 33,
   "metadata": {
    "hidden": true
   },
   "outputs": [],
   "source": [
    "def softmax(x):\n",
    "    toto = np.exp(x)\n",
    "    return toto/np.sum(toto, axis=1,keepdims=True)\n",
    "\n",
    "def sigmoid(x):\n",
    "    return 1./(1+np.exp(-x))"
   ]
  },
  {
   "cell_type": "code",
   "execution_count": 65,
   "metadata": {
    "hidden": true
   },
   "outputs": [
    {
     "name": "stdout",
     "output_type": "stream",
     "text": [
      "no for loop: 50.84\n",
      "for loop: 61.95\n"
     ]
    },
    {
     "data": {
      "text/plain": [
       "(0.666607055112744, 0.666607055112744)"
      ]
     },
     "execution_count": 65,
     "metadata": {},
     "output_type": "execute_result"
    }
   ],
   "source": [
    "C = 10000\n",
    "N = 10000\n",
    "tmp = np.random.rand(N,C)\n",
    "# tmp = softmax(tmp)\n",
    "# np.sum(tmp, axis=1)\n",
    "tmp = sigmoid(tmp)\n",
    "\n",
    "# create ground-truth\n",
    "gt = np.random.randint(low=0, high=2, size=(N,C))\n",
    "\n",
    "thresholds = [0.5]*C\n",
    "\n",
    "deb = time.time()\n",
    "f1 = calf1(gt, tmp, thresholds, 'micro')\n",
    "print(\"no for loop: %.2f\"%(time.time()-deb))\n",
    "deb = time.time()\n",
    "other_f1 = calf1_for_loop(gt, tmp, thresholds, 'micro')\n",
    "print(\"for loop: %.2f\"%(time.time()-deb))\n",
    "\n",
    "\n",
    "# C = 500\n",
    "# N = 10000\n",
    "# no for loop: 2.09\n",
    "# for loop: 2.70\n",
    "\n",
    "# C = 500\n",
    "# N = 50000\n",
    "# no for loop: 10.98\n",
    "# for loop: 14.59\n",
    "\n",
    "# C = 500\n",
    "# N = 100000\n",
    "# no for loop: 24.36\n",
    "# for loop: 27.88\n",
    "\n",
    "# C = 10\n",
    "# N = 10000\n",
    "# no for loop: 0.05\n",
    "# for loop: 0.05\n",
    "\n",
    "# C = 100\n",
    "# N = 10000    \n",
    "# no for loop: 0.34\n",
    "# for loop: 0.43\n",
    "\n",
    "# C = 1000\n",
    "# N = 10000\n",
    "# no for loop: 4.34\n",
    "# for loop: 5.63\n",
    "    \n",
    "# C = 10000\n",
    "# N = 10000\n",
    "# no for loop: 50.84\n",
    "# for loop: 61.95\n",
    "    \n",
    "f1, other_f1"
   ]
  },
  {
   "cell_type": "code",
   "execution_count": 66,
   "metadata": {
    "hidden": true
   },
   "outputs": [
    {
     "data": {
      "text/plain": [
       "[<matplotlib.lines.Line2D at 0x7fb71fc869d0>]"
      ]
     },
     "execution_count": 66,
     "metadata": {},
     "output_type": "execute_result"
    },
    {
     "data": {
      "image/png": "[encoded data removed]",
      "text/plain": [
       "<Figure size 432x288 with 1 Axes>"
      ]
     },
     "metadata": {
      "needs_background": "light"
     },
     "output_type": "display_data"
    }
   ],
   "source": [
    "# x = [10000, 50000, 100000]\n",
    "# y = [2.70, 14.59, 27.88]\n",
    "\n",
    "x = [10, 100, 1000, 10000]\n",
    "y = [0.05, 0.43, 5.63, 61.95]\n",
    "\n",
    "\n",
    "plt.plot(x,y)"
   ]
  },
  {
   "cell_type": "code",
   "execution_count": 21,
   "metadata": {
    "hidden": true
   },
   "outputs": [],
   "source": [
    "# val\n",
    "#               precision    recall  f1-score   support\n",
    "\n",
    "#            0      0.835     0.817     0.826       186\n",
    "#            1      0.856     0.932     0.892       599\n",
    "#            2      0.594     0.613     0.603       160\n",
    "#            3      0.764     0.567     0.651       120\n",
    "#            4      0.371     0.802     0.507        91\n",
    "#            5      0.503     0.576     0.537       144\n",
    "#            6      0.297     0.733     0.423        86\n",
    "#            7      0.282     0.790     0.415        62\n",
    "#            8      0.389     0.525     0.447        80\n",
    "#            9      0.763     0.515     0.615       194\n",
    "\n",
    "#    micro avg      0.620     0.747     0.677      1722\n",
    "#    macro avg      0.565     0.687     0.592      1722\n",
    "# weighted avg      0.687     0.747     0.699      1722\n",
    "#  samples avg      0.651     0.757     0.677      1722\n",
    "\n",
    "# set acc: 0.386\n",
    "# test\n",
    "#               precision    recall  f1-score   support\n",
    "\n",
    "#            0      0.875     0.797     0.834        79\n",
    "#            1      0.765     0.924     0.837       314\n",
    "#            2      0.691     0.793     0.739        82\n",
    "#            3      0.842     0.686     0.756        70\n",
    "#            4      0.500     0.798     0.615        94\n",
    "#            5      0.786     0.596     0.678       136\n",
    "#            6      0.438     0.648     0.523        88\n",
    "#            7      0.565     0.881     0.688        84\n",
    "#            8      0.529     0.616     0.570        73\n",
    "#            9      0.611     0.478     0.537        92\n",
    "\n",
    "#    micro avg      0.661     0.757     0.706      1112\n",
    "#    macro avg      0.660     0.722     0.678      1112\n",
    "# weighted avg      0.683     0.757     0.708      1112\n",
    "#  samples avg      0.684     0.764     0.701      1112\n",
    "\n",
    "# set acc: 0.422"
   ]
  },
  {
   "cell_type": "markdown",
   "metadata": {
    "heading_collapsed": true
   },
   "source": [
    "# SGLthresh"
   ]
  },
  {
   "cell_type": "code",
   "execution_count": 11,
   "metadata": {
    "hidden": true
   },
   "outputs": [
    {
     "name": "stdout",
     "output_type": "stream",
     "text": [
      "Device in sglThresh.py cuda:0\n"
     ]
    }
   ],
   "source": [
    "from sgl_utils.sglThresh import ThresholdModel, SurrogateHeaviside, F1_loss_objective, setAcc_loss_objective"
   ]
  },
  {
   "cell_type": "code",
   "execution_count": 12,
   "metadata": {
    "hidden": true
   },
   "outputs": [
    {
     "name": "stdout",
     "output_type": "stream",
     "text": [
      "Parameter containing:\n",
      "tensor([0.5000, 0.5000, 0.5000, 0.5000, 0.5000, 0.5000, 0.5000, 0.5000, 0.5000,\n",
      "        0.5000], device='cuda:0', requires_grad=True)\n",
      "Parameter containing:\n",
      "tensor([50., 50., 50., 50., 50., 50., 50., 50., 50., 50.], device='cuda:0',\n",
      "       requires_grad=True)\n"
     ]
    }
   ],
   "source": [
    "nb_classes = 10\n",
    "criterion = F1_loss_objective\n",
    "# criterion = setAcc_loss_objective\n",
    "\n",
    "THRESHmodel = ThresholdModel(threshold_fn=SurrogateHeaviside.apply, t=0.5, sigma=50., nb_classes=nb_classes)\n",
    "THRESHmodel = THRESHmodel.to(device, dtype=torch.float)\n",
    "\n",
    "# for el in THRESHmodel.parameters():\n",
    "#     params = el.clone().detach().cpu()\n",
    "#     print(params)\n",
    "\n",
    "thresh = THRESHmodel.thresh\n",
    "sigma = THRESHmodel.sigma\n",
    "print(thresh)\n",
    "print(sigma)\n",
    "\n",
    "learning_rate = 1e-2\n",
    "\n",
    "THRESHoptimizer = torch.optim.Adam(THRESHmodel.parameters(), lr=learning_rate)\n",
    "\n",
    "# # # learn only the thresholds:\n",
    "# THRESHoptimizer = torch.optim.Adam([\n",
    "#                 {'params': THRESHmodel.thresh}\n",
    "#             ], lr=learning_rate)\n",
    "\n",
    "# # learn the thresholds and sigma:\n",
    "# THRESHoptimizer = torch.optim.Adam([\n",
    "#                 {'params': THRESHmodel.thresh},\n",
    "#                 {'params': THRESHmodel.sigma, 'lr': 1e-2}\n",
    "#             ], lr=learning_rate)\n"
   ]
  },
  {
   "cell_type": "code",
   "execution_count": 13,
   "metadata": {
    "hidden": true
   },
   "outputs": [
    {
     "name": "stdout",
     "output_type": "stream",
     "text": [
      "tensor([0.5000, 0.5000, 0.5000, 0.5000, 0.5000, 0.5000, 0.5000, 0.5000, 0.5000,\n",
      "        0.5000])\n",
      "Epoch [1/100], Loss: -0.7014, Duration: 0.0 s\n",
      "threshs: tensor([0.4900, 0.5100, 0.4900, 0.4900, 0.5100, 0.4900, 0.5100, 0.5100, 0.5100,\n",
      "        0.4900])\n",
      "sigma: tensor([50.0100, 50.0100, 50.0100, 49.9901, 50.0100, 49.9902, 50.0100, 50.0100,\n",
      "        50.0100, 50.0100])\n",
      "Epoch [2/100], Loss: -0.7006, Duration: 0.0 s\n",
      "Epoch [3/100], Loss: -0.7020, Duration: 0.0 s\n",
      "Epoch [4/100], Loss: -0.7043, Duration: 0.0 s\n",
      "Epoch [5/100], Loss: -0.7054, Duration: 0.0 s\n",
      "Epoch [6/100], Loss: -0.7061, Duration: 0.0 s\n",
      "Epoch [7/100], Loss: -0.7071, Duration: 0.0 s\n",
      "Epoch [8/100], Loss: -0.7091, Duration: 0.0 s\n",
      "Epoch [9/100], Loss: -0.7104, Duration: 0.0 s\n",
      "Epoch [10/100], Loss: -0.7119, Duration: 0.0 s\n",
      "Epoch [11/100], Loss: -0.7128, Duration: 0.0 s\n",
      "threshs: tensor([0.4913, 0.5991, 0.4507, 0.3976, 0.6091, 0.3921, 0.6102, 0.6066, 0.5992,\n",
      "        0.3913])\n",
      "sigma: tensor([50.1095, 50.0948, 50.1092, 49.9905, 50.0920, 49.9809, 50.0612, 50.0632,\n",
      "        50.1109, 50.0754])\n",
      "Epoch [12/100], Loss: -0.7141, Duration: 0.0 s\n",
      "Epoch [13/100], Loss: -0.7143, Duration: 0.0 s\n",
      "Epoch [14/100], Loss: -0.7149, Duration: 0.0 s\n",
      "Epoch [15/100], Loss: -0.7153, Duration: 0.0 s\n",
      "Epoch [16/100], Loss: -0.7162, Duration: 0.0 s\n",
      "Epoch [17/100], Loss: -0.7164, Duration: 0.0 s\n",
      "Epoch [18/100], Loss: -0.7172, Duration: 0.0 s\n",
      "Epoch [19/100], Loss: -0.7174, Duration: 0.0 s\n",
      "Epoch [20/100], Loss: -0.7179, Duration: 0.0 s\n",
      "Epoch [21/100], Loss: -0.7179, Duration: 0.0 s\n",
      "threshs: tensor([0.4835, 0.5804, 0.4757, 0.3594, 0.6909, 0.3972, 0.7061, 0.7006, 0.6226,\n",
      "        0.3185])\n",
      "sigma: tensor([50.2089, 50.1979, 50.2098, 50.0726, 50.1950, 50.0815, 50.0950, 50.1071,\n",
      "        50.1954, 50.1664])\n",
      "Epoch [22/100], Loss: -0.7183, Duration: 0.0 s\n",
      "Epoch [23/100], Loss: -0.7191, Duration: 0.0 s\n",
      "Epoch [24/100], Loss: -0.7188, Duration: 0.0 s\n",
      "Epoch [25/100], Loss: -0.7192, Duration: 0.0 s\n",
      "Epoch [26/100], Loss: -0.7196, Duration: 0.0 s\n",
      "Epoch [27/100], Loss: -0.7199, Duration: 0.0 s\n",
      "Epoch [28/100], Loss: -0.7205, Duration: 0.0 s\n",
      "Epoch [29/100], Loss: -0.7203, Duration: 0.0 s\n",
      "Epoch [30/100], Loss: -0.7212, Duration: 0.0 s\n",
      "Epoch [31/100], Loss: -0.7225, Duration: 0.0 s\n",
      "threshs: tensor([0.4832, 0.5764, 0.4612, 0.3897, 0.6799, 0.4120, 0.8102, 0.7778, 0.5977,\n",
      "        0.3122])\n",
      "sigma: tensor([50.3083, 50.3073, 50.3140, 50.1777, 50.3078, 50.1887, 50.0826, 50.1123,\n",
      "        50.2611, 50.2330])\n",
      "Epoch [32/100], Loss: -0.7212, Duration: 0.0 s\n",
      "Epoch [33/100], Loss: -0.7213, Duration: 0.0 s\n",
      "Epoch [34/100], Loss: -0.7220, Duration: 0.0 s\n",
      "Epoch [35/100], Loss: -0.7222, Duration: 0.0 s\n",
      "Epoch [36/100], Loss: -0.7223, Duration: 0.0 s\n",
      "Epoch [37/100], Loss: -0.7232, Duration: 0.0 s\n",
      "Epoch [38/100], Loss: -0.7240, Duration: 0.0 s\n",
      "Epoch [39/100], Loss: -0.7241, Duration: 0.0 s\n",
      "Epoch [40/100], Loss: -0.7256, Duration: 0.0 s\n",
      "Epoch [41/100], Loss: -0.7263, Duration: 0.0 s\n",
      "threshs: tensor([0.4862, 0.5851, 0.4709, 0.3804, 0.6572, 0.3958, 0.8763, 0.8865, 0.5876,\n",
      "        0.3393])\n",
      "sigma: tensor([50.4080, 50.4177, 50.4170, 50.2815, 50.4289, 50.2953, 50.1921, 50.0277,\n",
      "        50.3565, 50.2854])\n",
      "Epoch [42/100], Loss: -0.7266, Duration: 0.0 s\n",
      "Epoch [43/100], Loss: -0.7271, Duration: 0.0 s\n",
      "Epoch [44/100], Loss: -0.7271, Duration: 0.0 s\n",
      "Epoch [45/100], Loss: -0.7273, Duration: 0.0 s\n",
      "Epoch [46/100], Loss: -0.7284, Duration: 0.0 s\n",
      "Epoch [47/100], Loss: -0.7287, Duration: 0.0 s\n",
      "Epoch [48/100], Loss: -0.7277, Duration: 0.0 s\n",
      "Epoch [49/100], Loss: -0.7281, Duration: 0.0 s\n",
      "Epoch [50/100], Loss: -0.7295, Duration: 0.0 s\n",
      "Epoch [51/100], Loss: -0.7287, Duration: 0.0 s\n",
      "threshs: tensor([0.4864, 0.5786, 0.4662, 0.3777, 0.6739, 0.4065, 0.8727, 0.9781, 0.6000,\n",
      "        0.3612])\n",
      "sigma: tensor([50.5083, 50.5275, 50.5215, 50.3927, 50.5497, 50.4067, 50.3269, 50.0953,\n",
      "        50.4662, 50.3897])\n",
      "Epoch [52/100], Loss: -0.7295, Duration: 0.0 s\n",
      "Epoch [53/100], Loss: -0.7291, Duration: 0.0 s\n",
      "Epoch [54/100], Loss: -0.7290, Duration: 0.0 s\n",
      "Epoch [55/100], Loss: -0.7282, Duration: 0.0 s\n",
      "Epoch [56/100], Loss: -0.7275, Duration: 0.0 s\n",
      "Epoch [57/100], Loss: -0.7278, Duration: 0.0 s\n",
      "Epoch [58/100], Loss: -0.7277, Duration: 0.0 s\n",
      "Epoch [59/100], Loss: -0.7279, Duration: 0.0 s\n",
      "Epoch [60/100], Loss: -0.7277, Duration: 0.0 s\n",
      "Epoch [61/100], Loss: -0.7280, Duration: 0.0 s\n",
      "threshs: tensor([0.4856, 0.5829, 0.4689, 0.3826, 0.6717, 0.4007, 0.8447, 0.9331, 0.6003,\n",
      "        0.3492])\n",
      "sigma: tensor([50.6088, 50.6372, 50.6257, 50.5059, 50.6723, 50.5152, 50.4547, 50.2436,\n",
      "        50.5708, 50.5228])\n",
      "Epoch [62/100], Loss: -0.7282, Duration: 0.0 s\n",
      "Epoch [63/100], Loss: -0.7275, Duration: 0.0 s\n",
      "Epoch [64/100], Loss: -0.7283, Duration: 0.0 s\n",
      "Epoch [65/100], Loss: -0.7287, Duration: 0.0 s\n",
      "Epoch [66/100], Loss: -0.7287, Duration: 0.0 s\n",
      "Epoch [67/100], Loss: -0.7287, Duration: 0.0 s\n",
      "Epoch [68/100], Loss: -0.7282, Duration: 0.0 s\n",
      "Epoch [69/100], Loss: -0.7280, Duration: 0.0 s\n",
      "Epoch [70/100], Loss: -0.7283, Duration: 0.0 s\n",
      "Epoch [71/100], Loss: -0.7285, Duration: 0.0 s\n",
      "threshs: tensor([0.4854, 0.5804, 0.4678, 0.3784, 0.6679, 0.4036, 0.8320, 0.9405, 0.5953,\n",
      "        0.3469])\n",
      "sigma: tensor([50.7085, 50.7447, 50.7289, 50.6158, 50.7921, 50.6233, 50.5742, 50.3689,\n",
      "        50.6730, 50.6500])\n",
      "Epoch [72/100], Loss: -0.7283, Duration: 0.0 s\n",
      "Epoch [73/100], Loss: -0.7288, Duration: 0.0 s\n",
      "Epoch [74/100], Loss: -0.7290, Duration: 0.0 s\n",
      "Epoch [75/100], Loss: -0.7290, Duration: 0.0 s\n",
      "Epoch [76/100], Loss: -0.7292, Duration: 0.0 s\n",
      "Epoch [77/100], Loss: -0.7297, Duration: 0.0 s\n",
      "Epoch [78/100], Loss: -0.7293, Duration: 0.0 s\n",
      "Epoch [79/100], Loss: -0.7293, Duration: 0.0 s\n",
      "Epoch [80/100], Loss: -0.7293, Duration: 0.0 s\n",
      "Epoch [81/100], Loss: -0.7289, Duration: 0.0 s\n",
      "threshs: tensor([0.4855, 0.5819, 0.4682, 0.3812, 0.6721, 0.4022, 0.8398, 0.9561, 0.5977,\n",
      "        0.3530])\n",
      "sigma: tensor([50.8074, 50.8509, 50.8311, 50.7257, 50.9085, 50.7294, 50.6932, 50.4963,\n",
      "        50.7776, 50.7716])\n",
      "Epoch [82/100], Loss: -0.7293, Duration: 0.0 s\n",
      "Epoch [83/100], Loss: -0.7293, Duration: 0.0 s\n",
      "Epoch [84/100], Loss: -0.7293, Duration: 0.0 s\n",
      "Epoch [85/100], Loss: -0.7293, Duration: 0.0 s\n",
      "Epoch [86/100], Loss: -0.7293, Duration: 0.0 s\n",
      "Epoch [87/100], Loss: -0.7293, Duration: 0.0 s\n",
      "Epoch [88/100], Loss: -0.7295, Duration: 0.0 s\n",
      "Epoch [89/100], Loss: -0.7295, Duration: 0.0 s\n",
      "Epoch [90/100], Loss: -0.7297, Duration: 0.0 s\n",
      "Epoch [91/100], Loss: -0.7297, Duration: 0.0 s\n",
      "threshs: tensor([0.4856, 0.5812, 0.4684, 0.3795, 0.6696, 0.4030, 0.8457, 0.9447, 0.5982,\n",
      "        0.3505])\n",
      "sigma: tensor([50.9060, 50.9560, 50.9329, 50.8334, 51.0232, 50.8348, 50.8064, 50.6348,\n",
      "        50.8806, 50.8939])\n",
      "Epoch [92/100], Loss: -0.7295, Duration: 0.0 s\n",
      "Epoch [93/100], Loss: -0.7295, Duration: 0.0 s\n",
      "Epoch [94/100], Loss: -0.7295, Duration: 0.0 s\n",
      "Epoch [95/100], Loss: -0.7297, Duration: 0.0 s\n",
      "Epoch [96/100], Loss: -0.7297, Duration: 0.0 s\n",
      "Epoch [97/100], Loss: -0.7297, Duration: 0.0 s\n",
      "Epoch [98/100], Loss: -0.7295, Duration: 0.0 s\n",
      "Epoch [99/100], Loss: -0.7295, Duration: 0.0 s\n",
      "Epoch [100/100], Loss: -0.7295, Duration: 0.0 s\n",
      "delta: tensor([-0.0143,  0.0815, -0.0319, -0.1196,  0.1706, -0.0975,  0.3439,  0.4496,\n",
      "         0.0971, -0.1499])\n"
     ]
    },
    {
     "data": {
      "text/plain": [
       "[<matplotlib.lines.Line2D at 0x7fb74456d150>]"
      ]
     },
     "execution_count": 13,
     "metadata": {},
     "output_type": "execute_result"
    },
    {
     "data": {
      "image/png": "[encoded data removed]",
      "text/plain": [
       "<Figure size 432x288 with 1 Axes>"
      ]
     },
     "metadata": {
      "needs_background": "light"
     },
     "output_type": "display_data"
    }
   ],
   "source": [
    "# Train the model, in batch mode\n",
    "# num_epochs = 150\n",
    "num_epochs = 100\n",
    "# num_epochs = 300\n",
    "\n",
    "# sigma = torch.nn.Parameter(torch.tensor(40.0), requires_grad=True)\n",
    "\n",
    "cumul_delta_thresh = torch.zeros(nb_classes,)\n",
    "delta_thresh = torch.zeros(nb_classes,)\n",
    "\n",
    "el = next(THRESHmodel.parameters())\n",
    "PREC_learned_AT_thresholds = el.clone().detach().cpu()\n",
    "print(PREC_learned_AT_thresholds)\n",
    "    \n",
    "losses = []\n",
    "for epoch in range(num_epochs):\n",
    "    \n",
    "    debut = time.time()\n",
    "    \n",
    "    THRESHmodel.train()\n",
    "    \n",
    "    # Forward pass\n",
    "    outputs = THRESHmodel(val_pred_tensor)\n",
    "\n",
    "    loss = criterion(outputs, val_gt_tensor)\n",
    "\n",
    "    # Backward and optimize\n",
    "    THRESHoptimizer.zero_grad()\n",
    "\n",
    "    loss.backward()\n",
    "#     loss.mean().backward()\n",
    "#         loss.backward(at_batch_y)\n",
    "    # loss.backward(torch.ones_like(loss))\n",
    "    \n",
    "    THRESHoptimizer.step()\n",
    "    # THRESHmodel.clamp()\n",
    "    losses.append(loss)\n",
    "    \n",
    "    duree_epoch = time.time() - debut\n",
    "\n",
    "    print ('Epoch [{}/{}], Loss: {:.4f}, Duration: {:.1f} s' \n",
    "           .format(epoch+1, num_epochs, loss, duree_epoch))\n",
    "\n",
    "    learned_AT_thresholds = THRESHmodel.thresh.clone().detach().cpu()\n",
    "\n",
    "    delta_thresh = learned_AT_thresholds - PREC_learned_AT_thresholds\n",
    "    cumul_delta_thresh += delta_thresh\n",
    "    PREC_learned_AT_thresholds = learned_AT_thresholds\n",
    "    if epoch % 10 == 0: \n",
    "        print('threshs:', learned_AT_thresholds)\n",
    "        print('sigma:', THRESHmodel.sigma.clone().detach().cpu())\n",
    "    # if torch.sum(delta_thresh) < 0.01: break\n",
    "    \n",
    "print('delta:', cumul_delta_thresh)\n",
    "plt.figure()\n",
    "# plt.figure(figsize=(8,6))\n",
    "plt.plot(losses)"
   ]
  },
  {
   "cell_type": "code",
   "execution_count": 14,
   "metadata": {
    "hidden": true
   },
   "outputs": [
    {
     "name": "stdout",
     "output_type": "stream",
     "text": [
      "0.486 0.581 0.468 0.380 0.671 0.403 0.844 0.950 0.597 0.350 \n"
     ]
    }
   ],
   "source": [
    "learned_AT_thresholds=THRESHmodel.thresh.clone().detach().cpu().numpy()\n",
    "sigma = THRESHmodel.sigma.clone().detach().cpu().numpy()\n",
    "learned_AT_thresholds, sigma\n",
    "# numThresh: 0.317 0.276 0.299 0.248 0.680 0.292 0.828 0.334 0.352 0.280 \n",
    "# sglThresh: 0.486 0.581 0.468 0.380 0.671 0.403 0.844 0.950 0.597 0.350 \n",
    "# heuThresh: 0.470 0.638 0.495 0.135 0.665 0.389 0.803 0.987 0.365 0.202 \n",
    "\n",
    "print_thresholds(learned_AT_thresholds, nb_classes)"
   ]
  },
  {
   "cell_type": "code",
   "execution_count": 15,
   "metadata": {
    "hidden": true
   },
   "outputs": [
    {
     "name": "stdout",
     "output_type": "stream",
     "text": [
      "val\n",
      "              precision    recall  f1-score   support\n",
      "\n",
      "           0      0.882     0.806     0.843       186\n",
      "           1      0.917     0.898     0.907       599\n",
      "           2      0.700     0.569     0.628       160\n",
      "           3      0.788     0.558     0.654       120\n",
      "           4      0.559     0.725     0.632        91\n",
      "           5      0.615     0.521     0.564       144\n",
      "           6      0.482     0.465     0.473        86\n",
      "           7      0.494     0.645     0.559        62\n",
      "           8      0.516     0.400     0.451        80\n",
      "           9      0.808     0.500     0.618       194\n",
      "\n",
      "   micro avg      0.768     0.695     0.729      1722\n",
      "   macro avg      0.676     0.609     0.633      1722\n",
      "weighted avg      0.772     0.695     0.725      1722\n",
      " samples avg      0.737     0.710     0.700      1722\n",
      "\n",
      "set acc: 0.480\n",
      "desed\n",
      "              precision    recall  f1-score   support\n",
      "\n",
      "           0      0.906     0.734     0.811        79\n",
      "           1      0.863     0.901     0.882       314\n",
      "           2      0.756     0.720     0.738        82\n",
      "           3      0.870     0.671     0.758        70\n",
      "           4      0.660     0.681     0.670        94\n",
      "           5      0.835     0.485     0.614       136\n",
      "           6      0.740     0.420     0.536        88\n",
      "           7      0.800     0.714     0.755        84\n",
      "           8      0.636     0.479     0.547        73\n",
      "           9      0.641     0.446     0.526        92\n",
      "\n",
      "   micro avg      0.794     0.674     0.730      1112\n",
      "   macro avg      0.771     0.625     0.684      1112\n",
      "weighted avg      0.790     0.674     0.719      1112\n",
      " samples avg      0.730     0.676     0.682      1112\n",
      "\n",
      "set acc: 0.487\n"
     ]
    },
    {
     "name": "stderr",
     "output_type": "stream",
     "text": [
      "/home/thomas/tools/miniconda2/envs/envPytorch1/lib/python3.7/site-packages/sklearn/metrics/_classification.py:1272: UndefinedMetricWarning: Precision and F-score are ill-defined and being set to 0.0 in samples with no predicted labels. Use `zero_division` parameter to control this behavior.\n",
      "  _warn_prf(average, modifier, msg_start, len(result))\n"
     ]
    }
   ],
   "source": [
    "# print_thresholds(learned_AT_thresholds, nb_classes)\n",
    "# val_bin_pred = val_pred_np>learned_AT_thresholds\n",
    "# test_bin_pred = desed_pred_np>learned_AT_thresholds\n",
    "\n",
    "val_bin_pred = binarize_probs(val_pred_np, learned_AT_thresholds)\n",
    "test_bin_pred = binarize_probs(desed_pred_np, learned_AT_thresholds)\n",
    "\n",
    "# print(val_bin_pred)\n",
    "\n",
    "print('val')\n",
    "print_scores(val_gt_np, val_bin_pred)\n",
    "print('desed')\n",
    "print_scores(desed_gt_np, test_bin_pred)\n",
    "# compute_accuracy_from_numpy_tensors(y_test_numpy, test_pred)\n",
    "# 0.3366 0.2834 0.2761 0.3185 0.2849 0.2611"
   ]
  },
  {
   "cell_type": "code",
   "execution_count": 94,
   "metadata": {
    "hidden": true
   },
   "outputs": [],
   "source": []
  },
  {
   "cell_type": "code",
   "execution_count": 29,
   "metadata": {
    "hidden": true
   },
   "outputs": [
    {
     "name": "stdout",
     "output_type": "stream",
     "text": [
      "0.719\n"
     ]
    }
   ],
   "source": [
    "# myf1 = calculate_f1(desed_gt_np, desed_pred_np, thresholds=learned_AT_thresholds, average='micro')\n",
    "# print(\"%.3f\"%myf1)\n"
   ]
  },
  {
   "cell_type": "markdown",
   "metadata": {},
   "source": [
    "# heuThresh"
   ]
  },
  {
   "cell_type": "code",
   "execution_count": 7,
   "metadata": {
    "ExecuteTime": {
     "end_time": "2020-10-20T09:57:39.242694Z",
     "start_time": "2020-10-20T09:57:39.235423Z"
    }
   },
   "outputs": [],
   "source": [
    "from heu_utils.heuThresh import heu_threshold_opti, heu_threshold_opti_meanF1"
   ]
  },
  {
   "cell_type": "code",
   "execution_count": 9,
   "metadata": {
    "ExecuteTime": {
     "end_time": "2020-10-20T10:00:27.920405Z",
     "start_time": "2020-10-20T09:58:32.123753Z"
    }
   },
   "outputs": [],
   "source": [
    "t=0.5\n",
    "thresh = [t]*nb_classes\n",
    "\n",
    "# sk_f1, best_f1, best_AT_thresholds, history = heu_threshold_opti(val_gt_np, val_pred_np, thresh)\n",
    "\n",
    "# average F1 optim:\n",
    "sk_f1, best_f1, best_AT_thresholds, history = heu_threshold_opti_meanF1(val_gt_np, val_pred_np, thresh, average='micro')"
   ]
  },
  {
   "cell_type": "code",
   "execution_count": 10,
   "metadata": {
    "ExecuteTime": {
     "end_time": "2020-10-20T10:00:27.951846Z",
     "start_time": "2020-10-20T10:00:27.922697Z"
    }
   },
   "outputs": [
    {
     "name": "stdout",
     "output_type": "stream",
     "text": [
      "val\n",
      "              precision    recall  f1-score   support\n",
      "\n",
      "           0      0.873     0.812     0.841       186\n",
      "           1      0.924     0.891     0.907       599\n",
      "           2      0.681     0.575     0.624       160\n",
      "           3      0.795     0.550     0.650       120\n",
      "           4      0.532     0.736     0.618        91\n",
      "           5      0.792     0.264     0.396       144\n",
      "           6      0.432     0.593     0.500        86\n",
      "           7      0.455     0.645     0.533        62\n",
      "           8      0.525     0.388     0.446        80\n",
      "           9      0.817     0.485     0.608       194\n",
      "\n",
      "   micro avg      0.764     0.676     0.717      1722\n",
      "   macro avg      0.683     0.594     0.612      1722\n",
      "weighted avg      0.783     0.676     0.709      1722\n",
      " samples avg      0.735     0.698     0.695      1722\n",
      "\n",
      "set acc: 0.471\n",
      "desed\n",
      "              precision    recall  f1-score   support\n",
      "\n",
      "           0      0.896     0.759     0.822        79\n",
      "           1      0.870     0.898     0.884       314\n",
      "           2      0.744     0.744     0.744        82\n",
      "           3      0.868     0.657     0.748        70\n",
      "           4      0.621     0.681     0.650        94\n",
      "           5      0.974     0.279     0.434       136\n",
      "           6      0.661     0.466     0.547        88\n",
      "           7      0.790     0.762     0.776        84\n",
      "           8      0.630     0.466     0.535        73\n",
      "           9      0.632     0.391     0.483        92\n",
      "\n",
      "   micro avg      0.787     0.653     0.714      1112\n",
      "   macro avg      0.769     0.610     0.662      1112\n",
      "weighted avg      0.796     0.653     0.695      1112\n",
      " samples avg      0.728     0.663     0.675      1112\n",
      "\n",
      "set acc: 0.467\n"
     ]
    }
   ],
   "source": [
    "val_bin_pred = binarize_probs(val_pred_np, best_AT_thresholds)\n",
    "test_bin_pred = binarize_probs(desed_pred_np, best_AT_thresholds)\n",
    "\n",
    "# print(val_bin_pred)\n",
    "\n",
    "print('val')\n",
    "print_scores(val_gt_np, val_bin_pred)\n",
    "print('desed')\n",
    "print_scores(desed_gt_np, test_bin_pred)\n"
   ]
  },
  {
   "cell_type": "code",
   "execution_count": 49,
   "metadata": {},
   "outputs": [],
   "source": [
    "save_thresholds(best_AT_thresholds, \"exp/dcase2019/heu_thresholds_meanF1_micro.npy\")"
   ]
  },
  {
   "cell_type": "code",
   "execution_count": 54,
   "metadata": {},
   "outputs": [
    {
     "data": {
      "text/plain": [
       "array([0.4742253 , 0.63817557, 0.4951682 , 0.13649258, 0.66349847,\n",
       "       0.38909076, 0.80260752, 0.98742909, 0.36431398, 0.20225315])"
      ]
     },
     "execution_count": 54,
     "metadata": {},
     "output_type": "execute_result"
    }
   ],
   "source": [
    "tmp = load_thresholds(\"exp/dcase2019/heu_thresholds_meanF1_micro.npy\")\n",
    "tmp"
   ]
  },
  {
   "cell_type": "code",
   "execution_count": null,
   "metadata": {},
   "outputs": [],
   "source": []
  },
  {
   "cell_type": "code",
   "execution_count": 78,
   "metadata": {},
   "outputs": [
    {
     "name": "stdout",
     "output_type": "stream",
     "text": [
      "0.470 0.638 0.495 0.135 0.665 0.389 0.803 0.987 0.365 0.202 \n"
     ]
    }
   ],
   "source": [
    "print_thresholds(best_AT_thresholds, nb_classes)"
   ]
  },
  {
   "cell_type": "code",
   "execution_count": null,
   "metadata": {},
   "outputs": [],
   "source": []
  }
 ],
 "metadata": {
  "kernelspec": {
   "display_name": "Python 3",
   "language": "python",
   "name": "python3"
  },
  "language_info": {
   "codemirror_mode": {
    "name": "ipython",
    "version": 3
   },
   "file_extension": ".py",
   "mimetype": "text/x-python",
   "name": "python",
   "nbconvert_exporter": "python",
   "pygments_lexer": "ipython3",
   "version": "3.7.6"
  },
  "toc": {
   "nav_menu": {},
   "number_sections": true,
   "sideBar": true,
   "skip_h1_title": false,
   "toc_cell": true,
   "toc_position": {},
   "toc_section_display": "block",
   "toc_window_display": false
  }
 },
 "nbformat": 4,
 "nbformat_minor": 4
}

{
 "cells": [
  {
   "cell_type": "markdown",
   "metadata": {
    "toc": true
   },
   "source": [
    "<h1>Table of Contents<span class=\"tocSkip\"></span></h1>\n",
    "<div class=\"toc\" style=\"margin-top: 1em;\"><ul class=\"toc-item\"><li><span><a href=\"#Load-predictions-and-GT\" data-toc-modified-id=\"Load-predictions-and-GT-1\"><span class=\"toc-item-num\">1&nbsp;&nbsp;</span>Load predictions and GT</a></span></li><li><span><a href=\"#Static-thresholds\" data-toc-modified-id=\"Static-thresholds-2\"><span class=\"toc-item-num\">2&nbsp;&nbsp;</span>Static thresholds</a></span></li><li><span><a href=\"#NumThresh\" data-toc-modified-id=\"NumThresh-3\"><span class=\"toc-item-num\">3&nbsp;&nbsp;</span>NumThresh</a></span></li><li><span><a href=\"#SGLthresh\" data-toc-modified-id=\"SGLthresh-4\"><span class=\"toc-item-num\">4&nbsp;&nbsp;</span>SGLthresh</a></span></li><li><span><a href=\"#heuThresh\" data-toc-modified-id=\"heuThresh-5\"><span class=\"toc-item-num\">5&nbsp;&nbsp;</span>heuThresh</a></span></li></ul></div>"
   ]
  },
  {
   "cell_type": "code",
   "execution_count": 1,
   "metadata": {
    "ExecuteTime": {
     "end_time": "2020-10-20T09:51:08.045424Z",
     "start_time": "2020-10-20T09:51:06.263952Z"
    }
   },
   "outputs": [
    {
     "name": "stdout",
     "output_type": "stream",
     "text": [
      "cuda:0 GeForce GTX 1080\n",
      "pytorch version: 1.4.0\n"
     ]
    }
   ],
   "source": [
    "import os\n",
    "os.environ[\"MKL_NUM_THREADS\"] = \"2\"\n",
    "os.environ[\"NUMEXPR_NU M_THREADS\"] = \"2\"\n",
    "os.environ[\"OMP_NUM_THREADS\"] = \"2\"\n",
    "\n",
    "import numpy as np\n",
    "\n",
    "import matplotlib.pyplot as plt\n",
    "import matplotlib.cm as cm\n",
    "from mpl_toolkits.axes_grid1 import make_axes_locatable\n",
    "\n",
    "from sklearn.metrics import confusion_matrix, accuracy_score, f1_score, precision_recall_fscore_support, classification_report\n",
    "\n",
    "import pickle\n",
    "import time\n",
    "import tqdm\n",
    "\n",
    "import torch \n",
    "import torch.nn as nn\n",
    "import torch.nn.functional as F\n",
    "import torch.utils.data\n",
    "\n",
    "# Device configuration\n",
    "device = torch.device('cuda:0' if torch.cuda.is_available() else 'cpu')\n",
    "# device = torch.device('cuda:1' if torch.cuda.is_available() else 'cpu')\n",
    "print(device, torch.cuda.get_device_name(0))\n",
    "\n",
    "print(\"pytorch version:\", torch.__version__)\n"
   ]
  },
  {
   "cell_type": "code",
   "execution_count": 2,
   "metadata": {
    "ExecuteTime": {
     "end_time": "2020-10-20T09:51:08.052284Z",
     "start_time": "2020-10-20T09:51:08.047752Z"
    }
   },
   "outputs": [],
   "source": [
    "torch.manual_seed(0)\n",
    "torch.cuda.manual_seed(0)\n",
    "np.random.seed(0)\n",
    "\n",
    "torch.backends.cudnn.deterministic = True"
   ]
  },
  {
   "cell_type": "code",
   "execution_count": 3,
   "metadata": {
    "ExecuteTime": {
     "end_time": "2020-10-20T09:51:08.105684Z",
     "start_time": "2020-10-20T09:51:08.054794Z"
    }
   },
   "outputs": [],
   "source": [
    "def print_scores(gt_y, preds):\n",
    "    print(classification_report(gt_y, preds, digits=3))    \n",
    "    set_accuracy = accuracy_score(gt_y, preds)\n",
    "    print('set acc: %.3f'%(set_accuracy))\n",
    "\n",
    "\n",
    "def print_thresholds(thresh, nb_classes):\n",
    "    s=''\n",
    "    for k in range(nb_classes):\n",
    "        s += '%.3f '%(thresh[k])\n",
    "    print(s)\n",
    "\n",
    "    \n",
    "def save_thresholds(thresh, fpath):\n",
    "    nb_classes = len(thresh)\n",
    "    with open(fpath, 'wt') as fh:\n",
    "        for k in range(nb_classes):\n",
    "            fh.write(\"%.6f\\n\"%(thresh[k]))\n",
    "        \n",
    "        \n",
    "def binarize_probs(probs, thresholds):\n",
    "    \n",
    "    nb_classes = probs.shape[-1]\n",
    "    binarized_output = np.zeros_like(probs)\n",
    "    \n",
    "    for k in range(nb_classes):\n",
    "        binarized_output[:, k] = (np.sign(probs[:, k] - thresholds[k]) + 1) // 2\n",
    "    \n",
    "    return binarized_output\n"
   ]
  },
  {
   "cell_type": "markdown",
   "metadata": {
    "heading_collapsed": true
   },
   "source": [
    "# Load predictions and GT"
   ]
  },
  {
   "cell_type": "code",
   "execution_count": 4,
   "metadata": {
    "ExecuteTime": {
     "end_time": "2020-10-20T09:51:14.963845Z",
     "start_time": "2020-10-20T09:51:12.230416Z"
    },
    "hidden": true
   },
   "outputs": [
    {
     "name": "stdout",
     "output_type": "stream",
     "text": [
      "17\n"
     ]
    },
    {
     "data": {
      "text/plain": [
       "(torch.Size([488, 17]),\n",
       " torch.Size([488, 17]),\n",
       " (488, 17),\n",
       " (488, 17),\n",
       " torch.Size([1103, 17]),\n",
       " torch.Size([1103, 17]),\n",
       " (1103, 17),\n",
       " (1103, 17))"
      ]
     },
     "execution_count": 4,
     "metadata": {},
     "output_type": "execute_result"
    }
   ],
   "source": [
    "val_pred_tensor = torch.load('datasets/dcase2017/predictions_tensor_validation.pt')\n",
    "val_gt_tensor = torch.load('datasets/dcase2017/gt_tensor_validation.pt')\n",
    "val_pred_np = val_pred_tensor.clone().cpu().numpy()\n",
    "val_gt_np = val_gt_tensor.clone().cpu().numpy()\n",
    "\n",
    "desed_pred_tensor = torch.load('datasets/dcase2017/predictions_tensor_eval.pt')\n",
    "desed_gt_tensor = torch.load('datasets/dcase2017/gt_tensor_eval.pt')\n",
    "desed_pred_np = desed_pred_tensor.clone().cpu().numpy()\n",
    "desed_gt_np = desed_gt_tensor.clone().cpu().numpy()\n",
    "\n",
    "# put tensors onto a GPU\n",
    "val_pred_tensor = val_pred_tensor.to(device)\n",
    "val_gt_tensor = val_gt_tensor.to(device)\n",
    "desed_pred_tensor = desed_pred_tensor.to(device)\n",
    "desed_gt_tensor = desed_gt_tensor.to(device)\n",
    "\n",
    "nb_classes=val_gt_tensor.size(1)\n",
    "print(nb_classes)\n",
    "\n",
    "val_pred_tensor.size(), val_gt_tensor.size(), val_pred_np.shape, val_gt_np.shape, desed_pred_tensor.size(), desed_gt_tensor.size(), desed_pred_np.shape, desed_gt_np.shape"
   ]
  },
  {
   "cell_type": "code",
   "execution_count": 5,
   "metadata": {
    "hidden": true
   },
   "outputs": [
    {
     "data": {
      "text/plain": [
       "(array([418.,   9.,  13.,  11.,   3.,  11.,   5.,   6.,   8.,   4.]),\n",
       " array([8.7517869e-08, 9.2968538e-02, 1.8593699e-01, 2.7890542e-01,\n",
       "        3.7187389e-01, 4.6484232e-01, 5.5781078e-01, 6.5077925e-01,\n",
       "        7.4374765e-01, 8.3671612e-01, 9.2968458e-01], dtype=float32),\n",
       " <a list of 10 Patch objects>)"
      ]
     },
     "execution_count": 5,
     "metadata": {},
     "output_type": "execute_result"
    },
    {
     "data": {
      "image/png": "[encoded data removed]",
      "text/plain": [
       "<Figure size 432x288 with 1 Axes>"
      ]
     },
     "metadata": {
      "needs_background": "light"
     },
     "output_type": "display_data"
    }
   ],
   "source": [
    "plt.hist(val_pred_np[:,9])"
   ]
  },
  {
   "cell_type": "code",
   "execution_count": 6,
   "metadata": {
    "hidden": true
   },
   "outputs": [],
   "source": [
    "noise = torch.normal(mean=0.1*torch.ones(val_pred_np.shape), std=0.1)\n",
    "noise = torch.clamp(noise, 0, 1)"
   ]
  },
  {
   "cell_type": "code",
   "execution_count": 7,
   "metadata": {
    "hidden": true
   },
   "outputs": [
    {
     "data": {
      "text/plain": [
       "(array([139.,  52.,  85.,  53.,  61.,  47.,  26.,  14.,   6.,   5.]),\n",
       " array([0.        , 0.03789912, 0.07579824, 0.11369736, 0.15159647,\n",
       "        0.1894956 , 0.22739471, 0.26529384, 0.30319294, 0.34109208,\n",
       "        0.3789912 ], dtype=float32),\n",
       " <a list of 10 Patch objects>)"
      ]
     },
     "execution_count": 7,
     "metadata": {},
     "output_type": "execute_result"
    },
    {
     "data": {
      "image/png": "[encoded data removed]",
      "text/plain": [
       "<Figure size 432x288 with 1 Axes>"
      ]
     },
     "metadata": {
      "needs_background": "light"
     },
     "output_type": "display_data"
    }
   ],
   "source": [
    "plt.hist(noise[:,0].cpu().numpy())"
   ]
  },
  {
   "cell_type": "markdown",
   "metadata": {
    "heading_collapsed": true
   },
   "source": [
    "# Static thresholds"
   ]
  },
  {
   "cell_type": "code",
   "execution_count": 5,
   "metadata": {
    "ExecuteTime": {
     "end_time": "2020-10-20T08:44:45.595836Z",
     "start_time": "2020-10-20T08:44:45.589097Z"
    },
    "hidden": true
   },
   "outputs": [],
   "source": [
    "static_thresh = 0.3\n",
    "\n",
    "val_bin_pred = binarize_probs(val_pred_np, [static_thresh]*nb_classes)\n",
    "test_bin_pred = binarize_probs(desed_pred_np, [static_thresh]*nb_classes)"
   ]
  },
  {
   "cell_type": "code",
   "execution_count": 6,
   "metadata": {
    "ExecuteTime": {
     "end_time": "2020-10-20T08:44:45.847750Z",
     "start_time": "2020-10-20T08:44:45.795684Z"
    },
    "hidden": true
   },
   "outputs": [
    {
     "name": "stdout",
     "output_type": "stream",
     "text": [
      "val\n",
      "              precision    recall  f1-score   support\n",
      "\n",
      "           0      1.000     0.467     0.636        30\n",
      "           1      0.833     0.333     0.476        30\n",
      "           2      0.909     0.333     0.488        30\n",
      "           3      0.857     0.400     0.545        30\n",
      "           4      0.556     0.500     0.526        30\n",
      "           5      0.821     0.767     0.793        30\n",
      "           6      0.667     0.250     0.364        32\n",
      "           7      0.446     0.714     0.549        35\n",
      "           8      0.784     0.935     0.853        31\n",
      "           9      0.600     0.771     0.675        35\n",
      "          10      0.895     0.567     0.694        30\n",
      "          11      0.271     0.900     0.417        60\n",
      "          12      0.429     0.094     0.154        32\n",
      "          13      0.538     0.226     0.318        31\n",
      "          14      0.429     0.550     0.482        60\n",
      "          15      0.654     0.567     0.607        30\n",
      "          16      0.875     0.560     0.683        50\n",
      "\n",
      "   micro avg      0.528     0.548     0.538       606\n",
      "   macro avg      0.680     0.526     0.545       606\n",
      "weighted avg      0.650     0.548     0.539       606\n",
      " samples avg      0.526     0.549     0.519       606\n",
      "\n",
      "set acc: 0.363\n",
      "test\n",
      "              precision    recall  f1-score   support\n",
      "\n",
      "           0      0.675     0.450     0.540        60\n",
      "           1      0.931     0.466     0.621        58\n",
      "           2      0.900     0.305     0.456        59\n",
      "           3      0.800     0.136     0.232        59\n",
      "           4      0.587     0.458     0.514        59\n",
      "           5      0.900     0.610     0.727        59\n",
      "           6      0.500     0.133     0.211        60\n",
      "           7      0.576     0.576     0.576        59\n",
      "           8      0.875     0.831     0.852        59\n",
      "           9      0.604     0.516     0.557        62\n",
      "          10      0.810     0.864     0.836        59\n",
      "          11      0.473     0.925     0.626       265\n",
      "          12      0.150     0.050     0.075        60\n",
      "          13      0.536     0.259     0.349        58\n",
      "          14      0.505     0.520     0.512       100\n",
      "          15      0.591     0.650     0.619        60\n",
      "          16      0.865     0.708     0.779       154\n",
      "\n",
      "   micro avg      0.603     0.578     0.590      1350\n",
      "   macro avg      0.663     0.497     0.534      1350\n",
      "weighted avg      0.643     0.578     0.564      1350\n",
      " samples avg      0.602     0.608     0.588      1350\n",
      "\n",
      "set acc: 0.445\n"
     ]
    },
    {
     "name": "stderr",
     "output_type": "stream",
     "text": [
      "/home/thomas/tools/miniconda2/envs/envPytorch1/lib/python3.7/site-packages/sklearn/metrics/_classification.py:1272: UndefinedMetricWarning: Precision and F-score are ill-defined and being set to 0.0 in samples with no predicted labels. Use `zero_division` parameter to control this behavior.\n",
      "  _warn_prf(average, modifier, msg_start, len(result))\n"
     ]
    }
   ],
   "source": [
    "print(\"val\")\n",
    "print_scores(val_gt_np, val_bin_pred)\n",
    "print(\"test\")\n",
    "print_scores(desed_gt_np, test_bin_pred)\n",
    "\n",
    "# f1 = f1_score(val_gt_np, val_bin_pred, average='micro')\n",
    "# print(\"%.3f\"%f1)\n",
    "\n",
    "# myf1 = my_calculate_f1(val_gt_np, val_pred_np, thresholds=[static_thresh]*nb_classes, average='micro')\n",
    "# print(\"%.3f\"%myf1)\n",
    "\n",
    "# binarized_output = np.zeros_like(val_gt_np)\n",
    "#     #     print('class num:', classes_num)\n",
    "# thresholds=[static_thresh]*nb_classes\n",
    "# for k in range(nb_classes):\n",
    "#     binarized_output[:, k] = (np.sign(val_pred_np[:, k] - thresholds[k]) + 1) // 2\n",
    "\n",
    "# np.allclose(val_bin_pred, binarized_output)\n",
    "# # val_bin_pred[:10], binarized_output[:10]"
   ]
  },
  {
   "cell_type": "markdown",
   "metadata": {},
   "source": [
    "# NumThresh"
   ]
  },
  {
   "cell_type": "code",
   "execution_count": 10,
   "metadata": {
    "ExecuteTime": {
     "end_time": "2020-10-21T07:15:22.774686Z",
     "start_time": "2020-10-21T07:15:22.658951Z"
    }
   },
   "outputs": [],
   "source": [
    "from sgl_utils.opt import Adam\n",
    "from sgl_utils.numThresh import calculate_f1, calculate_at_gradient, optimize_at_with_gd, optimize_prec_and_rec_with_gd, calculate_prec_and_rec_gradient, calculate_prec_and_rec\n",
    "from sklearn import metrics"
   ]
  },
  {
   "cell_type": "code",
   "execution_count": 11,
   "metadata": {
    "ExecuteTime": {
     "end_time": "2020-10-21T07:17:39.321701Z",
     "start_time": "2020-10-21T07:15:51.758445Z"
    }
   },
   "outputs": [
    {
     "name": "stdout",
     "output_type": "stream",
     "text": [
      "Iteration: 0, Score: 0.555, thresholds: [0.3        0.30998931 0.29000404 0.3        0.30985594 0.30955403\n",
      " 0.29000024 0.29000337 0.29023315 0.29000513 0.30958481 0.30994003\n",
      " 0.30991299 0.29000137 0.30988679 0.29000342 0.29002179]\n",
      "Iteration: 50, Score: 0.579, thresholds: [0.3        0.30314433 0.18018861 0.3        0.33061793 0.37428074\n",
      " 0.25573083 0.27164051 0.24983728 0.26337085 0.38171451 0.51292495\n",
      " 0.29993025 0.14888314 0.33247355 0.27172614 0.28379601]\n",
      "val manual_thres f1: 0.545\n",
      "val auto_thres f1: 0.580\n",
      "0.5801583918584536\n",
      "0.300 0.309 0.177 0.300 0.331 0.380 0.263 0.270 0.251 0.260 0.381 0.515 0.300 0.150 0.332 0.274 0.283 \n"
     ]
    }
   ],
   "source": [
    "t=0.3\n",
    "thresh = [t]*nb_classes\n",
    "\n",
    "# average = 'micro'\n",
    "average = 'macro'\n",
    "\n",
    "manual_thres_f1 = calculate_f1(val_gt_np, val_pred_np, thresholds=thresh, average=average)\n",
    "# print_scores(y_test_numpy, test_pred)\n",
    "\n",
    "# Optimize thresholds\n",
    "(auto_thres_f1, auto_thresholds, metric_asfo_epoch) = optimize_at_with_gd(val_gt_np, val_pred_np, \n",
    "                                                                          thresh, average=average)\n",
    "# (auto_thres_f1, auto_thresholds, metric_asfo_epoch) = optimize_prec_and_rec_with_gd(val_gt_np, val_pred_np, \n",
    "#                                                                           thresh, average=average)\n",
    "\n",
    "# print_thresholds(auto_thresholds, nb_classes)\n",
    "# print(\"%.3f %.3f\"%(manual_thres_f1*100, fscore2*100))\n",
    "\n",
    "print('val manual_thres f1: {:.3f}'.format(manual_thres_f1))\n",
    "print('val auto_thres f1: {:.3f}'.format(auto_thres_f1))\n",
    "\n",
    "print(auto_thres_f1)\n",
    "print_thresholds(auto_thresholds, nb_classes)\n"
   ]
  },
  {
   "cell_type": "code",
   "execution_count": 12,
   "metadata": {
    "ExecuteTime": {
     "end_time": "2020-10-21T07:17:39.530373Z",
     "start_time": "2020-10-21T07:17:39.325387Z"
    }
   },
   "outputs": [
    {
     "data": {
      "text/plain": [
       "(array([0.54 , 0.545, 0.55 , 0.555, 0.56 , 0.565, 0.57 , 0.575, 0.58 ,\n",
       "        0.585]),\n",
       " <a list of 10 Text yticklabel objects>)"
      ]
     },
     "execution_count": 12,
     "metadata": {},
     "output_type": "execute_result"
    },
    {
     "data": {
      "image/png": "[encoded data removed]",
      "text/plain": [
       "<Figure size 432x288 with 1 Axes>"
      ]
     },
     "metadata": {
      "needs_background": "light"
     },
     "output_type": "display_data"
    }
   ],
   "source": [
    "fontsize=14\n",
    "plt.plot(metric_asfo_epoch)\n",
    "plt.xlabel(\"epochs\", fontsize=fontsize)\n",
    "plt.ylabel(\"F1\", fontsize=fontsize)\n",
    "plt.xticks(fontsize=fontsize)\n",
    "plt.yticks(fontsize=fontsize)\n",
    "# plt.savefig(\"datasets/emotions/emotions_F1_asof_epochs_myNetwork.png\")"
   ]
  },
  {
   "cell_type": "code",
   "execution_count": 13,
   "metadata": {},
   "outputs": [
    {
     "name": "stdout",
     "output_type": "stream",
     "text": [
      "val\n",
      "              precision    recall  f1-score   support\n",
      "\n",
      "           0      1.000     0.467     0.636        30\n",
      "           1      0.909     0.333     0.488        30\n",
      "           2      0.929     0.433     0.591        30\n",
      "           3      0.857     0.400     0.545        30\n",
      "           4      0.577     0.500     0.536        30\n",
      "           5      0.852     0.767     0.807        30\n",
      "           6      0.643     0.281     0.391        32\n",
      "           7      0.439     0.714     0.543        35\n",
      "           8      0.784     0.935     0.853        31\n",
      "           9      0.612     0.857     0.714        35\n",
      "          10      0.944     0.567     0.708        30\n",
      "          11      0.429     0.750     0.545        60\n",
      "          12      0.429     0.094     0.154        32\n",
      "          13      0.514     0.613     0.559        31\n",
      "          14      0.471     0.550     0.508        60\n",
      "          15      0.621     0.600     0.610        30\n",
      "          16      0.848     0.560     0.675        50\n",
      "\n",
      "   micro avg      0.610     0.566     0.587       606\n",
      "   macro avg      0.697     0.554     0.580       606\n",
      "weighted avg      0.674     0.566     0.577       606\n",
      " samples avg      0.569     0.575     0.557       606\n",
      "\n",
      "set acc: 0.424\n",
      "desed\n",
      "              precision    recall  f1-score   support\n",
      "\n",
      "           0      0.675     0.450     0.540        60\n",
      "           1      0.929     0.448     0.605        58\n",
      "           2      0.821     0.390     0.529        59\n",
      "           3      0.800     0.136     0.232        59\n",
      "           4      0.600     0.407     0.485        59\n",
      "           5      0.897     0.593     0.714        59\n",
      "           6      0.600     0.200     0.300        60\n",
      "           7      0.569     0.627     0.597        59\n",
      "           8      0.845     0.831     0.838        59\n",
      "           9      0.614     0.565     0.588        62\n",
      "          10      0.833     0.847     0.840        59\n",
      "          11      0.605     0.781     0.682       265\n",
      "          12      0.150     0.050     0.075        60\n",
      "          13      0.341     0.500     0.406        58\n",
      "          14      0.516     0.480     0.497       100\n",
      "          15      0.571     0.667     0.615        60\n",
      "          16      0.854     0.721     0.782       154\n",
      "\n",
      "   micro avg      0.645     0.566     0.603      1350\n",
      "   macro avg      0.660     0.511     0.548      1350\n",
      "weighted avg      0.660     0.566     0.583      1350\n",
      " samples avg      0.597     0.590     0.579      1350\n",
      "\n",
      "set acc: 0.455\n"
     ]
    },
    {
     "name": "stderr",
     "output_type": "stream",
     "text": [
      "/home/thomas/tools/miniconda2/envs/envPytorch1/lib/python3.7/site-packages/sklearn/metrics/_classification.py:1272: UndefinedMetricWarning: Precision and F-score are ill-defined and being set to 0.0 in samples with no predicted labels. Use `zero_division` parameter to control this behavior.\n",
      "  _warn_prf(average, modifier, msg_start, len(result))\n"
     ]
    }
   ],
   "source": [
    "# print_thresholds(learned_AT_thresholds, nb_classes)\n",
    "\n",
    "val_bin_pred = binarize_probs(val_pred_np, auto_thresholds)\n",
    "test_bin_pred = binarize_probs(desed_pred_np, auto_thresholds)\n",
    "\n",
    "print('val')\n",
    "print_scores(val_gt_np, val_bin_pred)\n",
    "print('desed')\n",
    "print_scores(desed_gt_np, test_bin_pred)\n"
   ]
  },
  {
   "cell_type": "code",
   "execution_count": 21,
   "metadata": {},
   "outputs": [],
   "source": [
    "save_thresholds(thresh, fpath)"
   ]
  },
  {
   "cell_type": "markdown",
   "metadata": {
    "heading_collapsed": true
   },
   "source": [
    "# SGLthresh"
   ]
  },
  {
   "cell_type": "code",
   "execution_count": 7,
   "metadata": {
    "ExecuteTime": {
     "end_time": "2020-10-20T08:46:14.835066Z",
     "start_time": "2020-10-20T08:46:14.790365Z"
    },
    "hidden": true
   },
   "outputs": [
    {
     "name": "stdout",
     "output_type": "stream",
     "text": [
      "Device in sglThresh.py cpu\n"
     ]
    }
   ],
   "source": [
    "from sgl_utils.sglThresh import ThresholdModel, SurrogateHeaviside, F1_loss_objective, macro_F1_loss_objective"
   ]
  },
  {
   "cell_type": "code",
   "execution_count": 12,
   "metadata": {
    "ExecuteTime": {
     "end_time": "2020-10-20T08:51:05.043069Z",
     "start_time": "2020-10-20T08:51:05.025395Z"
    },
    "hidden": true
   },
   "outputs": [
    {
     "name": "stdout",
     "output_type": "stream",
     "text": [
      "Parameter containing:\n",
      "tensor([0.3000, 0.3000, 0.3000, 0.3000, 0.3000, 0.3000, 0.3000, 0.3000, 0.3000,\n",
      "        0.3000, 0.3000, 0.3000, 0.3000, 0.3000, 0.3000, 0.3000, 0.3000],\n",
      "       device='cuda:0', requires_grad=True)\n",
      "Parameter containing:\n",
      "tensor([50., 50., 50., 50., 50., 50., 50., 50., 50., 50., 50., 50., 50., 50.,\n",
      "        50., 50., 50.], device='cuda:0', requires_grad=True)\n"
     ]
    }
   ],
   "source": [
    "# criterion = F1_loss_objective\n",
    "criterion = macro_F1_loss_objective\n",
    "\n",
    "THRESHmodel = ThresholdModel(threshold_fn=SurrogateHeaviside.apply, t=0.3, sigma=50., nb_classes=nb_classes)\n",
    "THRESHmodel = THRESHmodel.to(device, dtype=torch.float)\n",
    "\n",
    "# for el in THRESHmodel.parameters():\n",
    "#     params = el.clone().detach().cpu()\n",
    "#     print(params)\n",
    "\n",
    "thresh = THRESHmodel.thresh\n",
    "sigma = THRESHmodel.sigma\n",
    "print(thresh)\n",
    "print(sigma)\n",
    "\n",
    "learning_rate = 1e-2\n",
    "\n",
    "THRESHoptimizer = torch.optim.Adam(THRESHmodel.parameters(), lr=learning_rate)\n",
    "\n",
    "# # # learn only the thresholds:\n",
    "# THRESHoptimizer = torch.optim.Adam([\n",
    "#                 {'params': THRESHmodel.thresh}\n",
    "#             ], lr=learning_rate)\n",
    "\n",
    "# # learn the thresholds and sigma:\n",
    "# THRESHoptimizer = torch.optim.Adam([\n",
    "#                 {'params': THRESHmodel.thresh},\n",
    "#                 {'params': THRESHmodel.sigma, 'lr': 1e-2}\n",
    "#             ], lr=learning_rate)\n"
   ]
  },
  {
   "cell_type": "code",
   "execution_count": 13,
   "metadata": {
    "ExecuteTime": {
     "end_time": "2020-10-20T08:51:06.008647Z",
     "start_time": "2020-10-20T08:51:05.545877Z"
    },
    "hidden": true
   },
   "outputs": [
    {
     "name": "stdout",
     "output_type": "stream",
     "text": [
      "tensor([0.3000, 0.3000, 0.3000, 0.3000, 0.3000, 0.3000, 0.3000, 0.3000, 0.3000,\n",
      "        0.3000, 0.3000, 0.3000, 0.3000, 0.3000, 0.3000, 0.3000, 0.3000])\n",
      "Epoch [1/100], Loss: -0.5448, Duration: 0.0 s\n",
      "threshs: tensor([0.2900, 0.3100, 0.2900, 0.2900, 0.3100, 0.3100, 0.2900, 0.2900, 0.2900,\n",
      "        0.2900, 0.2900, 0.3100, 0.2900, 0.2900, 0.3100, 0.2900, 0.2900])\n",
      "sigma: tensor([49.9900, 50.0100, 49.9900, 49.9900, 49.9900, 50.0099, 50.0100, 50.0100,\n",
      "        50.0100, 50.0100, 49.9900, 50.0100, 50.0100, 49.9900, 49.9901, 50.0100,\n",
      "        50.0099])\n",
      "Epoch [2/100], Loss: -0.5565, Duration: 0.0 s\n",
      "Epoch [3/100], Loss: -0.5651, Duration: 0.0 s\n",
      "Epoch [4/100], Loss: -0.5666, Duration: 0.0 s\n",
      "Epoch [5/100], Loss: -0.5699, Duration: 0.0 s\n",
      "Epoch [6/100], Loss: -0.5769, Duration: 0.0 s\n",
      "Epoch [7/100], Loss: -0.5793, Duration: 0.0 s\n",
      "Epoch [8/100], Loss: -0.5811, Duration: 0.0 s\n",
      "Epoch [9/100], Loss: -0.5860, Duration: 0.0 s\n",
      "Epoch [10/100], Loss: -0.5898, Duration: 0.0 s\n",
      "Epoch [11/100], Loss: -0.5928, Duration: 0.0 s\n",
      "threshs: tensor([0.1914, 0.3155, 0.2010, 0.1919, 0.4075, 0.4091, 0.2022, 0.2010, 0.2648,\n",
      "        0.2605, 0.1987, 0.4099, 0.1961, 0.1915, 0.3307, 0.2181, 0.1884])\n",
      "sigma: tensor([49.9454, 50.1081, 50.0594, 49.9554, 50.0048, 50.0004, 50.0797, 50.1029,\n",
      "        50.1038, 50.1077, 50.0230, 50.1093, 50.0429, 49.9231, 50.0504, 50.1116,\n",
      "        49.9454])\n",
      "Epoch [12/100], Loss: -0.5922, Duration: 0.0 s\n",
      "Epoch [13/100], Loss: -0.5938, Duration: 0.0 s\n",
      "Epoch [14/100], Loss: -0.5954, Duration: 0.0 s\n",
      "Epoch [15/100], Loss: -0.6014, Duration: 0.0 s\n",
      "Epoch [16/100], Loss: -0.6084, Duration: 0.0 s\n",
      "Epoch [17/100], Loss: -0.6132, Duration: 0.0 s\n",
      "Epoch [18/100], Loss: -0.6176, Duration: 0.0 s\n",
      "Epoch [19/100], Loss: -0.6220, Duration: 0.0 s\n",
      "Epoch [20/100], Loss: -0.6204, Duration: 0.0 s\n",
      "Epoch [21/100], Loss: -0.6199, Duration: 0.0 s\n",
      "threshs: tensor([0.1338, 0.3262, 0.1778, 0.1356, 0.4400, 0.3955, 0.1108, 0.2187, 0.2767,\n",
      "        0.2678, 0.1377, 0.5032, 0.0975, 0.1298, 0.3417, 0.2466, 0.1053])\n",
      "sigma: tensor([50.0209, 50.2061, 50.1526, 50.0346, 50.1069, 50.0793, 50.0857, 50.2093,\n",
      "        50.1982, 50.2091, 50.1110, 50.2150, 49.9879, 49.9753, 50.1505, 50.2174,\n",
      "        49.9931])\n",
      "Epoch [22/100], Loss: -0.6225, Duration: 0.0 s\n",
      "Epoch [23/100], Loss: -0.6242, Duration: 0.0 s\n",
      "Epoch [24/100], Loss: -0.6260, Duration: 0.0 s\n",
      "Epoch [25/100], Loss: -0.6247, Duration: 0.0 s\n",
      "Epoch [26/100], Loss: -0.6250, Duration: 0.0 s\n",
      "Epoch [27/100], Loss: -0.6250, Duration: 0.0 s\n",
      "Epoch [28/100], Loss: -0.6223, Duration: 0.0 s\n",
      "Epoch [29/100], Loss: -0.6223, Duration: 0.0 s\n",
      "Epoch [30/100], Loss: -0.6207, Duration: 0.0 s\n",
      "Epoch [31/100], Loss: -0.6194, Duration: 0.0 s\n",
      "threshs: tensor([0.1374, 0.3240, 0.2015, 0.1413, 0.4104, 0.3998, 0.1146, 0.2226, 0.2687,\n",
      "        0.2644, 0.1659, 0.5743, 0.1129, 0.1662, 0.3395, 0.2388, 0.1396])\n",
      "sigma: tensor([50.1383, 50.3067, 50.2399, 50.1501, 50.2157, 50.1876, 50.1934, 50.3124,\n",
      "        50.2937, 50.3117, 50.2192, 50.3113, 50.0780, 50.0867, 50.2556, 50.3181,\n",
      "        50.0998])\n",
      "Epoch [32/100], Loss: -0.6192, Duration: 0.0 s\n",
      "Epoch [33/100], Loss: -0.6189, Duration: 0.0 s\n",
      "Epoch [34/100], Loss: -0.6207, Duration: 0.0 s\n",
      "Epoch [35/100], Loss: -0.6201, Duration: 0.0 s\n",
      "Epoch [36/100], Loss: -0.6182, Duration: 0.0 s\n",
      "Epoch [37/100], Loss: -0.6193, Duration: 0.0 s\n",
      "Epoch [38/100], Loss: -0.6214, Duration: 0.0 s\n",
      "Epoch [39/100], Loss: -0.6229, Duration: 0.0 s\n",
      "Epoch [40/100], Loss: -0.6234, Duration: 0.0 s\n",
      "Epoch [41/100], Loss: -0.6245, Duration: 0.0 s\n",
      "threshs: tensor([0.1592, 0.3215, 0.2175, 0.1647, 0.4241, 0.3979, 0.1342, 0.2130, 0.2738,\n",
      "        0.2648, 0.1498, 0.6276, 0.1242, 0.1562, 0.3389, 0.2362, 0.1246])\n",
      "sigma: tensor([50.2463, 50.4077, 50.3425, 50.2570, 50.3085, 50.3039, 50.2992, 50.4159,\n",
      "        50.3882, 50.4147, 50.3082, 50.3676, 50.1813, 50.1860, 50.3615, 50.4211,\n",
      "        50.1851])\n",
      "Epoch [42/100], Loss: -0.6257, Duration: 0.0 s\n",
      "Epoch [43/100], Loss: -0.6259, Duration: 0.0 s\n",
      "Epoch [44/100], Loss: -0.6249, Duration: 0.0 s\n",
      "Epoch [45/100], Loss: -0.6234, Duration: 0.0 s\n",
      "Epoch [46/100], Loss: -0.6229, Duration: 0.0 s\n",
      "Epoch [47/100], Loss: -0.6227, Duration: 0.0 s\n",
      "Epoch [48/100], Loss: -0.6241, Duration: 0.0 s\n",
      "Epoch [49/100], Loss: -0.6249, Duration: 0.0 s\n",
      "Epoch [50/100], Loss: -0.6230, Duration: 0.0 s\n",
      "Epoch [51/100], Loss: -0.6226, Duration: 0.0 s\n",
      "threshs: tensor([0.1670, 0.3228, 0.2074, 0.1717, 0.4266, 0.4002, 0.1162, 0.2205, 0.2713,\n",
      "        0.2662, 0.1551, 0.6629, 0.1062, 0.1524, 0.3390, 0.2404, 0.1258])\n",
      "sigma: tensor([50.3237, 50.5083, 50.4546, 50.3395, 50.4077, 50.4216, 50.3894, 50.5225,\n",
      "        50.4831, 50.5177, 50.4129, 50.4758, 50.2828, 50.2910, 50.4671, 50.5247,\n",
      "        50.2830])\n",
      "Epoch [52/100], Loss: -0.6220, Duration: 0.0 s\n",
      "Epoch [53/100], Loss: -0.6221, Duration: 0.0 s\n",
      "Epoch [54/100], Loss: -0.6228, Duration: 0.0 s\n",
      "Epoch [55/100], Loss: -0.6228, Duration: 0.0 s\n",
      "Epoch [56/100], Loss: -0.6228, Duration: 0.0 s\n",
      "Epoch [57/100], Loss: -0.6234, Duration: 0.0 s\n",
      "Epoch [58/100], Loss: -0.6232, Duration: 0.0 s\n",
      "Epoch [59/100], Loss: -0.6227, Duration: 0.0 s\n",
      "Epoch [60/100], Loss: -0.6217, Duration: 0.0 s\n",
      "Epoch [61/100], Loss: -0.6223, Duration: 0.0 s\n",
      "threshs: tensor([0.1628, 0.3237, 0.2042, 0.1650, 0.4208, 0.3974, 0.1204, 0.2154, 0.2721,\n",
      "        0.2643, 0.1528, 0.6541, 0.1115, 0.1606, 0.3374, 0.2369, 0.1253])\n",
      "sigma: tensor([50.3851, 50.6088, 50.5632, 50.4112, 50.5093, 50.5379, 50.4895, 50.6270,\n",
      "        50.5776, 50.6202, 50.5136, 50.6143, 50.3910, 50.3988, 50.5720, 50.6269,\n",
      "        50.3814])\n",
      "Epoch [62/100], Loss: -0.6240, Duration: 0.0 s\n",
      "Epoch [63/100], Loss: -0.6253, Duration: 0.0 s\n",
      "Epoch [64/100], Loss: -0.6254, Duration: 0.0 s\n",
      "Epoch [65/100], Loss: -0.6251, Duration: 0.0 s\n",
      "Epoch [66/100], Loss: -0.6240, Duration: 0.0 s\n",
      "Epoch [67/100], Loss: -0.6233, Duration: 0.0 s\n",
      "Epoch [68/100], Loss: -0.6233, Duration: 0.0 s\n",
      "Epoch [69/100], Loss: -0.6240, Duration: 0.0 s\n",
      "Epoch [70/100], Loss: -0.6240, Duration: 0.0 s\n",
      "Epoch [71/100], Loss: -0.6253, Duration: 0.0 s\n",
      "threshs: tensor([0.1572, 0.3237, 0.2092, 0.1599, 0.4255, 0.4000, 0.1226, 0.2184, 0.2724,\n",
      "        0.2657, 0.1529, 0.6394, 0.1156, 0.1551, 0.3376, 0.2391, 0.1250])\n",
      "sigma: tensor([50.4448, 50.7093, 50.6685, 50.4830, 50.6071, 50.6526, 50.5878, 50.7318,\n",
      "        50.6721, 50.7224, 50.6160, 50.7501, 50.4987, 50.5018, 50.6763, 50.7293,\n",
      "        50.4808])\n",
      "Epoch [72/100], Loss: -0.6253, Duration: 0.0 s\n",
      "Epoch [73/100], Loss: -0.6259, Duration: 0.0 s\n",
      "Epoch [74/100], Loss: -0.6252, Duration: 0.0 s\n",
      "Epoch [75/100], Loss: -0.6252, Duration: 0.0 s\n",
      "Epoch [76/100], Loss: -0.6259, Duration: 0.0 s\n",
      "Epoch [77/100], Loss: -0.6245, Duration: 0.0 s\n",
      "Epoch [78/100], Loss: -0.6247, Duration: 0.0 s\n",
      "Epoch [79/100], Loss: -0.6247, Duration: 0.0 s\n",
      "Epoch [80/100], Loss: -0.6240, Duration: 0.0 s\n",
      "Epoch [81/100], Loss: -0.6240, Duration: 0.0 s\n",
      "threshs: tensor([0.1557, 0.3235, 0.2083, 0.1611, 0.4232, 0.3983, 0.1197, 0.2167, 0.2718,\n",
      "        0.2654, 0.1524, 0.6434, 0.1116, 0.1582, 0.3376, 0.2377, 0.1254])\n",
      "sigma: tensor([50.5102, 50.8096, 50.7744, 50.5588, 50.7069, 50.7654, 50.6838, 50.8353,\n",
      "        50.7665, 50.8242, 50.7179, 50.8756, 50.6042, 50.6067, 50.7801, 50.8307,\n",
      "        50.5799])\n",
      "Epoch [82/100], Loss: -0.6247, Duration: 0.0 s\n",
      "Epoch [83/100], Loss: -0.6247, Duration: 0.0 s\n",
      "Epoch [84/100], Loss: -0.6247, Duration: 0.0 s\n",
      "Epoch [85/100], Loss: -0.6252, Duration: 0.0 s\n",
      "Epoch [86/100], Loss: -0.6245, Duration: 0.0 s\n",
      "Epoch [87/100], Loss: -0.6245, Duration: 0.0 s\n",
      "Epoch [88/100], Loss: -0.6255, Duration: 0.0 s\n",
      "Epoch [89/100], Loss: -0.6251, Duration: 0.0 s\n",
      "Epoch [90/100], Loss: -0.6251, Duration: 0.0 s\n",
      "Epoch [91/100], Loss: -0.6251, Duration: 0.0 s\n",
      "threshs: tensor([0.1570, 0.3234, 0.2070, 0.1632, 0.4241, 0.3989, 0.1224, 0.2175, 0.2724,\n",
      "        0.2650, 0.1526, 0.6482, 0.1138, 0.1566, 0.3383, 0.2384, 0.1246])\n",
      "sigma: tensor([50.5801, 50.9097, 50.8792, 50.6359, 50.8055, 50.8766, 50.7811, 50.9384,\n",
      "        50.8605, 50.9255, 50.8199, 50.9975, 50.7105, 50.7092, 50.8835, 50.9319,\n",
      "        50.6782])\n",
      "Epoch [92/100], Loss: -0.6244, Duration: 0.0 s\n",
      "Epoch [93/100], Loss: -0.6244, Duration: 0.0 s\n",
      "Epoch [94/100], Loss: -0.6251, Duration: 0.0 s\n",
      "Epoch [95/100], Loss: -0.6257, Duration: 0.0 s\n",
      "Epoch [96/100], Loss: -0.6255, Duration: 0.0 s\n",
      "Epoch [97/100], Loss: -0.6255, Duration: 0.0 s\n",
      "Epoch [98/100], Loss: -0.6248, Duration: 0.0 s\n",
      "Epoch [99/100], Loss: -0.6248, Duration: 0.0 s\n",
      "Epoch [100/100], Loss: -0.6255, Duration: 0.0 s\n",
      "delta: tensor([-0.1420,  0.0234, -0.0919, -0.1369,  0.1242,  0.0990, -0.1783, -0.0830,\n",
      "        -0.0279, -0.0347, -0.1480,  0.3455, -0.1867, -0.1430,  0.0372, -0.0620,\n",
      "        -0.1751])\n"
     ]
    },
    {
     "data": {
      "text/plain": [
       "[<matplotlib.lines.Line2D at 0x7fdcc8047d50>]"
      ]
     },
     "execution_count": 13,
     "metadata": {},
     "output_type": "execute_result"
    },
    {
     "data": {
      "image/png": "[encoded data removed]",
      "text/plain": [
       "<Figure size 432x288 with 1 Axes>"
      ]
     },
     "metadata": {
      "needs_background": "light"
     },
     "output_type": "display_data"
    }
   ],
   "source": [
    "# Train the model, in batch mode\n",
    "# num_epochs = 150\n",
    "num_epochs = 100\n",
    "# num_epochs = 300\n",
    "\n",
    "# sigma = torch.nn.Parameter(torch.tensor(40.0), requires_grad=True)\n",
    "\n",
    "cumul_delta_thresh = torch.zeros(nb_classes,)\n",
    "delta_thresh = torch.zeros(nb_classes,)\n",
    "\n",
    "el = next(THRESHmodel.parameters())\n",
    "PREC_learned_AT_thresholds = el.clone().detach().cpu()\n",
    "print(PREC_learned_AT_thresholds)\n",
    "    \n",
    "losses = []\n",
    "for epoch in range(num_epochs):\n",
    "    \n",
    "    debut = time.time()\n",
    "    \n",
    "    THRESHmodel.train()\n",
    "    \n",
    "    # Forward pass\n",
    "    outputs = THRESHmodel(val_pred_tensor).to(device)\n",
    "    \n",
    "    loss = criterion(outputs, val_gt_tensor)\n",
    "\n",
    "    # Backward and optimize\n",
    "    THRESHoptimizer.zero_grad()\n",
    "\n",
    "    loss.backward()\n",
    "#     loss.mean().backward()\n",
    "#         loss.backward(at_batch_y)\n",
    "    # loss.backward(torch.ones_like(loss))\n",
    "    \n",
    "    THRESHoptimizer.step()\n",
    "    # THRESHmodel.clamp()\n",
    "    losses.append(loss)\n",
    "    \n",
    "    duree_epoch = time.time() - debut\n",
    "\n",
    "    print ('Epoch [{}/{}], Loss: {:.4f}, Duration: {:.1f} s' \n",
    "           .format(epoch+1, num_epochs, loss, duree_epoch))\n",
    "\n",
    "    learned_AT_thresholds = THRESHmodel.thresh.clone().detach().cpu()\n",
    "\n",
    "    delta_thresh = learned_AT_thresholds - PREC_learned_AT_thresholds\n",
    "    cumul_delta_thresh += delta_thresh\n",
    "    PREC_learned_AT_thresholds = learned_AT_thresholds\n",
    "    if epoch % 10 == 0: \n",
    "        print('threshs:', learned_AT_thresholds)\n",
    "        print('sigma:', THRESHmodel.sigma.clone().detach().cpu())\n",
    "    # if torch.sum(delta_thresh) < 0.01: break\n",
    "    \n",
    "print('delta:', cumul_delta_thresh)\n",
    "plt.figure()\n",
    "# plt.figure(figsize=(8,6))\n",
    "plt.plot(losses)"
   ]
  },
  {
   "cell_type": "code",
   "execution_count": 14,
   "metadata": {
    "ExecuteTime": {
     "end_time": "2020-10-20T08:51:21.265161Z",
     "start_time": "2020-10-20T08:51:21.257724Z"
    },
    "hidden": true
   },
   "outputs": [
    {
     "name": "stdout",
     "output_type": "stream",
     "text": [
      "0.158 0.323 0.208 0.163 0.424 0.399 0.122 0.217 0.272 0.265 0.152 0.646 0.113 0.157 0.337 0.238 0.125 \n"
     ]
    }
   ],
   "source": [
    "learned_AT_thresholds=THRESHmodel.thresh.clone().detach().cpu().numpy()\n",
    "sigma = THRESHmodel.sigma.clone().detach().cpu().numpy()\n",
    "learned_AT_thresholds, sigma\n",
    "\n",
    "print_thresholds(learned_AT_thresholds, nb_classes)"
   ]
  },
  {
   "cell_type": "code",
   "execution_count": 15,
   "metadata": {
    "ExecuteTime": {
     "end_time": "2020-10-20T08:51:27.325092Z",
     "start_time": "2020-10-20T08:51:27.265618Z"
    },
    "hidden": true
   },
   "outputs": [
    {
     "name": "stdout",
     "output_type": "stream",
     "text": [
      "val\n",
      "              precision    recall  f1-score   support\n",
      "\n",
      "           0      0.947     0.600     0.735        30\n",
      "           1      0.909     0.333     0.488        30\n",
      "           2      0.929     0.433     0.591        30\n",
      "           3      0.889     0.533     0.667        30\n",
      "           4      0.667     0.467     0.549        30\n",
      "           5      0.852     0.767     0.807        30\n",
      "           6      0.571     0.500     0.533        32\n",
      "           7      0.450     0.771     0.568        35\n",
      "           8      0.784     0.935     0.853        31\n",
      "           9      0.625     0.857     0.723        35\n",
      "          10      0.778     0.700     0.737        30\n",
      "          11      0.487     0.650     0.557        60\n",
      "          12      0.311     0.438     0.364        32\n",
      "          13      0.543     0.613     0.576        31\n",
      "          14      0.493     0.550     0.520        60\n",
      "          15      0.633     0.633     0.633        30\n",
      "          16      0.825     0.660     0.733        50\n",
      "\n",
      "   micro avg      0.616     0.617     0.617       606\n",
      "   macro avg      0.688     0.614     0.625       606\n",
      "weighted avg      0.669     0.617     0.620       606\n",
      " samples avg      0.584     0.623     0.584       606\n",
      "\n",
      "set acc: 0.430\n",
      "desed\n",
      "              precision    recall  f1-score   support\n",
      "\n",
      "           0      0.674     0.483     0.563        60\n",
      "           1      0.929     0.448     0.605        58\n",
      "           2      0.846     0.373     0.518        59\n",
      "           3      0.786     0.186     0.301        59\n",
      "           4      0.767     0.390     0.517        59\n",
      "           5      0.897     0.593     0.714        59\n",
      "           6      0.569     0.483     0.523        60\n",
      "           7      0.559     0.644     0.598        59\n",
      "           8      0.875     0.831     0.852        59\n",
      "           9      0.607     0.548     0.576        62\n",
      "          10      0.757     0.898     0.822        59\n",
      "          11      0.676     0.702     0.689       265\n",
      "          12      0.220     0.517     0.308        60\n",
      "          13      0.333     0.483     0.394        58\n",
      "          14      0.522     0.480     0.500       100\n",
      "          15      0.560     0.700     0.622        60\n",
      "          16      0.816     0.805     0.810       154\n",
      "\n",
      "   micro avg      0.622     0.599     0.610      1350\n",
      "   macro avg      0.670     0.563     0.583      1350\n",
      "weighted avg      0.676     0.599     0.613      1350\n",
      " samples avg      0.586     0.620     0.584      1350\n",
      "\n",
      "set acc: 0.426\n"
     ]
    },
    {
     "name": "stderr",
     "output_type": "stream",
     "text": [
      "/home/thomas/tools/miniconda2/envs/envPytorch1/lib/python3.7/site-packages/sklearn/metrics/_classification.py:1272: UndefinedMetricWarning: Precision and F-score are ill-defined and being set to 0.0 in samples with no predicted labels. Use `zero_division` parameter to control this behavior.\n",
      "  _warn_prf(average, modifier, msg_start, len(result))\n"
     ]
    }
   ],
   "source": [
    "# print_thresholds(learned_AT_thresholds, nb_classes)\n",
    "# val_bin_pred = val_pred_np>learned_AT_thresholds\n",
    "# test_bin_pred = desed_pred_np>learned_AT_thresholds\n",
    "\n",
    "val_bin_pred = binarize_probs(val_pred_np, learned_AT_thresholds)\n",
    "test_bin_pred = binarize_probs(desed_pred_np, learned_AT_thresholds)\n",
    "\n",
    "# print(val_bin_pred)\n",
    "\n",
    "print('val')\n",
    "print_scores(val_gt_np, val_bin_pred)\n",
    "print('desed')\n",
    "print_scores(desed_gt_np, test_bin_pred)\n",
    "# compute_accuracy_from_numpy_tensors(y_test_numpy, test_pred)\n",
    "# 0.3366 0.2834 0.2761 0.3185 0.2849 0.2611"
   ]
  },
  {
   "cell_type": "code",
   "execution_count": 22,
   "metadata": {
    "hidden": true
   },
   "outputs": [],
   "source": []
  },
  {
   "cell_type": "code",
   "execution_count": 29,
   "metadata": {
    "hidden": true
   },
   "outputs": [
    {
     "name": "stdout",
     "output_type": "stream",
     "text": [
      "0.719\n"
     ]
    }
   ],
   "source": [
    "# myf1 = calculate_f1(desed_gt_np, desed_pred_np, thresholds=learned_AT_thresholds, average='micro')\n",
    "# print(\"%.3f\"%myf1)\n"
   ]
  },
  {
   "cell_type": "markdown",
   "metadata": {},
   "source": [
    "# heuThresh"
   ]
  },
  {
   "cell_type": "code",
   "execution_count": 5,
   "metadata": {
    "ExecuteTime": {
     "end_time": "2020-10-20T09:51:20.170718Z",
     "start_time": "2020-10-20T09:51:19.983303Z"
    }
   },
   "outputs": [],
   "source": [
    "from heu_utils.heuThresh import heu_threshold_opti, heu_threshold_opti_meanF1"
   ]
  },
  {
   "cell_type": "code",
   "execution_count": 13,
   "metadata": {
    "ExecuteTime": {
     "end_time": "2020-10-21T07:38:17.906036Z",
     "start_time": "2020-10-21T07:36:18.942308Z"
    }
   },
   "outputs": [],
   "source": [
    "t=0.3\n",
    "thresh = [t]*nb_classes\n",
    "\n",
    "# class per class optim:\n",
    "# sk_f1, best_f1, best_AT_thresholds, history = heu_threshold_opti(val_gt_np, val_pred_np, thresh)\n",
    "\n",
    "# average F1 optim:\n",
    "sk_f1, best_f1, best_AT_thresholds, history = heu_threshold_opti_meanF1(val_gt_np, val_pred_np, thresh, average='micro')"
   ]
  },
  {
   "cell_type": "code",
   "execution_count": 14,
   "metadata": {
    "ExecuteTime": {
     "end_time": "2020-10-21T07:38:17.941966Z",
     "start_time": "2020-10-21T07:38:17.908445Z"
    }
   },
   "outputs": [
    {
     "name": "stdout",
     "output_type": "stream",
     "text": [
      "val\n",
      "              precision    recall  f1-score   support\n",
      "\n",
      "           0      0.909     0.667     0.769        30\n",
      "           1      0.833     0.333     0.476        30\n",
      "           2      0.812     0.433     0.565        30\n",
      "           3      0.889     0.533     0.667        30\n",
      "           4      0.529     0.600     0.562        30\n",
      "           5      0.821     0.767     0.793        30\n",
      "           6      0.588     0.312     0.408        32\n",
      "           7      0.447     0.600     0.512        35\n",
      "           8      0.784     0.935     0.853        31\n",
      "           9      0.508     0.886     0.646        35\n",
      "          10      0.688     0.733     0.710        30\n",
      "          11      0.387     0.800     0.522        60\n",
      "          12      0.267     0.250     0.258        32\n",
      "          13      0.500     0.645     0.563        31\n",
      "          14      0.425     0.617     0.503        60\n",
      "          15      0.633     0.633     0.633        30\n",
      "          16      0.857     0.600     0.706        50\n",
      "\n",
      "   micro avg      0.560     0.619     0.588       606\n",
      "   macro avg      0.640     0.609     0.597       606\n",
      "weighted avg      0.620     0.619     0.590       606\n",
      " samples avg      0.571     0.626     0.577       606\n",
      "\n",
      "set acc: 0.406\n",
      "desed\n",
      "              precision    recall  f1-score   support\n",
      "\n",
      "           0      0.618     0.567     0.591        60\n",
      "           1      0.903     0.483     0.629        58\n",
      "           2      0.821     0.390     0.529        59\n",
      "           3      0.786     0.186     0.301        59\n",
      "           4      0.579     0.559     0.569        59\n",
      "           5      0.900     0.610     0.727        59\n",
      "           6      0.677     0.350     0.462        60\n",
      "           7      0.607     0.576     0.591        59\n",
      "           8      0.875     0.831     0.852        59\n",
      "           9      0.556     0.645     0.597        62\n",
      "          10      0.711     0.915     0.800        59\n",
      "          11      0.569     0.845     0.680       265\n",
      "          12      0.217     0.333     0.263        60\n",
      "          13      0.360     0.552     0.435        58\n",
      "          14      0.424     0.610     0.500       100\n",
      "          15      0.562     0.683     0.617        60\n",
      "          16      0.835     0.753     0.792       154\n",
      "\n",
      "   micro avg      0.592     0.635     0.613      1350\n",
      "   macro avg      0.647     0.582     0.584      1350\n",
      "weighted avg      0.641     0.635     0.611      1350\n",
      " samples avg      0.608     0.662     0.613      1350\n",
      "\n",
      "set acc: 0.431\n"
     ]
    },
    {
     "name": "stderr",
     "output_type": "stream",
     "text": [
      "/home/thomas/tools/miniconda2/envs/envPytorch1/lib/python3.7/site-packages/sklearn/metrics/_classification.py:1272: UndefinedMetricWarning: Precision and F-score are ill-defined and being set to 0.0 in samples with no predicted labels. Use `zero_division` parameter to control this behavior.\n",
      "  _warn_prf(average, modifier, msg_start, len(result))\n"
     ]
    }
   ],
   "source": [
    "val_bin_pred = binarize_probs(val_pred_np, best_AT_thresholds)\n",
    "test_bin_pred = binarize_probs(desed_pred_np, best_AT_thresholds)\n",
    "\n",
    "# print(val_bin_pred)\n",
    "\n",
    "print('val')\n",
    "print_scores(val_gt_np, val_bin_pred)\n",
    "print('desed')\n",
    "print_scores(desed_gt_np, test_bin_pred)\n"
   ]
  },
  {
   "cell_type": "code",
   "execution_count": 17,
   "metadata": {
    "ExecuteTime": {
     "end_time": "2020-10-21T12:24:41.880387Z",
     "start_time": "2020-10-21T12:24:41.873883Z"
    }
   },
   "outputs": [
    {
     "name": "stdout",
     "output_type": "stream",
     "text": [
      "0.0023570226039551605\n"
     ]
    }
   ],
   "source": [
    "toto = np.array([0.534, 0.539, 0.534])\n",
    "print(np.std(toto))"
   ]
  },
  {
   "cell_type": "code",
   "execution_count": 15,
   "metadata": {
    "ExecuteTime": {
     "end_time": "2020-10-21T07:38:18.000941Z",
     "start_time": "2020-10-21T07:38:17.943622Z"
    }
   },
   "outputs": [
    {
     "name": "stdout",
     "output_type": "stream",
     "text": [
      "0.076 0.270 0.172 0.196 0.209 0.300 0.202 0.345 0.267 0.178 0.082 0.470 0.150 0.145 0.235 0.256 0.214 \n"
     ]
    }
   ],
   "source": [
    "print_thresholds(best_AT_thresholds, nb_classes)"
   ]
  },
  {
   "cell_type": "code",
   "execution_count": 16,
   "metadata": {
    "ExecuteTime": {
     "end_time": "2020-10-21T07:38:18.234746Z",
     "start_time": "2020-10-21T07:38:18.003287Z"
    }
   },
   "outputs": [
    {
     "data": {
      "text/plain": [
       "[<matplotlib.lines.Line2D at 0x7f81144334d0>]"
      ]
     },
     "execution_count": 16,
     "metadata": {},
     "output_type": "execute_result"
    },
    {
     "data": {
      "image/png": "[encoded data removed]",
      "text/plain": [
       "<Figure size 432x288 with 1 Axes>"
      ]
     },
     "metadata": {
      "needs_background": "light"
     },
     "output_type": "display_data"
    }
   ],
   "source": [
    "plt.plot(history['best_f1'])"
   ]
  },
  {
   "cell_type": "code",
   "execution_count": null,
   "metadata": {},
   "outputs": [],
   "source": []
  }
 ],
 "metadata": {
  "kernelspec": {
   "display_name": "Python 3",
   "language": "python",
   "name": "python3"
  },
  "language_info": {
   "codemirror_mode": {
    "name": "ipython",
    "version": 3
   },
   "file_extension": ".py",
   "mimetype": "text/x-python",
   "name": "python",
   "nbconvert_exporter": "python",
   "pygments_lexer": "ipython3",
   "version": "3.7.6"
  },
  "toc": {
   "nav_menu": {},
   "number_sections": true,
   "sideBar": true,
   "skip_h1_title": false,
   "toc_cell": true,
   "toc_position": {},
   "toc_section_display": "block",
   "toc_window_display": false
  }
 },
 "nbformat": 4,
 "nbformat_minor": 4
}

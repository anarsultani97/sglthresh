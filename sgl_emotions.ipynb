{
 "cells": [
  {
   "cell_type": "markdown",
   "metadata": {
    "toc": true
   },
   "source": [
    "<h1>Table of Contents<span class=\"tocSkip\"></span></h1>\n",
    "<div class=\"toc\" style=\"margin-top: 1em;\"><ul class=\"toc-item\"><li><span><a href=\"#imports\" data-toc-modified-id=\"imports-1\"><span class=\"toc-item-num\">1&nbsp;&nbsp;</span>imports</a></span></li><li><span><a href=\"#load-original-subsets:-train,-test-and-split-or...\" data-toc-modified-id=\"load-original-subsets:-train,-test-and-split-or...-2\"><span class=\"toc-item-num\">2&nbsp;&nbsp;</span>load original subsets: train, test and split or...</a></span></li><li><span><a href=\"#...load-my-subsets:-train,-dev,-test\" data-toc-modified-id=\"...load-my-subsets:-train,-dev,-test-3\"><span class=\"toc-item-num\">3&nbsp;&nbsp;</span>...load my subsets: train, dev, test</a></span></li><li><span><a href=\"#Neural-net-to-make-predictions-or...\" data-toc-modified-id=\"Neural-net-to-make-predictions-or...-4\"><span class=\"toc-item-num\">4&nbsp;&nbsp;</span>Neural net to make predictions or...</a></span><ul class=\"toc-item\"><li><span><a href=\"#train-th-model-or...\" data-toc-modified-id=\"train-th-model-or...-4.1\"><span class=\"toc-item-num\">4.1&nbsp;&nbsp;</span>train th model or...</a></span></li><li><span><a href=\"#...load-a-pretrained-one\" data-toc-modified-id=\"...load-a-pretrained-one-4.2\"><span class=\"toc-item-num\">4.2&nbsp;&nbsp;</span>...load a pretrained one</a></span></li><li><span><a href=\"#make-predictions\" data-toc-modified-id=\"make-predictions-4.3\"><span class=\"toc-item-num\">4.3&nbsp;&nbsp;</span>make predictions</a></span></li></ul></li><li><span><a href=\"#...load-mlp-probs-or...\" data-toc-modified-id=\"...load-mlp-probs-or...-5\"><span class=\"toc-item-num\">5&nbsp;&nbsp;</span>...load mlp probs or...</a></span></li><li><span><a href=\"#...load-LabelPowerset-probs\" data-toc-modified-id=\"...load-LabelPowerset-probs-6\"><span class=\"toc-item-num\">6&nbsp;&nbsp;</span>...load LabelPowerset probs</a></span></li><li><span><a href=\"#Static-thresholds\" data-toc-modified-id=\"Static-thresholds-7\"><span class=\"toc-item-num\">7&nbsp;&nbsp;</span>Static thresholds</a></span></li><li><span><a href=\"#SGLThresh\" data-toc-modified-id=\"SGLThresh-8\"><span class=\"toc-item-num\">8&nbsp;&nbsp;</span>SGLThresh</a></span><ul class=\"toc-item\"><li><span><a href=\"#SurrogateHeaviside-definition\" data-toc-modified-id=\"SurrogateHeaviside-definition-8.1\"><span class=\"toc-item-num\">8.1&nbsp;&nbsp;</span>SurrogateHeaviside definition</a></span></li><li><span><a href=\"#SurrogateHeaviside-definition-thresh-and-sigma-learnable\" data-toc-modified-id=\"SurrogateHeaviside-definition-thresh-and-sigma-learnable-8.2\"><span class=\"toc-item-num\">8.2&nbsp;&nbsp;</span>SurrogateHeaviside definition thresh and sigma learnable</a></span></li><li><span><a href=\"#numerical-application\" data-toc-modified-id=\"numerical-application-8.3\"><span class=\"toc-item-num\">8.3&nbsp;&nbsp;</span>numerical application</a></span></li><li><span><a href=\"#numerical-application,-for-loop\" data-toc-modified-id=\"numerical-application,-for-loop-8.4\"><span class=\"toc-item-num\">8.4&nbsp;&nbsp;</span>numerical application, for loop</a></span></li></ul></li><li><span><a href=\"#NumThresh\" data-toc-modified-id=\"NumThresh-9\"><span class=\"toc-item-num\">9&nbsp;&nbsp;</span>NumThresh</a></span><ul class=\"toc-item\"><li><span><a href=\"#utility-function\" data-toc-modified-id=\"utility-function-9.1\"><span class=\"toc-item-num\">9.1&nbsp;&nbsp;</span>utility function</a></span></li><li><span><a href=\"#numerical-application\" data-toc-modified-id=\"numerical-application-9.2\"><span class=\"toc-item-num\">9.2&nbsp;&nbsp;</span>numerical application</a></span></li></ul></li></ul></div>"
   ]
  },
  {
   "cell_type": "markdown",
   "metadata": {
    "heading_collapsed": true
   },
   "source": [
    "# imports"
   ]
  },
  {
   "cell_type": "code",
   "execution_count": 22,
   "metadata": {
    "ExecuteTime": {
     "end_time": "2020-03-05T13:37:53.011568Z",
     "start_time": "2020-03-05T13:37:47.999336Z"
    },
    "hidden": true
   },
   "outputs": [],
   "source": [
    "# paper http://lpis.csd.auth.gr/publications/tsoumakas-ismir08.pdf\n",
    "# !pip install requests\n",
    "# !pip install scikit-multilearn\n",
    "#!pip install skorch\n",
    "#!pip install liac-arff\n",
    "# !pip install jupyter_contrib_nbextensions"
   ]
  },
  {
   "cell_type": "code",
   "execution_count": 1,
   "metadata": {
    "ExecuteTime": {
     "end_time": "2020-03-21T08:54:27.092708Z",
     "start_time": "2020-03-21T08:54:26.443125Z"
    },
    "hidden": true
   },
   "outputs": [
    {
     "ename": "ModuleNotFoundError",
     "evalue": "No module named 'skorch'",
     "output_type": "error",
     "traceback": [
      "\u001b[0;31m---------------------------------------------------------------------------\u001b[0m",
      "\u001b[0;31mModuleNotFoundError\u001b[0m                       Traceback (most recent call last)",
      "\u001b[0;32m<ipython-input-1-1d7a35dfd170>\u001b[0m in \u001b[0;36m<module>\u001b[0;34m\u001b[0m\n\u001b[1;32m      3\u001b[0m \u001b[0;32mimport\u001b[0m \u001b[0mtorch\u001b[0m\u001b[0;34m.\u001b[0m\u001b[0mnn\u001b[0m\u001b[0;34m.\u001b[0m\u001b[0mfunctional\u001b[0m \u001b[0;32mas\u001b[0m \u001b[0mF\u001b[0m\u001b[0;34m\u001b[0m\u001b[0;34m\u001b[0m\u001b[0m\n\u001b[1;32m      4\u001b[0m \u001b[0;32mfrom\u001b[0m \u001b[0mtorch\u001b[0m\u001b[0;34m.\u001b[0m\u001b[0mutils\u001b[0m \u001b[0;32mimport\u001b[0m \u001b[0mdata\u001b[0m\u001b[0;34m\u001b[0m\u001b[0;34m\u001b[0m\u001b[0m\n\u001b[0;32m----> 5\u001b[0;31m \u001b[0;32mfrom\u001b[0m \u001b[0mskorch\u001b[0m \u001b[0;32mimport\u001b[0m \u001b[0mNeuralNetClassifier\u001b[0m\u001b[0;34m\u001b[0m\u001b[0;34m\u001b[0m\u001b[0m\n\u001b[0m",
      "\u001b[0;31mModuleNotFoundError\u001b[0m: No module named 'skorch'"
     ]
    }
   ],
   "source": [
    "import torch\n",
    "from torch import nn\n",
    "import torch.nn.functional as F\n",
    "from torch.utils import data\n",
    "from skorch import NeuralNetClassifier"
   ]
  },
  {
   "cell_type": "code",
   "execution_count": 3,
   "metadata": {
    "ExecuteTime": {
     "end_time": "2020-03-21T08:54:28.809496Z",
     "start_time": "2020-03-21T08:54:27.240912Z"
    },
    "hidden": true
   },
   "outputs": [
    {
     "ename": "ModuleNotFoundError",
     "evalue": "No module named 'skmultilearn'",
     "output_type": "error",
     "traceback": [
      "\u001b[0;31m---------------------------------------------------------------------------\u001b[0m",
      "\u001b[0;31mModuleNotFoundError\u001b[0m                       Traceback (most recent call last)",
      "\u001b[0;32m<ipython-input-3-17bf287b1e7f>\u001b[0m in \u001b[0;36m<module>\u001b[0;34m\u001b[0m\n\u001b[1;32m      1\u001b[0m \u001b[0;32mimport\u001b[0m \u001b[0mnumpy\u001b[0m \u001b[0;32mas\u001b[0m \u001b[0mnp\u001b[0m\u001b[0;34m\u001b[0m\u001b[0;34m\u001b[0m\u001b[0m\n\u001b[1;32m      2\u001b[0m \u001b[0;32mimport\u001b[0m \u001b[0msklearn\u001b[0m\u001b[0;34m.\u001b[0m\u001b[0mmetrics\u001b[0m \u001b[0;32mas\u001b[0m \u001b[0mmetrics\u001b[0m\u001b[0;34m\u001b[0m\u001b[0;34m\u001b[0m\u001b[0m\n\u001b[0;32m----> 3\u001b[0;31m \u001b[0;32mfrom\u001b[0m \u001b[0mskmultilearn\u001b[0m\u001b[0;34m.\u001b[0m\u001b[0mdataset\u001b[0m \u001b[0;32mimport\u001b[0m \u001b[0mload_dataset\u001b[0m\u001b[0;34m\u001b[0m\u001b[0;34m\u001b[0m\u001b[0m\n\u001b[0m\u001b[1;32m      4\u001b[0m \u001b[0;32mimport\u001b[0m \u001b[0mmatplotlib\u001b[0m\u001b[0;34m.\u001b[0m\u001b[0mpyplot\u001b[0m \u001b[0;32mas\u001b[0m \u001b[0mplt\u001b[0m\u001b[0;34m\u001b[0m\u001b[0;34m\u001b[0m\u001b[0m\n\u001b[1;32m      5\u001b[0m \u001b[0;32mimport\u001b[0m \u001b[0mtime\u001b[0m\u001b[0;34m\u001b[0m\u001b[0;34m\u001b[0m\u001b[0m\n",
      "\u001b[0;31mModuleNotFoundError\u001b[0m: No module named 'skmultilearn'"
     ]
    }
   ],
   "source": [
    "import numpy as np\n",
    "import sklearn.metrics as metrics\n",
    "from skmultilearn.dataset import load_dataset\n",
    "import matplotlib.pyplot as plt\n",
    "import time\n",
    "\n",
    "from sklearn.metrics import confusion_matrix, accuracy_score, f1_score, precision_recall_fscore_support, classification_report\n",
    "from sklearn.model_selection import train_test_split"
   ]
  },
  {
   "cell_type": "code",
   "execution_count": 4,
   "metadata": {
    "ExecuteTime": {
     "end_time": "2020-03-21T08:54:29.386428Z",
     "start_time": "2020-03-21T08:54:28.812251Z"
    },
    "hidden": true
   },
   "outputs": [
    {
     "data": {
      "text/plain": [
       "device(type='cuda', index=0)"
      ]
     },
     "execution_count": 4,
     "metadata": {},
     "output_type": "execute_result"
    }
   ],
   "source": [
    "# Device configuration\n",
    "device = torch.device('cuda:0' if torch.cuda.is_available() else 'cpu')\n",
    "device"
   ]
  },
  {
   "cell_type": "code",
   "execution_count": 2,
   "metadata": {},
   "outputs": [
    {
     "data": {
      "text/plain": [
       "(torch.Size([12, 1]),\n",
       " tensor([[ 0],\n",
       "         [ 2],\n",
       "         [ 4],\n",
       "         [ 6],\n",
       "         [ 8],\n",
       "         [10]]),\n",
       " tensor([[ 1],\n",
       "         [ 3],\n",
       "         [ 5],\n",
       "         [ 7],\n",
       "         [ 9],\n",
       "         [11]]),\n",
       " tensor([[ 0,  1],\n",
       "         [ 2,  3],\n",
       "         [ 4,  5],\n",
       "         [ 6,  7],\n",
       "         [ 8,  9],\n",
       "         [10, 11]]))"
      ]
     },
     "execution_count": 2,
     "metadata": {},
     "output_type": "execute_result"
    }
   ],
   "source": [
    "a = torch.arange(12)\n",
    "a = a.unsqueeze(1)\n",
    "a.size(), a[::2], a[1::2], torch.cat((a[::2], a[1::2]), dim=1)"
   ]
  },
  {
   "cell_type": "code",
   "execution_count": 29,
   "metadata": {},
   "outputs": [
    {
     "name": "stdout",
     "output_type": "stream",
     "text": [
      "T=4 torch.Size([4, 3, 50])\n",
      "T=2 torch.Size([2, 3, 50])\n"
     ]
    }
   ],
   "source": [
    "Freq=10\n",
    "n_hidden = 25\n",
    "n_layers = 1\n",
    "rnn = torch.nn.LSTM(Freq, n_hidden, n_layers, bidirectional=True)\n",
    "\n",
    "a = torch.randn(4, 3, 10) # T, B, F\n",
    "out, (forward_h_n, backward_h_n) = rnn(a)\n",
    "print(\"T=4\", out.size())\n",
    "\n",
    "rnn = torch.nn.LSTM(2*Freq, n_hidden, n_layers, bidirectional=True)\n",
    "new_a = torch.cat((a[::2], a[1::2]), dim=2)\n",
    "out, (forward_h_n, backward_h_n) = rnn(new_a)\n",
    "print(\"T=2\", out.size())"
   ]
  },
  {
   "cell_type": "code",
   "execution_count": 42,
   "metadata": {},
   "outputs": [
    {
     "name": "stdout",
     "output_type": "stream",
     "text": [
      "torch.Size([3, 3, 10]) torch.Size([4, 3, 10])\n"
     ]
    }
   ],
   "source": [
    "source = torch.rand((3,3,10))\n",
    "# now we expand to size (7, 11) by appending a row of 0s at pos 0 and pos 6, \n",
    "# and a column of 0s at pos 10\n",
    "result = F.pad(input=source, pad=(0, 0, 0, 0, 0, 1), mode='constant', value=0)\n",
    "print(source.size(), result.size())"
   ]
  },
  {
   "cell_type": "code",
   "execution_count": 4,
   "metadata": {
    "ExecuteTime": {
     "end_time": "2020-03-21T08:54:29.410523Z",
     "start_time": "2020-03-21T08:54:29.389359Z"
    },
    "hidden": true
   },
   "outputs": [
    {
     "name": "stdout",
     "output_type": "stream",
     "text": [
      "0.50\n"
     ]
    }
   ],
   "source": [
    "def predict(mydataloader, y, model):\n",
    "    model.eval()\n",
    "\n",
    "    all_outputs = torch.zeros_like(y)\n",
    "\n",
    "    for i_batch, sample_batched in enumerate(mydataloader):\n",
    "\n",
    "        X_batch, y_batch = sample_batched\n",
    "        outputs = model(X_batch)\n",
    "        B = X_batch.size()[0]\n",
    "        all_outputs[i_batch*B:(i_batch+1)*B]=outputs\n",
    "    return all_outputs\n",
    "\n",
    "\n",
    "def print_thresholds(thresh, nb_classes):\n",
    "    s = ''\n",
    "    for c in range(nb_classes):\n",
    "        s+='%.4f '%thresh[c]\n",
    "    print(\"auto_thresholds\", s)\n",
    "\n",
    "    \n",
    "def compute_instance_F1(gt_y, preds):\n",
    "    num = gt_y*preds\n",
    "    num = 2*np.sum(num, axis=1)\n",
    "    den = np.sum(gt_y, axis=1) + np.sum(preds, axis=1)\n",
    "    return np.mean(num/den)\n",
    "\n",
    "\n",
    "def unit_test(gt_y, preds):\n",
    "    print(\"%.2f\"%compute_instance_F1(gt_y, preds))\n",
    "\n",
    "    \n",
    "def print_scores(gt_y, preds):\n",
    "    print(classification_report(gt_y, preds, digits=3))    \n",
    "    set_accuracy = accuracy_score(gt_y, preds)\n",
    "    print('set acc: %.3f'%(set_accuracy))\n",
    "\n",
    "    \n",
    "def micro_prec_rec_fscore(gt_y, preds):\n",
    "    prec, rec, fscore, support = precision_recall_fscore_support(gt_y, preds, pos_label=1, average='micro')\n",
    "    return prec, rec, fscore\n",
    "\n",
    "\n",
    "def micro_prec_rec_fscore_class(gt_y, preds):\n",
    "    prec, rec, fscore, support = precision_recall_fscore_support(gt_y, preds, pos_label=1, average=None)\n",
    "    return prec, rec, fscore\n",
    "    \n",
    "# def print_scores(gt_y, preds):\n",
    "#     p2, r2, fscore2, support = precision_recall_fscore_support(gt_y, preds, pos_label=1, average='micro')\n",
    "#     p3, r3, fscore3, support = precision_recall_fscore_support(gt_y, preds, pos_label=1, average='macro')\n",
    "#     set_accuracy = accuracy_score(gt_y, preds)\n",
    "#     print('micro: p:%.2f r:%.2f f1:%.2f'%(100.*p2, 100.*r2, 100.*fscore2))\n",
    "#     print('macro: p:%.2f r:%.2f f1:%.2f'%(100.*p3, 100.*r3, 100.*fscore3))\n",
    "#     print('set acc:%.2f instance-F1:%.2f'%(100.*set_accuracy, 100*compute_instance_F1(gt_y, preds)))\n",
    "    \n",
    "def compute_accuracy_from_numpy_tensors(gt_y_numpy, preds_numpy):\n",
    "    acc_per_class = sum(gt_y_numpy==preds_numpy)/len(gt_y_numpy)\n",
    "    \n",
    "    gt_y_numpy_vec = np.reshape(gt_y_numpy, -1)\n",
    "    preds_numpy_vec = np.reshape(preds_numpy, -1)\n",
    "    acc = sum(gt_y_numpy_vec==preds_numpy_vec)/len(gt_y_numpy_vec)\n",
    "    print(\"Acc per class:\", acc_per_class)\n",
    "    print(\"Acc: %.3f\"%acc)\n",
    "\n",
    "\n",
    "dummy_y = np.array([[1,0,0], [0,1,0]])\n",
    "dummy_preds = np.array([[1,0,0], [0,0,0]])\n",
    "unit_test(dummy_y, dummy_preds)"
   ]
  },
  {
   "cell_type": "markdown",
   "metadata": {
    "heading_collapsed": true
   },
   "source": [
    "# load original subsets: train, test and split or..."
   ]
  },
  {
   "cell_type": "code",
   "execution_count": 5,
   "metadata": {
    "ExecuteTime": {
     "end_time": "2020-03-21T08:54:29.950974Z",
     "start_time": "2020-03-21T08:54:29.413688Z"
    },
    "hidden": true
   },
   "outputs": [
    {
     "name": "stdout",
     "output_type": "stream",
     "text": [
      "emotions:train - exists, not redownloading\n",
      "emotions:test - exists, not redownloading\n"
     ]
    }
   ],
   "source": [
    "nb_classes=6\n",
    "dataset = 'emotions'\n",
    "X_train, y_train, feature_names, label_names = load_dataset('emotions', 'train')\n",
    "X_test, y_test, _, _ = load_dataset('emotions', 'test')\n",
    "\n",
    "X_train_numpy = X_train.toarray()\n",
    "X_test_numpy = X_test.toarray()\n",
    "y_train_numpy = y_train.toarray()\n",
    "y_test_numpy = y_test.toarray()"
   ]
  },
  {
   "cell_type": "code",
   "execution_count": 6,
   "metadata": {
    "ExecuteTime": {
     "end_time": "2020-03-21T08:54:29.959398Z",
     "start_time": "2020-03-21T08:54:29.954090Z"
    },
    "hidden": true
   },
   "outputs": [],
   "source": [
    "X_train_numpy, X_dev_numpy, y_train_numpy, y_dev_numpy = train_test_split(\n",
    "    X_train_numpy, y_train_numpy, test_size=0.33, random_state=42)"
   ]
  },
  {
   "cell_type": "code",
   "execution_count": 7,
   "metadata": {
    "ExecuteTime": {
     "end_time": "2020-03-21T08:54:29.970329Z",
     "start_time": "2020-03-21T08:54:29.962346Z"
    },
    "hidden": true
   },
   "outputs": [
    {
     "data": {
      "text/plain": [
       "((261, 72), (261, 6), (130, 72), (130, 6))"
      ]
     },
     "execution_count": 7,
     "metadata": {},
     "output_type": "execute_result"
    }
   ],
   "source": [
    "X_train_numpy.shape, y_train_numpy.shape, X_dev_numpy.shape, y_dev_numpy.shape"
   ]
  },
  {
   "cell_type": "code",
   "execution_count": 10,
   "metadata": {
    "ExecuteTime": {
     "end_time": "2020-03-21T09:00:36.034205Z",
     "start_time": "2020-03-21T09:00:35.947261Z"
    },
    "hidden": true
   },
   "outputs": [],
   "source": [
    "# np.savez(\"datasets/emotions/%s_train_dev_test.npz\"%dataset, \n",
    "#          X_train_numpy=X_train_numpy, \n",
    "#          X_dev_numpy = X_dev_numpy,\n",
    "#          X_test_numpy = X_test_numpy,\n",
    "#          y_train_numpy=y_train_numpy, \n",
    "#          y_dev_numpy = y_dev_numpy,\n",
    "#          y_test_numpy = y_test_numpy)"
   ]
  },
  {
   "cell_type": "code",
   "execution_count": 68,
   "metadata": {},
   "outputs": [
    {
     "data": {
      "text/plain": [
       "52763"
      ]
     },
     "execution_count": 68,
     "metadata": {},
     "output_type": "execute_result"
    }
   ],
   "source": [
    "51172+488+1103"
   ]
  },
  {
   "cell_type": "markdown",
   "metadata": {
    "heading_collapsed": true
   },
   "source": [
    "# ...load my subsets: train, dev, test"
   ]
  },
  {
   "cell_type": "code",
   "execution_count": 8,
   "metadata": {
    "ExecuteTime": {
     "end_time": "2020-03-21T09:05:03.936134Z",
     "start_time": "2020-03-21T09:05:03.916919Z"
    },
    "hidden": true
   },
   "outputs": [
    {
     "data": {
      "text/plain": [
       "((261, 72), (130, 72), (202, 72), (261, 6), (130, 6), (202, 6))"
      ]
     },
     "execution_count": 8,
     "metadata": {},
     "output_type": "execute_result"
    }
   ],
   "source": [
    "nb_classes=6\n",
    "dataset = 'emotions'\n",
    "\n",
    "arr = np.load(\"datasets/emotions/%s_train_dev_test.npz\"%dataset)\n",
    "# print(arr[\"train_proba\"])\n",
    "\n",
    "X_train_numpy = arr[\"X_train_numpy\"]\n",
    "X_dev_numpy = arr['X_dev_numpy']\n",
    "X_test_numpy = arr['X_test_numpy']\n",
    "y_train_numpy = arr['y_train_numpy']\n",
    "y_dev_numpy = arr['y_dev_numpy']\n",
    "y_test_numpy = arr['y_test_numpy']\n",
    "                \n",
    "X_train_numpy.shape, X_dev_numpy.shape, X_test_numpy.shape, y_train_numpy.shape, y_dev_numpy.shape, y_test_numpy.shape"
   ]
  },
  {
   "cell_type": "code",
   "execution_count": 9,
   "metadata": {
    "ExecuteTime": {
     "end_time": "2020-03-21T09:05:11.662287Z",
     "start_time": "2020-03-21T09:05:11.654598Z"
    },
    "hidden": true
   },
   "outputs": [],
   "source": [
    "X_train_pth = torch.tensor(X_train_numpy, dtype=torch.float).to(device)\n",
    "X_dev_pth = torch.tensor(X_dev_numpy, dtype=torch.float).to(device)\n",
    "X_test_pth = torch.tensor(X_test_numpy, dtype=torch.float).to(device)\n",
    "\n",
    "y_train_pth = torch.tensor(y_train_numpy, dtype=torch.float).to(device)\n",
    "y_dev_pth = torch.tensor(y_dev_numpy, dtype=torch.float).to(device)\n",
    "y_test_pth = torch.tensor(y_test_numpy, dtype=torch.float).to(device)"
   ]
  },
  {
   "cell_type": "code",
   "execution_count": 10,
   "metadata": {
    "ExecuteTime": {
     "end_time": "2020-03-21T09:05:13.179294Z",
     "start_time": "2020-03-21T09:05:13.170057Z"
    },
    "hidden": true
   },
   "outputs": [
    {
     "data": {
      "text/plain": [
       "(torch.Size([261, 72]),\n",
       " torch.Size([261, 6]),\n",
       " tensor([[1., 0., 0., 0., 0., 0.],\n",
       "         [0., 0., 1., 0., 0., 1.]]))"
      ]
     },
     "execution_count": 10,
     "metadata": {},
     "output_type": "execute_result"
    }
   ],
   "source": [
    "X_train_pth.size(), y_train_pth.size(), y_train_pth[:2]"
   ]
  },
  {
   "cell_type": "markdown",
   "metadata": {
    "heading_collapsed": true
   },
   "source": [
    "# Neural net to make predictions or..."
   ]
  },
  {
   "cell_type": "code",
   "execution_count": 9,
   "metadata": {
    "ExecuteTime": {
     "end_time": "2020-03-21T09:05:32.803656Z",
     "start_time": "2020-03-21T09:05:32.797015Z"
    },
    "hidden": true
   },
   "outputs": [
    {
     "data": {
      "text/plain": [
       "(72, 200, 6)"
      ]
     },
     "execution_count": 9,
     "metadata": {},
     "output_type": "execute_result"
    }
   ],
   "source": [
    "input_dim = X_train_pth.size()[1]\n",
    "hidden_dim = 200\n",
    "# output_dim = len(np.unique(y_train.rows))\n",
    "output_dim = 6\n",
    "input_dim, hidden_dim, output_dim"
   ]
  },
  {
   "cell_type": "code",
   "execution_count": 10,
   "metadata": {
    "ExecuteTime": {
     "end_time": "2020-03-21T09:05:33.398330Z",
     "start_time": "2020-03-21T09:05:33.391072Z"
    },
    "hidden": true
   },
   "outputs": [],
   "source": [
    "train_dataset = data.TensorDataset(X_train_pth, y_train_pth) # create your datset\n",
    "train_dataloader = data.DataLoader(train_dataset, batch_size=6, shuffle=True)\n",
    "\n",
    "dev_dataset = data.TensorDataset(X_dev_pth, y_dev_pth) # create your datset\n",
    "dev_dataloader = data.DataLoader(dev_dataset, batch_size=32, shuffle=False)\n",
    "\n",
    "test_dataset = data.TensorDataset(X_test_pth, y_test_pth) # create your datset\n",
    "test_dataloader = data.DataLoader(test_dataset, batch_size=32, shuffle=False)"
   ]
  },
  {
   "cell_type": "code",
   "execution_count": 11,
   "metadata": {
    "ExecuteTime": {
     "end_time": "2020-03-21T09:05:34.114647Z",
     "start_time": "2020-03-21T09:05:34.104844Z"
    },
    "hidden": true
   },
   "outputs": [],
   "source": [
    "class MultiClassClassifierModule(nn.Module):\n",
    "    def __init__(\n",
    "            self,\n",
    "            input_dim=input_dim,\n",
    "            hidden_dim=hidden_dim,\n",
    "            output_dim=output_dim,\n",
    "            dropout=0.5,\n",
    "    ):\n",
    "        super(MultiClassClassifierModule, self).__init__()\n",
    "        self.dropout = nn.Dropout(dropout)\n",
    "\n",
    "        self.hidden = nn.Linear(input_dim, hidden_dim)\n",
    "        self.output = nn.Linear(hidden_dim, output_dim)\n",
    "\n",
    "    def forward(self, X, **kwargs):\n",
    "        X = F.relu(self.hidden(X))\n",
    "        X = self.dropout(X)\n",
    "        X = self.output(X)\n",
    "#         X = F.softmax(X, dim=-1)\n",
    "        X = torch.sigmoid(X)\n",
    "\n",
    "        return X"
   ]
  },
  {
   "cell_type": "code",
   "execution_count": 56,
   "metadata": {
    "ExecuteTime": {
     "end_time": "2020-03-21T09:05:36.576993Z",
     "start_time": "2020-03-21T09:05:36.568839Z"
    },
    "hidden": true
   },
   "outputs": [
    {
     "name": "stdout",
     "output_type": "stream",
     "text": [
      "MultiClassClassifierModule(\n",
      "  (dropout): Dropout(p=0.5, inplace=False)\n",
      "  (hidden): Linear(in_features=72, out_features=200, bias=True)\n",
      "  (output): Linear(in_features=200, out_features=6, bias=True)\n",
      ")\n"
     ]
    }
   ],
   "source": [
    "model = MultiClassClassifierModule(input_dim, hidden_dim, output_dim)\n",
    "model.to(device)\n",
    "\n",
    "criterion = torch.nn.BCELoss(reduction=\"mean\")\n",
    "# criterion = torch.nn.BCEWithLogitsLoss(reduction=\"mean\")\n",
    "\n",
    "learning_rate = 1e-3\n",
    "optimizer = torch.optim.Adam(model.parameters(), lr=learning_rate)\n",
    "print(model)"
   ]
  },
  {
   "cell_type": "markdown",
   "metadata": {
    "heading_collapsed": true,
    "hidden": true
   },
   "source": [
    "## train the model or..."
   ]
  },
  {
   "cell_type": "code",
   "execution_count": 57,
   "metadata": {
    "ExecuteTime": {
     "end_time": "2020-03-21T09:05:38.977707Z",
     "start_time": "2020-03-21T09:05:38.410259Z"
    },
    "hidden": true
   },
   "outputs": [
    {
     "name": "stdout",
     "output_type": "stream",
     "text": [
      "Epoch [1/10], Loss: 1.7900, Duration: 0.1 s\n",
      "Epoch [2/10], Loss: 1.2442, Duration: 0.1 s\n",
      "Epoch [3/10], Loss: 0.6144, Duration: 0.1 s\n",
      "Epoch [4/10], Loss: 0.6727, Duration: 0.0 s\n",
      "Epoch [5/10], Loss: 0.5096, Duration: 0.1 s\n",
      "Epoch [6/10], Loss: 0.4942, Duration: 0.1 s\n",
      "Epoch [7/10], Loss: 0.6054, Duration: 0.0 s\n",
      "Epoch [8/10], Loss: 0.4968, Duration: 0.1 s\n",
      "Epoch [9/10], Loss: 0.4969, Duration: 0.1 s\n",
      "Epoch [10/10], Loss: 0.7386, Duration: 0.1 s\n"
     ]
    }
   ],
   "source": [
    "num_epochs = 10\n",
    "\n",
    "\n",
    "losses = []\n",
    "for epoch in range(num_epochs):\n",
    "    \n",
    "    debut = time.time()\n",
    "    model.train()\n",
    "    \n",
    "    for i_batch, sample_batched in enumerate(train_dataloader):\n",
    "        \n",
    "        X_batch, y_batch = sample_batched\n",
    "        \n",
    "#         print(i_batch, X_batch.size(), y_batch.size())\n",
    "    \n",
    "        # Forward pass\n",
    "        # inputs:  predictions_tensor\n",
    "        outputs = model(X_batch)\n",
    "#         print(outputs.size())\n",
    "    #     if epoch % 10 == 0:\n",
    "    #         print(outputs[-1])\n",
    "        loss = criterion(outputs, y_batch)\n",
    "\n",
    "        # Backward and optimize\n",
    "        optimizer.zero_grad()\n",
    "\n",
    "        loss.backward()\n",
    "\n",
    "        optimizer.step()\n",
    "\n",
    "        losses.append(loss)\n",
    "    \n",
    "    duree_epoch = time.time() - debut\n",
    "\n",
    "    print ('Epoch [{}/{}], Loss: {:.4f}, Duration: {:.1f} s' \n",
    "           .format(epoch+1, num_epochs, loss, duree_epoch))"
   ]
  },
  {
   "cell_type": "code",
   "execution_count": 58,
   "metadata": {
    "ExecuteTime": {
     "end_time": "2020-03-21T09:05:40.288001Z",
     "start_time": "2020-03-21T09:05:40.077265Z"
    },
    "hidden": true
   },
   "outputs": [
    {
     "data": {
      "text/plain": [
       "[<matplotlib.lines.Line2D at 0x7f7470c05310>]"
      ]
     },
     "execution_count": 58,
     "metadata": {},
     "output_type": "execute_result"
    },
    {
     "data": {
      "image/png": "[encoded data removed]",
      "text/plain": [
       "<Figure size 432x288 with 1 Axes>"
      ]
     },
     "metadata": {
      "needs_background": "light"
     },
     "output_type": "display_data"
    }
   ],
   "source": [
    "plt.plot(losses)"
   ]
  },
  {
   "cell_type": "code",
   "execution_count": null,
   "metadata": {
    "hidden": true
   },
   "outputs": [],
   "source": [
    "# torch.save(model.state_dict(), \"exp/emotions/21_03_2020/mlp_%s.pth\"%dataset)"
   ]
  },
  {
   "cell_type": "markdown",
   "metadata": {
    "heading_collapsed": true,
    "hidden": true
   },
   "source": [
    "## ...load a pretrained one"
   ]
  },
  {
   "cell_type": "code",
   "execution_count": 51,
   "metadata": {
    "ExecuteTime": {
     "end_time": "2020-03-21T09:52:34.842209Z",
     "start_time": "2020-03-21T09:52:34.831875Z"
    },
    "hidden": true
   },
   "outputs": [
    {
     "data": {
      "text/plain": [
       "MultiClassClassifierModule(\n",
       "  (dropout): Dropout(p=0.5)\n",
       "  (hidden): Linear(in_features=72, out_features=200, bias=True)\n",
       "  (output): Linear(in_features=200, out_features=6, bias=True)\n",
       ")"
      ]
     },
     "execution_count": 51,
     "metadata": {},
     "output_type": "execute_result"
    }
   ],
   "source": [
    "model.load_state_dict(torch.load(\"exp/emotions/21_03_2020/mlp_%s.pth\"%dataset))\n",
    "model.eval()"
   ]
  },
  {
   "cell_type": "markdown",
   "metadata": {
    "heading_collapsed": true,
    "hidden": true
   },
   "source": [
    "## make predictions"
   ]
  },
  {
   "cell_type": "code",
   "execution_count": 60,
   "metadata": {
    "ExecuteTime": {
     "end_time": "2020-03-21T09:05:44.979248Z",
     "start_time": "2020-03-21T09:05:44.938904Z"
    },
    "hidden": true
   },
   "outputs": [],
   "source": [
    "train_outputs = predict(train_dataloader, y_train_pth, model)\n",
    "dev_outputs = predict(dev_dataloader, y_dev_pth, model)\n",
    "test_outputs = predict(test_dataloader, y_test_pth, model)\n",
    "\n",
    "train_outputs_numpy = train_outputs.clone().detach().cpu().numpy()\n",
    "dev_outputs_numpy = dev_outputs.clone().detach().cpu().numpy()\n",
    "test_outputs_numpy = test_outputs.clone().detach().cpu().numpy()\n",
    "# y_test[:5], test_outputs[:5]"
   ]
  },
  {
   "cell_type": "code",
   "execution_count": 37,
   "metadata": {
    "ExecuteTime": {
     "end_time": "2020-03-21T09:25:25.223333Z",
     "start_time": "2020-03-21T09:25:24.953899Z"
    },
    "hidden": true
   },
   "outputs": [
    {
     "name": "stdout",
     "output_type": "stream",
     "text": [
      "mkdir: cannot create directory ‘exp/emotions/21_03_2020’: File exists\n"
     ]
    }
   ],
   "source": [
    "# # !mkdir exp/emotions/21_03_2020\n",
    "# np.savez(\"exp/emotions/21_03_2020/mlp_probs_%s_train_dev_test.npz\"%dataset, \n",
    "#          train_outputs_numpy=train_outputs_numpy,\n",
    "#          dev_outputs_numpy = dev_outputs_numpy,\n",
    "#          test_outputs_numpy=test_outputs_numpy)"
   ]
  },
  {
   "cell_type": "code",
   "execution_count": 35,
   "metadata": {
    "ExecuteTime": {
     "end_time": "2020-03-20T16:29:39.801022Z",
     "start_time": "2020-03-20T16:29:39.748560Z"
    },
    "hidden": true
   },
   "outputs": [],
   "source": [
    "# np.savez(\"exp/emotions/mlp/%s_MLP_train_test_proba.npz\"%dataset, train_proba=train_outputs_numpy, test_proba=test_outputs_numpy)"
   ]
  },
  {
   "cell_type": "code",
   "execution_count": 50,
   "metadata": {
    "ExecuteTime": {
     "end_time": "2020-03-21T09:50:10.430303Z",
     "start_time": "2020-03-21T09:50:10.384494Z"
    },
    "hidden": true
   },
   "outputs": [],
   "source": []
  },
  {
   "cell_type": "markdown",
   "metadata": {},
   "source": [
    "# ...load mlp probs or..."
   ]
  },
  {
   "cell_type": "code",
   "execution_count": 38,
   "metadata": {
    "ExecuteTime": {
     "end_time": "2020-03-21T09:25:37.703791Z",
     "start_time": "2020-03-21T09:25:37.690259Z"
    }
   },
   "outputs": [
    {
     "data": {
      "text/plain": [
       "((261, 6), (130, 6), (202, 6))"
      ]
     },
     "execution_count": 38,
     "metadata": {},
     "output_type": "execute_result"
    }
   ],
   "source": [
    "arr = np.load(\"exp/emotions/21_03_2020/mlp_probs_%s_train_dev_test.npz\"%dataset)\n",
    "\n",
    "train_outputs_numpy = arr[\"train_outputs_numpy\"]\n",
    "dev_outputs_numpy = arr[\"dev_outputs_numpy\"]\n",
    "test_outputs_numpy = arr[\"test_outputs_numpy\"]\n",
    "train_outputs_numpy.shape, dev_outputs_numpy.shape, test_outputs_numpy.shape"
   ]
  },
  {
   "cell_type": "code",
   "execution_count": 9,
   "metadata": {
    "ExecuteTime": {
     "end_time": "2020-03-21T08:54:35.552768Z",
     "start_time": "2020-03-21T08:54:35.540984Z"
    }
   },
   "outputs": [
    {
     "data": {
      "text/plain": [
       "((391, 6), (202, 6))"
      ]
     },
     "execution_count": 9,
     "metadata": {},
     "output_type": "execute_result"
    }
   ],
   "source": [
    "# arr = np.load(\"exp/emotions/mlp/%s_MLP_train_test_proba.npz\"%dataset)\n",
    "# # print(arr[\"train_proba\"])\n",
    "\n",
    "# train_outputs_numpy = arr[\"train_proba\"]\n",
    "# test_outputs_numpy = arr[\"test_proba\"]\n",
    "# train_outputs_numpy.shape, test_outputs_numpy.shape"
   ]
  },
  {
   "cell_type": "markdown",
   "metadata": {},
   "source": [
    "# ...load SVM-BR probs or..."
   ]
  },
  {
   "cell_type": "code",
   "execution_count": 7,
   "metadata": {},
   "outputs": [
    {
     "data": {
      "text/plain": [
       "((261, 6), (130, 6), (202, 6))"
      ]
     },
     "execution_count": 7,
     "metadata": {},
     "output_type": "execute_result"
    }
   ],
   "source": [
    "arr = np.load(\"exp/emotions/SVM_BR_probs.npz\")\n",
    "# print(arr[\"train_proba\"])\n",
    "\n",
    "train_outputs_numpy = arr[\"svm_train_prob\"]\n",
    "dev_outputs_numpy = arr[\"svm_dev_prob\"]\n",
    "test_outputs_numpy = arr[\"svm_test_prob\"]\n",
    "\n",
    "train_outputs_numpy.shape, dev_outputs_numpy.shape, test_outputs_numpy.shape"
   ]
  },
  {
   "cell_type": "markdown",
   "metadata": {},
   "source": [
    "# ...load SVM-LP probs or..."
   ]
  },
  {
   "cell_type": "code",
   "execution_count": 11,
   "metadata": {},
   "outputs": [
    {
     "data": {
      "text/plain": [
       "((261, 6), (130, 6), (202, 6))"
      ]
     },
     "execution_count": 11,
     "metadata": {},
     "output_type": "execute_result"
    }
   ],
   "source": [
    "arr = np.load(\"exp/emotions/SVM_LP_probs.npz\")\n",
    "# print(arr[\"train_proba\"])\n",
    "\n",
    "train_outputs_numpy = arr[\"svm_train_prob\"]\n",
    "dev_outputs_numpy = arr[\"svm_dev_prob\"]\n",
    "test_outputs_numpy = arr[\"svm_test_prob\"]\n",
    "\n",
    "train_outputs_numpy.shape, dev_outputs_numpy.shape, test_outputs_numpy.shape"
   ]
  },
  {
   "cell_type": "markdown",
   "metadata": {
    "heading_collapsed": true
   },
   "source": [
    "# Static thresholds"
   ]
  },
  {
   "cell_type": "code",
   "execution_count": 41,
   "metadata": {
    "ExecuteTime": {
     "end_time": "2020-03-21T09:06:20.119366Z",
     "start_time": "2020-03-21T09:06:20.114555Z"
    },
    "hidden": true
   },
   "outputs": [],
   "source": [
    "static_thresh = 0.3\n",
    "train_pred = train_outputs_numpy>static_thresh\n",
    "dev_pred = dev_outputs_numpy>static_thresh\n",
    "test_pred = test_outputs_numpy>static_thresh"
   ]
  },
  {
   "cell_type": "code",
   "execution_count": 42,
   "metadata": {
    "ExecuteTime": {
     "end_time": "2020-03-21T09:06:20.808593Z",
     "start_time": "2020-03-21T09:06:20.739998Z"
    },
    "hidden": true
   },
   "outputs": [
    {
     "name": "stdout",
     "output_type": "stream",
     "text": [
      "train\n",
      "              precision    recall  f1-score   support\n",
      "\n",
      "           0      0.697     0.864     0.772        88\n",
      "           1      0.622     0.708     0.662        72\n",
      "           2      0.712     0.952     0.815       104\n",
      "           3      0.809     0.948     0.873        58\n",
      "           4      0.783     0.770     0.777        61\n",
      "           5      0.661     0.902     0.763        82\n",
      "\n",
      "   micro avg      0.705     0.865     0.777       465\n",
      "   macro avg      0.714     0.858     0.777       465\n",
      "weighted avg      0.708     0.865     0.776       465\n",
      " samples avg      0.723     0.863     0.758       465\n",
      "\n",
      "set acc: 0.372\n",
      "dev\n",
      "              precision    recall  f1-score   support\n",
      "\n",
      "           0      0.434     0.742     0.548        31\n",
      "           1      0.370     0.486     0.420        35\n",
      "           2      0.713     0.891     0.792        64\n",
      "           3      0.750     0.871     0.806        31\n",
      "           4      0.452     0.559     0.500        34\n",
      "           5      0.683     0.837     0.752        49\n",
      "\n",
      "   micro avg      0.580     0.754     0.656       244\n",
      "   macro avg      0.567     0.731     0.636       244\n",
      "weighted avg      0.591     0.754     0.661       244\n",
      " samples avg      0.603     0.779     0.648       244\n",
      "\n",
      "set acc: 0.185\n",
      "test\n",
      "              precision    recall  f1-score   support\n",
      "\n",
      "           0      0.534     0.870     0.662        54\n",
      "           1      0.423     0.508     0.462        59\n",
      "           2      0.654     0.865     0.744        96\n",
      "           3      0.667     0.814     0.733        59\n",
      "           4      0.742     0.671     0.705        73\n",
      "           5      0.603     0.810     0.691        58\n",
      "\n",
      "   micro avg      0.606     0.762     0.675       399\n",
      "   macro avg      0.604     0.756     0.666       399\n",
      "weighted avg      0.614     0.762     0.675       399\n",
      " samples avg      0.609     0.765     0.652       399\n",
      "\n",
      "set acc: 0.223\n"
     ]
    },
    {
     "name": "stderr",
     "output_type": "stream",
     "text": [
      "/home/pellegri/tools/miniconda3/envs/envPytorch1/lib/python3.7/site-packages/sklearn/metrics/_classification.py:1272: UndefinedMetricWarning: Precision and F-score are ill-defined and being set to 0.0 in samples with no predicted labels. Use `zero_division` parameter to control this behavior.\n",
      "  _warn_prf(average, modifier, msg_start, len(result))\n"
     ]
    }
   ],
   "source": [
    "print(\"train\")\n",
    "print_scores(y_train_numpy, train_pred)\n",
    "print(\"dev\")\n",
    "print_scores(y_dev_numpy, dev_pred)\n",
    "print(\"test\")\n",
    "print_scores(y_test_numpy, test_pred)\n",
    "# compute_accuracy_from_numpy_tensors(y_test_numpy, test_pred)"
   ]
  },
  {
   "cell_type": "markdown",
   "metadata": {},
   "source": [
    "## plot asof threshold"
   ]
  },
  {
   "cell_type": "code",
   "execution_count": 61,
   "metadata": {
    "hidden": true
   },
   "outputs": [
    {
     "name": "stderr",
     "output_type": "stream",
     "text": [
      "/home/pellegri/tools/miniconda3/envs/envPytorch1/lib/python3.7/site-packages/sklearn/metrics/_classification.py:1272: UndefinedMetricWarning: Precision and F-score are ill-defined and being set to 0.0 in labels with no predicted samples. Use `zero_division` parameter to control this behavior.\n",
      "  _warn_prf(average, modifier, msg_start, len(result))\n"
     ]
    },
    {
     "data": {
      "text/plain": [
       "(array([-0.1,  0. ,  0.1,  0.2,  0.3,  0.4,  0.5,  0.6,  0.7,  0.8]),\n",
       " <a list of 10 Text yticklabel objects>)"
      ]
     },
     "execution_count": 61,
     "metadata": {},
     "output_type": "execute_result"
    },
    {
     "data": {
      "image/png": "[encoded data removed]",
      "text/plain": [
       "<Figure size 576x432 with 1 Axes>"
      ]
     },
     "metadata": {
      "needs_background": "light"
     },
     "output_type": "display_data"
    }
   ],
   "source": [
    "ps, rs, f1s = [], [], []\n",
    "\n",
    "for static_thresh in range(0, 100):\n",
    "    static_thresh /= 100.\n",
    "    train_pred = train_outputs_numpy>static_thresh\n",
    "    dev_pred = dev_outputs_numpy>static_thresh\n",
    "    test_pred = test_outputs_numpy>static_thresh\n",
    "\n",
    "    # p, r, f1 = micro_prec_rec_fscore(y_dev_numpy, dev_pred)\n",
    "    p, r, f1 = micro_prec_rec_fscore_class(y_dev_numpy, dev_pred)\n",
    "    ps.append(p)\n",
    "    rs.append(r)\n",
    "    f1s.append(f1)\n",
    "\n",
    "f1s = np.array(f1s)\n",
    "\n",
    "fontsize=14\n",
    "linewidth=2\n",
    "plt.figure(figsize=(8,6))\n",
    "for ind in range(f1s[0].shape[0]):\n",
    "    plt.plot(f1s[:,ind], label='%d'%ind)\n",
    "\n",
    "# plt.plot([23, 23], [0, 0.6], '-k')\n",
    "plt.xlabel(\"threshold\", fontsize=fontsize)\n",
    "plt.ylabel(\"F1\", fontsize=fontsize)\n",
    "plt.xlim([0,100])\n",
    "plt.xticks([0, 10, 20, 30, 40, 50, 60, 70, 80, 90, 100], [0, 0.1, 0.2, 0.3, 0.4, 0.5, 0.6, 0.7, 0.8, 0.9, 1], fontsize=fontsize)\n",
    "plt.yticks(fontsize=fontsize)\n",
    "# plt.legend(fontsize=fontsize, loc='upper right')\n",
    "# plt.savefig(\"exp/emotions/emotions_F1_DEV_asof_threshold.png\")\n",
    "# plt.savefig(\"exp/emotions/emotions_F1_DEV_asof_threshold.eps\")"
   ]
  },
  {
   "cell_type": "code",
   "execution_count": 52,
   "metadata": {},
   "outputs": [],
   "source": [
    "manual_thresh = [0.39, 0.24, 0.35, 0.23, 0.23, 0.23]\n",
    "train_pred = train_outputs_numpy>manual_thresh\n",
    "dev_pred = dev_outputs_numpy>manual_thresh\n",
    "test_pred = test_outputs_numpy>manual_thresh"
   ]
  },
  {
   "cell_type": "code",
   "execution_count": 53,
   "metadata": {},
   "outputs": [
    {
     "name": "stdout",
     "output_type": "stream",
     "text": [
      "train\n",
      "              precision    recall  f1-score   support\n",
      "\n",
      "           0      0.289     0.295     0.292        88\n",
      "           1      0.259     0.694     0.377        72\n",
      "           2      0.393     0.673     0.496       104\n",
      "           3      0.176     0.414     0.247        58\n",
      "           4      0.174     0.393     0.241        61\n",
      "           5      0.297     0.537     0.383        82\n",
      "\n",
      "   micro avg      0.270     0.512     0.353       465\n",
      "   macro avg      0.265     0.501     0.340       465\n",
      "weighted avg      0.280     0.512     0.355       465\n",
      " samples avg      0.266     0.511     0.335       465\n",
      "\n",
      "set acc: 0.008\n",
      "dev\n",
      "              precision    recall  f1-score   support\n",
      "\n",
      "           0      0.513     0.645     0.571        31\n",
      "           1      0.319     0.829     0.460        35\n",
      "           2      0.582     0.891     0.704        64\n",
      "           3      0.348     0.742     0.474        31\n",
      "           4      0.362     0.735     0.485        34\n",
      "           5      0.612     0.837     0.707        49\n",
      "\n",
      "   micro avg      0.453     0.799     0.579       244\n",
      "   macro avg      0.456     0.780     0.567       244\n",
      "weighted avg      0.481     0.799     0.593       244\n",
      " samples avg      0.466     0.819     0.561       244\n",
      "\n",
      "set acc: 0.100\n",
      "test\n",
      "              precision    recall  f1-score   support\n",
      "\n",
      "           0      0.484     0.556     0.517        54\n",
      "           1      0.283     0.661     0.396        59\n",
      "           2      0.548     0.833     0.661        96\n",
      "           3      0.404     0.712     0.515        59\n",
      "           4      0.454     0.740     0.562        73\n",
      "           5      0.568     0.862     0.685        58\n",
      "\n",
      "   micro avg      0.449     0.739     0.559       399\n",
      "   macro avg      0.457     0.727     0.556       399\n",
      "weighted avg      0.464     0.739     0.566       399\n",
      " samples avg      0.440     0.745     0.528       399\n",
      "\n",
      "set acc: 0.064\n"
     ]
    },
    {
     "name": "stderr",
     "output_type": "stream",
     "text": [
      "/home/pellegri/tools/miniconda3/envs/envPytorch1/lib/python3.7/site-packages/sklearn/metrics/_classification.py:1272: UndefinedMetricWarning: Precision and F-score are ill-defined and being set to 0.0 in samples with no predicted labels. Use `zero_division` parameter to control this behavior.\n",
      "  _warn_prf(average, modifier, msg_start, len(result))\n"
     ]
    }
   ],
   "source": [
    "print(\"train\")\n",
    "print_scores(y_train_numpy, train_pred)\n",
    "print(\"dev\")\n",
    "print_scores(y_dev_numpy, dev_pred)\n",
    "print(\"test\")\n",
    "print_scores(y_test_numpy, test_pred)\n",
    "# compute_accuracy_from_numpy_tensors(y_test_numpy, test_pred)"
   ]
  },
  {
   "cell_type": "code",
   "execution_count": null,
   "metadata": {},
   "outputs": [],
   "source": []
  },
  {
   "cell_type": "code",
   "execution_count": null,
   "metadata": {},
   "outputs": [],
   "source": []
  },
  {
   "cell_type": "code",
   "execution_count": null,
   "metadata": {},
   "outputs": [],
   "source": []
  },
  {
   "cell_type": "markdown",
   "metadata": {},
   "source": [
    "# SGLThresh"
   ]
  },
  {
   "cell_type": "markdown",
   "metadata": {
    "heading_collapsed": true
   },
   "source": [
    "## Obsolete: SurrogateHeaviside definition"
   ]
  },
  {
   "cell_type": "code",
   "execution_count": 6,
   "metadata": {
    "ExecuteTime": {
     "end_time": "2020-03-21T10:14:27.536292Z",
     "start_time": "2020-03-21T10:14:27.511909Z"
    },
    "hidden": true
   },
   "outputs": [],
   "source": [
    "# device = 'cpu'\n",
    "\n",
    "class SurrogateHeaviside(torch.autograd.Function):\n",
    "    \n",
    "    # Activation function with surrogate gradient\n",
    "#     sigma = 100.0\n",
    "\n",
    "    @staticmethod \n",
    "    def forward(ctx, input, sigma):\n",
    "        \n",
    "        output = torch.zeros_like(input)\n",
    "        output[input > 0] = 1.0\n",
    "        ctx.save_for_backward(input, sigma)\n",
    "        return output\n",
    "\n",
    "    @staticmethod\n",
    "    def backward(ctx, grad_output):\n",
    "        \n",
    "        input, sigma = ctx.saved_tensors\n",
    "        grad_input = grad_output.clone()\n",
    "        # approximation of the gradient using sigmoid function\n",
    "        grad = grad_input*torch.sigmoid(sigma*input)*torch.sigmoid(-sigma*input)\n",
    "        \n",
    "        grad_sigma = None\n",
    "        \n",
    "        return grad, grad_sigma\n",
    "\n",
    "threshold_fn = SurrogateHeaviside.apply\n",
    "\n",
    "\n",
    "class ThresholdModel(nn.Module):\n",
    "    def __init__(self, threshold_fn, t=0.5, nb_classes=10):\n",
    "        super(ThresholdModel, self).__init__()\n",
    "        \n",
    "        # define nb_classes seuils differents, initialisés à 0.5\n",
    "\n",
    "#         self.dense = torch.nn.Linear(10, 10)\n",
    "\n",
    "        self.thresh = torch.nn.Parameter(t*torch.ones(nb_classes), requires_grad=True)\n",
    "        self.threshold_fn = threshold_fn\n",
    "        \n",
    "    \n",
    "    def forward(self, x, sigma):\n",
    "        out = self.threshold_fn(x.to(device, dtype=torch.float)-self.thresh.to(device, dtype=torch.float), sigma)\n",
    "#         out = out.clamp_(min=0.01, max=0.99)\n",
    "        # out = self.dense(x.to(device, dtype=torch.float))\n",
    "        # out = F.sigmoid(out)\n",
    "        # out = self.threshold_fn(out-F.sigmoid(self.thresh.to(device, dtype=torch.float)))\n",
    "        return out\n",
    "\n",
    "    \n",
    "    def clamp(self):\n",
    "        \n",
    "        self.thresh.data.clamp_(min=0., max=1.)\n",
    "\n",
    "        \n",
    "def F1_loss_objective(binarized_output, y_true):\n",
    "    # let's first convert binary vector prob into logits\n",
    "#     prob = torch.clamp(prob, 1.e-12, 0.9999999)\n",
    "    \n",
    "#     average = 'macro'\n",
    "    average = 'micro'\n",
    "    epsilon = torch.tensor(1e-12)\n",
    "    \n",
    "    if average == 'micro':\n",
    "        y_true = torch.flatten(y_true)\n",
    "        binarized_output = torch.flatten(binarized_output)\n",
    "        \n",
    "    true_positives = torch.sum(y_true * binarized_output, dim=0)\n",
    "    predicted_positives = torch.sum(binarized_output, dim=0)\n",
    "    positives = torch.sum(y_true, dim=0)\n",
    "    precision = true_positives / (predicted_positives + epsilon)\n",
    "    recall = true_positives / (positives + epsilon)\n",
    "\n",
    "    f1 = 2 * ((precision * recall) / (precision + recall + epsilon))\n",
    "#     return precision, recall, f1\n",
    "    return - f1.mean()"
   ]
  },
  {
   "cell_type": "markdown",
   "metadata": {},
   "source": [
    "## SurrogateHeaviside definition thresh and sigma learnable"
   ]
  },
  {
   "cell_type": "code",
   "execution_count": 8,
   "metadata": {
    "ExecuteTime": {
     "end_time": "2020-03-21T10:14:58.129807Z",
     "start_time": "2020-03-21T10:14:58.103764Z"
    }
   },
   "outputs": [],
   "source": [
    "# device = 'cpu'\n",
    "\n",
    "class SurrogateHeaviside(torch.autograd.Function):\n",
    "    \n",
    "    # Activation function with surrogate gradient\n",
    "#     sigma = 100.0\n",
    "\n",
    "    @staticmethod \n",
    "    def forward(ctx, input, sigma):\n",
    "        \n",
    "        output = torch.zeros_like(input)\n",
    "        output[input > 0] = 1.0\n",
    "        ctx.save_for_backward(input, sigma)\n",
    "        return output\n",
    "\n",
    "    @staticmethod\n",
    "    def backward(ctx, grad_output):\n",
    "        input, sigma = ctx.saved_tensors\n",
    "        grad_input = grad_output.clone()\n",
    "        # approximation of the gradient using sigmoid function\n",
    "        grad = grad_input*torch.sigmoid(sigma*input)*torch.sigmoid(-sigma*input)\n",
    "        \n",
    "        grad_sigma = grad_input*input*torch.sigmoid(sigma*input)*torch.sigmoid(-sigma*input)\n",
    "        \n",
    "        return grad, grad_sigma\n",
    "\n",
    "threshold_fn = SurrogateHeaviside.apply\n",
    "\n",
    "\n",
    "class ThresholdModel(nn.Module):\n",
    "    def __init__(self, threshold_fn, t=0.5, sigma=100., nb_classes=10):\n",
    "        super(ThresholdModel, self).__init__()\n",
    "        \n",
    "        # define nb_classes seuils differents, initialisés à 0.5\n",
    "\n",
    "#         self.dense = torch.nn.Linear(10, 10)\n",
    "\n",
    "        self.thresh = torch.nn.Parameter(t*torch.ones(nb_classes), requires_grad=True)\n",
    "        self.sigma = torch.nn.Parameter(sigma*torch.ones(nb_classes), requires_grad=True)\n",
    "        self.threshold_fn = threshold_fn\n",
    "        \n",
    "    \n",
    "    def forward(self, x):\n",
    "        out = self.threshold_fn(x.to(device, dtype=torch.float)-self.thresh.to(device, dtype=torch.float), \n",
    "                                self.sigma.to(device, dtype=torch.float))\n",
    "#         out = out.clamp_(min=0.01, max=0.99)\n",
    "        # out = self.dense(x.to(device, dtype=torch.float))\n",
    "        # out = F.sigmoid(out)\n",
    "        # out = self.threshold_fn(out-F.sigmoid(self.thresh.to(device, dtype=torch.float)))\n",
    "        return out\n",
    "\n",
    "    \n",
    "    def clamp(self):\n",
    "        \n",
    "        self.thresh.data.clamp_(min=0., max=1.)\n",
    "\n",
    "        \n",
    "def F1_loss_objective(binarized_output, y_true):\n",
    "    # let's first convert binary vector prob into logits\n",
    "#     prob = torch.clamp(prob, 1.e-12, 0.9999999)\n",
    "    \n",
    "#     average = 'macro'\n",
    "    average = 'micro'\n",
    "    epsilon = torch.tensor(1e-12)\n",
    "    \n",
    "    if average == 'micro':\n",
    "        y_true = torch.flatten(y_true)\n",
    "        binarized_output = torch.flatten(binarized_output)\n",
    "        \n",
    "    true_positives = torch.sum(y_true * binarized_output, dim=0)\n",
    "    predicted_positives = torch.sum(binarized_output, dim=0)\n",
    "    positives = torch.sum(y_true, dim=0)\n",
    "    precision = true_positives / (predicted_positives + epsilon)\n",
    "    recall = true_positives / (positives + epsilon)\n",
    "\n",
    "    f1 = 2 * ((precision * recall) / (precision + recall + epsilon))\n",
    "#     return precision, recall, f1\n",
    "    return - f1.mean()"
   ]
  },
  {
   "cell_type": "markdown",
   "metadata": {},
   "source": [
    "## numerical application"
   ]
  },
  {
   "cell_type": "code",
   "execution_count": 15,
   "metadata": {
    "ExecuteTime": {
     "end_time": "2020-03-21T09:07:12.951755Z",
     "start_time": "2020-03-21T09:07:09.928704Z"
    }
   },
   "outputs": [],
   "source": [
    "pth_train_probs = torch.tensor(train_outputs_numpy, dtype=torch.float).to(device)\n",
    "pth_dev_probs = torch.tensor(dev_outputs_numpy, dtype=torch.float).to(device)\n",
    "pth_test_probs = torch.tensor(test_outputs_numpy, dtype=torch.float).to(device)\n",
    "\n",
    "\n",
    "pth_train_gt = y_train_pth.to(device, dtype=torch.float)\n",
    "pth_dev_gt = y_dev_pth.to(device, dtype=torch.float)\n",
    "pth_test_gt = y_test_pth.to(device, dtype=torch.float)"
   ]
  },
  {
   "cell_type": "code",
   "execution_count": 56,
   "metadata": {
    "ExecuteTime": {
     "end_time": "2020-03-21T09:07:14.420535Z",
     "start_time": "2020-03-21T09:07:14.416135Z"
    }
   },
   "outputs": [],
   "source": [
    "# from torch.optim.lr_scheduler import MultiStepLR"
   ]
  },
  {
   "cell_type": "code",
   "execution_count": 74,
   "metadata": {
    "ExecuteTime": {
     "end_time": "2020-03-21T10:15:22.877543Z",
     "start_time": "2020-03-21T10:15:22.855663Z"
    }
   },
   "outputs": [],
   "source": [
    "THRESHmodel = ThresholdModel(threshold_fn=threshold_fn, t=0.3, sigma=1., nb_classes=nb_classes)\n",
    "THRESHmodel = THRESHmodel.to(device, dtype=torch.float)\n",
    "# criterion = torch.nn.BCELoss(reduction=\"mean\")\n",
    "criterion = F1_loss_objective\n",
    "\n",
    "learning_rate = 1e-3\n",
    "# THRESHoptimizer = torch.optim.Adam(THRESHmodel.parameters(), lr=learning_rate)\n",
    "\n",
    "# # # # learn only the thresholds:\n",
    "# THRESHoptimizer = torch.optim.Adam([\n",
    "#                 {'params': THRESHmodel.thresh}\n",
    "#             ], lr=learning_rate)\n",
    "\n",
    "# learn the thresholds and sigma:\n",
    "THRESHoptimizer = torch.optim.Adam([\n",
    "                {'params': THRESHmodel.thresh},\n",
    "                {'params': THRESHmodel.sigma, 'lr': 1e-2}\n",
    "            ], lr=learning_rate)\n",
    "\n",
    "# scheduler = MultiStepLR(THRESHoptimizer, milestones=[180], gamma=0.1)"
   ]
  },
  {
   "cell_type": "code",
   "execution_count": 75,
   "metadata": {
    "ExecuteTime": {
     "end_time": "2020-03-21T10:15:27.619426Z",
     "start_time": "2020-03-21T10:15:27.005626Z"
    }
   },
   "outputs": [
    {
     "name": "stdout",
     "output_type": "stream",
     "text": [
      "Epoch [1/72], Loss: -0.6475, Duration: 0.0 s\n",
      "threshs: tensor([1.0100, 1.0100, 1.0100, 1.0100, 1.0100, 1.0100])\n",
      "Epoch [2/72], Loss: -0.6440, Duration: 0.0 s\n",
      "Epoch [3/72], Loss: -0.6462, Duration: 0.0 s\n",
      "Epoch [4/72], Loss: -0.6460, Duration: 0.0 s\n",
      "Epoch [5/72], Loss: -0.6472, Duration: 0.0 s\n",
      "Epoch [6/72], Loss: -0.6505, Duration: 0.0 s\n",
      "Epoch [7/72], Loss: -0.6505, Duration: 0.0 s\n",
      "Epoch [8/72], Loss: -0.6493, Duration: 0.0 s\n",
      "Epoch [9/72], Loss: -0.6516, Duration: 0.0 s\n",
      "Epoch [10/72], Loss: -0.6527, Duration: 0.0 s\n",
      "Epoch [11/72], Loss: -0.6503, Duration: 0.0 s\n",
      "threshs: tensor([1.1103, 1.1104, 1.1102, 1.1102, 1.1103, 1.1102])\n",
      "Epoch [12/72], Loss: -0.6526, Duration: 0.0 s\n",
      "Epoch [13/72], Loss: -0.6526, Duration: 0.0 s\n",
      "Epoch [14/72], Loss: -0.6538, Duration: 0.0 s\n",
      "Epoch [15/72], Loss: -0.6549, Duration: 0.0 s\n",
      "Epoch [16/72], Loss: -0.6549, Duration: 0.0 s\n",
      "Epoch [17/72], Loss: -0.6549, Duration: 0.0 s\n",
      "Epoch [18/72], Loss: -0.6585, Duration: 0.0 s\n",
      "Epoch [19/72], Loss: -0.6561, Duration: 0.0 s\n",
      "Epoch [20/72], Loss: -0.6561, Duration: 0.0 s\n",
      "Epoch [21/72], Loss: -0.6549, Duration: 0.0 s\n",
      "threshs: tensor([1.2114, 1.2121, 1.2110, 1.2111, 1.2115, 1.2109])\n",
      "Epoch [22/72], Loss: -0.6572, Duration: 0.0 s\n",
      "Epoch [23/72], Loss: -0.6536, Duration: 0.0 s\n",
      "Epoch [24/72], Loss: -0.6512, Duration: 0.0 s\n",
      "Epoch [25/72], Loss: -0.6501, Duration: 0.0 s\n",
      "Epoch [26/72], Loss: -0.6477, Duration: 0.0 s\n",
      "Epoch [27/72], Loss: -0.6477, Duration: 0.0 s\n",
      "Epoch [28/72], Loss: -0.6440, Duration: 0.0 s\n",
      "Epoch [29/72], Loss: -0.6463, Duration: 0.0 s\n",
      "Epoch [30/72], Loss: -0.6487, Duration: 0.0 s\n",
      "Epoch [31/72], Loss: -0.6487, Duration: 0.0 s\n",
      "threshs: tensor([1.3140, 1.3158, 1.3128, 1.3127, 1.3138, 1.3124])\n",
      "Epoch [32/72], Loss: -0.6427, Duration: 0.0 s\n",
      "Epoch [33/72], Loss: -0.6403, Duration: 0.0 s\n",
      "Epoch [34/72], Loss: -0.6380, Duration: 0.0 s\n",
      "Epoch [35/72], Loss: -0.6403, Duration: 0.0 s\n",
      "Epoch [36/72], Loss: -0.6401, Duration: 0.0 s\n",
      "Epoch [37/72], Loss: -0.6425, Duration: 0.0 s\n",
      "Epoch [38/72], Loss: -0.6425, Duration: 0.0 s\n",
      "Epoch [39/72], Loss: -0.6425, Duration: 0.0 s\n",
      "Epoch [40/72], Loss: -0.6413, Duration: 0.0 s\n",
      "Epoch [41/72], Loss: -0.6425, Duration: 0.0 s\n",
      "threshs: tensor([1.4185, 1.4213, 1.4162, 1.4147, 1.4166, 1.4149])\n",
      "Epoch [42/72], Loss: -0.6436, Duration: 0.0 s\n",
      "Epoch [43/72], Loss: -0.6425, Duration: 0.0 s\n",
      "Epoch [44/72], Loss: -0.6425, Duration: 0.0 s\n",
      "Epoch [45/72], Loss: -0.6413, Duration: 0.0 s\n",
      "Epoch [46/72], Loss: -0.6388, Duration: 0.0 s\n",
      "Epoch [47/72], Loss: -0.6377, Duration: 0.0 s\n",
      "Epoch [48/72], Loss: -0.6365, Duration: 0.0 s\n",
      "Epoch [49/72], Loss: -0.6354, Duration: 0.0 s\n",
      "Epoch [50/72], Loss: -0.6329, Duration: 0.0 s\n",
      "Epoch [51/72], Loss: -0.6304, Duration: 0.0 s\n",
      "threshs: tensor([1.5244, 1.5287, 1.5206, 1.5172, 1.5201, 1.5182])\n",
      "Epoch [52/72], Loss: -0.6279, Duration: 0.0 s\n",
      "Epoch [53/72], Loss: -0.6268, Duration: 0.0 s\n",
      "Epoch [54/72], Loss: -0.6243, Duration: 0.0 s\n",
      "Epoch [55/72], Loss: -0.6218, Duration: 0.0 s\n",
      "Epoch [56/72], Loss: -0.6207, Duration: 0.0 s\n",
      "Epoch [57/72], Loss: -0.6207, Duration: 0.0 s\n",
      "Epoch [58/72], Loss: -0.6230, Duration: 0.0 s\n",
      "Epoch [59/72], Loss: -0.6241, Duration: 0.0 s\n",
      "Epoch [60/72], Loss: -0.6241, Duration: 0.0 s\n",
      "Epoch [61/72], Loss: -0.6204, Duration: 0.0 s\n",
      "threshs: tensor([1.6314, 1.6363, 1.6263, 1.6191, 1.6228, 1.6225])\n",
      "Epoch [62/72], Loss: -0.6204, Duration: 0.0 s\n",
      "Epoch [63/72], Loss: -0.6179, Duration: 0.0 s\n",
      "Epoch [64/72], Loss: -0.6157, Duration: 0.0 s\n",
      "Epoch [65/72], Loss: -0.6157, Duration: 0.0 s\n",
      "Epoch [66/72], Loss: -0.6157, Duration: 0.0 s\n",
      "Epoch [67/72], Loss: -0.6145, Duration: 0.0 s\n",
      "Epoch [68/72], Loss: -0.6134, Duration: 0.0 s\n",
      "Epoch [69/72], Loss: -0.6134, Duration: 0.0 s\n",
      "Epoch [70/72], Loss: -0.6112, Duration: 0.0 s\n",
      "Epoch [71/72], Loss: -0.6087, Duration: 0.0 s\n",
      "threshs: tensor([1.7391, 1.7439, 1.7331, 1.7204, 1.7246, 1.7277])\n",
      "Epoch [72/72], Loss: -0.6076, Duration: 0.0 s\n",
      "delta: tensor([0.7499, 0.7545, 0.7438, 0.7304, 0.7347, 0.7382])\n"
     ]
    },
    {
     "data": {
      "text/plain": [
       "[<matplotlib.lines.Line2D at 0x7fcf622a9b50>]"
      ]
     },
     "execution_count": 75,
     "metadata": {},
     "output_type": "execute_result"
    },
    {
     "data": {
      "image/png": "[encoded data removed]",
      "text/plain": [
       "<Figure size 432x288 with 1 Axes>"
      ]
     },
     "metadata": {
      "needs_background": "light"
     },
     "output_type": "display_data"
    }
   ],
   "source": [
    "# Train the model, in batch mode\n",
    "# num_epochs = 300\n",
    "num_epochs = 72\n",
    "# num_epochs = 200\n",
    "\n",
    "# sigma = torch.nn.Parameter(torch.tensor(40.0), requires_grad=True)\n",
    "\n",
    "cumul_delta_thresh = torch.zeros(nb_classes,)\n",
    "delta_thresh = torch.zeros(nb_classes,)\n",
    "\n",
    "for el in THRESHmodel.parameters():\n",
    "    PREC_learned_AT_thresholds = el.clone().detach().cpu()\n",
    "\n",
    "losses = []\n",
    "for epoch in range(num_epochs):\n",
    "    \n",
    "    debut = time.time()\n",
    "    \n",
    "    THRESHmodel.train()\n",
    "    \n",
    "    # Forward pass\n",
    "    # inputs:  predictions_tensor\n",
    "#     outputs = THRESHmodel(pth_train_probs)\n",
    "    outputs = THRESHmodel(pth_dev_probs)\n",
    "    \n",
    "#     if epoch % 10 == 0:\n",
    "#         print(outputs[-1])\n",
    "#     loss = criterion(outputs, pth_train_gt)\n",
    "    loss = criterion(outputs, pth_dev_gt)\n",
    "\n",
    "    # Backward and optimize\n",
    "    THRESHoptimizer.zero_grad()\n",
    "\n",
    "    loss.backward()\n",
    "#     loss.mean().backward()\n",
    "#         loss.backward(at_batch_y)\n",
    "    # loss.backward(torch.ones_like(loss))\n",
    "    \n",
    "#     scheduler.step()\n",
    "    \n",
    "    THRESHoptimizer.step()\n",
    "    # THRESHmodel.clamp()\n",
    "    losses.append(loss)\n",
    "    \n",
    "    duree_epoch = time.time() - debut\n",
    "\n",
    "#     print ('Epoch [{}/{}], Loss: {:.4f}, Duration: {:.1f} s' \n",
    "#            .format(epoch+1, num_epochs, loss.mean(), duree_epoch))\n",
    "    print ('Epoch [{}/{}], Loss: {:.4f}, Duration: {:.1f} s' \n",
    "           .format(epoch+1, num_epochs, loss, duree_epoch))\n",
    "\n",
    "    for el in THRESHmodel.parameters():\n",
    "        learned_AT_thresholds = el.clone().detach().cpu()\n",
    "\n",
    "    delta_thresh = learned_AT_thresholds - PREC_learned_AT_thresholds\n",
    "    cumul_delta_thresh += delta_thresh\n",
    "    PREC_learned_AT_thresholds = learned_AT_thresholds\n",
    "    if epoch % 10 == 0: print('threshs:', learned_AT_thresholds)\n",
    "    # if torch.sum(delta_thresh) < 0.01: break\n",
    "    \n",
    "print('delta:', cumul_delta_thresh)\n",
    "plt.figure()\n",
    "# plt.figure(figsize=(8,6))\n",
    "plt.plot(losses)"
   ]
  },
  {
   "cell_type": "code",
   "execution_count": 76,
   "metadata": {
    "ExecuteTime": {
     "end_time": "2020-03-21T10:21:26.304839Z",
     "start_time": "2020-03-21T10:21:26.278474Z"
    }
   },
   "outputs": [
    {
     "data": {
      "text/plain": [
       "(array([0.3704454 , 0.36896938, 0.22696678, 0.36972338, 0.36912134,\n",
       "        0.22495723], dtype=float32),\n",
       " array([1.7499081, 1.754543 , 1.7438458, 1.7304318, 1.7346506, 1.7382411],\n",
       "       dtype=float32))"
      ]
     },
     "execution_count": 76,
     "metadata": {},
     "output_type": "execute_result"
    }
   ],
   "source": [
    "learned_AT_thresholds=THRESHmodel.thresh.clone().detach().cpu().numpy()\n",
    "sigma = THRESHmodel.sigma.clone().detach().cpu().numpy()\n",
    "learned_AT_thresholds, sigma"
   ]
  },
  {
   "cell_type": "code",
   "execution_count": 77,
   "metadata": {
    "ExecuteTime": {
     "end_time": "2020-03-21T10:21:27.243129Z",
     "start_time": "2020-03-21T10:21:27.168739Z"
    }
   },
   "outputs": [
    {
     "name": "stdout",
     "output_type": "stream",
     "text": [
      "auto_thresholds 0.3704 0.3690 0.2270 0.3697 0.3691 0.2250 \n",
      "train\n",
      "              precision    recall  f1-score   support\n",
      "\n",
      "           0      0.765     0.852     0.806        88\n",
      "           1      0.725     0.514     0.602        72\n",
      "           2      0.573     0.981     0.723       104\n",
      "           3      0.900     0.931     0.915        58\n",
      "           4      0.840     0.689     0.757        61\n",
      "           5      0.500     0.963     0.658        82\n",
      "\n",
      "   micro avg      0.654     0.837     0.734       465\n",
      "   macro avg      0.717     0.822     0.744       465\n",
      "weighted avg      0.696     0.837     0.737       465\n",
      " samples avg      0.671     0.845     0.720       465\n",
      "\n",
      "set acc: 0.295\n",
      "dev\n",
      "              precision    recall  f1-score   support\n",
      "\n",
      "           0      0.455     0.645     0.533        31\n",
      "           1      0.441     0.429     0.435        35\n",
      "           2      0.656     0.922     0.766        64\n",
      "           3      0.839     0.839     0.839        31\n",
      "           4      0.529     0.529     0.529        34\n",
      "           5      0.597     0.878     0.711        49\n",
      "\n",
      "   micro avg      0.593     0.742     0.659       244\n",
      "   macro avg      0.586     0.707     0.636       244\n",
      "weighted avg      0.593     0.742     0.654       244\n",
      " samples avg      0.628     0.768     0.652       244\n",
      "\n",
      "set acc: 0.192\n",
      "test\n",
      "              precision    recall  f1-score   support\n",
      "\n",
      "           0      0.606     0.796     0.688        54\n",
      "           1      0.525     0.356     0.424        59\n",
      "           2      0.628     0.948     0.755        96\n",
      "           3      0.719     0.780     0.748        59\n",
      "           4      0.843     0.589     0.694        73\n",
      "           5      0.536     0.897     0.671        58\n",
      "\n",
      "   micro avg      0.632     0.742     0.683       399\n",
      "   macro avg      0.643     0.728     0.663       399\n",
      "weighted avg      0.649     0.742     0.673       399\n",
      " samples avg      0.643     0.748     0.662       399\n",
      "\n",
      "set acc: 0.248\n"
     ]
    },
    {
     "name": "stderr",
     "output_type": "stream",
     "text": [
      "/home/pellegri/tools/miniconda3/envs/envPytorch1/lib/python3.7/site-packages/sklearn/metrics/_classification.py:1272: UndefinedMetricWarning: Precision and F-score are ill-defined and being set to 0.0 in samples with no predicted labels. Use `zero_division` parameter to control this behavior.\n",
      "  _warn_prf(average, modifier, msg_start, len(result))\n"
     ]
    }
   ],
   "source": [
    "print_thresholds(learned_AT_thresholds, nb_classes)\n",
    "train_pred = train_outputs_numpy>learned_AT_thresholds\n",
    "dev_pred = dev_outputs_numpy>learned_AT_thresholds\n",
    "test_pred = test_outputs_numpy>learned_AT_thresholds\n",
    "print('train')\n",
    "print_scores(y_train_numpy, train_pred)\n",
    "# compute_accuracy_from_numpy_tensors(y_train_numpy, train_pred)\n",
    "print('dev')\n",
    "print_scores(y_dev_numpy, dev_pred)\n",
    "print('test')\n",
    "print_scores(y_test_numpy, test_pred)\n",
    "# compute_accuracy_from_numpy_tensors(y_test_numpy, test_pred)\n",
    "# 0.3366 0.2834 0.2761 0.3185 0.2849 0.2611"
   ]
  },
  {
   "cell_type": "code",
   "execution_count": 20,
   "metadata": {},
   "outputs": [
    {
     "name": "stdout",
     "output_type": "stream",
     "text": [
      "(202,) (202,)\n"
     ]
    },
    {
     "data": {
      "text/plain": [
       "(array([0, 0, 1, 1, 1, 0]), '0.634 0.666')"
      ]
     },
     "execution_count": 20,
     "metadata": {},
     "output_type": "execute_result"
    }
   ],
   "source": [
    "def compute_instance_F1(gt_y, preds):\n",
    "    num = gt_y*preds\n",
    "    num = 2*np.sum(num, axis=1)\n",
    "    den = np.sum(gt_y, axis=1) + np.sum(preds, axis=1)\n",
    "    print(num.shape, den.shape)\n",
    "    return np.mean(num/den)\n",
    "\n",
    "def compute_micro_F1(gt_y, preds):\n",
    "    num = gt_y*preds\n",
    "    num = 2*np.sum(num)\n",
    "    den = np.sum(gt_y) + np.sum(preds)\n",
    "    return num/den\n",
    "\n",
    "instance_F1 = compute_instance_F1(y_test_numpy, test_pred)\n",
    "micro_F1 = compute_micro_F1(y_test_numpy, test_pred)\n",
    "y_test_numpy[0], \"%.3f %.3f\"%(instance_F1, micro_F1)"
   ]
  },
  {
   "cell_type": "code",
   "execution_count": 85,
   "metadata": {
    "ExecuteTime": {
     "end_time": "2020-03-20T16:57:10.979775Z",
     "start_time": "2020-03-20T16:57:10.976106Z"
    }
   },
   "outputs": [],
   "source": [
    "# train_pred = train_outputs_numpy>learned_AT_thresholds\n",
    "# test_pred = test_outputs_numpy>learned_AT_thresholds\n",
    "# print(\"train\")\n",
    "# print_scores(y_train, train_pred)\n",
    "# # compute_accuracy_from_numpy_tensors(y_train_numpy, train_pred)\n",
    "# print(\"test\")\n",
    "# print_scores(y_test, test_pred)\n",
    "# # compute_accuracy_from_numpy_tensors(y_test_numpy, test_pred)"
   ]
  },
  {
   "cell_type": "code",
   "execution_count": 30,
   "metadata": {
    "ExecuteTime": {
     "end_time": "2020-03-21T09:07:52.556877Z",
     "start_time": "2020-03-21T09:07:52.552165Z"
    }
   },
   "outputs": [
    {
     "name": "stdout",
     "output_type": "stream",
     "text": [
      "auto_thresholds 0.2399 0.2419 0.4007 0.3575 0.3215 0.2524 \n"
     ]
    }
   ],
   "source": [
    "print_thresholds(learned_AT_thresholds, nb_classes)"
   ]
  },
  {
   "cell_type": "code",
   "execution_count": null,
   "metadata": {
    "ExecuteTime": {
     "end_time": "2020-03-10T14:34:26.862023Z",
     "start_time": "2020-03-10T14:34:26.852993Z"
    }
   },
   "outputs": [],
   "source": []
  },
  {
   "cell_type": "markdown",
   "metadata": {
    "heading_collapsed": true
   },
   "source": [
    "## numerical application, for loop"
   ]
  },
  {
   "cell_type": "code",
   "execution_count": 10,
   "metadata": {},
   "outputs": [],
   "source": [
    "pth_train_probs = torch.tensor(train_outputs_numpy, dtype=torch.float).to(device)\n",
    "pth_dev_probs = torch.tensor(dev_outputs_numpy, dtype=torch.float).to(device)\n",
    "pth_test_probs = torch.tensor(test_outputs_numpy, dtype=torch.float).to(device)\n",
    "\n",
    "y_train_pth = torch.tensor(y_train_numpy, dtype=torch.float).to(device)\n",
    "y_dev_pth = torch.tensor(y_dev_numpy, dtype=torch.float).to(device)\n",
    "y_test_pth = torch.tensor(y_test_numpy, dtype=torch.float).to(device)\n",
    "\n",
    "pth_train_gt = y_train_pth.to(device, dtype=torch.float)\n",
    "pth_dev_gt = y_dev_pth.to(device, dtype=torch.float)\n",
    "pth_test_gt = y_test_pth.to(device, dtype=torch.float)"
   ]
  },
  {
   "cell_type": "code",
   "execution_count": 11,
   "metadata": {
    "ExecuteTime": {
     "end_time": "2020-03-17T17:01:38.578120Z",
     "start_time": "2020-03-17T17:01:32.633574Z"
    },
    "hidden": true
   },
   "outputs": [
    {
     "name": "stdout",
     "output_type": "stream",
     "text": [
      "sigma: 1.0\n",
      "sigma: 10.0\n",
      "sigma: 20.0\n",
      "sigma: 30.0\n",
      "sigma: 40.0\n",
      "sigma: 50.0\n",
      "sigma: 60.0\n",
      "sigma: 70.0\n",
      "sigma: 80.0\n",
      "sigma: 90.0\n",
      "sigma: 100.0\n",
      "sigma: 110.0\n",
      "sigma: 120.0\n",
      "sigma: 130.0\n",
      "sigma: 140.0\n"
     ]
    }
   ],
   "source": [
    "# criterion = F1_loss_objective\n",
    "# # fh = open(\"datasets/emotions/sglthresh_emotions_F1obj_micro_sigma_LabelPowerset.txt\",\"wt\")\n",
    "# fh = open(\"datasets/emotions/sglthresh_emotions_F1obj_micro_sigma_myNetwork.txt\",\"wt\")\n",
    "\n",
    "criterion = torch.nn.BCELoss(reduction=\"mean\")\n",
    "# fh = open(\"datasets/emotions/sglthresh_emotions_BCEobj_micro_sigma.txt\",\"wt\")\n",
    "\n",
    "learning_rate = 1e-3\n",
    "num_epochs = 72\n",
    "\n",
    "# fh.write(\"a,f1train,ptrain,rtrain,f1test,ptest,rtest\\n\")\n",
    "metrics_list = []\n",
    "scale_param_values_list = []\n",
    "\n",
    "scale_list = range(1, 150, 10) # F1\n",
    "# scale_list = range(1, 80, 5) # BCE\n",
    "\n",
    "for sigma_value in scale_list:\n",
    "    \n",
    "    sigma_value = float(sigma_value)\n",
    "    if sigma_value>1: sigma_value-=1.\n",
    "    scale_param_values_list.append(sigma_value)\n",
    "        \n",
    "    print(\"sigma:\", sigma_value)\n",
    "    \n",
    "    THRESHmodel = ThresholdModel(threshold_fn=threshold_fn, t=0.3, sigma=sigma_value, nb_classes=nb_classes)\n",
    "    THRESHmodel = THRESHmodel.to(device, dtype=torch.float)\n",
    "    # criterion = torch.nn.BCELoss(reduction=\"mean\")\n",
    "\n",
    "    THRESHoptimizer = torch.optim.Adam([\n",
    "                {'params': THRESHmodel.thresh}\n",
    "            ], lr=learning_rate)\n",
    "\n",
    "#     #     learn the thresholds and sigma:\n",
    "#     THRESHoptimizer = torch.optim.Adam([\n",
    "#                     {'params': THRESHmodel.thresh},\n",
    "#                     {'params': THRESHmodel.sigma, 'lr': 1e-2}\n",
    "#                 ], lr=learning_rate)\n",
    "\n",
    "    cumul_delta_thresh = torch.zeros(nb_classes,)\n",
    "    delta_thresh = torch.zeros(nb_classes,)\n",
    "\n",
    "    for el in THRESHmodel.parameters():\n",
    "        PREC_learned_AT_thresholds = el.clone().detach().cpu()\n",
    "\n",
    "    losses = []\n",
    "    for epoch in range(num_epochs):\n",
    "\n",
    "        debut = time.time()\n",
    "\n",
    "        THRESHmodel.train()\n",
    "\n",
    "        # Forward pass\n",
    "        # inputs:  predictions_tensor\n",
    "        outputs = THRESHmodel(pth_dev_probs)\n",
    "\n",
    "    #     if epoch % 10 == 0:\n",
    "    #         print(outputs[-1])\n",
    "        loss = criterion(outputs, pth_dev_gt)\n",
    "\n",
    "        # Backward and optimize\n",
    "        THRESHoptimizer.zero_grad()\n",
    "\n",
    "        loss.backward()\n",
    "    #     loss.mean().backward()\n",
    "    #         loss.backward(at_batch_y)\n",
    "        # loss.backward(torch.ones_like(loss))\n",
    "\n",
    "        THRESHoptimizer.step()\n",
    "        # THRESHmodel.clamp()\n",
    "        losses.append(loss)\n",
    "\n",
    "        duree_epoch = time.time() - debut\n",
    "\n",
    "#         print ('Epoch [{}/{}], Loss: {:.4f}, Duration: {:.1f} s' \n",
    "#                .format(epoch+1, num_epochs, loss, duree_epoch))\n",
    "\n",
    "        for el in THRESHmodel.parameters():\n",
    "            learned_AT_thresholds = el.clone().detach().cpu()\n",
    "\n",
    "        delta_thresh = learned_AT_thresholds - PREC_learned_AT_thresholds\n",
    "        cumul_delta_thresh += delta_thresh\n",
    "        PREC_learned_AT_thresholds = learned_AT_thresholds\n",
    "#         if epoch % 10 == 0: print('threshs:', learned_AT_thresholds)\n",
    "        # if torch.sum(delta_thresh) < 0.01: break\n",
    "\n",
    "#     print('delta:', cumul_delta_thresh)\n",
    "#     plt.figure()\n",
    "#     plt.plot(losses)\n",
    "    \n",
    "    learned_AT_thresholds=THRESHmodel.thresh.clone().detach().cpu().numpy()\n",
    "    dev_pred = dev_outputs_numpy>learned_AT_thresholds\n",
    "    test_pred = test_outputs_numpy>learned_AT_thresholds\n",
    "#     print(\"dev\")\n",
    "#     print_scores(y_dev_numpy, dev_pred)\n",
    "#     # compute_accuracy_from_numpy_tensors(y_train_numpy, train_pred)\n",
    "#     print(\"test\")\n",
    "#     print_scores(y_test_numpy, test_pred)\n",
    "    \n",
    "    p2, r2, fscore2, support = precision_recall_fscore_support(y_dev_numpy, dev_pred, pos_label=1, average='micro')\n",
    "#     p3, r3, fscore3, support = precision_recall_fscore_support(gt_y, preds, pos_label=1, average='macro')\n",
    "    p2te, r2te, fscore2te, _ = precision_recall_fscore_support(y_test_numpy, test_pred, pos_label=1, average='micro')\n",
    "\n",
    "#     fh.write(\"%.2f,%.2f,%.2f,%.2f,%.2f,%.2f,%.2f\\n\"%(sigma_value, 100.*fscore2, 100.*p2, 100.*r2, \n",
    "#                                                    100.*fscore2te, 100.*p2te, 100.*r2te))\n",
    "    metrics_list.append([p2, r2, fscore2, p2te, r2te, fscore2te])\n",
    "    \n",
    "# fh.close()"
   ]
  },
  {
   "cell_type": "code",
   "execution_count": 14,
   "metadata": {
    "ExecuteTime": {
     "end_time": "2020-03-17T17:03:51.778668Z",
     "start_time": "2020-03-17T17:03:51.327233Z"
    },
    "hidden": true
   },
   "outputs": [
    {
     "data": {
      "image/png": "[encoded data removed]",
      "text/plain": [
       "<Figure size 576x432 with 1 Axes>"
      ]
     },
     "metadata": {
      "needs_background": "light"
     },
     "output_type": "display_data"
    }
   ],
   "source": [
    "def plot_influence_de_a(scale_param_values, ptest, rtest, f1test, peval, reval, f1eval):\n",
    "    \n",
    "    fontsize=18\n",
    "    plotEval = False\n",
    "    learnThresholdsOnly=False\n",
    "    \n",
    "    if plotEval:\n",
    "        fig, (ax1, ax2) = plt.subplots(1, 2, sharey=True, figsize=(8,6))\n",
    "        if learnThresholdsOnly:\n",
    "            bname = \"exp/%s/%s_BR_SVM_influence_sigma_objective_F1_learnThresholdsOnly_DEV_EVAL\"%(dataset,dataset)\n",
    "        else:\n",
    "            bname = \"exp/%s/%s_BR_SVM_influence_sigma_objective_F1_learnThresholdsAndSigma_DEV_EVAL\"%(dataset,dataset)\n",
    "        output_fig_path_PNG= bname + \".png\"\n",
    "        output_fig_path_EPS=bname + \".eps\"\n",
    "    else:\n",
    "        fig, ax1 = plt.subplots(1, 1, sharey=True, figsize=(8,6))\n",
    "        if learnThresholdsOnly:\n",
    "            bname = \"exp/%s/%s_BR_SVM_influence_sigma_objective_F1_learnThresholdsOnly_DEV\"%(dataset,dataset)\n",
    "        else:\n",
    "            bname = \"exp/%s/%s_BR_SVM_influence_sigma_objective_F1_learnThresholdsAndSigma_DEV\"%(dataset,dataset)\n",
    "        output_fig_path_PNG= bname + \".png\"\n",
    "        output_fig_path_EPS=bname + \".eps\"\n",
    "        \n",
    "    xlimsup=140\n",
    "#     xlimsup=30\n",
    "    \n",
    "    ax1.plot([1, xlimsup], [0.656, 0.656], '-.', label='F1 - default threshold')\n",
    "    ax1.plot([1, xlimsup], [0.661, 0.661], '--', label='F1 - numThresh')\n",
    "    ax1.plot(scale_param_values, ptest, '-+', label='precision - SGLThresh t')\n",
    "    ax1.plot(scale_param_values, rtest, label='recall - SGLThresh t')\n",
    "    ax1.plot(scale_param_values, f1test, '-o', label='F1 - SGLThresh t')\n",
    "#     ax1.plot([1, xlimsup], [0.5659, 0.5659], '-.', label='F1 - static')\n",
    "#     ax1.plot([1, xlimsup], [0.6118, 0.6118], '--', label='F1 - numThresh')\n",
    "#     ax1.plot([1, xlimsup], [0.6128, 0.6128], '--', label='F1 - numThresh')\n",
    "#     ax1.legend(fontsize=fontsize)\n",
    "    ax1.tick_params(axis='x', labelsize=fontsize)\n",
    "    ax1.tick_params(axis='y', labelsize=fontsize)\n",
    "    ax1.set_xlabel('Sigmoid scale parameter',fontsize=fontsize)\n",
    "#     ax1.set_ylim([0.52, 0.66])\n",
    "#     ax1.set_title(\"Dev subset\",fontsize=14)\n",
    "    if plotEval:\n",
    "        ax2.plot([1, xlimsup], [0.675, 0.675], '-.', label='F1 - default threshold')\n",
    "        ax2.plot(scale_param_values, peval, '-+', label='precision - SGLThresh t')\n",
    "        ax2.plot(scale_param_values, reval, '-', label='recall - SGLThresh t')\n",
    "        ax2.plot(scale_param_values, f1eval, '-o', label='F1 - SGLThresh t')\n",
    "    #     ax2.plot([1, xlimsup], [0.5698, 0.5698], '-.', label='F1 - static')\n",
    "    #     ax2.plot([1, xlimsup], [0.6024, 0.6024], '--', label='F1 - numThresh')\n",
    "    #     ax2.plot([1, xlimsup], [0.5828, 0.5828], '--', label='F1 - numThresh')\n",
    "    #     ax2.legend(fontsize=fontsize)\n",
    "        ax2.tick_params(axis='x', labelsize=fontsize)\n",
    "        ax2.set_xlabel(\"Sigmoid scale parameter\",fontsize=fontsize)\n",
    "#         ax2.set_title(\"Test subset\",fontsize=14)\n",
    "    #     plt.suptitle(\"BCE objective\",fontsize=16)\n",
    "    #     plt.suptitle(\"F1 objective\",fontsize=16)\n",
    "    plt.savefig(output_fig_path_PNG)\n",
    "    plt.savefig(output_fig_path_EPS)\n",
    "\n",
    "metrics_array = np.array(metrics_list)\n",
    "scale_param_values = np.array(scale_param_values_list)\n",
    "# scale_param_values = np.array(range(1, 80, 5))\n",
    "plot_influence_de_a(scale_param_values, metrics_array[:,0], metrics_array[:,1], metrics_array[:,2], metrics_array[:,3], metrics_array[:,4], metrics_array[:,5])"
   ]
  },
  {
   "cell_type": "code",
   "execution_count": 19,
   "metadata": {
    "ExecuteTime": {
     "end_time": "2020-03-17T15:00:08.714389Z",
     "start_time": "2020-03-17T15:00:08.708933Z"
    },
    "hidden": true
   },
   "outputs": [],
   "source": [
    "# metrics_list = np.array(metrics_list)\n",
    "# metrics_list"
   ]
  },
  {
   "cell_type": "code",
   "execution_count": 20,
   "metadata": {},
   "outputs": [],
   "source": [
    "influence_file_path = 'exp/%s/influence_de_a_Obj_F1.csv'%(dataset)\n",
    "scale_list = range(1, 150, 10)\n",
    "\n",
    "with open(influence_file_path, \"wt\") as fh:\n",
    "    fh.write(\"a,f1test,ptest,rtest,f1eval,peval,reval\\n\")\n",
    "    for i in range(len(metrics_list)):\n",
    "        sigma_value = scale_list[i]\n",
    "        if sigma_value>1: sigma_value-=1.\n",
    "        fh.write(\"%d\"%sigma_value)\n",
    "        for j in range(6):\n",
    "            fh.write(\",%.3f\"%(metrics_list[i][j]))\n",
    "        fh.write(\"\\n\")"
   ]
  },
  {
   "cell_type": "markdown",
   "metadata": {},
   "source": [
    "# NumThresh"
   ]
  },
  {
   "cell_type": "code",
   "execution_count": 35,
   "metadata": {
    "ExecuteTime": {
     "end_time": "2020-03-21T09:07:59.412630Z",
     "start_time": "2020-03-21T09:07:59.405269Z"
    }
   },
   "outputs": [],
   "source": [
    "from sgl_utils.opt import Adam\n",
    "from sklearn import metrics"
   ]
  },
  {
   "cell_type": "markdown",
   "metadata": {
    "heading_collapsed": true
   },
   "source": [
    "## utility function"
   ]
  },
  {
   "cell_type": "code",
   "execution_count": 36,
   "metadata": {
    "ExecuteTime": {
     "end_time": "2020-03-21T09:41:43.841523Z",
     "start_time": "2020-03-21T09:41:43.813563Z"
    },
    "hidden": true
   },
   "outputs": [],
   "source": [
    "def calculate_f1(y_true, output, thresholds, average):\n",
    "    \"\"\"Calculate F1 score.\n",
    "    Args:\n",
    "      y_true: (N, (optional)frames_num], classes_num)\n",
    "      output: (N, (optional)[frames_num], classes_num)\n",
    "      thresholds: (classes_num,), initial thresholds\n",
    "      average: 'micro' | 'macro'\n",
    "    \"\"\"\n",
    "    if y_true.ndim == 3:\n",
    "        (N, T, F) = y_true.shape\n",
    "        y_true = y_true.reshape((N * T, F))\n",
    "        output = output.reshape((N * T, F))\n",
    "\n",
    "    classes_num = y_true.shape[-1]\n",
    "    binarized_output = np.zeros_like(output)\n",
    "#     print('class num:', classes_num)\n",
    "    \n",
    "    for k in range(classes_num):\n",
    "        binarized_output[:, k] = (np.sign(output[:, k] - thresholds[k]) + 1) // 2\n",
    "\n",
    "    if average == 'micro':\n",
    "        return metrics.f1_score(y_true.flatten(), binarized_output.flatten())\n",
    "    \n",
    "    f1_array = []\n",
    "    for k in range(classes_num):\n",
    "        f1_array.append(metrics.f1_score(y_true[:, k], binarized_output[:, k]))\n",
    "\n",
    "    if average == 'macro':\n",
    "        return np.average(f1_array)\n",
    "    elif average is None:\n",
    "        return f1_array\n",
    "    else:\n",
    "        raise Exception('Incorrect argument!')\n",
    "\n",
    "\n",
    "def calculate_at_gradient(y_true, output, thresholds, average):\n",
    "    \"\"\"Calculate gradient of thresholds numerically.\n",
    "    Args:\n",
    "      y_true: (N, (optional)frames_num], classes_num)\n",
    "      output: (N, (optional)[frames_num], classes_num)\n",
    "      thresholds: (classes_num,), initial thresholds\n",
    "      average: 'micro' | 'macro'\n",
    "    Returns:\n",
    "      grads: vector\n",
    "    \"\"\"\n",
    "    f1 = calculate_f1(y_true, output, thresholds, average)\n",
    "    classes_num = len(thresholds)\n",
    "    \n",
    "    delta = 0.01\n",
    "    grads = []\n",
    "#     print(\"calculate_at_gradient, f1:\", f1)\n",
    "    \n",
    "    for k, threshold in enumerate(thresholds):\n",
    "        new_thresholds = thresholds.copy()\n",
    "        cnt = 0\n",
    "        while cnt < 10:\n",
    "            cnt += 1\n",
    "            new_thresholds[k] += delta\n",
    "            f1_new = calculate_f1(y_true, output, new_thresholds, average)\n",
    "            if f1_new != f1:\n",
    "                break\n",
    "\n",
    "        grad = (f1_new - f1) / (delta * cnt)\n",
    "        grads.append(grad)\n",
    "\n",
    "    return grads\n",
    "\n",
    "\n",
    "def optimize_at_with_gd(y_true, output, thresholds, average):\n",
    "    \"\"\"Optimize thresholds for AT.\n",
    "    Args:\n",
    "      y_true: (N, (optional)frames_num], classes_num)\n",
    "      output: (N, (optional)[frames_num], classes_num)\n",
    "      thresholds: (classes_num,), initial thresholds\n",
    "      average: 'micro' | 'macro'\n",
    "    Returns:\n",
    "      metric: float\n",
    "      thresholds: vector\n",
    "    \"\"\"\n",
    "    opt = Adam()\n",
    "    opt.alpha = 1e-2\n",
    "    metric = calculate_f1(y_true, output, thresholds, average)\n",
    "    metric_asfo_epoch = [metric]\n",
    "    for i in range(100):\n",
    "        debut = time.time()\n",
    "        grads = calculate_at_gradient(y_true, output, thresholds, average)\n",
    "#         if i==0: print(\"grads:\", grads)\n",
    "        grads = [-e for e in grads]\n",
    "        thresholds = opt.GetNewParams(thresholds, grads)\n",
    "        metric = calculate_f1(y_true, output, thresholds, average)\n",
    "        if i%50==0:\n",
    "            print('Iteration: {}, Score: {:.3f}, thresholds: {}'.format(\n",
    "                i, metric, np.array(thresholds)))\n",
    "        metric_asfo_epoch.append(metric)\n",
    "        \n",
    "    return metric, thresholds, metric_asfo_epoch"
   ]
  },
  {
   "cell_type": "markdown",
   "metadata": {},
   "source": [
    "## numerical application"
   ]
  },
  {
   "cell_type": "code",
   "execution_count": 43,
   "metadata": {
    "ExecuteTime": {
     "end_time": "2020-03-21T09:41:48.354675Z",
     "start_time": "2020-03-21T09:41:47.688641Z"
    }
   },
   "outputs": [
    {
     "name": "stdout",
     "output_type": "stream",
     "text": [
      "Iteration: 0, Score: 0.660, thresholds: [0.29000087 0.3099996  0.29000328 0.30999636 0.29000087 0.29000038]\n",
      "Iteration: 50, Score: 0.662, thresholds: [0.29684134 0.32051178 0.29767932 0.35635746 0.27214182 0.28270726]\n",
      "auto_thresholds 0.2971 0.3244 0.2966 0.3511 0.2858 0.2778 \n",
      "train manual_thres f1: 0.656\n",
      "train auto_thres f1: 0.661\n"
     ]
    }
   ],
   "source": [
    "t=0.3\n",
    "thresh = [t]*nb_classes\n",
    "\n",
    "average = 'micro'\n",
    "\n",
    "manual_thres_f1 = calculate_f1(y_dev_numpy, dev_outputs_numpy, thresholds=thresh, average=average)\n",
    "# print_scores(y_test_numpy, test_pred)\n",
    "\n",
    "# Optimize thresholds\n",
    "# (auto_thres_f1, auto_thresholds, metric_asfo_epoch) = optimize_at_with_gd(y_train_numpy, train_outputs_numpy, \n",
    "#                                                                           thresh, average=average)\n",
    "(auto_thres_f1, auto_thresholds, metric_asfo_epoch) = optimize_at_with_gd(y_dev_numpy, dev_outputs_numpy, \n",
    "                                                                          thresh, average=average)\n",
    "\n",
    "print_thresholds(auto_thresholds, nb_classes)\n",
    "# print(\"%.3f %.3f\"%(manual_thres_f1*100, fscore2*100))\n",
    "\n",
    "print('train manual_thres f1: {:.3f}'.format(manual_thres_f1))\n",
    "print('train auto_thres f1: {:.3f}'.format(auto_thres_f1))"
   ]
  },
  {
   "cell_type": "code",
   "execution_count": 44,
   "metadata": {
    "ExecuteTime": {
     "end_time": "2020-03-21T09:41:49.463736Z",
     "start_time": "2020-03-21T09:41:49.227297Z"
    }
   },
   "outputs": [
    {
     "data": {
      "text/plain": [
       "(array([0.654, 0.656, 0.658, 0.66 , 0.662, 0.664, 0.666]),\n",
       " <a list of 7 Text yticklabel objects>)"
      ]
     },
     "execution_count": 44,
     "metadata": {},
     "output_type": "execute_result"
    },
    {
     "data": {
      "image/png": "[encoded data removed]",
      "text/plain": [
       "<Figure size 432x288 with 1 Axes>"
      ]
     },
     "metadata": {
      "needs_background": "light"
     },
     "output_type": "display_data"
    }
   ],
   "source": [
    "fontsize=14\n",
    "plt.plot(metric_asfo_epoch)\n",
    "plt.xlabel(\"epochs\", fontsize=fontsize)\n",
    "plt.ylabel(\"F1\", fontsize=fontsize)\n",
    "plt.xticks(fontsize=fontsize)\n",
    "plt.yticks(fontsize=fontsize)\n",
    "# plt.savefig(\"datasets/emotions/emotions_F1_asof_epochs_myNetwork.png\")"
   ]
  },
  {
   "cell_type": "code",
   "execution_count": 45,
   "metadata": {
    "ExecuteTime": {
     "end_time": "2020-03-21T09:41:56.793498Z",
     "start_time": "2020-03-21T09:41:56.727980Z"
    }
   },
   "outputs": [
    {
     "name": "stdout",
     "output_type": "stream",
     "text": [
      "auto_thresholds 0.2971 0.3244 0.2966 0.3511 0.2858 0.2778 \n",
      "train\n",
      "              precision    recall  f1-score   support\n",
      "\n",
      "           0      0.697     0.864     0.772        88\n",
      "           1      0.653     0.653     0.653        72\n",
      "           2      0.712     0.952     0.815       104\n",
      "           3      0.857     0.931     0.893        58\n",
      "           4      0.758     0.770     0.764        61\n",
      "           5      0.625     0.915     0.743        82\n",
      "\n",
      "   micro avg      0.704     0.856     0.773       465\n",
      "   macro avg      0.717     0.847     0.773       465\n",
      "weighted avg      0.709     0.856     0.772       465\n",
      " samples avg      0.722     0.857     0.754       465\n",
      "\n",
      "set acc: 0.372\n",
      "dev\n",
      "              precision    recall  f1-score   support\n",
      "\n",
      "           0      0.426     0.742     0.541        31\n",
      "           1      0.400     0.457     0.427        35\n",
      "           2      0.704     0.891     0.786        64\n",
      "           3      0.812     0.839     0.825        31\n",
      "           4      0.438     0.618     0.512        34\n",
      "           5      0.672     0.878     0.761        49\n",
      "\n",
      "   micro avg      0.583     0.762     0.661       244\n",
      "   macro avg      0.575     0.737     0.642       244\n",
      "weighted avg      0.595     0.762     0.665       244\n",
      " samples avg      0.598     0.790     0.650       244\n",
      "\n",
      "set acc: 0.192\n",
      "test\n",
      "              precision    recall  f1-score   support\n",
      "\n",
      "           0      0.539     0.889     0.671        54\n",
      "           1      0.466     0.458     0.462        59\n",
      "           2      0.646     0.875     0.743        96\n",
      "           3      0.712     0.797     0.752        59\n",
      "           4      0.722     0.712     0.717        73\n",
      "           5      0.578     0.828     0.681        58\n",
      "\n",
      "   micro avg      0.614     0.767     0.682       399\n",
      "   macro avg      0.611     0.760     0.671       399\n",
      "weighted avg      0.619     0.767     0.679       399\n",
      " samples avg      0.624     0.771     0.662       399\n",
      "\n",
      "set acc: 0.238\n"
     ]
    },
    {
     "name": "stderr",
     "output_type": "stream",
     "text": [
      "/home/pellegri/tools/miniconda3/envs/envPytorch1/lib/python3.7/site-packages/sklearn/metrics/_classification.py:1272: UndefinedMetricWarning: Precision and F-score are ill-defined and being set to 0.0 in samples with no predicted labels. Use `zero_division` parameter to control this behavior.\n",
      "  _warn_prf(average, modifier, msg_start, len(result))\n"
     ]
    }
   ],
   "source": [
    "print_thresholds(auto_thresholds, nb_classes)\n",
    "train_pred = train_outputs_numpy>auto_thresholds\n",
    "dev_pred = dev_outputs_numpy>auto_thresholds\n",
    "test_pred = test_outputs_numpy>auto_thresholds\n",
    "print('train')\n",
    "print_scores(y_train_numpy, train_pred)\n",
    "# compute_accuracy_from_numpy_tensors(y_train_numpy, train_pred)\n",
    "print('dev')\n",
    "print_scores(y_dev_numpy, dev_pred)\n",
    "print('test')\n",
    "print_scores(y_test_numpy, test_pred)\n",
    "# compute_accuracy_from_numpy_tensors(y_test_numpy, test_pred)"
   ]
  },
  {
   "cell_type": "markdown",
   "metadata": {},
   "source": [
    "# plot learning curves"
   ]
  },
  {
   "cell_type": "code",
   "execution_count": 229,
   "metadata": {
    "ExecuteTime": {
     "end_time": "2020-03-21T10:12:47.545238Z",
     "start_time": "2020-03-21T10:12:47.505267Z"
    }
   },
   "outputs": [],
   "source": [
    "sgl_loss_dev_threshANDsigma_list = [-1*el.clone().detach().cpu().numpy() for el in losses]"
   ]
  },
  {
   "cell_type": "code",
   "execution_count": 234,
   "metadata": {
    "ExecuteTime": {
     "end_time": "2020-03-21T10:15:55.583052Z",
     "start_time": "2020-03-21T10:15:55.542723Z"
    }
   },
   "outputs": [],
   "source": [
    "sgl_loss_dev_thresh_list = [-1*el.clone().detach().cpu().numpy() for el in losses]"
   ]
  },
  {
   "cell_type": "code",
   "execution_count": 236,
   "metadata": {
    "ExecuteTime": {
     "end_time": "2020-03-21T10:34:29.196663Z",
     "start_time": "2020-03-21T10:34:28.644222Z"
    }
   },
   "outputs": [
    {
     "name": "stderr",
     "output_type": "stream",
     "text": [
      "The PostScript backend does not support transparency; partially transparent artists will be rendered opaque.\n",
      "The PostScript backend does not support transparency; partially transparent artists will be rendered opaque.\n"
     ]
    },
    {
     "data": {
      "image/png": "[encoded data removed]",
      "text/plain": [
       "<Figure size 576x432 with 1 Axes>"
      ]
     },
     "metadata": {
      "needs_background": "light"
     },
     "output_type": "display_data"
    }
   ],
   "source": [
    "fontsize=14\n",
    "linewidth=2\n",
    "plt.figure(figsize=(8,6))\n",
    "plt.plot(metric_asfo_epoch, ':k', linewidth=linewidth, label=\"numThresh\")\n",
    "plt.plot(sgl_loss_dev_thresh_list, '--b', linewidth=linewidth, label=\"SGLThresh t\")\n",
    "plt.plot(sgl_loss_dev_threshANDsigma_list, 'g', linewidth=linewidth, label=\"SGLThresh t+a\")\n",
    "plt.xlabel(\"epochs\", fontsize=fontsize)\n",
    "plt.ylabel(\"F1\", fontsize=fontsize)\n",
    "plt.xticks(fontsize=fontsize)\n",
    "plt.yticks(fontsize=fontsize)\n",
    "plt.legend(fontsize=fontsize, loc='center right')\n",
    "plt.savefig(\"exp/emotions/emotions_SVM_F1_numThresh_SGL_DEV_asof_epochs.png\")\n",
    "plt.savefig(\"exp/emotions/emotions_SVM_F1_numThresh_SGL_DEV_asof_epochs.eps\")"
   ]
  },
  {
   "cell_type": "code",
   "execution_count": 57,
   "metadata": {
    "ExecuteTime": {
     "end_time": "2020-03-21T10:11:58.505542Z",
     "start_time": "2020-03-21T10:11:58.495186Z"
    }
   },
   "outputs": [],
   "source": [
    "np.savez(\"exp/emotions/21_03_2020/emotions_F1_numThresh_SGL_DEV_asof_epochs.npz\", \n",
    "         sgl_loss_dev_threshANDsigma_list=np.array(sgl_loss_dev_threshANDsigma_list), \n",
    "         metric_asfo_epoch = np.array(metric_asfo_epoch)\n",
    "        )"
   ]
  },
  {
   "cell_type": "markdown",
   "metadata": {},
   "source": [
    "# BR with SVM"
   ]
  },
  {
   "cell_type": "code",
   "execution_count": 68,
   "metadata": {},
   "outputs": [],
   "source": [
    "from skmultilearn.problem_transform import BinaryRelevance\n",
    "from sklearn.svm import SVC"
   ]
  },
  {
   "cell_type": "code",
   "execution_count": 112,
   "metadata": {},
   "outputs": [],
   "source": [
    "clf = BinaryRelevance(\n",
    "    classifier=SVC(kernel='linear', C=2., probability=True, random_state=123),\n",
    "    require_dense=[True, True]\n",
    ")"
   ]
  },
  {
   "cell_type": "code",
   "execution_count": 113,
   "metadata": {},
   "outputs": [
    {
     "data": {
      "text/plain": [
       "BinaryRelevance(classifier=SVC(C=2.0, break_ties=False, cache_size=200,\n",
       "                               class_weight=None, coef0=0.0,\n",
       "                               decision_function_shape='ovr', degree=3,\n",
       "                               gamma='scale', kernel='linear', max_iter=-1,\n",
       "                               probability=True, random_state=123,\n",
       "                               shrinking=True, tol=0.001, verbose=False),\n",
       "                require_dense=[True, True])"
      ]
     },
     "execution_count": 113,
     "metadata": {},
     "output_type": "execute_result"
    }
   ],
   "source": [
    "clf.fit(X_train_numpy, y_train_numpy)"
   ]
  },
  {
   "cell_type": "code",
   "execution_count": 208,
   "metadata": {},
   "outputs": [
    {
     "name": "stdout",
     "output_type": "stream",
     "text": [
      "train\n",
      "              precision    recall  f1-score   support\n",
      "\n",
      "           0      0.824     0.795     0.809        88\n",
      "           1      0.786     0.458     0.579        72\n",
      "           2      0.824     0.856     0.840       104\n",
      "           3      0.895     0.879     0.887        58\n",
      "           4      0.897     0.574     0.700        61\n",
      "           5      0.817     0.707     0.758        82\n",
      "\n",
      "   micro avg      0.836     0.723     0.775       465\n",
      "   macro avg      0.840     0.712     0.762       465\n",
      "weighted avg      0.835     0.723     0.767       465\n",
      " samples avg      0.787     0.724     0.726       465\n",
      "\n",
      "set acc: 0.433\n",
      "dev\n",
      "              precision    recall  f1-score   support\n",
      "\n",
      "           0      0.474     0.581     0.522        31\n",
      "           1      0.448     0.371     0.406        35\n",
      "           2      0.778     0.766     0.772        64\n",
      "           3      0.815     0.710     0.759        31\n",
      "           4      0.538     0.412     0.467        34\n",
      "           5      0.792     0.388     0.521        49\n",
      "\n",
      "   micro avg      0.652     0.553     0.599       244\n",
      "   macro avg      0.641     0.538     0.574       244\n",
      "weighted avg      0.666     0.553     0.593       244\n",
      " samples avg      0.606     0.562     0.551       244\n",
      "\n",
      "set acc: 0.169\n",
      "test\n",
      "              precision    recall  f1-score   support\n",
      "\n",
      "           0      0.623     0.704     0.661        54\n",
      "           1      0.576     0.322     0.413        59\n",
      "           2      0.677     0.698     0.687        96\n",
      "           3      0.786     0.746     0.765        59\n",
      "           4      0.886     0.534     0.667        73\n",
      "           5      0.679     0.655     0.667        58\n",
      "\n",
      "   micro avg      0.702     0.614     0.655       399\n",
      "   macro avg      0.704     0.610     0.643       399\n",
      "weighted avg      0.709     0.614     0.648       399\n",
      " samples avg      0.662     0.626     0.617       399\n",
      "\n",
      "set acc: 0.292\n"
     ]
    },
    {
     "name": "stderr",
     "output_type": "stream",
     "text": [
      "/home/pellegri/tools/miniconda3/envs/envPytorch1/lib/python3.7/site-packages/sklearn/metrics/_classification.py:1272: UndefinedMetricWarning: Precision and F-score are ill-defined and being set to 0.0 in samples with no predicted labels. Use `zero_division` parameter to control this behavior.\n",
      "  _warn_prf(average, modifier, msg_start, len(result))\n",
      "/home/pellegri/tools/miniconda3/envs/envPytorch1/lib/python3.7/site-packages/sklearn/metrics/_classification.py:1272: UndefinedMetricWarning: Precision and F-score are ill-defined and being set to 0.0 in samples with no predicted labels. Use `zero_division` parameter to control this behavior.\n",
      "  _warn_prf(average, modifier, msg_start, len(result))\n",
      "/home/pellegri/tools/miniconda3/envs/envPytorch1/lib/python3.7/site-packages/sklearn/metrics/_classification.py:1272: UndefinedMetricWarning: Precision and F-score are ill-defined and being set to 0.0 in samples with no predicted labels. Use `zero_division` parameter to control this behavior.\n",
      "  _warn_prf(average, modifier, msg_start, len(result))\n"
     ]
    }
   ],
   "source": [
    "print('train')\n",
    "train_pred = clf.predict(X_train_numpy)\n",
    "print_scores(y_train_numpy, train_pred)\n",
    "# compute_accuracy_from_numpy_tensors(y_train_numpy, train_pred)\n",
    "print('dev')\n",
    "dev_pred = clf.predict(X_dev_numpy)\n",
    "print_scores(y_dev_numpy, dev_pred)\n",
    "print('test')\n",
    "test_pred = clf.predict(X_test_numpy)\n",
    "print_scores(y_test_numpy, test_pred)"
   ]
  },
  {
   "cell_type": "code",
   "execution_count": 115,
   "metadata": {},
   "outputs": [
    {
     "data": {
      "text/plain": [
       "((261, 6), (130, 6), (202, 6))"
      ]
     },
     "execution_count": 115,
     "metadata": {},
     "output_type": "execute_result"
    }
   ],
   "source": [
    "svm_train_prob = clf.predict_proba(X_train_numpy)\n",
    "svm_dev_prob = clf.predict_proba(X_dev_numpy)\n",
    "svm_test_prob = clf.predict_proba(X_test_numpy)\n",
    "\n",
    "svm_train_prob = svm_train_prob.toarray()\n",
    "svm_dev_prob = svm_dev_prob.toarray()\n",
    "svm_test_prob = svm_test_prob.toarray()\n",
    "svm_train_prob.shape, svm_dev_prob.shape, svm_test_prob.shape"
   ]
  },
  {
   "cell_type": "code",
   "execution_count": 116,
   "metadata": {},
   "outputs": [
    {
     "name": "stderr",
     "output_type": "stream",
     "text": [
      "/home/pellegri/tools/miniconda3/envs/envPytorch1/lib/python3.7/site-packages/sklearn/metrics/_classification.py:1272: UndefinedMetricWarning: Precision and F-score are ill-defined and being set to 0.0 in labels with no predicted samples. Use `zero_division` parameter to control this behavior.\n",
      "  _warn_prf(average, modifier, msg_start, len(result))\n"
     ]
    },
    {
     "data": {
      "text/plain": [
       "(array([-0.2,  0. ,  0.2,  0.4,  0.6,  0.8,  1. ]),\n",
       " <a list of 7 Text yticklabel objects>)"
      ]
     },
     "execution_count": 116,
     "metadata": {},
     "output_type": "execute_result"
    },
    {
     "data": {
      "image/png": "[encoded data removed]",
      "text/plain": [
       "<Figure size 576x432 with 1 Axes>"
      ]
     },
     "metadata": {
      "needs_background": "light"
     },
     "output_type": "display_data"
    }
   ],
   "source": [
    "ps, rs, f1s = [], [], []\n",
    "\n",
    "for static_thresh in range(0, 100):\n",
    "    static_thresh /= 100.\n",
    "    train_pred = svm_train_prob>static_thresh\n",
    "    dev_pred = svm_dev_prob>static_thresh\n",
    "    test_pred = svm_test_prob>static_thresh\n",
    "\n",
    "    # p, r, f1 = micro_prec_rec_fscore(y_dev_numpy, dev_pred)\n",
    "    p, r, f1 = micro_prec_rec_fscore_class(y_dev_numpy, dev_pred)\n",
    "    ps.append(p)\n",
    "    rs.append(r)\n",
    "    f1s.append(f1)\n",
    "\n",
    "f1s = np.array(f1s)\n",
    "\n",
    "fontsize=14\n",
    "linewidth=2\n",
    "plt.figure(figsize=(8,6))\n",
    "for ind in range(f1s[0].shape[0]):\n",
    "    plt.plot(f1s[:,ind], label='%d'%ind)\n",
    "\n",
    "# plt.plot([23, 23], [0, 0.6], '-k')\n",
    "plt.xlabel(\"threshold\", fontsize=fontsize)\n",
    "plt.ylabel(\"F1\", fontsize=fontsize)\n",
    "plt.xlim([0,100])\n",
    "plt.xticks([0, 10, 20, 30, 40, 50, 60, 70, 80, 90, 100], [0, 0.1, 0.2, 0.3, 0.4, 0.5, 0.6, 0.7, 0.8, 0.9, 1], fontsize=fontsize)\n",
    "plt.yticks(fontsize=fontsize)\n",
    "# plt.legend(fontsize=fontsize, loc='upper right')\n",
    "# plt.savefig(\"exp/emotions/emotions_F1_DEV_asof_threshold.png\")\n",
    "# plt.savefig(\"exp/emotions/emotions_F1_DEV_asof_threshold.eps\")"
   ]
  },
  {
   "cell_type": "code",
   "execution_count": 117,
   "metadata": {},
   "outputs": [],
   "source": [
    "np.savez(\"exp/emotions/SVM_BR_probs.npz\",\n",
    "         svm_train_prob=svm_train_prob,\n",
    "         svm_dev_prob=svm_dev_prob,\n",
    "        svm_test_prob=svm_test_prob\n",
    "        )"
   ]
  },
  {
   "cell_type": "markdown",
   "metadata": {},
   "source": [
    "# LP with MLP"
   ]
  },
  {
   "cell_type": "code",
   "execution_count": 69,
   "metadata": {},
   "outputs": [],
   "source": [
    "from skmultilearn.problem_transform import LabelPowerset"
   ]
  },
  {
   "cell_type": "code",
   "execution_count": 70,
   "metadata": {},
   "outputs": [
    {
     "name": "stdout",
     "output_type": "stream",
     "text": [
      "72 200 27\n"
     ]
    }
   ],
   "source": [
    "input_dim = X_train_numpy.shape[1]\n",
    "hidden_dim = 200\n",
    "# output_dim = len(np.unique(y_train.rows))\n",
    "output_dim = 27\n",
    "\n",
    "print(input_dim, hidden_dim, output_dim)\n",
    "\n",
    "class MultiClassClassifierModule(nn.Module):\n",
    "    def __init__(\n",
    "            self,\n",
    "            input_dim=input_dim,\n",
    "            hidden_dim=hidden_dim,\n",
    "            output_dim=output_dim,\n",
    "            dropout=0.5,\n",
    "    ):\n",
    "        super(MultiClassClassifierModule, self).__init__()\n",
    "        self.dropout = nn.Dropout(dropout)\n",
    "\n",
    "        self.hidden = nn.Linear(input_dim, hidden_dim)\n",
    "        self.output = nn.Linear(hidden_dim, output_dim)\n",
    "\n",
    "    def forward(self, X, **kwargs):\n",
    "        X = F.relu(self.hidden(X))\n",
    "        X = self.dropout(X)\n",
    "        X = self.output(X)\n",
    "        X = F.softmax(X, dim=-1)\n",
    "#         X = torch.sigmoid(X)\n",
    "        return X"
   ]
  },
  {
   "cell_type": "code",
   "execution_count": 76,
   "metadata": {},
   "outputs": [
    {
     "name": "stderr",
     "output_type": "stream",
     "text": [
      "/home/pellegri/tools/miniconda3/envs/envPytorch1/lib/python3.7/site-packages/sklearn/model_selection/_split.py:667: UserWarning: The least populated class in y has only 1 members, which is less than n_splits=5.\n",
      "  % (min_groups, self.n_splits)), UserWarning)\n"
     ]
    },
    {
     "name": "stdout",
     "output_type": "stream",
     "text": [
      "f1: 47.4\n"
     ]
    }
   ],
   "source": [
    "# n_runs = 10\n",
    "\n",
    "# f1_test_list = []\n",
    "# while n_runs > 0:\n",
    "    \n",
    "net = NeuralNetClassifier(\n",
    "    MultiClassClassifierModule(input_dim, hidden_dim, output_dim),\n",
    "    # criterion=torch.nn.BCELoss,\n",
    "    optimizer=torch.optim.Adam,\n",
    "    max_epochs=10,\n",
    "    lr=1e-3,\n",
    "    batch_size=6,\n",
    "    verbose=0\n",
    ")\n",
    "\n",
    "clf = LabelPowerset(classifier=net, require_dense=[True,True])\n",
    "clf.fit(X_train_numpy.astype(np.float32), y_train_numpy)\n",
    "y_pred = clf.predict(X_test_numpy.astype(np.float32))\n",
    "#     print_scores(y_test_numpy, y_pred)\n",
    "p, r, f1 = micro_prec_rec_fscore(y_test_numpy, y_pred)\n",
    "print(\"f1: %.1f\"%(100*f1))\n",
    "#     if f1>0.4:\n",
    "#         f1_test_list.append(f1)\n",
    "#         n_runs -= 1\n",
    "        \n",
    "# f1_test_array = np.array(f1_test_list)\n",
    "# print(\"moy f1: %.1f %.1f\"%(np.mean(f1_test_array)*100, np.std(f1_test_array)*100))\n",
    "\n",
    "# moy f1: 43.7 3.5"
   ]
  },
  {
   "cell_type": "code",
   "execution_count": 23,
   "metadata": {},
   "outputs": [
    {
     "data": {
      "text/plain": [
       "array([[1, 0, 0, 0, 0, 0],\n",
       "       [0, 0, 1, 0, 0, 1],\n",
       "       [0, 0, 0, 1, 1, 0],\n",
       "       ...,\n",
       "       [0, 0, 0, 0, 1, 1],\n",
       "       [0, 0, 1, 1, 0, 0],\n",
       "       [0, 0, 0, 0, 0, 1]])"
      ]
     },
     "execution_count": 23,
     "metadata": {},
     "output_type": "execute_result"
    }
   ],
   "source": [
    "y_train_numpy"
   ]
  },
  {
   "cell_type": "markdown",
   "metadata": {},
   "source": [
    "# LP with SVM"
   ]
  },
  {
   "cell_type": "code",
   "execution_count": 18,
   "metadata": {},
   "outputs": [
    {
     "data": {
      "text/plain": [
       "(261, 72)"
      ]
     },
     "execution_count": 18,
     "metadata": {},
     "output_type": "execute_result"
    }
   ],
   "source": [
    "X_train_numpy.shape"
   ]
  },
  {
   "cell_type": "code",
   "execution_count": 19,
   "metadata": {},
   "outputs": [],
   "source": [
    "from skmultilearn.problem_transform import LabelPowerset\n",
    "from sklearn.svm import SVC"
   ]
  },
  {
   "cell_type": "code",
   "execution_count": 20,
   "metadata": {},
   "outputs": [],
   "source": [
    "clf = LabelPowerset(classifier=SVC(kernel='linear'), require_dense=[True,True])\n",
    "clf.fit(X_train_numpy.astype(np.float32),y_train_numpy)\n",
    "y_pred = clf.predict(X_test_numpy.astype(np.float32))"
   ]
  },
  {
   "cell_type": "code",
   "execution_count": 21,
   "metadata": {},
   "outputs": [
    {
     "name": "stdout",
     "output_type": "stream",
     "text": [
      "              precision    recall  f1-score   support\n",
      "\n",
      "           0      0.522     0.648     0.579        54\n",
      "           1      0.480     0.407     0.440        59\n",
      "           2      0.697     0.646     0.670        96\n",
      "           3      0.700     0.712     0.706        59\n",
      "           4      0.734     0.644     0.686        73\n",
      "           5      0.597     0.741     0.662        58\n",
      "\n",
      "   micro avg      0.629     0.634     0.632       399\n",
      "   macro avg      0.622     0.633     0.624       399\n",
      "weighted avg      0.634     0.634     0.631       399\n",
      " samples avg      0.620     0.636     0.603       399\n",
      "\n",
      "set acc: 0.292\n"
     ]
    },
    {
     "data": {
      "text/plain": [
       "0.29207920792079206"
      ]
     },
     "execution_count": 21,
     "metadata": {},
     "output_type": "execute_result"
    }
   ],
   "source": [
    "print_scores(y_test_numpy, y_pred.toarray())\n",
    "metrics.accuracy_score(y_test_numpy, y_pred.toarray())"
   ]
  },
  {
   "cell_type": "code",
   "execution_count": 35,
   "metadata": {},
   "outputs": [
    {
     "name": "stdout",
     "output_type": "stream",
     "text": [
      "dev: 63.1 \n",
      "test: 63.2 \n"
     ]
    }
   ],
   "source": [
    "# n_runs = 10\n",
    "# f1_test_list = []\n",
    "# while n_runs > 0:\n",
    "    \n",
    "clf = LabelPowerset(classifier=SVC(kernel='linear', C=1., probability=True, random_state=123), require_dense=[True,True])\n",
    "    \n",
    "clf.fit(X_train_numpy.astype(np.float32), y_train_numpy)\n",
    "\n",
    "y_pred = clf.predict(X_dev_numpy.astype(np.float32))\n",
    "p, r, f1 = micro_prec_rec_fscore(y_dev_numpy, y_pred)\n",
    "print(\"dev: %.1f \"%(f1*100))\n",
    "\n",
    "y_pred = clf.predict(X_test_numpy.astype(np.float32))\n",
    "print_scores(y_test_numpy, y_pred)\n",
    "p, r, f1 = micro_prec_rec_fscore(y_test_numpy, y_pred)\n",
    "print(\"test: %.1f \"%(f1*100))\n",
    "#     print(i, f1)\n",
    "#     if f1>0.4:\n",
    "#     f1_test_list.append(f1)\n",
    "#     n_runs -= 1\n",
    "        \n",
    "# f1_test_array = np.array(f1_test_list)\n",
    "# print(\"moy f1: %.1f %.1f\"%(np.mean(f1_test_array)*100, np.std(f1_test_array)*100))"
   ]
  },
  {
   "cell_type": "code",
   "execution_count": 56,
   "metadata": {},
   "outputs": [
    {
     "name": "stdout",
     "output_type": "stream",
     "text": [
      "              precision    recall  f1-score   support\n",
      "\n",
      "           0      0.522     0.648     0.579        54\n",
      "           1      0.480     0.407     0.440        59\n",
      "           2      0.697     0.646     0.670        96\n",
      "           3      0.700     0.712     0.706        59\n",
      "           4      0.734     0.644     0.686        73\n",
      "           5      0.597     0.741     0.662        58\n",
      "\n",
      "   micro avg      0.629     0.634     0.632       399\n",
      "   macro avg      0.622     0.633     0.624       399\n",
      "weighted avg      0.634     0.634     0.631       399\n",
      " samples avg      0.620     0.636     0.603       399\n",
      "\n",
      "set acc: 0.292\n"
     ]
    }
   ],
   "source": [
    "print_scores(y_test_numpy, y_pred)"
   ]
  },
  {
   "cell_type": "code",
   "execution_count": 37,
   "metadata": {},
   "outputs": [
    {
     "data": {
      "text/plain": [
       "((261, 6), (130, 6), (202, 6))"
      ]
     },
     "execution_count": 37,
     "metadata": {},
     "output_type": "execute_result"
    }
   ],
   "source": [
    "lp_svm_train_prob = clf.predict_proba(X_train_numpy)\n",
    "lp_svm_dev_prob = clf.predict_proba(X_dev_numpy)\n",
    "lp_svm_test_prob = clf.predict_proba(X_test_numpy)\n",
    "\n",
    "lp_svm_train_prob = lp_svm_train_prob.toarray()\n",
    "lp_svm_dev_prob = lp_svm_dev_prob.toarray()\n",
    "lp_svm_test_prob = lp_svm_test_prob.toarray()\n",
    "lp_svm_train_prob.shape, lp_svm_dev_prob.shape, lp_svm_test_prob.shape"
   ]
  },
  {
   "cell_type": "code",
   "execution_count": 38,
   "metadata": {},
   "outputs": [],
   "source": [
    "np.savez(\"exp/emotions/SVM_LP_probs.npz\",\n",
    "         svm_train_prob=lp_svm_train_prob,\n",
    "         svm_dev_prob=lp_svm_dev_prob,\n",
    "        svm_test_prob=lp_svm_test_prob\n",
    "        )"
   ]
  },
  {
   "cell_type": "code",
   "execution_count": null,
   "metadata": {},
   "outputs": [],
   "source": []
  }
 ],
 "metadata": {
  "kernelspec": {
   "display_name": "Python 3",
   "language": "python",
   "name": "python3"
  },
  "language_info": {
   "codemirror_mode": {
    "name": "ipython",
    "version": 3
   },
   "file_extension": ".py",
   "mimetype": "text/x-python",
   "name": "python",
   "nbconvert_exporter": "python",
   "pygments_lexer": "ipython3",
   "version": "3.7.6"
  },
  "toc": {
   "nav_menu": {},
   "number_sections": true,
   "sideBar": true,
   "skip_h1_title": false,
   "toc_cell": true,
   "toc_position": {},
   "toc_section_display": "block",
   "toc_window_display": false
  }
 },
 "nbformat": 4,
 "nbformat_minor": 4
}
